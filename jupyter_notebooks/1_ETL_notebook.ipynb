{
  "cells": [
    {
      "cell_type": "markdown",
      "metadata": {
        "id": "0aStgWSO0E0E"
      },
      "source": [
        "# **Global Methane Flux Analysis**"
      ]
    },
    {
      "cell_type": "markdown",
      "metadata": {
        "id": "1eLEkw5O0ECa"
      },
      "source": [
        "## Objectives\n",
        "\n",
        "* Write your notebook objective here, for example, \"Fetch data from Kaggle and save as raw data\", or \"engineer features for modelling\"<br />\n",
        "\n",
        "Kaggle dataset called \"Methane Emissions\" was used as raw data and saved under the raw folder. [here]( https://www.kaggle.com/datasets/ashishraut64/global-methane-emissions) is the link to the Kaggle website.\n",
        "\n",
        "## Inputs\n",
        "\n",
        "* Write down which data or information you need to run the notebook <br />\n",
        "\n",
        "\n",
        "## Outputs\n",
        "\n",
        "* Write here which files, code or artefacts you generate by the end of the notebook \n",
        "\n",
        "## Additional Comments\n",
        "\n",
        "* If you have any additional comments that don't fit in the previous bullets, please state them here. \n",
        "\n"
      ]
    },
    {
      "cell_type": "markdown",
      "metadata": {
        "id": "9uWZXH9LwoQg"
      },
      "source": [
        "---"
      ]
    },
    {
      "cell_type": "markdown",
      "metadata": {
        "id": "cqP-UeN-z3i2"
      },
      "source": [
        "# Change working directory"
      ]
    },
    {
      "cell_type": "markdown",
      "metadata": {},
      "source": [
        "* We are assuming you will store the notebooks in a subfolder, therefore when running the notebook in the editor, you will need to change the working directory"
      ]
    },
    {
      "cell_type": "markdown",
      "metadata": {
        "id": "aOGIGS-uz3i2"
      },
      "source": [
        "We need to change the working directory from its current folder to its parent folder\n",
        "* We access the current directory with os.getcwd()"
      ]
    },
    {
      "cell_type": "code",
      "execution_count": 2,
      "metadata": {
        "id": "wZfF_j-Bz3i4",
        "outputId": "66943449-1436-4c3d-85c7-b85f9f78349b"
      },
      "outputs": [
        {
          "data": {
            "text/plain": [
              "'/Users/danielledelouw/Documents/code_institute/vscode-projects/Global_Methane_Flux_Analysis/Global_Methane_Flux_Analysis/jupyter_notebooks'"
            ]
          },
          "execution_count": 2,
          "metadata": {},
          "output_type": "execute_result"
        }
      ],
      "source": [
        "import os\n",
        "current_dir = os.getcwd()\n",
        "current_dir"
      ]
    },
    {
      "cell_type": "markdown",
      "metadata": {
        "id": "9MWW8E7lz3i7"
      },
      "source": [
        "We want to make the parent of the current directory the new current directory\n",
        "* os.path.dirname() gets the parent directory\n",
        "* os.chir() defines the new current directory"
      ]
    },
    {
      "cell_type": "code",
      "execution_count": 3,
      "metadata": {
        "id": "TwHsQRWjz3i9",
        "outputId": "86849db3-cd2f-4cc5-ebb8-2d0caafa1a2c"
      },
      "outputs": [
        {
          "name": "stdout",
          "output_type": "stream",
          "text": [
            "You set a new current directory\n"
          ]
        }
      ],
      "source": [
        "os.chdir(os.path.dirname(current_dir))\n",
        "print(\"You set a new current directory\")"
      ]
    },
    {
      "cell_type": "markdown",
      "metadata": {
        "id": "M_xPk_Ijz3i-"
      },
      "source": [
        "Confirm the new current directory"
      ]
    },
    {
      "cell_type": "code",
      "execution_count": 4,
      "metadata": {
        "id": "vz3S-_kjz3jA",
        "outputId": "00b79ae4-75d0-4a96-d193-ac9ef9847ea2"
      },
      "outputs": [
        {
          "data": {
            "text/plain": [
              "'/Users/danielledelouw/Documents/code_institute/vscode-projects/Global_Methane_Flux_Analysis/Global_Methane_Flux_Analysis'"
            ]
          },
          "execution_count": 4,
          "metadata": {},
          "output_type": "execute_result"
        }
      ],
      "source": [
        "current_dir = os.getcwd()\n",
        "current_dir"
      ]
    },
    {
      "cell_type": "markdown",
      "metadata": {
        "id": "-mavJ8DibrcQ"
      },
      "source": [
        "# Section 1"
      ]
    },
    {
      "cell_type": "markdown",
      "metadata": {},
      "source": [
        "Section 1 Extraction:\n",
        "Load the Dataset"
      ]
    },
    {
      "cell_type": "code",
      "execution_count": 8,
      "metadata": {},
      "outputs": [
        {
          "data": {
            "text/html": [
              "<div>\n",
              "<style scoped>\n",
              "    .dataframe tbody tr th:only-of-type {\n",
              "        vertical-align: middle;\n",
              "    }\n",
              "\n",
              "    .dataframe tbody tr th {\n",
              "        vertical-align: top;\n",
              "    }\n",
              "\n",
              "    .dataframe thead th {\n",
              "        text-align: right;\n",
              "    }\n",
              "</style>\n",
              "<table border=\"1\" class=\"dataframe\">\n",
              "  <thead>\n",
              "    <tr style=\"text-align: right;\">\n",
              "      <th></th>\n",
              "      <th>Unnamed: 0</th>\n",
              "      <th>region</th>\n",
              "      <th>country</th>\n",
              "      <th>emissions</th>\n",
              "      <th>type</th>\n",
              "      <th>segment</th>\n",
              "      <th>reason</th>\n",
              "      <th>baseYear</th>\n",
              "      <th>notes</th>\n",
              "    </tr>\n",
              "  </thead>\n",
              "  <tbody>\n",
              "    <tr>\n",
              "      <th>0</th>\n",
              "      <td>0</td>\n",
              "      <td>Africa</td>\n",
              "      <td>Algeria</td>\n",
              "      <td>257.611206</td>\n",
              "      <td>Agriculture</td>\n",
              "      <td>Total</td>\n",
              "      <td>All</td>\n",
              "      <td>2019-2021</td>\n",
              "      <td>Average based on United Nations Framework Conv...</td>\n",
              "    </tr>\n",
              "    <tr>\n",
              "      <th>1</th>\n",
              "      <td>1</td>\n",
              "      <td>Africa</td>\n",
              "      <td>Algeria</td>\n",
              "      <td>0.052000</td>\n",
              "      <td>Energy</td>\n",
              "      <td>Bioenergy</td>\n",
              "      <td>All</td>\n",
              "      <td>2022</td>\n",
              "      <td>Estimates from end-uses are for 2020 or 2021 (...</td>\n",
              "    </tr>\n",
              "    <tr>\n",
              "      <th>2</th>\n",
              "      <td>2</td>\n",
              "      <td>Africa</td>\n",
              "      <td>Algeria</td>\n",
              "      <td>130.798996</td>\n",
              "      <td>Energy</td>\n",
              "      <td>Gas pipelines and LNG facilities</td>\n",
              "      <td>Fugitive</td>\n",
              "      <td>2022</td>\n",
              "      <td>Not available</td>\n",
              "    </tr>\n",
              "    <tr>\n",
              "      <th>3</th>\n",
              "      <td>3</td>\n",
              "      <td>Africa</td>\n",
              "      <td>Algeria</td>\n",
              "      <td>69.741898</td>\n",
              "      <td>Energy</td>\n",
              "      <td>Gas pipelines and LNG facilities</td>\n",
              "      <td>Vented</td>\n",
              "      <td>2022</td>\n",
              "      <td>Not available</td>\n",
              "    </tr>\n",
              "    <tr>\n",
              "      <th>4</th>\n",
              "      <td>4</td>\n",
              "      <td>Africa</td>\n",
              "      <td>Algeria</td>\n",
              "      <td>213.987000</td>\n",
              "      <td>Energy</td>\n",
              "      <td>Onshore gas</td>\n",
              "      <td>Fugitive</td>\n",
              "      <td>2022</td>\n",
              "      <td>Not available</td>\n",
              "    </tr>\n",
              "    <tr>\n",
              "      <th>...</th>\n",
              "      <td>...</td>\n",
              "      <td>...</td>\n",
              "      <td>...</td>\n",
              "      <td>...</td>\n",
              "      <td>...</td>\n",
              "      <td>...</td>\n",
              "      <td>...</td>\n",
              "      <td>...</td>\n",
              "      <td>...</td>\n",
              "    </tr>\n",
              "    <tr>\n",
              "      <th>1543</th>\n",
              "      <td>1543</td>\n",
              "      <td>World</td>\n",
              "      <td>World</td>\n",
              "      <td>3102.500000</td>\n",
              "      <td>Energy</td>\n",
              "      <td>Satellite-detected large oil and gas emissions</td>\n",
              "      <td>All</td>\n",
              "      <td>2022</td>\n",
              "      <td>Not available</td>\n",
              "    </tr>\n",
              "    <tr>\n",
              "      <th>1544</th>\n",
              "      <td>1544</td>\n",
              "      <td>World</td>\n",
              "      <td>World</td>\n",
              "      <td>30296.500000</td>\n",
              "      <td>Energy</td>\n",
              "      <td>Steam coal</td>\n",
              "      <td>All</td>\n",
              "      <td>2022</td>\n",
              "      <td>Not available</td>\n",
              "    </tr>\n",
              "    <tr>\n",
              "      <th>1545</th>\n",
              "      <td>1545</td>\n",
              "      <td>World</td>\n",
              "      <td>World</td>\n",
              "      <td>133350.984375</td>\n",
              "      <td>Energy</td>\n",
              "      <td>Total</td>\n",
              "      <td>All</td>\n",
              "      <td>2022</td>\n",
              "      <td>Estimates from end-uses are for 2020 or 2021 (...</td>\n",
              "    </tr>\n",
              "    <tr>\n",
              "      <th>1546</th>\n",
              "      <td>1546</td>\n",
              "      <td>World</td>\n",
              "      <td>World</td>\n",
              "      <td>9737.874023</td>\n",
              "      <td>Other</td>\n",
              "      <td>Total</td>\n",
              "      <td>All</td>\n",
              "      <td>2019-2021</td>\n",
              "      <td>Average based on United Nations Framework Conv...</td>\n",
              "    </tr>\n",
              "    <tr>\n",
              "      <th>1547</th>\n",
              "      <td>1547</td>\n",
              "      <td>World</td>\n",
              "      <td>World</td>\n",
              "      <td>70758.710938</td>\n",
              "      <td>Waste</td>\n",
              "      <td>Total</td>\n",
              "      <td>All</td>\n",
              "      <td>2019-2021</td>\n",
              "      <td>Average based on United Nations Framework Conv...</td>\n",
              "    </tr>\n",
              "  </tbody>\n",
              "</table>\n",
              "<p>1548 rows × 9 columns</p>\n",
              "</div>"
            ],
            "text/plain": [
              "      Unnamed: 0  region  country      emissions         type  \\\n",
              "0              0  Africa  Algeria     257.611206  Agriculture   \n",
              "1              1  Africa  Algeria       0.052000       Energy   \n",
              "2              2  Africa  Algeria     130.798996       Energy   \n",
              "3              3  Africa  Algeria      69.741898       Energy   \n",
              "4              4  Africa  Algeria     213.987000       Energy   \n",
              "...          ...     ...      ...            ...          ...   \n",
              "1543        1543   World    World    3102.500000       Energy   \n",
              "1544        1544   World    World   30296.500000       Energy   \n",
              "1545        1545   World    World  133350.984375       Energy   \n",
              "1546        1546   World    World    9737.874023        Other   \n",
              "1547        1547   World    World   70758.710938        Waste   \n",
              "\n",
              "                                             segment    reason   baseYear  \\\n",
              "0                                              Total       All  2019-2021   \n",
              "1                                          Bioenergy       All       2022   \n",
              "2                   Gas pipelines and LNG facilities  Fugitive       2022   \n",
              "3                   Gas pipelines and LNG facilities    Vented       2022   \n",
              "4                                        Onshore gas  Fugitive       2022   \n",
              "...                                              ...       ...        ...   \n",
              "1543  Satellite-detected large oil and gas emissions       All       2022   \n",
              "1544                                      Steam coal       All       2022   \n",
              "1545                                           Total       All       2022   \n",
              "1546                                           Total       All  2019-2021   \n",
              "1547                                           Total       All  2019-2021   \n",
              "\n",
              "                                                  notes  \n",
              "0     Average based on United Nations Framework Conv...  \n",
              "1     Estimates from end-uses are for 2020 or 2021 (...  \n",
              "2                                         Not available  \n",
              "3                                         Not available  \n",
              "4                                         Not available  \n",
              "...                                                 ...  \n",
              "1543                                      Not available  \n",
              "1544                                      Not available  \n",
              "1545  Estimates from end-uses are for 2020 or 2021 (...  \n",
              "1546  Average based on United Nations Framework Conv...  \n",
              "1547  Average based on United Nations Framework Conv...  \n",
              "\n",
              "[1548 rows x 9 columns]"
            ]
          },
          "execution_count": 8,
          "metadata": {},
          "output_type": "execute_result"
        }
      ],
      "source": [
        "import pandas as pd\n",
        "\n",
        "df = pd.read_csv('Dataset/raw/Methane_final.csv')\n",
        "df"
      ]
    },
    {
      "cell_type": "markdown",
      "metadata": {},
      "source": [
        "Check the Shape of dataset:"
      ]
    },
    {
      "cell_type": "code",
      "execution_count": 11,
      "metadata": {},
      "outputs": [
        {
          "data": {
            "text/plain": [
              "(1548, 9)"
            ]
          },
          "execution_count": 11,
          "metadata": {},
          "output_type": "execute_result"
        }
      ],
      "source": [
        "df.shape"
      ]
    },
    {
      "cell_type": "markdown",
      "metadata": {},
      "source": [
        "Check Information of dataset:"
      ]
    },
    {
      "cell_type": "code",
      "execution_count": 12,
      "metadata": {},
      "outputs": [
        {
          "name": "stdout",
          "output_type": "stream",
          "text": [
            "<class 'pandas.core.frame.DataFrame'>\n",
            "RangeIndex: 1548 entries, 0 to 1547\n",
            "Data columns (total 9 columns):\n",
            " #   Column      Non-Null Count  Dtype  \n",
            "---  ------      --------------  -----  \n",
            " 0   Unnamed: 0  1548 non-null   int64  \n",
            " 1   region      1548 non-null   object \n",
            " 2   country     1548 non-null   object \n",
            " 3   emissions   1548 non-null   float64\n",
            " 4   type        1548 non-null   object \n",
            " 5   segment     1548 non-null   object \n",
            " 6   reason      1548 non-null   object \n",
            " 7   baseYear    1548 non-null   object \n",
            " 8   notes       1548 non-null   object \n",
            "dtypes: float64(1), int64(1), object(7)\n",
            "memory usage: 109.0+ KB\n"
          ]
        }
      ],
      "source": [
        "df.info()"
      ]
    },
    {
      "cell_type": "markdown",
      "metadata": {},
      "source": [
        "Check for missing values:"
      ]
    },
    {
      "cell_type": "code",
      "execution_count": null,
      "metadata": {},
      "outputs": [
        {
          "data": {
            "text/plain": [
              "Unnamed: 0    0\n",
              "region        0\n",
              "country       0\n",
              "emissions     0\n",
              "type          0\n",
              "segment       0\n",
              "reason        0\n",
              "baseYear      0\n",
              "notes         0\n",
              "dtype: int64"
            ]
          },
          "execution_count": 14,
          "metadata": {},
          "output_type": "execute_result"
        }
      ],
      "source": [
        "df.isnull().sum() # the output reveals that there are no missing values"
      ]
    },
    {
      "cell_type": "markdown",
      "metadata": {},
      "source": [
        "Check for duplicates:"
      ]
    },
    {
      "cell_type": "code",
      "execution_count": null,
      "metadata": {},
      "outputs": [
        {
          "data": {
            "text/plain": [
              "0"
            ]
          },
          "execution_count": 16,
          "metadata": {},
          "output_type": "execute_result"
        }
      ],
      "source": [
        "df.duplicated().sum()\n",
        "#no duplicated data in rows"
      ]
    },
    {
      "cell_type": "markdown",
      "metadata": {},
      "source": [
        "Check for unique values:"
      ]
    },
    {
      "cell_type": "code",
      "execution_count": null,
      "metadata": {},
      "outputs": [
        {
          "data": {
            "text/plain": [
              "Unnamed: 0    1548\n",
              "region           9\n",
              "country        105\n",
              "emissions     1531\n",
              "type             4\n",
              "segment         12\n",
              "reason           4\n",
              "baseYear         2\n",
              "notes            3\n",
              "dtype: int64"
            ]
          },
          "execution_count": 17,
          "metadata": {},
          "output_type": "execute_result"
        }
      ],
      "source": [
        "df.nunique()"
      ]
    },
    {
      "cell_type": "markdown",
      "metadata": {},
      "source": [
        "Check the contents of a few columns:\n"
      ]
    },
    {
      "cell_type": "code",
      "execution_count": null,
      "metadata": {},
      "outputs": [
        {
          "name": "stdout",
          "output_type": "stream",
          "text": [
            "\n",
            "region (9 unique values):\n",
            "['Africa' 'Asia Pacific' 'Central and South America' 'Europe'\n",
            " 'Middle East' 'North America' 'Other' 'Russia & Caspian' 'World']\n",
            "\n",
            "country (105 unique values):\n",
            "['Algeria' 'Angola' 'Benin' 'Botswana' 'Cameroon'\n",
            " 'Central African Republic' 'Chad' 'Congo' \"Cote d'Ivoire\"\n",
            " 'Democratic Republic of Congo' 'Egypt' 'Equatorial Guinea' 'Eritrea'\n",
            " 'Ethiopia' 'Gabon' 'Gambia' 'Ghana' 'Guinea' 'Guinea-Bissau' 'Kenya'\n",
            " 'Liberia' 'Libya' 'Morocco' 'Mozambique' 'Namibia' 'Niger' 'Nigeria'\n",
            " 'Senegal' 'Seychelles' 'Sierra Leone' 'Somalia' 'South Africa'\n",
            " 'South Sudan' 'Sudan' 'Tanzania' 'Togo' 'Tunisia' 'Australia'\n",
            " 'Bangladesh' 'Brunei' 'China' 'India' 'Indonesia' 'Japan' 'Korea'\n",
            " 'Malaysia' 'Mongolia' 'New Zealand' 'Other countries in Southeast Asia'\n",
            " 'Pakistan' 'Philippines' 'Thailand' 'Vietnam' 'Argentina' 'Bolivia'\n",
            " 'Brazil' 'Colombia' 'Cuba' 'Ecuador' 'Guyana' 'Paraguay' 'Peru'\n",
            " 'Trinidad and Tobago' 'Uruguay' 'Venezuela' 'Denmark' 'Estonia'\n",
            " 'European Union' 'France' 'Germany' 'Israel' 'Italy' 'Netherlands'\n",
            " 'Norway' 'Other countries in Europe' 'Other EU17 countries'\n",
            " 'Other EU7 countries' 'Poland' 'Romania' 'Slovenia' 'Sweden' 'Ukraine'\n",
            " 'United Kingdom' 'Bahrain' 'Iran' 'Iraq' 'Jordan' 'Kuwait' 'Lebanon'\n",
            " 'Oman' 'Qatar' 'Saudi Arabia' 'Syria' 'United Arab Emirates' 'Yemen'\n",
            " 'Canada' 'Mexico' 'United States' 'Other' 'Azerbaijan' 'Kazakhstan'\n",
            " 'Russia' 'Turkmenistan' 'Uzbekistan' 'World']\n",
            "\n",
            "type (4 unique values):\n",
            "['Agriculture' 'Energy' 'Other' 'Waste']\n",
            "\n",
            "segment (12 unique values):\n",
            "['Total' 'Bioenergy' 'Gas pipelines and LNG facilities' 'Onshore gas'\n",
            " 'Onshore oil' 'Other from coal' 'Other from oil and gas'\n",
            " 'Satellite-detected large oil and gas emissions' 'Offshore oil'\n",
            " 'Offshore gas' 'Coking coal' 'Steam coal']\n",
            "\n",
            "reason (4 unique values):\n",
            "['All' 'Fugitive' 'Vented' 'Flared']\n",
            "\n",
            "baseYear (2 unique values):\n",
            "['2019-2021' '2022']\n",
            "\n",
            "notes (3 unique values):\n",
            "[\"Average based on United Nations Framework Convention on Climate Change (UNFCCC) (2022), Greenhouse Gas Data Interface, available at: https://di.unfccc.int/; O'Rourke, P. R, Smith, S. J., Mott, A., Ahsan, H., McDuffie, E. E., Crippa, M., Klimont, S., McDonald, B., Z., Wang, Nicholson, M. B, Feng, L., and Hoesly, R. M. (2021, February 05). Community Emissions Data System (CEDS) v-2021-02-05 Emission Data 1975-2019 (Version Feb-05-2021). Available at: http://doi.org/10.5281/zenodo.4509372.; Crippa, M., Guizzardi, D., Solazzo, E., Muntean, M., Schaaf, E., Monforti-Ferrario, F., Banja, M., Olivier, J.G.J., Grassi, G., Rossi, S., Vignati, E. (2021), GHG emissions of all world countries - 2021 Report, EUR 30831 EN, Publications Office of the European Union, Luxembourg, 2021, ISBN 978-92-76-41547-3, doi:10.2760/173513, JRC126363; (2022) EDGAR - Emissions Database for Global Atmospheric Research (EDGAR) v7.0 Greenhouse Gas Emissions. European Commission, Joint Research Centre (JRC) [Dataset] PID: https://edgar.jrc.ec.europa.eu/dataset_ghg70; Climate Watch (2022), Food and Agriculture Organisation of the United Nations (2022). Climate Watch data: Climate Watch, 2022, GHG Emissions, Washington, DC: World Resources Institute. FAO 2022, FAOSTAT Emissions Database. Available at: https://www.climatewatchdata.org/ghg-emissions\"\n",
            " 'Estimates from end-uses are for 2020 or 2021 (IEA, Greenhouse gas emissions from energy, 2022, https://www.iea.org/data-and-statistics/data-product/greenhouse-gas-emissions-from-energy)'\n",
            " 'Not available']\n"
          ]
        }
      ],
      "source": [
        "contents_of_columns = ['region','country','type','segment','reason','baseYear','notes']\n",
        "for col in contents_of_columns:\n",
        "    print(f\"\\n{col} ({df[col].nunique()} unique values):\")\n",
        "    print(df[col].unique())\n",
        "\n",
        "    #comments:\n",
        "\n",
        "    #\"region\" consists of continents and 1 general value called \"World\" and \"Other\"\n",
        "    #\"country\" returned 105 countries, 193 countries in the world so there is a desprepency. \n",
        "    # \"country\" There are 4 variables that are not a country  'Other countries in Europe' 'Other EU17 countries'\n",
        "     #'Other EU7 countries' and 'World'.\n",
        "    #\"types\" consists of group name origin of methane emission, stand out is \"other\"\n",
        "    #\"segment\" consists of specific origins of methan emissions,\n",
        "    #'coking coal' also known as metallurgical coal, is a type of coal used to produce coke, a key ingredient in the steelmaking process\n",
        "    #\"reason\" consists of unintended releases of gas, 'fugitive' is uncontrolled and 'venting' & 'flared' is controlled and 'all' is a mix\n",
        "    #\"baseyear\" displays two variables, can be used as categorical data types, need to convert from object to category\n",
        "    #\"notes\" is a reference to UN Framework or Greenhouse Gas Data Interface with link. Good to drop column\n",
        "    #9th column not listed is \"Unnamed: 0\" is an internal index, we have an index so this will be dropped"
      ]
    },
    {
      "cell_type": "markdown",
      "metadata": {},
      "source": [
        "Transform:"
      ]
    },
    {
      "cell_type": "markdown",
      "metadata": {
        "id": "ZY3l0-AxO93d"
      },
      "source": [
        "---"
      ]
    },
    {
      "cell_type": "markdown",
      "metadata": {
        "id": "uFQo3ycuO-v6"
      },
      "source": [
        "# Section 2"
      ]
    },
    {
      "cell_type": "markdown",
      "metadata": {},
      "source": [
        "Section 2 content"
      ]
    },
    {
      "cell_type": "code",
      "execution_count": null,
      "metadata": {},
      "outputs": [],
      "source": []
    },
    {
      "cell_type": "markdown",
      "metadata": {},
      "source": [
        "---"
      ]
    },
    {
      "cell_type": "markdown",
      "metadata": {},
      "source": [
        "NOTE"
      ]
    },
    {
      "cell_type": "markdown",
      "metadata": {},
      "source": [
        "* You may add as many sections as you want, as long as it supports your project workflow.\n",
        "* All notebook's cells should be run top-down (you can't create a dynamic wherein a given point you need to go back to a previous cell to execute some task, like go back to a previous cell and refresh a variable content)"
      ]
    },
    {
      "cell_type": "markdown",
      "metadata": {},
      "source": [
        "---"
      ]
    },
    {
      "cell_type": "markdown",
      "metadata": {
        "id": "ltNetd085qHf"
      },
      "source": [
        "# Push files to Repo"
      ]
    },
    {
      "cell_type": "markdown",
      "metadata": {},
      "source": [
        "* In cases where you don't need to push files to Repo, you may replace this section with \"Conclusions and Next Steps\" and state your conclusions and next steps."
      ]
    },
    {
      "cell_type": "code",
      "execution_count": null,
      "metadata": {
        "id": "aKlnIozA4eQO",
        "outputId": "fd09bc1f-adb1-4511-f6ce-492a6af570c0"
      },
      "outputs": [],
      "source": [
        "import os\n",
        "try:\n",
        "  # create your folder here\n",
        "  # os.makedirs(name='')\n",
        "except Exception as e:\n",
        "  print(e)\n"
      ]
    }
  ],
  "metadata": {
    "accelerator": "GPU",
    "colab": {
      "name": "Data Practitioner Jupyter Notebook.ipynb",
      "provenance": [],
      "toc_visible": true
    },
    "kernelspec": {
      "display_name": "venv",
      "language": "python",
      "name": "python3"
    },
    "language_info": {
      "codemirror_mode": {
        "name": "ipython",
        "version": 3
      },
      "file_extension": ".py",
      "mimetype": "text/x-python",
      "name": "python",
      "nbconvert_exporter": "python",
      "pygments_lexer": "ipython3",
      "version": "3.12.8"
    },
    "orig_nbformat": 2
  },
  "nbformat": 4,
  "nbformat_minor": 2
}

{
  "cells": [
    {
      "cell_type": "markdown",
      "metadata": {
        "id": "0aStgWSO0E0E"
      },
      "source": [
        "# **(ADD THE NOTEBOOK NAME HERE)**"
      ]
    },
    {
      "cell_type": "markdown",
      "metadata": {
        "id": "1eLEkw5O0ECa"
      },
      "source": [
        "## Objectives\n",
        "\n",
        "* Write your notebook objective here, for example, \"Fetch data from Kaggle and save as raw data\", or \"engineer features for modelling\"\n",
        "\n",
        "## Inputs\n",
        "\n",
        "* Write down which data or information you need to run the notebook \n",
        "\n",
        "## Outputs\n",
        "\n",
        "* Write here which files, code or artefacts you generate by the end of the notebook \n",
        "\n",
        "## Additional Comments\n",
        "\n",
        "* If you have any additional comments that don't fit in the previous bullets, please state them here. \n",
        "\n"
      ]
    },
    {
      "cell_type": "markdown",
      "metadata": {
        "id": "9uWZXH9LwoQg"
      },
      "source": [
        "---"
      ]
    },
    {
      "cell_type": "markdown",
      "metadata": {
        "id": "cqP-UeN-z3i2"
      },
      "source": [
        "# Change working directory"
      ]
    },
    {
      "cell_type": "markdown",
      "metadata": {},
      "source": [
        "* We are assuming you will store the notebooks in a subfolder, therefore when running the notebook in the editor, you will need to change the working directory"
      ]
    },
    {
      "cell_type": "markdown",
      "metadata": {
        "id": "aOGIGS-uz3i2"
      },
      "source": [
        "We need to change the working directory from its current folder to its parent folder\n",
        "* We access the current directory with os.getcwd()"
      ]
    },
    {
      "cell_type": "code",
      "execution_count": 1,
      "metadata": {
        "id": "wZfF_j-Bz3i4",
        "outputId": "66943449-1436-4c3d-85c7-b85f9f78349b"
      },
      "outputs": [
        {
          "data": {
            "text/plain": [
              "'/Users/danielledelouw/Documents/code_institute/vscode-projects/Global_Methane_Flux_Analysis/Global_Methane_Flux_Analysis/jupyter_notebooks'"
            ]
          },
          "execution_count": 1,
          "metadata": {},
          "output_type": "execute_result"
        }
      ],
      "source": [
        "import os\n",
        "current_dir = os.getcwd()\n",
        "current_dir"
      ]
    },
    {
      "cell_type": "markdown",
      "metadata": {
        "id": "9MWW8E7lz3i7"
      },
      "source": [
        "We want to make the parent of the current directory the new current directory\n",
        "* os.path.dirname() gets the parent directory\n",
        "* os.chir() defines the new current directory"
      ]
    },
    {
      "cell_type": "code",
      "execution_count": 2,
      "metadata": {
        "id": "TwHsQRWjz3i9",
        "outputId": "86849db3-cd2f-4cc5-ebb8-2d0caafa1a2c"
      },
      "outputs": [
        {
          "name": "stdout",
          "output_type": "stream",
          "text": [
            "You set a new current directory\n"
          ]
        }
      ],
      "source": [
        "os.chdir(os.path.dirname(current_dir))\n",
        "print(\"You set a new current directory\")"
      ]
    },
    {
      "cell_type": "markdown",
      "metadata": {
        "id": "M_xPk_Ijz3i-"
      },
      "source": [
        "Confirm the new current directory"
      ]
    },
    {
      "cell_type": "code",
      "execution_count": 3,
      "metadata": {
        "id": "vz3S-_kjz3jA",
        "outputId": "00b79ae4-75d0-4a96-d193-ac9ef9847ea2"
      },
      "outputs": [
        {
          "data": {
            "text/plain": [
              "'/Users/danielledelouw/Documents/code_institute/vscode-projects/Global_Methane_Flux_Analysis/Global_Methane_Flux_Analysis'"
            ]
          },
          "execution_count": 3,
          "metadata": {},
          "output_type": "execute_result"
        }
      ],
      "source": [
        "current_dir = os.getcwd()\n",
        "current_dir"
      ]
    },
    {
      "cell_type": "markdown",
      "metadata": {
        "id": "-mavJ8DibrcQ"
      },
      "source": [
        "# Section 2: Visualizations"
      ]
    },
    {
      "cell_type": "markdown",
      "metadata": {},
      "source": [
        "Section 2 Load Cleaned Data"
      ]
    },
    {
      "cell_type": "code",
      "execution_count": 4,
      "metadata": {},
      "outputs": [
        {
          "data": {
            "text/html": [
              "<div>\n",
              "<style scoped>\n",
              "    .dataframe tbody tr th:only-of-type {\n",
              "        vertical-align: middle;\n",
              "    }\n",
              "\n",
              "    .dataframe tbody tr th {\n",
              "        vertical-align: top;\n",
              "    }\n",
              "\n",
              "    .dataframe thead th {\n",
              "        text-align: right;\n",
              "    }\n",
              "</style>\n",
              "<table border=\"1\" class=\"dataframe\">\n",
              "  <thead>\n",
              "    <tr style=\"text-align: right;\">\n",
              "      <th></th>\n",
              "      <th>region</th>\n",
              "      <th>country</th>\n",
              "      <th>emissions</th>\n",
              "      <th>type</th>\n",
              "      <th>segment</th>\n",
              "      <th>reason</th>\n",
              "      <th>baseYear</th>\n",
              "    </tr>\n",
              "  </thead>\n",
              "  <tbody>\n",
              "    <tr>\n",
              "      <th>0</th>\n",
              "      <td>Africa</td>\n",
              "      <td>Algeria</td>\n",
              "      <td>257.611206</td>\n",
              "      <td>Agriculture</td>\n",
              "      <td>Total</td>\n",
              "      <td>All</td>\n",
              "      <td>2019-2021</td>\n",
              "    </tr>\n",
              "    <tr>\n",
              "      <th>1</th>\n",
              "      <td>Africa</td>\n",
              "      <td>Algeria</td>\n",
              "      <td>0.052000</td>\n",
              "      <td>Energy</td>\n",
              "      <td>Bioenergy</td>\n",
              "      <td>All</td>\n",
              "      <td>2022</td>\n",
              "    </tr>\n",
              "    <tr>\n",
              "      <th>2</th>\n",
              "      <td>Africa</td>\n",
              "      <td>Algeria</td>\n",
              "      <td>130.798996</td>\n",
              "      <td>Energy</td>\n",
              "      <td>Gas pipelines and LNG facilities</td>\n",
              "      <td>Fugitive</td>\n",
              "      <td>2022</td>\n",
              "    </tr>\n",
              "    <tr>\n",
              "      <th>3</th>\n",
              "      <td>Africa</td>\n",
              "      <td>Algeria</td>\n",
              "      <td>69.741898</td>\n",
              "      <td>Energy</td>\n",
              "      <td>Gas pipelines and LNG facilities</td>\n",
              "      <td>Vented</td>\n",
              "      <td>2022</td>\n",
              "    </tr>\n",
              "    <tr>\n",
              "      <th>4</th>\n",
              "      <td>Africa</td>\n",
              "      <td>Algeria</td>\n",
              "      <td>213.987000</td>\n",
              "      <td>Energy</td>\n",
              "      <td>Onshore gas</td>\n",
              "      <td>Fugitive</td>\n",
              "      <td>2022</td>\n",
              "    </tr>\n",
              "    <tr>\n",
              "      <th>...</th>\n",
              "      <td>...</td>\n",
              "      <td>...</td>\n",
              "      <td>...</td>\n",
              "      <td>...</td>\n",
              "      <td>...</td>\n",
              "      <td>...</td>\n",
              "      <td>...</td>\n",
              "    </tr>\n",
              "    <tr>\n",
              "      <th>1417</th>\n",
              "      <td>Russia &amp; Caspian</td>\n",
              "      <td>Uzbekistan</td>\n",
              "      <td>5.676000</td>\n",
              "      <td>Energy</td>\n",
              "      <td>Other from coal</td>\n",
              "      <td>All</td>\n",
              "      <td>2022</td>\n",
              "    </tr>\n",
              "    <tr>\n",
              "      <th>1418</th>\n",
              "      <td>Russia &amp; Caspian</td>\n",
              "      <td>Uzbekistan</td>\n",
              "      <td>16.973917</td>\n",
              "      <td>Energy</td>\n",
              "      <td>Other from oil and gas</td>\n",
              "      <td>All</td>\n",
              "      <td>2022</td>\n",
              "    </tr>\n",
              "    <tr>\n",
              "      <th>1419</th>\n",
              "      <td>Russia &amp; Caspian</td>\n",
              "      <td>Uzbekistan</td>\n",
              "      <td>18.299999</td>\n",
              "      <td>Energy</td>\n",
              "      <td>Satellite-detected large oil and gas emissions</td>\n",
              "      <td>All</td>\n",
              "      <td>2022</td>\n",
              "    </tr>\n",
              "    <tr>\n",
              "      <th>1420</th>\n",
              "      <td>Russia &amp; Caspian</td>\n",
              "      <td>Uzbekistan</td>\n",
              "      <td>780.916138</td>\n",
              "      <td>Energy</td>\n",
              "      <td>Total</td>\n",
              "      <td>All</td>\n",
              "      <td>2022</td>\n",
              "    </tr>\n",
              "    <tr>\n",
              "      <th>1421</th>\n",
              "      <td>Russia &amp; Caspian</td>\n",
              "      <td>Uzbekistan</td>\n",
              "      <td>280.418243</td>\n",
              "      <td>Waste</td>\n",
              "      <td>Total</td>\n",
              "      <td>All</td>\n",
              "      <td>2019-2021</td>\n",
              "    </tr>\n",
              "  </tbody>\n",
              "</table>\n",
              "<p>1422 rows × 7 columns</p>\n",
              "</div>"
            ],
            "text/plain": [
              "                region     country   emissions         type  \\\n",
              "0               Africa     Algeria  257.611206  Agriculture   \n",
              "1               Africa     Algeria    0.052000       Energy   \n",
              "2               Africa     Algeria  130.798996       Energy   \n",
              "3               Africa     Algeria   69.741898       Energy   \n",
              "4               Africa     Algeria  213.987000       Energy   \n",
              "...                ...         ...         ...          ...   \n",
              "1417  Russia & Caspian  Uzbekistan    5.676000       Energy   \n",
              "1418  Russia & Caspian  Uzbekistan   16.973917       Energy   \n",
              "1419  Russia & Caspian  Uzbekistan   18.299999       Energy   \n",
              "1420  Russia & Caspian  Uzbekistan  780.916138       Energy   \n",
              "1421  Russia & Caspian  Uzbekistan  280.418243        Waste   \n",
              "\n",
              "                                             segment    reason   baseYear  \n",
              "0                                              Total       All  2019-2021  \n",
              "1                                          Bioenergy       All       2022  \n",
              "2                   Gas pipelines and LNG facilities  Fugitive       2022  \n",
              "3                   Gas pipelines and LNG facilities    Vented       2022  \n",
              "4                                        Onshore gas  Fugitive       2022  \n",
              "...                                              ...       ...        ...  \n",
              "1417                                 Other from coal       All       2022  \n",
              "1418                          Other from oil and gas       All       2022  \n",
              "1419  Satellite-detected large oil and gas emissions       All       2022  \n",
              "1420                                           Total       All       2022  \n",
              "1421                                           Total       All  2019-2021  \n",
              "\n",
              "[1422 rows x 7 columns]"
            ]
          },
          "execution_count": 4,
          "metadata": {},
          "output_type": "execute_result"
        }
      ],
      "source": [
        "import pandas as pd\n",
        "\n",
        "df = pd.read_csv('Dataset/cleaned/Methane_final_cleaned.csv')\n",
        "df"
      ]
    },
    {
      "cell_type": "code",
      "execution_count": 5,
      "metadata": {},
      "outputs": [],
      "source": [
        "import numpy as np\n",
        "import pandas as pd\n",
        "import seaborn as sns\n",
        "import plotly.express as px"
      ]
    },
    {
      "cell_type": "markdown",
      "metadata": {
        "id": "ZY3l0-AxO93d"
      },
      "source": [
        "---"
      ]
    },
    {
      "cell_type": "markdown",
      "metadata": {},
      "source": [
        "Section 2 content"
      ]
    },
    {
      "cell_type": "code",
      "execution_count": null,
      "metadata": {},
      "outputs": [],
      "source": [
        "df_top_emissions_country=df.sort_values(by='emissions', ascending=False)[['country','region', 'emissions','type','baseYear']]\n",
        "#top countries sorted by emissions, but including duplicate data with total"
      ]
    },
    {
      "cell_type": "code",
      "execution_count": 17,
      "metadata": {},
      "outputs": [
        {
          "data": {
            "text/html": [
              "<div>\n",
              "<style scoped>\n",
              "    .dataframe tbody tr th:only-of-type {\n",
              "        vertical-align: middle;\n",
              "    }\n",
              "\n",
              "    .dataframe tbody tr th {\n",
              "        vertical-align: top;\n",
              "    }\n",
              "\n",
              "    .dataframe thead th {\n",
              "        text-align: right;\n",
              "    }\n",
              "</style>\n",
              "<table border=\"1\" class=\"dataframe\">\n",
              "  <thead>\n",
              "    <tr style=\"text-align: right;\">\n",
              "      <th></th>\n",
              "      <th>country</th>\n",
              "      <th>region</th>\n",
              "      <th>emissions</th>\n",
              "      <th>type</th>\n",
              "      <th>baseYear</th>\n",
              "    </tr>\n",
              "  </thead>\n",
              "  <tbody>\n",
              "    <tr>\n",
              "      <th>438</th>\n",
              "      <td>China</td>\n",
              "      <td>Asia Pacific</td>\n",
              "      <td>25372.222656</td>\n",
              "      <td>Energy</td>\n",
              "      <td>2022</td>\n",
              "    </tr>\n",
              "    <tr>\n",
              "      <th>420</th>\n",
              "      <td>China</td>\n",
              "      <td>Asia Pacific</td>\n",
              "      <td>18501.914062</td>\n",
              "      <td>Agriculture</td>\n",
              "      <td>2019-2021</td>\n",
              "    </tr>\n",
              "    <tr>\n",
              "      <th>440</th>\n",
              "      <td>India</td>\n",
              "      <td>Asia Pacific</td>\n",
              "      <td>18358.517578</td>\n",
              "      <td>Agriculture</td>\n",
              "      <td>2019-2021</td>\n",
              "    </tr>\n",
              "    <tr>\n",
              "      <th>1388</th>\n",
              "      <td>Russia</td>\n",
              "      <td>Russia &amp; Caspian</td>\n",
              "      <td>18078.083984</td>\n",
              "      <td>Energy</td>\n",
              "      <td>2022</td>\n",
              "    </tr>\n",
              "    <tr>\n",
              "      <th>1309</th>\n",
              "      <td>United States</td>\n",
              "      <td>North America</td>\n",
              "      <td>16769.630859</td>\n",
              "      <td>Energy</td>\n",
              "      <td>2022</td>\n",
              "    </tr>\n",
              "    <tr>\n",
              "      <th>...</th>\n",
              "      <td>...</td>\n",
              "      <td>...</td>\n",
              "      <td>...</td>\n",
              "      <td>...</td>\n",
              "      <td>...</td>\n",
              "    </tr>\n",
              "    <tr>\n",
              "      <th>1319</th>\n",
              "      <td>Other</td>\n",
              "      <td>Other</td>\n",
              "      <td>0.001951</td>\n",
              "      <td>Energy</td>\n",
              "      <td>2022</td>\n",
              "    </tr>\n",
              "    <tr>\n",
              "      <th>224</th>\n",
              "      <td>Morocco</td>\n",
              "      <td>Africa</td>\n",
              "      <td>0.001264</td>\n",
              "      <td>Energy</td>\n",
              "      <td>2022</td>\n",
              "    </tr>\n",
              "    <tr>\n",
              "      <th>901</th>\n",
              "      <td>Netherlands</td>\n",
              "      <td>Europe</td>\n",
              "      <td>0.001164</td>\n",
              "      <td>Energy</td>\n",
              "      <td>2022</td>\n",
              "    </tr>\n",
              "    <tr>\n",
              "      <th>906</th>\n",
              "      <td>Netherlands</td>\n",
              "      <td>Europe</td>\n",
              "      <td>0.001081</td>\n",
              "      <td>Energy</td>\n",
              "      <td>2022</td>\n",
              "    </tr>\n",
              "    <tr>\n",
              "      <th>1318</th>\n",
              "      <td>Other</td>\n",
              "      <td>Other</td>\n",
              "      <td>0.000459</td>\n",
              "      <td>Energy</td>\n",
              "      <td>2022</td>\n",
              "    </tr>\n",
              "  </tbody>\n",
              "</table>\n",
              "<p>1422 rows × 5 columns</p>\n",
              "</div>"
            ],
            "text/plain": [
              "            country            region     emissions         type   baseYear\n",
              "438           China      Asia Pacific  25372.222656       Energy       2022\n",
              "420           China      Asia Pacific  18501.914062  Agriculture  2019-2021\n",
              "440           India      Asia Pacific  18358.517578  Agriculture  2019-2021\n",
              "1388         Russia  Russia & Caspian  18078.083984       Energy       2022\n",
              "1309  United States     North America  16769.630859       Energy       2022\n",
              "...             ...               ...           ...          ...        ...\n",
              "1319          Other             Other      0.001951       Energy       2022\n",
              "224         Morocco            Africa      0.001264       Energy       2022\n",
              "901     Netherlands            Europe      0.001164       Energy       2022\n",
              "906     Netherlands            Europe      0.001081       Energy       2022\n",
              "1318          Other             Other      0.000459       Energy       2022\n",
              "\n",
              "[1422 rows x 5 columns]"
            ]
          },
          "execution_count": 17,
          "metadata": {},
          "output_type": "execute_result"
        }
      ],
      "source": [
        "df_top_emissions_country"
      ]
    },
    {
      "cell_type": "code",
      "execution_count": 67,
      "metadata": {},
      "outputs": [],
      "source": [
        "df_segment_total=df[df['segment']== 'Total'][['country', 'emissions','type','region','baseYear']]#only looking into type=total as I dont want to see the sub items yet "
      ]
    },
    {
      "cell_type": "code",
      "execution_count": 68,
      "metadata": {},
      "outputs": [],
      "source": [
        "df_segment_total20=df_segment_total.sort_values(by='emissions', ascending=False)"
      ]
    },
    {
      "cell_type": "markdown",
      "metadata": {},
      "source": [
        "---"
      ]
    },
    {
      "cell_type": "code",
      "execution_count": 69,
      "metadata": {},
      "outputs": [
        {
          "data": {
            "application/vnd.plotly.v1+json": {
              "config": {
                "plotlyServerURL": "https://plot.ly"
              },
              "data": [
                {
                  "alignmentgroup": "True",
                  "customdata": [
                    [
                      "Asia Pacific",
                      "2022"
                    ],
                    [
                      "Russia & Caspian",
                      "2022"
                    ],
                    [
                      "North America",
                      "2022"
                    ],
                    [
                      "Middle East",
                      "2022"
                    ],
                    [
                      "Asia Pacific",
                      "2022"
                    ],
                    [
                      "Asia Pacific",
                      "2022"
                    ],
                    [
                      "Russia & Caspian",
                      "2022"
                    ],
                    [
                      "Africa",
                      "2022"
                    ],
                    [
                      "Middle East",
                      "2022"
                    ],
                    [
                      "Europe",
                      "2022"
                    ],
                    [
                      "Russia & Caspian",
                      "2022"
                    ],
                    [
                      "Africa",
                      "2022"
                    ],
                    [
                      "Central and South America",
                      "2022"
                    ],
                    [
                      "North America",
                      "2022"
                    ],
                    [
                      "Middle East",
                      "2022"
                    ],
                    [
                      "Other",
                      "2022"
                    ],
                    [
                      "Asia Pacific",
                      "2022"
                    ],
                    [
                      "Central and South America",
                      "2022"
                    ],
                    [
                      "Africa",
                      "2022"
                    ],
                    [
                      "North America",
                      "2022"
                    ],
                    [
                      "Middle East",
                      "2022"
                    ],
                    [
                      "Central and South America",
                      "2022"
                    ],
                    [
                      "Africa",
                      "2022"
                    ],
                    [
                      "Middle East",
                      "2022"
                    ],
                    [
                      "Middle East",
                      "2022"
                    ],
                    [
                      "Africa",
                      "2022"
                    ],
                    [
                      "Asia Pacific",
                      "2022"
                    ],
                    [
                      "Middle East",
                      "2022"
                    ],
                    [
                      "Europe",
                      "2022"
                    ],
                    [
                      "Russia & Caspian",
                      "2022"
                    ],
                    [
                      "Central and South America",
                      "2022"
                    ],
                    [
                      "Europe",
                      "2022"
                    ],
                    [
                      "Africa",
                      "2022"
                    ],
                    [
                      "Europe",
                      "2022"
                    ],
                    [
                      "Asia Pacific",
                      "2022"
                    ],
                    [
                      "Asia Pacific",
                      "2022"
                    ],
                    [
                      "Asia Pacific",
                      "2022"
                    ],
                    [
                      "Africa",
                      "2022"
                    ],
                    [
                      "Europe",
                      "2022"
                    ],
                    [
                      "Europe",
                      "2022"
                    ],
                    [
                      "Asia Pacific",
                      "2022"
                    ],
                    [
                      "Russia & Caspian",
                      "2022"
                    ],
                    [
                      "Europe",
                      "2022"
                    ],
                    [
                      "Europe",
                      "2022"
                    ],
                    [
                      "Asia Pacific",
                      "2022"
                    ],
                    [
                      "Central and South America",
                      "2022"
                    ],
                    [
                      "Europe",
                      "2022"
                    ],
                    [
                      "Africa",
                      "2022"
                    ],
                    [
                      "Africa",
                      "2022"
                    ],
                    [
                      "Africa",
                      "2022"
                    ],
                    [
                      "Middle East",
                      "2022"
                    ],
                    [
                      "Africa",
                      "2022"
                    ],
                    [
                      "Asia Pacific",
                      "2022"
                    ],
                    [
                      "Africa",
                      "2022"
                    ],
                    [
                      "Central and South America",
                      "2022"
                    ],
                    [
                      "Africa",
                      "2022"
                    ],
                    [
                      "Asia Pacific",
                      "2022"
                    ],
                    [
                      "Europe",
                      "2022"
                    ],
                    [
                      "Middle East",
                      "2022"
                    ],
                    [
                      "Africa",
                      "2022"
                    ],
                    [
                      "Middle East",
                      "2022"
                    ],
                    [
                      "Africa",
                      "2022"
                    ],
                    [
                      "Africa",
                      "2022"
                    ],
                    [
                      "Central and South America",
                      "2022"
                    ],
                    [
                      "Central and South America",
                      "2022"
                    ],
                    [
                      "Africa",
                      "2022"
                    ],
                    [
                      "Asia Pacific",
                      "2022"
                    ],
                    [
                      "Africa",
                      "2022"
                    ],
                    [
                      "Africa",
                      "2022"
                    ],
                    [
                      "Africa",
                      "2022"
                    ],
                    [
                      "Asia Pacific",
                      "2022"
                    ],
                    [
                      "Europe",
                      "2022"
                    ],
                    [
                      "Africa",
                      "2022"
                    ],
                    [
                      "Central and South America",
                      "2022"
                    ],
                    [
                      "Middle East",
                      "2022"
                    ],
                    [
                      "Asia Pacific",
                      "2022"
                    ],
                    [
                      "Europe",
                      "2022"
                    ],
                    [
                      "Europe",
                      "2022"
                    ],
                    [
                      "Europe",
                      "2022"
                    ],
                    [
                      "Africa",
                      "2022"
                    ],
                    [
                      "Asia Pacific",
                      "2022"
                    ],
                    [
                      "Europe",
                      "2022"
                    ],
                    [
                      "Africa",
                      "2022"
                    ],
                    [
                      "Europe",
                      "2022"
                    ],
                    [
                      "Africa",
                      "2022"
                    ],
                    [
                      "Africa",
                      "2022"
                    ],
                    [
                      "Central and South America",
                      "2022"
                    ],
                    [
                      "Africa",
                      "2022"
                    ],
                    [
                      "Central and South America",
                      "2022"
                    ],
                    [
                      "Africa",
                      "2022"
                    ],
                    [
                      "Europe",
                      "2022"
                    ],
                    [
                      "Europe",
                      "2022"
                    ],
                    [
                      "Central and South America",
                      "2022"
                    ],
                    [
                      "Africa",
                      "2022"
                    ],
                    [
                      "Africa",
                      "2022"
                    ],
                    [
                      "Middle East",
                      "2022"
                    ],
                    [
                      "Africa",
                      "2022"
                    ],
                    [
                      "Africa",
                      "2022"
                    ]
                  ],
                  "hovertemplate": "type=Energy<br>emissions=%{x}<br>country=%{y}<br>region=%{customdata[0]}<br>baseYear=%{customdata[1]}<extra></extra>",
                  "legendgroup": "Energy",
                  "marker": {
                    "color": "#636efa",
                    "pattern": {
                      "shape": ""
                    }
                  },
                  "name": "Energy",
                  "offsetgroup": "Energy",
                  "orientation": "h",
                  "showlegend": true,
                  "textposition": "auto",
                  "type": "bar",
                  "x": [
                    25372.22265625,
                    18078.083984375,
                    16769.630859375,
                    5629.822265625,
                    5185.236328125,
                    5080.369140625,
                    4740.041015625,
                    3306.0712890625,
                    3051.0966796875,
                    2760.969970703125,
                    2740.561279296875,
                    2669.194580078125,
                    2642.70361328125,
                    2548.3984375,
                    2515.052734375,
                    2420.8798828125,
                    2232.23876953125,
                    1756.495361328125,
                    1599.4412841796875,
                    1581.3292236328125,
                    1439.1328125,
                    1307.0936279296875,
                    1239.0296630859375,
                    1138.517822265625,
                    1002.0822143554688,
                    958.0424194335938,
                    920.3993530273438,
                    869.2565307617188,
                    865.2888793945312,
                    780.9161376953125,
                    778.1613159179688,
                    600.064453125,
                    568.7333374023438,
                    553.4212036132812,
                    535.2486572265625,
                    527.3272094726562,
                    474.0210876464844,
                    464.2127685546875,
                    448.1883544921875,
                    353.0937194824219,
                    334.3358459472656,
                    323.2549743652344,
                    285.7864685058594,
                    285.4109191894531,
                    283.3003234863281,
                    277.0992736816406,
                    274.63140869140625,
                    264.7666931152344,
                    260.6929016113281,
                    248.5525665283203,
                    237.66441345214844,
                    227.3558959960937,
                    216.8521881103516,
                    216.560775756836,
                    209.22000122070312,
                    203.3902282714844,
                    200.3266448974609,
                    193.59646606445312,
                    190.6852569580078,
                    169.01870727539062,
                    145.18161010742188,
                    143.8259735107422,
                    143.06582641601562,
                    131.71063232421875,
                    128.09658813476562,
                    120.73609161376952,
                    116.43431091308594,
                    93.39645385742188,
                    77.23422241210938,
                    76.9888916015625,
                    60.93199920654297,
                    55.59594345092773,
                    51.41695022583008,
                    47.569732666015625,
                    47.20696640014648,
                    43.50729370117188,
                    43.2089958190918,
                    41.51583480834961,
                    41.1037712097168,
                    40.86768341064453,
                    37.33414077758789,
                    31.990554809570312,
                    29.507999420166016,
                    29.25938034057617,
                    26.6285400390625,
                    22.181472778320312,
                    21.06509017944336,
                    19.2255916595459,
                    16.34809112548828,
                    13.024876594543455,
                    11.624244689941406,
                    7.726953983306885,
                    7.599424362182617,
                    6.199222564697266,
                    5.936958312988281,
                    4.712915897369385,
                    2.631089210510254,
                    0.0080000003799796
                  ],
                  "xaxis": "x",
                  "y": [
                    "China",
                    "Russia",
                    "United States",
                    "Iran",
                    "India",
                    "Indonesia",
                    "Turkmenistan",
                    "Nigeria",
                    "Saudi Arabia",
                    "European Union",
                    "Kazakhstan",
                    "Algeria",
                    "Venezuela",
                    "Canada",
                    "Iraq",
                    "Other",
                    "Australia",
                    "Brazil",
                    "Libya",
                    "Mexico",
                    "United Arab Emirates",
                    "Argentina",
                    "South Africa",
                    "Qatar",
                    "Kuwait",
                    "Egypt",
                    "Pakistan",
                    "Oman",
                    "Poland",
                    "Uzbekistan",
                    "Colombia",
                    "Other EU17 countries",
                    "Angola",
                    "Ukraine",
                    "Thailand",
                    "Other countries in Southeast Asia",
                    "Malaysia",
                    "Ethiopia",
                    "Other countries in Europe",
                    "Germany",
                    "Bangladesh",
                    "Azerbaijan",
                    "Italy",
                    "Romania",
                    "Japan",
                    "Ecuador",
                    "United Kingdom",
                    "Congo",
                    "Democratic Republic of Congo",
                    "Gabon",
                    "Syria",
                    "Mozambique",
                    "Mongolia",
                    "Cameroon",
                    "Trinidad and Tobago",
                    "Tanzania",
                    "Korea",
                    "France",
                    "Bahrain",
                    "Equatorial Guinea",
                    "Yemen",
                    "Kenya",
                    "Sudan",
                    "Peru",
                    "Bolivia",
                    "Ghana",
                    "Philippines",
                    "Cote d'Ivoire",
                    "Tunisia",
                    "South Sudan",
                    "Vietnam",
                    "Other EU7 countries",
                    "Chad",
                    "Guyana",
                    "Jordan",
                    "Brunei",
                    "Israel",
                    "Denmark",
                    "Norway",
                    "Niger",
                    "New Zealand",
                    "Sweden",
                    "Somalia",
                    "Netherlands",
                    "Benin",
                    "Morocco",
                    "Cuba",
                    "Togo",
                    "Paraguay",
                    "Senegal",
                    "Estonia",
                    "Slovenia",
                    "Uruguay",
                    "Botswana",
                    "Eritrea",
                    "Lebanon",
                    "Namibia",
                    "Guinea"
                  ],
                  "yaxis": "y"
                },
                {
                  "alignmentgroup": "True",
                  "customdata": [
                    [
                      "Asia Pacific",
                      "2019-2021"
                    ],
                    [
                      "Asia Pacific",
                      "2019-2021"
                    ],
                    [
                      "Central and South America",
                      "2019-2021"
                    ],
                    [
                      "North America",
                      "2019-2021"
                    ],
                    [
                      "Europe",
                      "2019-2021"
                    ],
                    [
                      "Other",
                      "2019-2021"
                    ],
                    [
                      "Asia Pacific",
                      "2019-2021"
                    ],
                    [
                      "Asia Pacific",
                      "2019-2021"
                    ],
                    [
                      "Asia Pacific",
                      "2019-2021"
                    ],
                    [
                      "Central and South America",
                      "2019-2021"
                    ],
                    [
                      "Europe",
                      "2019-2021"
                    ],
                    [
                      "Asia Pacific",
                      "2019-2021"
                    ],
                    [
                      "North America",
                      "2019-2021"
                    ],
                    [
                      "Asia Pacific",
                      "2019-2021"
                    ],
                    [
                      "Europe",
                      "2019-2021"
                    ],
                    [
                      "Asia Pacific",
                      "2019-2021"
                    ],
                    [
                      "Africa",
                      "2019-2021"
                    ],
                    [
                      "Asia Pacific",
                      "2019-2021"
                    ],
                    [
                      "Russia & Caspian",
                      "2019-2021"
                    ],
                    [
                      "Africa",
                      "2019-2021"
                    ],
                    [
                      "Central and South America",
                      "2019-2021"
                    ],
                    [
                      "Asia Pacific",
                      "2019-2021"
                    ],
                    [
                      "Europe",
                      "2019-2021"
                    ],
                    [
                      "Africa",
                      "2019-2021"
                    ],
                    [
                      "Europe",
                      "2019-2021"
                    ],
                    [
                      "Africa",
                      "2019-2021"
                    ],
                    [
                      "Africa",
                      "2019-2021"
                    ],
                    [
                      "Africa",
                      "2019-2021"
                    ],
                    [
                      "Asia Pacific",
                      "2019-2021"
                    ],
                    [
                      "North America",
                      "2019-2021"
                    ],
                    [
                      "Europe",
                      "2019-2021"
                    ],
                    [
                      "Central and South America",
                      "2019-2021"
                    ],
                    [
                      "Asia Pacific",
                      "2019-2021"
                    ],
                    [
                      "Russia & Caspian",
                      "2019-2021"
                    ],
                    [
                      "Central and South America",
                      "2019-2021"
                    ],
                    [
                      "Middle East",
                      "2019-2021"
                    ],
                    [
                      "Europe",
                      "2019-2021"
                    ],
                    [
                      "Russia & Caspian",
                      "2019-2021"
                    ],
                    [
                      "Africa",
                      "2019-2021"
                    ],
                    [
                      "Central and South America",
                      "2019-2021"
                    ],
                    [
                      "Africa",
                      "2019-2021"
                    ],
                    [
                      "Africa",
                      "2019-2021"
                    ],
                    [
                      "Africa",
                      "2019-2021"
                    ],
                    [
                      "Central and South America",
                      "2019-2021"
                    ],
                    [
                      "Central and South America",
                      "2019-2021"
                    ],
                    [
                      "Africa",
                      "2019-2021"
                    ],
                    [
                      "Europe",
                      "2019-2021"
                    ],
                    [
                      "Africa",
                      "2019-2021"
                    ],
                    [
                      "Asia Pacific",
                      "2019-2021"
                    ],
                    [
                      "Asia Pacific",
                      "2019-2021"
                    ],
                    [
                      "Europe",
                      "2019-2021"
                    ],
                    [
                      "Africa",
                      "2019-2021"
                    ],
                    [
                      "Africa",
                      "2019-2021"
                    ],
                    [
                      "Europe",
                      "2019-2021"
                    ],
                    [
                      "Europe",
                      "2019-2021"
                    ],
                    [
                      "Central and South America",
                      "2019-2021"
                    ],
                    [
                      "Russia & Caspian",
                      "2019-2021"
                    ],
                    [
                      "Africa",
                      "2019-2021"
                    ],
                    [
                      "Africa",
                      "2019-2021"
                    ],
                    [
                      "Central and South America",
                      "2019-2021"
                    ],
                    [
                      "Africa",
                      "2019-2021"
                    ],
                    [
                      "Africa",
                      "2019-2021"
                    ],
                    [
                      "Africa",
                      "2019-2021"
                    ],
                    [
                      "Europe",
                      "2019-2021"
                    ],
                    [
                      "Africa",
                      "2019-2021"
                    ],
                    [
                      "Russia & Caspian",
                      "2019-2021"
                    ],
                    [
                      "Asia Pacific",
                      "2019-2021"
                    ],
                    [
                      "Africa",
                      "2019-2021"
                    ],
                    [
                      "Africa",
                      "2019-2021"
                    ],
                    [
                      "Middle East",
                      "2019-2021"
                    ],
                    [
                      "Africa",
                      "2019-2021"
                    ],
                    [
                      "Middle East",
                      "2019-2021"
                    ],
                    [
                      "Europe",
                      "2019-2021"
                    ],
                    [
                      "Middle East",
                      "2019-2021"
                    ],
                    [
                      "Europe",
                      "2019-2021"
                    ],
                    [
                      "Middle East",
                      "2019-2021"
                    ],
                    [
                      "Africa",
                      "2019-2021"
                    ],
                    [
                      "Africa",
                      "2019-2021"
                    ],
                    [
                      "Europe",
                      "2019-2021"
                    ],
                    [
                      "Africa",
                      "2019-2021"
                    ],
                    [
                      "Africa",
                      "2019-2021"
                    ],
                    [
                      "Africa",
                      "2019-2021"
                    ],
                    [
                      "Africa",
                      "2019-2021"
                    ],
                    [
                      "Central and South America",
                      "2019-2021"
                    ],
                    [
                      "Africa",
                      "2019-2021"
                    ],
                    [
                      "Africa",
                      "2019-2021"
                    ],
                    [
                      "Europe",
                      "2019-2021"
                    ],
                    [
                      "Middle East",
                      "2019-2021"
                    ],
                    [
                      "Europe",
                      "2019-2021"
                    ],
                    [
                      "Middle East",
                      "2019-2021"
                    ],
                    [
                      "Africa",
                      "2019-2021"
                    ],
                    [
                      "Europe",
                      "2019-2021"
                    ],
                    [
                      "Middle East",
                      "2019-2021"
                    ],
                    [
                      "Africa",
                      "2019-2021"
                    ],
                    [
                      "Middle East",
                      "2019-2021"
                    ],
                    [
                      "Middle East",
                      "2019-2021"
                    ],
                    [
                      "Africa",
                      "2019-2021"
                    ],
                    [
                      "Middle East",
                      "2019-2021"
                    ],
                    [
                      "Africa",
                      "2019-2021"
                    ],
                    [
                      "Central and South America",
                      "2019-2021"
                    ],
                    [
                      "Middle East",
                      "2019-2021"
                    ],
                    [
                      "Asia Pacific",
                      "2019-2021"
                    ],
                    [
                      "Africa",
                      "2019-2021"
                    ],
                    [
                      "Africa",
                      "2019-2021"
                    ]
                  ],
                  "hovertemplate": "type=Agriculture<br>emissions=%{x}<br>country=%{y}<br>region=%{customdata[0]}<br>baseYear=%{customdata[1]}<extra></extra>",
                  "legendgroup": "Agriculture",
                  "marker": {
                    "color": "#EF553B",
                    "pattern": {
                      "shape": ""
                    }
                  },
                  "name": "Agriculture",
                  "offsetgroup": "Agriculture",
                  "orientation": "h",
                  "showlegend": true,
                  "textposition": "auto",
                  "type": "bar",
                  "x": [
                    18501.9140625,
                    18358.517578125,
                    14020.0888671875,
                    9409.3251953125,
                    8851.337890625,
                    7259.01416015625,
                    5319.4560546875,
                    3518.344482421875,
                    3300.293701171875,
                    3152.9326171875,
                    2811.933837890625,
                    2450.463134765625,
                    2420.791015625,
                    2410.234375,
                    2284.248779296875,
                    2193.2626953125,
                    2082.188232421875,
                    2078.933837890625,
                    2022.095947265625,
                    1910.0897216796875,
                    1795.9031982421875,
                    1714.848876953125,
                    1564.2218017578125,
                    1549.11083984375,
                    1269.36865234375,
                    1250.951904296875,
                    1223.9329833984375,
                    1180.221923828125,
                    1155.9993896484375,
                    1072.710693359375,
                    1064.6658935546875,
                    1015.0640869140624,
                    991.6493530273438,
                    901.6826171875,
                    835.0689086914062,
                    802.454345703125,
                    800.047119140625,
                    762.0980834960938,
                    760.32275390625,
                    751.9459228515625,
                    696.4396362304688,
                    695.7181396484375,
                    684.5322265625,
                    673.754150390625,
                    639.6949462890625,
                    625.7147827148438,
                    615.5054321289062,
                    555.5286865234375,
                    549.2429809570312,
                    508.4415588378906,
                    466.8436584472656,
                    438.159423828125,
                    400.9695739746094,
                    377.1493225097656,
                    367.9289245605469,
                    359.8713684082031,
                    304.87176513671875,
                    295.3795166015625,
                    279.5312194824219,
                    267.4549255371094,
                    261.5225524902344,
                    257.6112060546875,
                    250.8168029785156,
                    240.09361267089844,
                    210.65399169921875,
                    195.1975250244141,
                    189.0501708984375,
                    185.7007751464844,
                    181.9879150390625,
                    181.29298400878903,
                    169.0322265625,
                    168.22393798828125,
                    139.63568115234375,
                    133.05282592773438,
                    128.65838623046875,
                    121.0209732055664,
                    120.17935180664062,
                    105.69103240966795,
                    103.60773468017578,
                    97.72246551513672,
                    97.25849151611328,
                    86.26763916015625,
                    67.41584777832031,
                    57.39715576171875,
                    52.83677673339844,
                    50.73590850830078,
                    48.42922592163086,
                    47.43784332275391,
                    39.840087890625,
                    37.05989837646485,
                    29.567506790161133,
                    27.72345733642578,
                    25.815542221069336,
                    23.8709659576416,
                    12.067669868469238,
                    11.3685884475708,
                    9.208291053771973,
                    7.323050498962402,
                    5.590458393096924,
                    4.345527648925781,
                    0.9645923376083374,
                    0.8412342667579651,
                    0.438739001750946,
                    0.078720711171627
                  ],
                  "xaxis": "x",
                  "y": [
                    "China",
                    "India",
                    "Brazil",
                    "United States",
                    "European Union",
                    "Other",
                    "Pakistan",
                    "Indonesia",
                    "Other countries in Southeast Asia",
                    "Argentina",
                    "Other EU17 countries",
                    "Australia",
                    "Mexico",
                    "Bangladesh",
                    "Other countries in Europe",
                    "Vietnam",
                    "Nigeria",
                    "Thailand",
                    "Russia",
                    "Ethiopia",
                    "Colombia",
                    "Philippines",
                    "France",
                    "Sudan",
                    "Germany",
                    "Kenya",
                    "Chad",
                    "Tanzania",
                    "New Zealand",
                    "Canada",
                    "United Kingdom",
                    "Venezuela",
                    "Japan",
                    "Uzbekistan",
                    "Paraguay",
                    "Iran",
                    "Italy",
                    "Kazakhstan",
                    "South Africa",
                    "Uruguay",
                    "Niger",
                    "South Sudan",
                    "Egypt",
                    "Bolivia",
                    "Peru",
                    "Somalia",
                    "Poland",
                    "Democratic Republic of Congo",
                    "Mongolia",
                    "Korea",
                    "Netherlands",
                    "Guinea",
                    "Angola",
                    "Ukraine",
                    "Romania",
                    "Ecuador",
                    "Turkmenistan",
                    "Morocco",
                    "Cameroon",
                    "Cuba",
                    "Senegal",
                    "Algeria",
                    "Central African Republic",
                    "Denmark",
                    "Mozambique",
                    "Azerbaijan",
                    "Malaysia",
                    "Cote d'Ivoire",
                    "Namibia",
                    "Yemen",
                    "Ghana",
                    "Iraq",
                    "Other EU7 countries",
                    "Syria",
                    "Sweden",
                    "Saudi Arabia",
                    "Eritrea",
                    "Benin",
                    "Norway",
                    "Tunisia",
                    "Botswana",
                    "Sierra Leone",
                    "Libya",
                    "Guyana",
                    "Guinea-Bissau",
                    "Togo",
                    "Slovenia",
                    "United Arab Emirates",
                    "Israel",
                    "Oman",
                    "Gambia",
                    "Estonia",
                    "Jordan",
                    "Congo",
                    "Lebanon",
                    "Qatar",
                    "Liberia",
                    "Kuwait",
                    "Gabon",
                    "Trinidad and Tobago",
                    "Bahrain",
                    "Brunei",
                    "Equatorial Guinea",
                    "Seychelles"
                  ],
                  "yaxis": "y"
                },
                {
                  "alignmentgroup": "True",
                  "customdata": [
                    [
                      "Asia Pacific",
                      "2019-2021"
                    ],
                    [
                      "Asia Pacific",
                      "2019-2021"
                    ],
                    [
                      "North America",
                      "2019-2021"
                    ],
                    [
                      "Asia Pacific",
                      "2019-2021"
                    ],
                    [
                      "Europe",
                      "2019-2021"
                    ],
                    [
                      "Russia & Caspian",
                      "2019-2021"
                    ],
                    [
                      "Central and South America",
                      "2019-2021"
                    ],
                    [
                      "Other",
                      "2019-2021"
                    ],
                    [
                      "Europe",
                      "2019-2021"
                    ],
                    [
                      "North America",
                      "2019-2021"
                    ],
                    [
                      "Europe",
                      "2019-2021"
                    ],
                    [
                      "Europe",
                      "2019-2021"
                    ],
                    [
                      "Middle East",
                      "2019-2021"
                    ],
                    [
                      "Africa",
                      "2019-2021"
                    ],
                    [
                      "Middle East",
                      "2019-2021"
                    ],
                    [
                      "North America",
                      "2019-2021"
                    ],
                    [
                      "Asia Pacific",
                      "2019-2021"
                    ],
                    [
                      "Africa",
                      "2019-2021"
                    ],
                    [
                      "Asia Pacific",
                      "2019-2021"
                    ],
                    [
                      "Africa",
                      "2019-2021"
                    ],
                    [
                      "Africa",
                      "2019-2021"
                    ],
                    [
                      "Asia Pacific",
                      "2019-2021"
                    ],
                    [
                      "Asia Pacific",
                      "2019-2021"
                    ],
                    [
                      "Central and South America",
                      "2019-2021"
                    ],
                    [
                      "Asia Pacific",
                      "2019-2021"
                    ],
                    [
                      "Asia Pacific",
                      "2019-2021"
                    ],
                    [
                      "Central and South America",
                      "2019-2021"
                    ],
                    [
                      "Europe",
                      "2019-2021"
                    ],
                    [
                      "Asia Pacific",
                      "2019-2021"
                    ],
                    [
                      "Europe",
                      "2019-2021"
                    ],
                    [
                      "Europe",
                      "2019-2021"
                    ],
                    [
                      "Africa",
                      "2019-2021"
                    ],
                    [
                      "Asia Pacific",
                      "2019-2021"
                    ],
                    [
                      "Africa",
                      "2019-2021"
                    ],
                    [
                      "Middle East",
                      "2019-2021"
                    ],
                    [
                      "Asia Pacific",
                      "2019-2021"
                    ],
                    [
                      "Africa",
                      "2019-2021"
                    ],
                    [
                      "Africa",
                      "2019-2021"
                    ],
                    [
                      "Europe",
                      "2019-2021"
                    ],
                    [
                      "Central and South America",
                      "2019-2021"
                    ],
                    [
                      "Middle East",
                      "2019-2021"
                    ],
                    [
                      "Central and South America",
                      "2019-2021"
                    ],
                    [
                      "Europe",
                      "2019-2021"
                    ],
                    [
                      "Europe",
                      "2019-2021"
                    ],
                    [
                      "Russia & Caspian",
                      "2019-2021"
                    ],
                    [
                      "Middle East",
                      "2019-2021"
                    ],
                    [
                      "Europe",
                      "2019-2021"
                    ],
                    [
                      "Europe",
                      "2019-2021"
                    ],
                    [
                      "Asia Pacific",
                      "2019-2021"
                    ],
                    [
                      "Central and South America",
                      "2019-2021"
                    ],
                    [
                      "Africa",
                      "2019-2021"
                    ],
                    [
                      "Africa",
                      "2019-2021"
                    ],
                    [
                      "Africa",
                      "2019-2021"
                    ],
                    [
                      "Middle East",
                      "2019-2021"
                    ],
                    [
                      "Russia & Caspian",
                      "2019-2021"
                    ],
                    [
                      "Africa",
                      "2019-2021"
                    ],
                    [
                      "Africa",
                      "2019-2021"
                    ],
                    [
                      "Middle East",
                      "2019-2021"
                    ],
                    [
                      "Middle East",
                      "2019-2021"
                    ],
                    [
                      "Asia Pacific",
                      "2019-2021"
                    ],
                    [
                      "Middle East",
                      "2019-2021"
                    ],
                    [
                      "Central and South America",
                      "2019-2021"
                    ],
                    [
                      "Europe",
                      "2019-2021"
                    ],
                    [
                      "Africa",
                      "2019-2021"
                    ],
                    [
                      "Africa",
                      "2019-2021"
                    ],
                    [
                      "Africa",
                      "2019-2021"
                    ],
                    [
                      "Africa",
                      "2019-2021"
                    ],
                    [
                      "Central and South America",
                      "2019-2021"
                    ],
                    [
                      "Europe",
                      "2019-2021"
                    ],
                    [
                      "Africa",
                      "2019-2021"
                    ],
                    [
                      "Central and South America",
                      "2019-2021"
                    ],
                    [
                      "Middle East",
                      "2019-2021"
                    ],
                    [
                      "Africa",
                      "2019-2021"
                    ],
                    [
                      "Africa",
                      "2019-2021"
                    ],
                    [
                      "Russia & Caspian",
                      "2019-2021"
                    ],
                    [
                      "Africa",
                      "2019-2021"
                    ],
                    [
                      "Central and South America",
                      "2019-2021"
                    ],
                    [
                      "Africa",
                      "2019-2021"
                    ],
                    [
                      "Africa",
                      "2019-2021"
                    ],
                    [
                      "Africa",
                      "2019-2021"
                    ],
                    [
                      "Middle East",
                      "2019-2021"
                    ],
                    [
                      "Middle East",
                      "2019-2021"
                    ],
                    [
                      "Central and South America",
                      "2019-2021"
                    ],
                    [
                      "Africa",
                      "2019-2021"
                    ],
                    [
                      "Russia & Caspian",
                      "2019-2021"
                    ],
                    [
                      "Europe",
                      "2019-2021"
                    ],
                    [
                      "Africa",
                      "2019-2021"
                    ],
                    [
                      "Europe",
                      "2019-2021"
                    ],
                    [
                      "Africa",
                      "2019-2021"
                    ],
                    [
                      "Europe",
                      "2019-2021"
                    ],
                    [
                      "Africa",
                      "2019-2021"
                    ],
                    [
                      "Africa",
                      "2019-2021"
                    ],
                    [
                      "Africa",
                      "2019-2021"
                    ],
                    [
                      "Africa",
                      "2019-2021"
                    ],
                    [
                      "Africa",
                      "2019-2021"
                    ],
                    [
                      "Europe",
                      "2019-2021"
                    ],
                    [
                      "Asia Pacific",
                      "2019-2021"
                    ],
                    [
                      "Africa",
                      "2019-2021"
                    ],
                    [
                      "Africa",
                      "2019-2021"
                    ],
                    [
                      "Africa",
                      "2019-2021"
                    ],
                    [
                      "Asia Pacific",
                      "2019-2021"
                    ],
                    [
                      "Africa",
                      "2019-2021"
                    ],
                    [
                      "Central and South America",
                      "2019-2021"
                    ],
                    [
                      "Africa",
                      "2019-2021"
                    ]
                  ],
                  "hovertemplate": "type=Waste<br>emissions=%{x}<br>country=%{y}<br>region=%{customdata[0]}<br>baseYear=%{customdata[1]}<extra></extra>",
                  "legendgroup": "Waste",
                  "marker": {
                    "color": "#00cc96",
                    "pattern": {
                      "shape": ""
                    }
                  },
                  "name": "Waste",
                  "offsetgroup": "Waste",
                  "orientation": "h",
                  "showlegend": true,
                  "textposition": "auto",
                  "type": "bar",
                  "x": [
                    10424.1416015625,
                    5551.7607421875,
                    5117.92822265625,
                    4568.9384765625,
                    4320.9970703125,
                    3931.244384765625,
                    3800.05712890625,
                    3214.4951171875,
                    2321.68505859375,
                    1994.62744140625,
                    1850.4228515625,
                    1113.1412353515625,
                    955.779541015625,
                    947.93408203125,
                    931.3856201171876,
                    897.9652709960938,
                    893.9114379882812,
                    862.4360961914062,
                    854.3361206054688,
                    843.4016723632812,
                    834.2140502929688,
                    825.30224609375,
                    783.7750244140625,
                    705.7312622070312,
                    703.9661254882812,
                    649.79248046875,
                    643.7293090820312,
                    630.8741455078125,
                    619.0491333007812,
                    605.1366577148438,
                    579.596923828125,
                    566.8305053710938,
                    527.2578125,
                    510.9656066894531,
                    462.6634826660156,
                    436.8053588867188,
                    414.8589172363281,
                    405.1220397949219,
                    401.859619140625,
                    379.9532775878906,
                    362.1964721679688,
                    355.07745361328125,
                    347.61395263671875,
                    282.4595642089844,
                    280.4182434082031,
                    257.99493408203125,
                    249.8030548095703,
                    244.40768432617188,
                    243.30145263671875,
                    235.403060913086,
                    233.21359252929688,
                    227.552978515625,
                    220.2355194091797,
                    200.5210418701172,
                    198.9350128173828,
                    194.51437377929688,
                    180.646713256836,
                    172.3936004638672,
                    169.2044219970703,
                    165.2618865966797,
                    161.4936981201172,
                    160.3751678466797,
                    159.8013458251953,
                    159.3824005126953,
                    155.7392578125,
                    152.30502319335938,
                    151.49404907226562,
                    138.26727294921875,
                    137.8373260498047,
                    121.76155090332033,
                    115.26103973388672,
                    112.2239990234375,
                    108.4111557006836,
                    108.2469711303711,
                    104.27503204345705,
                    101.4332275390625,
                    87.08856201171875,
                    83.35655975341797,
                    70.19759368896484,
                    68.93671417236328,
                    64.55561828613281,
                    64.40309143066406,
                    62.29243469238281,
                    49.99830627441406,
                    48.02981185913086,
                    46.46012496948242,
                    42.10737228393555,
                    40.26875686645508,
                    37.90462112426758,
                    37.32962417602539,
                    30.08274269104004,
                    24.038236618041992,
                    22.85633850097656,
                    21.208723068237305,
                    19.37256050109864,
                    17.910375595092773,
                    16.66093635559082,
                    15.859238624572754,
                    14.088419914245604,
                    11.922514915466309,
                    9.676277160644531,
                    8.758500099182129,
                    8.31496524810791,
                    2.491305351257324
                  ],
                  "xaxis": "x",
                  "y": [
                    "China",
                    "India",
                    "United States",
                    "Indonesia",
                    "European Union",
                    "Russia",
                    "Brazil",
                    "Other",
                    "Other countries in Europe",
                    "Mexico",
                    "Other EU17 countries",
                    "United Kingdom",
                    "Saudi Arabia",
                    "Egypt",
                    "Iran",
                    "Canada",
                    "Malaysia",
                    "Nigeria",
                    "Pakistan",
                    "Botswana",
                    "South Africa",
                    "Bangladesh",
                    "Vietnam",
                    "Argentina",
                    "Thailand",
                    "Philippines",
                    "Colombia",
                    "France",
                    "Australia",
                    "Germany",
                    "Italy",
                    "Democratic Republic of Congo",
                    "Korea",
                    "Algeria",
                    "United Arab Emirates",
                    "Other countries in Southeast Asia",
                    "Ethiopia",
                    "Morocco",
                    "Ukraine",
                    "Venezuela",
                    "Iraq",
                    "Peru",
                    "Poland",
                    "Israel",
                    "Uzbekistan",
                    "Kuwait",
                    "Other EU7 countries",
                    "Romania",
                    "Japan",
                    "Ecuador",
                    "Sudan",
                    "Tanzania",
                    "Cote d'Ivoire",
                    "Jordan",
                    "Kazakhstan",
                    "Cameroon",
                    "Kenya",
                    "Bahrain",
                    "Syria",
                    "New Zealand",
                    "Yemen",
                    "Cuba",
                    "Sweden",
                    "Ghana",
                    "Mozambique",
                    "Niger",
                    "Angola",
                    "Uruguay",
                    "Netherlands",
                    "South Sudan",
                    "Paraguay",
                    "Lebanon",
                    "Somalia",
                    "Tunisia",
                    "Azerbaijan",
                    "Senegal",
                    "Bolivia",
                    "Libya",
                    "Chad",
                    "Guinea",
                    "Oman",
                    "Qatar",
                    "Trinidad and Tobago",
                    "Sierra Leone",
                    "Turkmenistan",
                    "Norway",
                    "Benin",
                    "Denmark",
                    "Togo",
                    "Estonia",
                    "Congo",
                    "Eritrea",
                    "Central African Republic",
                    "Gabon",
                    "Liberia",
                    "Slovenia",
                    "Mongolia",
                    "Namibia",
                    "Gambia",
                    "Equatorial Guinea",
                    "Brunei",
                    "Guinea-Bissau",
                    "Guyana",
                    "Seychelles"
                  ],
                  "yaxis": "y"
                }
              ],
              "layout": {
                "barmode": "stack",
                "legend": {
                  "title": {
                    "text": "type"
                  },
                  "tracegroupgap": 0
                },
                "template": {
                  "data": {
                    "bar": [
                      {
                        "error_x": {
                          "color": "#2a3f5f"
                        },
                        "error_y": {
                          "color": "#2a3f5f"
                        },
                        "marker": {
                          "line": {
                            "color": "#E5ECF6",
                            "width": 0.5
                          },
                          "pattern": {
                            "fillmode": "overlay",
                            "size": 10,
                            "solidity": 0.2
                          }
                        },
                        "type": "bar"
                      }
                    ],
                    "barpolar": [
                      {
                        "marker": {
                          "line": {
                            "color": "#E5ECF6",
                            "width": 0.5
                          },
                          "pattern": {
                            "fillmode": "overlay",
                            "size": 10,
                            "solidity": 0.2
                          }
                        },
                        "type": "barpolar"
                      }
                    ],
                    "carpet": [
                      {
                        "aaxis": {
                          "endlinecolor": "#2a3f5f",
                          "gridcolor": "white",
                          "linecolor": "white",
                          "minorgridcolor": "white",
                          "startlinecolor": "#2a3f5f"
                        },
                        "baxis": {
                          "endlinecolor": "#2a3f5f",
                          "gridcolor": "white",
                          "linecolor": "white",
                          "minorgridcolor": "white",
                          "startlinecolor": "#2a3f5f"
                        },
                        "type": "carpet"
                      }
                    ],
                    "choropleth": [
                      {
                        "colorbar": {
                          "outlinewidth": 0,
                          "ticks": ""
                        },
                        "type": "choropleth"
                      }
                    ],
                    "contour": [
                      {
                        "colorbar": {
                          "outlinewidth": 0,
                          "ticks": ""
                        },
                        "colorscale": [
                          [
                            0,
                            "#0d0887"
                          ],
                          [
                            0.1111111111111111,
                            "#46039f"
                          ],
                          [
                            0.2222222222222222,
                            "#7201a8"
                          ],
                          [
                            0.3333333333333333,
                            "#9c179e"
                          ],
                          [
                            0.4444444444444444,
                            "#bd3786"
                          ],
                          [
                            0.5555555555555556,
                            "#d8576b"
                          ],
                          [
                            0.6666666666666666,
                            "#ed7953"
                          ],
                          [
                            0.7777777777777778,
                            "#fb9f3a"
                          ],
                          [
                            0.8888888888888888,
                            "#fdca26"
                          ],
                          [
                            1,
                            "#f0f921"
                          ]
                        ],
                        "type": "contour"
                      }
                    ],
                    "contourcarpet": [
                      {
                        "colorbar": {
                          "outlinewidth": 0,
                          "ticks": ""
                        },
                        "type": "contourcarpet"
                      }
                    ],
                    "heatmap": [
                      {
                        "colorbar": {
                          "outlinewidth": 0,
                          "ticks": ""
                        },
                        "colorscale": [
                          [
                            0,
                            "#0d0887"
                          ],
                          [
                            0.1111111111111111,
                            "#46039f"
                          ],
                          [
                            0.2222222222222222,
                            "#7201a8"
                          ],
                          [
                            0.3333333333333333,
                            "#9c179e"
                          ],
                          [
                            0.4444444444444444,
                            "#bd3786"
                          ],
                          [
                            0.5555555555555556,
                            "#d8576b"
                          ],
                          [
                            0.6666666666666666,
                            "#ed7953"
                          ],
                          [
                            0.7777777777777778,
                            "#fb9f3a"
                          ],
                          [
                            0.8888888888888888,
                            "#fdca26"
                          ],
                          [
                            1,
                            "#f0f921"
                          ]
                        ],
                        "type": "heatmap"
                      }
                    ],
                    "heatmapgl": [
                      {
                        "colorbar": {
                          "outlinewidth": 0,
                          "ticks": ""
                        },
                        "colorscale": [
                          [
                            0,
                            "#0d0887"
                          ],
                          [
                            0.1111111111111111,
                            "#46039f"
                          ],
                          [
                            0.2222222222222222,
                            "#7201a8"
                          ],
                          [
                            0.3333333333333333,
                            "#9c179e"
                          ],
                          [
                            0.4444444444444444,
                            "#bd3786"
                          ],
                          [
                            0.5555555555555556,
                            "#d8576b"
                          ],
                          [
                            0.6666666666666666,
                            "#ed7953"
                          ],
                          [
                            0.7777777777777778,
                            "#fb9f3a"
                          ],
                          [
                            0.8888888888888888,
                            "#fdca26"
                          ],
                          [
                            1,
                            "#f0f921"
                          ]
                        ],
                        "type": "heatmapgl"
                      }
                    ],
                    "histogram": [
                      {
                        "marker": {
                          "pattern": {
                            "fillmode": "overlay",
                            "size": 10,
                            "solidity": 0.2
                          }
                        },
                        "type": "histogram"
                      }
                    ],
                    "histogram2d": [
                      {
                        "colorbar": {
                          "outlinewidth": 0,
                          "ticks": ""
                        },
                        "colorscale": [
                          [
                            0,
                            "#0d0887"
                          ],
                          [
                            0.1111111111111111,
                            "#46039f"
                          ],
                          [
                            0.2222222222222222,
                            "#7201a8"
                          ],
                          [
                            0.3333333333333333,
                            "#9c179e"
                          ],
                          [
                            0.4444444444444444,
                            "#bd3786"
                          ],
                          [
                            0.5555555555555556,
                            "#d8576b"
                          ],
                          [
                            0.6666666666666666,
                            "#ed7953"
                          ],
                          [
                            0.7777777777777778,
                            "#fb9f3a"
                          ],
                          [
                            0.8888888888888888,
                            "#fdca26"
                          ],
                          [
                            1,
                            "#f0f921"
                          ]
                        ],
                        "type": "histogram2d"
                      }
                    ],
                    "histogram2dcontour": [
                      {
                        "colorbar": {
                          "outlinewidth": 0,
                          "ticks": ""
                        },
                        "colorscale": [
                          [
                            0,
                            "#0d0887"
                          ],
                          [
                            0.1111111111111111,
                            "#46039f"
                          ],
                          [
                            0.2222222222222222,
                            "#7201a8"
                          ],
                          [
                            0.3333333333333333,
                            "#9c179e"
                          ],
                          [
                            0.4444444444444444,
                            "#bd3786"
                          ],
                          [
                            0.5555555555555556,
                            "#d8576b"
                          ],
                          [
                            0.6666666666666666,
                            "#ed7953"
                          ],
                          [
                            0.7777777777777778,
                            "#fb9f3a"
                          ],
                          [
                            0.8888888888888888,
                            "#fdca26"
                          ],
                          [
                            1,
                            "#f0f921"
                          ]
                        ],
                        "type": "histogram2dcontour"
                      }
                    ],
                    "mesh3d": [
                      {
                        "colorbar": {
                          "outlinewidth": 0,
                          "ticks": ""
                        },
                        "type": "mesh3d"
                      }
                    ],
                    "parcoords": [
                      {
                        "line": {
                          "colorbar": {
                            "outlinewidth": 0,
                            "ticks": ""
                          }
                        },
                        "type": "parcoords"
                      }
                    ],
                    "pie": [
                      {
                        "automargin": true,
                        "type": "pie"
                      }
                    ],
                    "scatter": [
                      {
                        "fillpattern": {
                          "fillmode": "overlay",
                          "size": 10,
                          "solidity": 0.2
                        },
                        "type": "scatter"
                      }
                    ],
                    "scatter3d": [
                      {
                        "line": {
                          "colorbar": {
                            "outlinewidth": 0,
                            "ticks": ""
                          }
                        },
                        "marker": {
                          "colorbar": {
                            "outlinewidth": 0,
                            "ticks": ""
                          }
                        },
                        "type": "scatter3d"
                      }
                    ],
                    "scattercarpet": [
                      {
                        "marker": {
                          "colorbar": {
                            "outlinewidth": 0,
                            "ticks": ""
                          }
                        },
                        "type": "scattercarpet"
                      }
                    ],
                    "scattergeo": [
                      {
                        "marker": {
                          "colorbar": {
                            "outlinewidth": 0,
                            "ticks": ""
                          }
                        },
                        "type": "scattergeo"
                      }
                    ],
                    "scattergl": [
                      {
                        "marker": {
                          "colorbar": {
                            "outlinewidth": 0,
                            "ticks": ""
                          }
                        },
                        "type": "scattergl"
                      }
                    ],
                    "scattermapbox": [
                      {
                        "marker": {
                          "colorbar": {
                            "outlinewidth": 0,
                            "ticks": ""
                          }
                        },
                        "type": "scattermapbox"
                      }
                    ],
                    "scatterpolar": [
                      {
                        "marker": {
                          "colorbar": {
                            "outlinewidth": 0,
                            "ticks": ""
                          }
                        },
                        "type": "scatterpolar"
                      }
                    ],
                    "scatterpolargl": [
                      {
                        "marker": {
                          "colorbar": {
                            "outlinewidth": 0,
                            "ticks": ""
                          }
                        },
                        "type": "scatterpolargl"
                      }
                    ],
                    "scatterternary": [
                      {
                        "marker": {
                          "colorbar": {
                            "outlinewidth": 0,
                            "ticks": ""
                          }
                        },
                        "type": "scatterternary"
                      }
                    ],
                    "surface": [
                      {
                        "colorbar": {
                          "outlinewidth": 0,
                          "ticks": ""
                        },
                        "colorscale": [
                          [
                            0,
                            "#0d0887"
                          ],
                          [
                            0.1111111111111111,
                            "#46039f"
                          ],
                          [
                            0.2222222222222222,
                            "#7201a8"
                          ],
                          [
                            0.3333333333333333,
                            "#9c179e"
                          ],
                          [
                            0.4444444444444444,
                            "#bd3786"
                          ],
                          [
                            0.5555555555555556,
                            "#d8576b"
                          ],
                          [
                            0.6666666666666666,
                            "#ed7953"
                          ],
                          [
                            0.7777777777777778,
                            "#fb9f3a"
                          ],
                          [
                            0.8888888888888888,
                            "#fdca26"
                          ],
                          [
                            1,
                            "#f0f921"
                          ]
                        ],
                        "type": "surface"
                      }
                    ],
                    "table": [
                      {
                        "cells": {
                          "fill": {
                            "color": "#EBF0F8"
                          },
                          "line": {
                            "color": "white"
                          }
                        },
                        "header": {
                          "fill": {
                            "color": "#C8D4E3"
                          },
                          "line": {
                            "color": "white"
                          }
                        },
                        "type": "table"
                      }
                    ]
                  },
                  "layout": {
                    "annotationdefaults": {
                      "arrowcolor": "#2a3f5f",
                      "arrowhead": 0,
                      "arrowwidth": 1
                    },
                    "autotypenumbers": "strict",
                    "coloraxis": {
                      "colorbar": {
                        "outlinewidth": 0,
                        "ticks": ""
                      }
                    },
                    "colorscale": {
                      "diverging": [
                        [
                          0,
                          "#8e0152"
                        ],
                        [
                          0.1,
                          "#c51b7d"
                        ],
                        [
                          0.2,
                          "#de77ae"
                        ],
                        [
                          0.3,
                          "#f1b6da"
                        ],
                        [
                          0.4,
                          "#fde0ef"
                        ],
                        [
                          0.5,
                          "#f7f7f7"
                        ],
                        [
                          0.6,
                          "#e6f5d0"
                        ],
                        [
                          0.7,
                          "#b8e186"
                        ],
                        [
                          0.8,
                          "#7fbc41"
                        ],
                        [
                          0.9,
                          "#4d9221"
                        ],
                        [
                          1,
                          "#276419"
                        ]
                      ],
                      "sequential": [
                        [
                          0,
                          "#0d0887"
                        ],
                        [
                          0.1111111111111111,
                          "#46039f"
                        ],
                        [
                          0.2222222222222222,
                          "#7201a8"
                        ],
                        [
                          0.3333333333333333,
                          "#9c179e"
                        ],
                        [
                          0.4444444444444444,
                          "#bd3786"
                        ],
                        [
                          0.5555555555555556,
                          "#d8576b"
                        ],
                        [
                          0.6666666666666666,
                          "#ed7953"
                        ],
                        [
                          0.7777777777777778,
                          "#fb9f3a"
                        ],
                        [
                          0.8888888888888888,
                          "#fdca26"
                        ],
                        [
                          1,
                          "#f0f921"
                        ]
                      ],
                      "sequentialminus": [
                        [
                          0,
                          "#0d0887"
                        ],
                        [
                          0.1111111111111111,
                          "#46039f"
                        ],
                        [
                          0.2222222222222222,
                          "#7201a8"
                        ],
                        [
                          0.3333333333333333,
                          "#9c179e"
                        ],
                        [
                          0.4444444444444444,
                          "#bd3786"
                        ],
                        [
                          0.5555555555555556,
                          "#d8576b"
                        ],
                        [
                          0.6666666666666666,
                          "#ed7953"
                        ],
                        [
                          0.7777777777777778,
                          "#fb9f3a"
                        ],
                        [
                          0.8888888888888888,
                          "#fdca26"
                        ],
                        [
                          1,
                          "#f0f921"
                        ]
                      ]
                    },
                    "colorway": [
                      "#636efa",
                      "#EF553B",
                      "#00cc96",
                      "#ab63fa",
                      "#FFA15A",
                      "#19d3f3",
                      "#FF6692",
                      "#B6E880",
                      "#FF97FF",
                      "#FECB52"
                    ],
                    "font": {
                      "color": "#2a3f5f"
                    },
                    "geo": {
                      "bgcolor": "white",
                      "lakecolor": "white",
                      "landcolor": "#E5ECF6",
                      "showlakes": true,
                      "showland": true,
                      "subunitcolor": "white"
                    },
                    "hoverlabel": {
                      "align": "left"
                    },
                    "hovermode": "closest",
                    "mapbox": {
                      "style": "light"
                    },
                    "paper_bgcolor": "white",
                    "plot_bgcolor": "#E5ECF6",
                    "polar": {
                      "angularaxis": {
                        "gridcolor": "white",
                        "linecolor": "white",
                        "ticks": ""
                      },
                      "bgcolor": "#E5ECF6",
                      "radialaxis": {
                        "gridcolor": "white",
                        "linecolor": "white",
                        "ticks": ""
                      }
                    },
                    "scene": {
                      "xaxis": {
                        "backgroundcolor": "#E5ECF6",
                        "gridcolor": "white",
                        "gridwidth": 2,
                        "linecolor": "white",
                        "showbackground": true,
                        "ticks": "",
                        "zerolinecolor": "white"
                      },
                      "yaxis": {
                        "backgroundcolor": "#E5ECF6",
                        "gridcolor": "white",
                        "gridwidth": 2,
                        "linecolor": "white",
                        "showbackground": true,
                        "ticks": "",
                        "zerolinecolor": "white"
                      },
                      "zaxis": {
                        "backgroundcolor": "#E5ECF6",
                        "gridcolor": "white",
                        "gridwidth": 2,
                        "linecolor": "white",
                        "showbackground": true,
                        "ticks": "",
                        "zerolinecolor": "white"
                      }
                    },
                    "shapedefaults": {
                      "line": {
                        "color": "#2a3f5f"
                      }
                    },
                    "ternary": {
                      "aaxis": {
                        "gridcolor": "white",
                        "linecolor": "white",
                        "ticks": ""
                      },
                      "baxis": {
                        "gridcolor": "white",
                        "linecolor": "white",
                        "ticks": ""
                      },
                      "bgcolor": "#E5ECF6",
                      "caxis": {
                        "gridcolor": "white",
                        "linecolor": "white",
                        "ticks": ""
                      }
                    },
                    "title": {
                      "x": 0.05
                    },
                    "xaxis": {
                      "automargin": true,
                      "gridcolor": "white",
                      "linecolor": "white",
                      "ticks": "",
                      "title": {
                        "standoff": 15
                      },
                      "zerolinecolor": "white",
                      "zerolinewidth": 2
                    },
                    "yaxis": {
                      "automargin": true,
                      "gridcolor": "white",
                      "linecolor": "white",
                      "ticks": "",
                      "title": {
                        "standoff": 15
                      },
                      "zerolinecolor": "white",
                      "zerolinewidth": 2
                    }
                  }
                },
                "title": {
                  "text": "Bar Chart of Countries Methane Emissions"
                },
                "xaxis": {
                  "anchor": "y",
                  "domain": [
                    0,
                    1
                  ],
                  "title": {
                    "text": "emissions"
                  }
                },
                "yaxis": {
                  "anchor": "x",
                  "domain": [
                    0,
                    1
                  ],
                  "title": {
                    "text": "country"
                  }
                }
              }
            }
          },
          "metadata": {},
          "output_type": "display_data"
        }
      ],
      "source": [
        "fig = px.bar(df_segment_total20, x='emissions', y='country',color=\"type\",barmode=\"stack\", title='Bar Chart of Countries Methane Emissions',hover_data=['region','baseYear'])\n",
        "\n",
        "fig.show()"
      ]
    },
    {
      "cell_type": "code",
      "execution_count": 73,
      "metadata": {},
      "outputs": [],
      "source": [
        "df_segment_total_int5=df_segment_total[\n",
        "    df_segment_total['country'].isin(['China', 'Russia', 'United States', 'Brazil', 'India'])\n",
        "].sort_values(by='emissions', ascending=False)\n"
      ]
    },
    {
      "cell_type": "code",
      "execution_count": 76,
      "metadata": {},
      "outputs": [
        {
          "data": {
            "application/vnd.plotly.v1+json": {
              "config": {
                "plotlyServerURL": "https://plot.ly"
              },
              "data": [
                {
                  "alignmentgroup": "True",
                  "customdata": [
                    [
                      "Asia Pacific",
                      "2022"
                    ],
                    [
                      "Russia & Caspian",
                      "2022"
                    ],
                    [
                      "North America",
                      "2022"
                    ],
                    [
                      "Asia Pacific",
                      "2022"
                    ],
                    [
                      "Central and South America",
                      "2022"
                    ]
                  ],
                  "hovertemplate": "type=Energy<br>country=%{x}<br>emissions=%{y}<br>region=%{customdata[0]}<br>baseYear=%{customdata[1]}<extra></extra>",
                  "legendgroup": "Energy",
                  "marker": {
                    "color": "#636efa",
                    "pattern": {
                      "shape": ""
                    }
                  },
                  "name": "Energy",
                  "offsetgroup": "Energy",
                  "orientation": "v",
                  "showlegend": true,
                  "textposition": "auto",
                  "type": "bar",
                  "x": [
                    "China",
                    "Russia",
                    "United States",
                    "India",
                    "Brazil"
                  ],
                  "xaxis": "x",
                  "y": [
                    25372.22265625,
                    18078.083984375,
                    16769.630859375,
                    5185.236328125,
                    1756.495361328125
                  ],
                  "yaxis": "y"
                },
                {
                  "alignmentgroup": "True",
                  "customdata": [
                    [
                      "Asia Pacific",
                      "2019-2021"
                    ],
                    [
                      "Asia Pacific",
                      "2019-2021"
                    ],
                    [
                      "Central and South America",
                      "2019-2021"
                    ],
                    [
                      "North America",
                      "2019-2021"
                    ],
                    [
                      "Russia & Caspian",
                      "2019-2021"
                    ]
                  ],
                  "hovertemplate": "type=Agriculture<br>country=%{x}<br>emissions=%{y}<br>region=%{customdata[0]}<br>baseYear=%{customdata[1]}<extra></extra>",
                  "legendgroup": "Agriculture",
                  "marker": {
                    "color": "#EF553B",
                    "pattern": {
                      "shape": ""
                    }
                  },
                  "name": "Agriculture",
                  "offsetgroup": "Agriculture",
                  "orientation": "v",
                  "showlegend": true,
                  "textposition": "auto",
                  "type": "bar",
                  "x": [
                    "China",
                    "India",
                    "Brazil",
                    "United States",
                    "Russia"
                  ],
                  "xaxis": "x",
                  "y": [
                    18501.9140625,
                    18358.517578125,
                    14020.0888671875,
                    9409.3251953125,
                    2022.095947265625
                  ],
                  "yaxis": "y"
                },
                {
                  "alignmentgroup": "True",
                  "customdata": [
                    [
                      "Asia Pacific",
                      "2019-2021"
                    ],
                    [
                      "Asia Pacific",
                      "2019-2021"
                    ],
                    [
                      "North America",
                      "2019-2021"
                    ],
                    [
                      "Russia & Caspian",
                      "2019-2021"
                    ],
                    [
                      "Central and South America",
                      "2019-2021"
                    ]
                  ],
                  "hovertemplate": "type=Waste<br>country=%{x}<br>emissions=%{y}<br>region=%{customdata[0]}<br>baseYear=%{customdata[1]}<extra></extra>",
                  "legendgroup": "Waste",
                  "marker": {
                    "color": "#00cc96",
                    "pattern": {
                      "shape": ""
                    }
                  },
                  "name": "Waste",
                  "offsetgroup": "Waste",
                  "orientation": "v",
                  "showlegend": true,
                  "textposition": "auto",
                  "type": "bar",
                  "x": [
                    "China",
                    "India",
                    "United States",
                    "Russia",
                    "Brazil"
                  ],
                  "xaxis": "x",
                  "y": [
                    10424.1416015625,
                    5551.7607421875,
                    5117.92822265625,
                    3931.244384765625,
                    3800.05712890625
                  ],
                  "yaxis": "y"
                }
              ],
              "layout": {
                "barmode": "stack",
                "legend": {
                  "title": {
                    "text": "type"
                  },
                  "tracegroupgap": 0
                },
                "template": {
                  "data": {
                    "bar": [
                      {
                        "error_x": {
                          "color": "#2a3f5f"
                        },
                        "error_y": {
                          "color": "#2a3f5f"
                        },
                        "marker": {
                          "line": {
                            "color": "#E5ECF6",
                            "width": 0.5
                          },
                          "pattern": {
                            "fillmode": "overlay",
                            "size": 10,
                            "solidity": 0.2
                          }
                        },
                        "type": "bar"
                      }
                    ],
                    "barpolar": [
                      {
                        "marker": {
                          "line": {
                            "color": "#E5ECF6",
                            "width": 0.5
                          },
                          "pattern": {
                            "fillmode": "overlay",
                            "size": 10,
                            "solidity": 0.2
                          }
                        },
                        "type": "barpolar"
                      }
                    ],
                    "carpet": [
                      {
                        "aaxis": {
                          "endlinecolor": "#2a3f5f",
                          "gridcolor": "white",
                          "linecolor": "white",
                          "minorgridcolor": "white",
                          "startlinecolor": "#2a3f5f"
                        },
                        "baxis": {
                          "endlinecolor": "#2a3f5f",
                          "gridcolor": "white",
                          "linecolor": "white",
                          "minorgridcolor": "white",
                          "startlinecolor": "#2a3f5f"
                        },
                        "type": "carpet"
                      }
                    ],
                    "choropleth": [
                      {
                        "colorbar": {
                          "outlinewidth": 0,
                          "ticks": ""
                        },
                        "type": "choropleth"
                      }
                    ],
                    "contour": [
                      {
                        "colorbar": {
                          "outlinewidth": 0,
                          "ticks": ""
                        },
                        "colorscale": [
                          [
                            0,
                            "#0d0887"
                          ],
                          [
                            0.1111111111111111,
                            "#46039f"
                          ],
                          [
                            0.2222222222222222,
                            "#7201a8"
                          ],
                          [
                            0.3333333333333333,
                            "#9c179e"
                          ],
                          [
                            0.4444444444444444,
                            "#bd3786"
                          ],
                          [
                            0.5555555555555556,
                            "#d8576b"
                          ],
                          [
                            0.6666666666666666,
                            "#ed7953"
                          ],
                          [
                            0.7777777777777778,
                            "#fb9f3a"
                          ],
                          [
                            0.8888888888888888,
                            "#fdca26"
                          ],
                          [
                            1,
                            "#f0f921"
                          ]
                        ],
                        "type": "contour"
                      }
                    ],
                    "contourcarpet": [
                      {
                        "colorbar": {
                          "outlinewidth": 0,
                          "ticks": ""
                        },
                        "type": "contourcarpet"
                      }
                    ],
                    "heatmap": [
                      {
                        "colorbar": {
                          "outlinewidth": 0,
                          "ticks": ""
                        },
                        "colorscale": [
                          [
                            0,
                            "#0d0887"
                          ],
                          [
                            0.1111111111111111,
                            "#46039f"
                          ],
                          [
                            0.2222222222222222,
                            "#7201a8"
                          ],
                          [
                            0.3333333333333333,
                            "#9c179e"
                          ],
                          [
                            0.4444444444444444,
                            "#bd3786"
                          ],
                          [
                            0.5555555555555556,
                            "#d8576b"
                          ],
                          [
                            0.6666666666666666,
                            "#ed7953"
                          ],
                          [
                            0.7777777777777778,
                            "#fb9f3a"
                          ],
                          [
                            0.8888888888888888,
                            "#fdca26"
                          ],
                          [
                            1,
                            "#f0f921"
                          ]
                        ],
                        "type": "heatmap"
                      }
                    ],
                    "heatmapgl": [
                      {
                        "colorbar": {
                          "outlinewidth": 0,
                          "ticks": ""
                        },
                        "colorscale": [
                          [
                            0,
                            "#0d0887"
                          ],
                          [
                            0.1111111111111111,
                            "#46039f"
                          ],
                          [
                            0.2222222222222222,
                            "#7201a8"
                          ],
                          [
                            0.3333333333333333,
                            "#9c179e"
                          ],
                          [
                            0.4444444444444444,
                            "#bd3786"
                          ],
                          [
                            0.5555555555555556,
                            "#d8576b"
                          ],
                          [
                            0.6666666666666666,
                            "#ed7953"
                          ],
                          [
                            0.7777777777777778,
                            "#fb9f3a"
                          ],
                          [
                            0.8888888888888888,
                            "#fdca26"
                          ],
                          [
                            1,
                            "#f0f921"
                          ]
                        ],
                        "type": "heatmapgl"
                      }
                    ],
                    "histogram": [
                      {
                        "marker": {
                          "pattern": {
                            "fillmode": "overlay",
                            "size": 10,
                            "solidity": 0.2
                          }
                        },
                        "type": "histogram"
                      }
                    ],
                    "histogram2d": [
                      {
                        "colorbar": {
                          "outlinewidth": 0,
                          "ticks": ""
                        },
                        "colorscale": [
                          [
                            0,
                            "#0d0887"
                          ],
                          [
                            0.1111111111111111,
                            "#46039f"
                          ],
                          [
                            0.2222222222222222,
                            "#7201a8"
                          ],
                          [
                            0.3333333333333333,
                            "#9c179e"
                          ],
                          [
                            0.4444444444444444,
                            "#bd3786"
                          ],
                          [
                            0.5555555555555556,
                            "#d8576b"
                          ],
                          [
                            0.6666666666666666,
                            "#ed7953"
                          ],
                          [
                            0.7777777777777778,
                            "#fb9f3a"
                          ],
                          [
                            0.8888888888888888,
                            "#fdca26"
                          ],
                          [
                            1,
                            "#f0f921"
                          ]
                        ],
                        "type": "histogram2d"
                      }
                    ],
                    "histogram2dcontour": [
                      {
                        "colorbar": {
                          "outlinewidth": 0,
                          "ticks": ""
                        },
                        "colorscale": [
                          [
                            0,
                            "#0d0887"
                          ],
                          [
                            0.1111111111111111,
                            "#46039f"
                          ],
                          [
                            0.2222222222222222,
                            "#7201a8"
                          ],
                          [
                            0.3333333333333333,
                            "#9c179e"
                          ],
                          [
                            0.4444444444444444,
                            "#bd3786"
                          ],
                          [
                            0.5555555555555556,
                            "#d8576b"
                          ],
                          [
                            0.6666666666666666,
                            "#ed7953"
                          ],
                          [
                            0.7777777777777778,
                            "#fb9f3a"
                          ],
                          [
                            0.8888888888888888,
                            "#fdca26"
                          ],
                          [
                            1,
                            "#f0f921"
                          ]
                        ],
                        "type": "histogram2dcontour"
                      }
                    ],
                    "mesh3d": [
                      {
                        "colorbar": {
                          "outlinewidth": 0,
                          "ticks": ""
                        },
                        "type": "mesh3d"
                      }
                    ],
                    "parcoords": [
                      {
                        "line": {
                          "colorbar": {
                            "outlinewidth": 0,
                            "ticks": ""
                          }
                        },
                        "type": "parcoords"
                      }
                    ],
                    "pie": [
                      {
                        "automargin": true,
                        "type": "pie"
                      }
                    ],
                    "scatter": [
                      {
                        "fillpattern": {
                          "fillmode": "overlay",
                          "size": 10,
                          "solidity": 0.2
                        },
                        "type": "scatter"
                      }
                    ],
                    "scatter3d": [
                      {
                        "line": {
                          "colorbar": {
                            "outlinewidth": 0,
                            "ticks": ""
                          }
                        },
                        "marker": {
                          "colorbar": {
                            "outlinewidth": 0,
                            "ticks": ""
                          }
                        },
                        "type": "scatter3d"
                      }
                    ],
                    "scattercarpet": [
                      {
                        "marker": {
                          "colorbar": {
                            "outlinewidth": 0,
                            "ticks": ""
                          }
                        },
                        "type": "scattercarpet"
                      }
                    ],
                    "scattergeo": [
                      {
                        "marker": {
                          "colorbar": {
                            "outlinewidth": 0,
                            "ticks": ""
                          }
                        },
                        "type": "scattergeo"
                      }
                    ],
                    "scattergl": [
                      {
                        "marker": {
                          "colorbar": {
                            "outlinewidth": 0,
                            "ticks": ""
                          }
                        },
                        "type": "scattergl"
                      }
                    ],
                    "scattermapbox": [
                      {
                        "marker": {
                          "colorbar": {
                            "outlinewidth": 0,
                            "ticks": ""
                          }
                        },
                        "type": "scattermapbox"
                      }
                    ],
                    "scatterpolar": [
                      {
                        "marker": {
                          "colorbar": {
                            "outlinewidth": 0,
                            "ticks": ""
                          }
                        },
                        "type": "scatterpolar"
                      }
                    ],
                    "scatterpolargl": [
                      {
                        "marker": {
                          "colorbar": {
                            "outlinewidth": 0,
                            "ticks": ""
                          }
                        },
                        "type": "scatterpolargl"
                      }
                    ],
                    "scatterternary": [
                      {
                        "marker": {
                          "colorbar": {
                            "outlinewidth": 0,
                            "ticks": ""
                          }
                        },
                        "type": "scatterternary"
                      }
                    ],
                    "surface": [
                      {
                        "colorbar": {
                          "outlinewidth": 0,
                          "ticks": ""
                        },
                        "colorscale": [
                          [
                            0,
                            "#0d0887"
                          ],
                          [
                            0.1111111111111111,
                            "#46039f"
                          ],
                          [
                            0.2222222222222222,
                            "#7201a8"
                          ],
                          [
                            0.3333333333333333,
                            "#9c179e"
                          ],
                          [
                            0.4444444444444444,
                            "#bd3786"
                          ],
                          [
                            0.5555555555555556,
                            "#d8576b"
                          ],
                          [
                            0.6666666666666666,
                            "#ed7953"
                          ],
                          [
                            0.7777777777777778,
                            "#fb9f3a"
                          ],
                          [
                            0.8888888888888888,
                            "#fdca26"
                          ],
                          [
                            1,
                            "#f0f921"
                          ]
                        ],
                        "type": "surface"
                      }
                    ],
                    "table": [
                      {
                        "cells": {
                          "fill": {
                            "color": "#EBF0F8"
                          },
                          "line": {
                            "color": "white"
                          }
                        },
                        "header": {
                          "fill": {
                            "color": "#C8D4E3"
                          },
                          "line": {
                            "color": "white"
                          }
                        },
                        "type": "table"
                      }
                    ]
                  },
                  "layout": {
                    "annotationdefaults": {
                      "arrowcolor": "#2a3f5f",
                      "arrowhead": 0,
                      "arrowwidth": 1
                    },
                    "autotypenumbers": "strict",
                    "coloraxis": {
                      "colorbar": {
                        "outlinewidth": 0,
                        "ticks": ""
                      }
                    },
                    "colorscale": {
                      "diverging": [
                        [
                          0,
                          "#8e0152"
                        ],
                        [
                          0.1,
                          "#c51b7d"
                        ],
                        [
                          0.2,
                          "#de77ae"
                        ],
                        [
                          0.3,
                          "#f1b6da"
                        ],
                        [
                          0.4,
                          "#fde0ef"
                        ],
                        [
                          0.5,
                          "#f7f7f7"
                        ],
                        [
                          0.6,
                          "#e6f5d0"
                        ],
                        [
                          0.7,
                          "#b8e186"
                        ],
                        [
                          0.8,
                          "#7fbc41"
                        ],
                        [
                          0.9,
                          "#4d9221"
                        ],
                        [
                          1,
                          "#276419"
                        ]
                      ],
                      "sequential": [
                        [
                          0,
                          "#0d0887"
                        ],
                        [
                          0.1111111111111111,
                          "#46039f"
                        ],
                        [
                          0.2222222222222222,
                          "#7201a8"
                        ],
                        [
                          0.3333333333333333,
                          "#9c179e"
                        ],
                        [
                          0.4444444444444444,
                          "#bd3786"
                        ],
                        [
                          0.5555555555555556,
                          "#d8576b"
                        ],
                        [
                          0.6666666666666666,
                          "#ed7953"
                        ],
                        [
                          0.7777777777777778,
                          "#fb9f3a"
                        ],
                        [
                          0.8888888888888888,
                          "#fdca26"
                        ],
                        [
                          1,
                          "#f0f921"
                        ]
                      ],
                      "sequentialminus": [
                        [
                          0,
                          "#0d0887"
                        ],
                        [
                          0.1111111111111111,
                          "#46039f"
                        ],
                        [
                          0.2222222222222222,
                          "#7201a8"
                        ],
                        [
                          0.3333333333333333,
                          "#9c179e"
                        ],
                        [
                          0.4444444444444444,
                          "#bd3786"
                        ],
                        [
                          0.5555555555555556,
                          "#d8576b"
                        ],
                        [
                          0.6666666666666666,
                          "#ed7953"
                        ],
                        [
                          0.7777777777777778,
                          "#fb9f3a"
                        ],
                        [
                          0.8888888888888888,
                          "#fdca26"
                        ],
                        [
                          1,
                          "#f0f921"
                        ]
                      ]
                    },
                    "colorway": [
                      "#636efa",
                      "#EF553B",
                      "#00cc96",
                      "#ab63fa",
                      "#FFA15A",
                      "#19d3f3",
                      "#FF6692",
                      "#B6E880",
                      "#FF97FF",
                      "#FECB52"
                    ],
                    "font": {
                      "color": "#2a3f5f"
                    },
                    "geo": {
                      "bgcolor": "white",
                      "lakecolor": "white",
                      "landcolor": "#E5ECF6",
                      "showlakes": true,
                      "showland": true,
                      "subunitcolor": "white"
                    },
                    "hoverlabel": {
                      "align": "left"
                    },
                    "hovermode": "closest",
                    "mapbox": {
                      "style": "light"
                    },
                    "paper_bgcolor": "white",
                    "plot_bgcolor": "#E5ECF6",
                    "polar": {
                      "angularaxis": {
                        "gridcolor": "white",
                        "linecolor": "white",
                        "ticks": ""
                      },
                      "bgcolor": "#E5ECF6",
                      "radialaxis": {
                        "gridcolor": "white",
                        "linecolor": "white",
                        "ticks": ""
                      }
                    },
                    "scene": {
                      "xaxis": {
                        "backgroundcolor": "#E5ECF6",
                        "gridcolor": "white",
                        "gridwidth": 2,
                        "linecolor": "white",
                        "showbackground": true,
                        "ticks": "",
                        "zerolinecolor": "white"
                      },
                      "yaxis": {
                        "backgroundcolor": "#E5ECF6",
                        "gridcolor": "white",
                        "gridwidth": 2,
                        "linecolor": "white",
                        "showbackground": true,
                        "ticks": "",
                        "zerolinecolor": "white"
                      },
                      "zaxis": {
                        "backgroundcolor": "#E5ECF6",
                        "gridcolor": "white",
                        "gridwidth": 2,
                        "linecolor": "white",
                        "showbackground": true,
                        "ticks": "",
                        "zerolinecolor": "white"
                      }
                    },
                    "shapedefaults": {
                      "line": {
                        "color": "#2a3f5f"
                      }
                    },
                    "ternary": {
                      "aaxis": {
                        "gridcolor": "white",
                        "linecolor": "white",
                        "ticks": ""
                      },
                      "baxis": {
                        "gridcolor": "white",
                        "linecolor": "white",
                        "ticks": ""
                      },
                      "bgcolor": "#E5ECF6",
                      "caxis": {
                        "gridcolor": "white",
                        "linecolor": "white",
                        "ticks": ""
                      }
                    },
                    "title": {
                      "x": 0.05
                    },
                    "xaxis": {
                      "automargin": true,
                      "gridcolor": "white",
                      "linecolor": "white",
                      "ticks": "",
                      "title": {
                        "standoff": 15
                      },
                      "zerolinecolor": "white",
                      "zerolinewidth": 2
                    },
                    "yaxis": {
                      "automargin": true,
                      "gridcolor": "white",
                      "linecolor": "white",
                      "ticks": "",
                      "title": {
                        "standoff": 15
                      },
                      "zerolinecolor": "white",
                      "zerolinewidth": 2
                    }
                  }
                },
                "title": {
                  "text": "Bar Chart of Top 5 Country's Methane Emissions"
                },
                "xaxis": {
                  "anchor": "y",
                  "categoryarray": [
                    "China",
                    "United States",
                    "India",
                    "Russia",
                    "Brazil"
                  ],
                  "categoryorder": "array",
                  "domain": [
                    0,
                    1
                  ],
                  "title": {
                    "text": "country"
                  }
                },
                "yaxis": {
                  "anchor": "x",
                  "domain": [
                    0,
                    1
                  ],
                  "title": {
                    "text": "emissions"
                  }
                }
              }
            }
          },
          "metadata": {},
          "output_type": "display_data"
        }
      ],
      "source": [
        "fig = px.bar(df_segment_total_int5, x='country', y='emissions',color=\"type\",barmode=\"stack\", title='Bar Chart of Top 5 Country\\'s Methane Emissions',category_orders={\n",
        "        \"country\": ['China', 'United States','India', 'Russia', 'Brazil']},hover_data=['region','baseYear'] \n",
        "    )\n",
        "fig.show()"
      ]
    },
    {
      "cell_type": "code",
      "execution_count": null,
      "metadata": {},
      "outputs": [
        {
          "data": {
            "text/html": [
              "<div>\n",
              "<style scoped>\n",
              "    .dataframe tbody tr th:only-of-type {\n",
              "        vertical-align: middle;\n",
              "    }\n",
              "\n",
              "    .dataframe tbody tr th {\n",
              "        vertical-align: top;\n",
              "    }\n",
              "\n",
              "    .dataframe thead th {\n",
              "        text-align: right;\n",
              "    }\n",
              "</style>\n",
              "<table border=\"1\" class=\"dataframe\">\n",
              "  <thead>\n",
              "    <tr style=\"text-align: right;\">\n",
              "      <th></th>\n",
              "      <th>region</th>\n",
              "      <th>country</th>\n",
              "      <th>emissions</th>\n",
              "      <th>type</th>\n",
              "      <th>segment</th>\n",
              "      <th>reason</th>\n",
              "      <th>baseYear</th>\n",
              "    </tr>\n",
              "  </thead>\n",
              "  <tbody>\n",
              "    <tr>\n",
              "      <th>1151</th>\n",
              "      <td>Middle East</td>\n",
              "      <td>Lebanon</td>\n",
              "      <td>12.067670</td>\n",
              "      <td>Agriculture</td>\n",
              "      <td>Total</td>\n",
              "      <td>All</td>\n",
              "      <td>2019-2021</td>\n",
              "    </tr>\n",
              "    <tr>\n",
              "      <th>1152</th>\n",
              "      <td>Middle East</td>\n",
              "      <td>Lebanon</td>\n",
              "      <td>1.556000</td>\n",
              "      <td>Energy</td>\n",
              "      <td>Bioenergy</td>\n",
              "      <td>All</td>\n",
              "      <td>2022</td>\n",
              "    </tr>\n",
              "    <tr>\n",
              "      <th>1153</th>\n",
              "      <td>Middle East</td>\n",
              "      <td>Lebanon</td>\n",
              "      <td>0.048000</td>\n",
              "      <td>Energy</td>\n",
              "      <td>Other from coal</td>\n",
              "      <td>All</td>\n",
              "      <td>2022</td>\n",
              "    </tr>\n",
              "    <tr>\n",
              "      <th>1154</th>\n",
              "      <td>Middle East</td>\n",
              "      <td>Lebanon</td>\n",
              "      <td>3.108916</td>\n",
              "      <td>Energy</td>\n",
              "      <td>Other from oil and gas</td>\n",
              "      <td>All</td>\n",
              "      <td>2022</td>\n",
              "    </tr>\n",
              "    <tr>\n",
              "      <th>1155</th>\n",
              "      <td>Middle East</td>\n",
              "      <td>Lebanon</td>\n",
              "      <td>4.712916</td>\n",
              "      <td>Energy</td>\n",
              "      <td>Total</td>\n",
              "      <td>All</td>\n",
              "      <td>2022</td>\n",
              "    </tr>\n",
              "    <tr>\n",
              "      <th>1156</th>\n",
              "      <td>Middle East</td>\n",
              "      <td>Lebanon</td>\n",
              "      <td>112.223999</td>\n",
              "      <td>Waste</td>\n",
              "      <td>Total</td>\n",
              "      <td>All</td>\n",
              "      <td>2019-2021</td>\n",
              "    </tr>\n",
              "  </tbody>\n",
              "</table>\n",
              "</div>"
            ],
            "text/plain": [
              "           region  country   emissions         type                 segment  \\\n",
              "1151  Middle East  Lebanon   12.067670  Agriculture                   Total   \n",
              "1152  Middle East  Lebanon    1.556000       Energy               Bioenergy   \n",
              "1153  Middle East  Lebanon    0.048000       Energy         Other from coal   \n",
              "1154  Middle East  Lebanon    3.108916       Energy  Other from oil and gas   \n",
              "1155  Middle East  Lebanon    4.712916       Energy                   Total   \n",
              "1156  Middle East  Lebanon  112.223999        Waste                   Total   \n",
              "\n",
              "     reason   baseYear  \n",
              "1151    All  2019-2021  \n",
              "1152    All       2022  \n",
              "1153    All       2022  \n",
              "1154    All       2022  \n",
              "1155    All       2022  \n",
              "1156    All  2019-2021  "
            ]
          },
          "execution_count": 25,
          "metadata": {},
          "output_type": "execute_result"
        }
      ],
      "source": []
    },
    {
      "cell_type": "markdown",
      "metadata": {},
      "source": [
        "NOTE"
      ]
    },
    {
      "cell_type": "markdown",
      "metadata": {},
      "source": [
        "* You may add as many sections as you want, as long as it supports your project workflow.\n",
        "* All notebook's cells should be run top-down (you can't create a dynamic wherein a given point you need to go back to a previous cell to execute some task, like go back to a previous cell and refresh a variable content)"
      ]
    },
    {
      "cell_type": "markdown",
      "metadata": {},
      "source": [
        "---"
      ]
    },
    {
      "cell_type": "markdown",
      "metadata": {
        "id": "ltNetd085qHf"
      },
      "source": [
        "# Push files to Repo"
      ]
    },
    {
      "cell_type": "markdown",
      "metadata": {},
      "source": [
        "* In cases where you don't need to push files to Repo, you may replace this section with \"Conclusions and Next Steps\" and state your conclusions and next steps."
      ]
    },
    {
      "cell_type": "code",
      "execution_count": 9,
      "metadata": {
        "id": "aKlnIozA4eQO",
        "outputId": "fd09bc1f-adb1-4511-f6ce-492a6af570c0"
      },
      "outputs": [
        {
          "ename": "IndentationError",
          "evalue": "expected an indented block after 'try' statement on line 2 (553063055.py, line 5)",
          "output_type": "error",
          "traceback": [
            "  \u001b[36mCell\u001b[39m\u001b[36m \u001b[39m\u001b[32mIn[9]\u001b[39m\u001b[32m, line 5\u001b[39m\n\u001b[31m    \u001b[39m\u001b[31mexcept Exception as e:\u001b[39m\n    ^\n\u001b[31mIndentationError\u001b[39m\u001b[31m:\u001b[39m expected an indented block after 'try' statement on line 2\n"
          ]
        }
      ],
      "source": [
        "import os\n",
        "try:\n",
        "  # create your folder here\n",
        "  # os.makedirs(name='')\n",
        "except Exception as e:\n",
        "  print(e)\n"
      ]
    }
  ],
  "metadata": {
    "accelerator": "GPU",
    "colab": {
      "name": "Data Practitioner Jupyter Notebook.ipynb",
      "provenance": [],
      "toc_visible": true
    },
    "kernelspec": {
      "display_name": "venv",
      "language": "python",
      "name": "python3"
    },
    "language_info": {
      "codemirror_mode": {
        "name": "ipython",
        "version": 3
      },
      "file_extension": ".py",
      "mimetype": "text/x-python",
      "name": "python",
      "nbconvert_exporter": "python",
      "pygments_lexer": "ipython3",
      "version": "3.12.8"
    },
    "orig_nbformat": 2
  },
  "nbformat": 4,
  "nbformat_minor": 2
}

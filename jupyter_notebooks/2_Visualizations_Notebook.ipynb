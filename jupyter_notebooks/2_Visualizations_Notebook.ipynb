{
  "cells": [
    {
      "cell_type": "markdown",
      "metadata": {
        "id": "0aStgWSO0E0E"
      },
      "source": [
        "# **(ADD THE NOTEBOOK NAME HERE)**"
      ]
    },
    {
      "cell_type": "markdown",
      "metadata": {
        "id": "1eLEkw5O0ECa"
      },
      "source": [
        "## Objectives\n",
        "\n",
        "* Write your notebook objective here, for example, \"Fetch data from Kaggle and save as raw data\", or \"engineer features for modelling\"\n",
        "\n",
        "## Inputs\n",
        "\n",
        "* Write down which data or information you need to run the notebook \n",
        "\n",
        "## Outputs\n",
        "\n",
        "* Write here which files, code or artefacts you generate by the end of the notebook \n",
        "\n",
        "## Additional Comments\n",
        "\n",
        "* If you have any additional comments that don't fit in the previous bullets, please state them here. \n",
        "\n"
      ]
    },
    {
      "cell_type": "markdown",
      "metadata": {
        "id": "9uWZXH9LwoQg"
      },
      "source": [
        "---"
      ]
    },
    {
      "cell_type": "markdown",
      "metadata": {
        "id": "cqP-UeN-z3i2"
      },
      "source": [
        "# Change working directory"
      ]
    },
    {
      "cell_type": "markdown",
      "metadata": {},
      "source": [
        "* We are assuming you will store the notebooks in a subfolder, therefore when running the notebook in the editor, you will need to change the working directory"
      ]
    },
    {
      "cell_type": "markdown",
      "metadata": {
        "id": "aOGIGS-uz3i2"
      },
      "source": [
        "We need to change the working directory from its current folder to its parent folder\n",
        "* We access the current directory with os.getcwd()"
      ]
    },
    {
      "cell_type": "code",
      "execution_count": 1,
      "metadata": {
        "id": "wZfF_j-Bz3i4",
        "outputId": "66943449-1436-4c3d-85c7-b85f9f78349b"
      },
      "outputs": [
        {
          "data": {
            "text/plain": [
              "'/Users/danielledelouw/Documents/code_institute/vscode-projects/Global_Methane_Flux_Analysis/Global_Methane_Flux_Analysis/jupyter_notebooks'"
            ]
          },
          "execution_count": 1,
          "metadata": {},
          "output_type": "execute_result"
        }
      ],
      "source": [
        "import os\n",
        "current_dir = os.getcwd()\n",
        "current_dir"
      ]
    },
    {
      "cell_type": "markdown",
      "metadata": {
        "id": "9MWW8E7lz3i7"
      },
      "source": [
        "We want to make the parent of the current directory the new current directory\n",
        "* os.path.dirname() gets the parent directory\n",
        "* os.chir() defines the new current directory"
      ]
    },
    {
      "cell_type": "code",
      "execution_count": 2,
      "metadata": {
        "id": "TwHsQRWjz3i9",
        "outputId": "86849db3-cd2f-4cc5-ebb8-2d0caafa1a2c"
      },
      "outputs": [
        {
          "name": "stdout",
          "output_type": "stream",
          "text": [
            "You set a new current directory\n"
          ]
        }
      ],
      "source": [
        "os.chdir(os.path.dirname(current_dir))\n",
        "print(\"You set a new current directory\")"
      ]
    },
    {
      "cell_type": "markdown",
      "metadata": {
        "id": "M_xPk_Ijz3i-"
      },
      "source": [
        "Confirm the new current directory"
      ]
    },
    {
      "cell_type": "code",
      "execution_count": 3,
      "metadata": {
        "id": "vz3S-_kjz3jA",
        "outputId": "00b79ae4-75d0-4a96-d193-ac9ef9847ea2"
      },
      "outputs": [
        {
          "data": {
            "text/plain": [
              "'/Users/danielledelouw/Documents/code_institute/vscode-projects/Global_Methane_Flux_Analysis/Global_Methane_Flux_Analysis'"
            ]
          },
          "execution_count": 3,
          "metadata": {},
          "output_type": "execute_result"
        }
      ],
      "source": [
        "current_dir = os.getcwd()\n",
        "current_dir"
      ]
    },
    {
      "cell_type": "markdown",
      "metadata": {
        "id": "-mavJ8DibrcQ"
      },
      "source": [
        "# Section 2: Visualizations"
      ]
    },
    {
      "cell_type": "markdown",
      "metadata": {},
      "source": [
        "Section 2 Load Cleaned Data"
      ]
    },
    {
      "cell_type": "code",
      "execution_count": 4,
      "metadata": {},
      "outputs": [
        {
          "data": {
            "text/html": [
              "<div>\n",
              "<style scoped>\n",
              "    .dataframe tbody tr th:only-of-type {\n",
              "        vertical-align: middle;\n",
              "    }\n",
              "\n",
              "    .dataframe tbody tr th {\n",
              "        vertical-align: top;\n",
              "    }\n",
              "\n",
              "    .dataframe thead th {\n",
              "        text-align: right;\n",
              "    }\n",
              "</style>\n",
              "<table border=\"1\" class=\"dataframe\">\n",
              "  <thead>\n",
              "    <tr style=\"text-align: right;\">\n",
              "      <th></th>\n",
              "      <th>region</th>\n",
              "      <th>country</th>\n",
              "      <th>emissions</th>\n",
              "      <th>type</th>\n",
              "      <th>segment</th>\n",
              "      <th>reason</th>\n",
              "      <th>baseYear</th>\n",
              "    </tr>\n",
              "  </thead>\n",
              "  <tbody>\n",
              "    <tr>\n",
              "      <th>0</th>\n",
              "      <td>Africa</td>\n",
              "      <td>Algeria</td>\n",
              "      <td>257.611206</td>\n",
              "      <td>Agriculture</td>\n",
              "      <td>Total</td>\n",
              "      <td>All</td>\n",
              "      <td>2019-2021</td>\n",
              "    </tr>\n",
              "    <tr>\n",
              "      <th>1</th>\n",
              "      <td>Africa</td>\n",
              "      <td>Algeria</td>\n",
              "      <td>0.052000</td>\n",
              "      <td>Energy</td>\n",
              "      <td>Bioenergy</td>\n",
              "      <td>All</td>\n",
              "      <td>2022</td>\n",
              "    </tr>\n",
              "    <tr>\n",
              "      <th>2</th>\n",
              "      <td>Africa</td>\n",
              "      <td>Algeria</td>\n",
              "      <td>130.798996</td>\n",
              "      <td>Energy</td>\n",
              "      <td>Gas pipelines and LNG facilities</td>\n",
              "      <td>Fugitive</td>\n",
              "      <td>2022</td>\n",
              "    </tr>\n",
              "    <tr>\n",
              "      <th>3</th>\n",
              "      <td>Africa</td>\n",
              "      <td>Algeria</td>\n",
              "      <td>69.741898</td>\n",
              "      <td>Energy</td>\n",
              "      <td>Gas pipelines and LNG facilities</td>\n",
              "      <td>Vented</td>\n",
              "      <td>2022</td>\n",
              "    </tr>\n",
              "    <tr>\n",
              "      <th>4</th>\n",
              "      <td>Africa</td>\n",
              "      <td>Algeria</td>\n",
              "      <td>213.987000</td>\n",
              "      <td>Energy</td>\n",
              "      <td>Onshore gas</td>\n",
              "      <td>Fugitive</td>\n",
              "      <td>2022</td>\n",
              "    </tr>\n",
              "    <tr>\n",
              "      <th>...</th>\n",
              "      <td>...</td>\n",
              "      <td>...</td>\n",
              "      <td>...</td>\n",
              "      <td>...</td>\n",
              "      <td>...</td>\n",
              "      <td>...</td>\n",
              "      <td>...</td>\n",
              "    </tr>\n",
              "    <tr>\n",
              "      <th>1417</th>\n",
              "      <td>Russia &amp; Caspian</td>\n",
              "      <td>Uzbekistan</td>\n",
              "      <td>5.676000</td>\n",
              "      <td>Energy</td>\n",
              "      <td>Other from coal</td>\n",
              "      <td>All</td>\n",
              "      <td>2022</td>\n",
              "    </tr>\n",
              "    <tr>\n",
              "      <th>1418</th>\n",
              "      <td>Russia &amp; Caspian</td>\n",
              "      <td>Uzbekistan</td>\n",
              "      <td>16.973917</td>\n",
              "      <td>Energy</td>\n",
              "      <td>Other from oil and gas</td>\n",
              "      <td>All</td>\n",
              "      <td>2022</td>\n",
              "    </tr>\n",
              "    <tr>\n",
              "      <th>1419</th>\n",
              "      <td>Russia &amp; Caspian</td>\n",
              "      <td>Uzbekistan</td>\n",
              "      <td>18.299999</td>\n",
              "      <td>Energy</td>\n",
              "      <td>Satellite-detected large oil and gas emissions</td>\n",
              "      <td>All</td>\n",
              "      <td>2022</td>\n",
              "    </tr>\n",
              "    <tr>\n",
              "      <th>1420</th>\n",
              "      <td>Russia &amp; Caspian</td>\n",
              "      <td>Uzbekistan</td>\n",
              "      <td>780.916138</td>\n",
              "      <td>Energy</td>\n",
              "      <td>Total</td>\n",
              "      <td>All</td>\n",
              "      <td>2022</td>\n",
              "    </tr>\n",
              "    <tr>\n",
              "      <th>1421</th>\n",
              "      <td>Russia &amp; Caspian</td>\n",
              "      <td>Uzbekistan</td>\n",
              "      <td>280.418243</td>\n",
              "      <td>Waste</td>\n",
              "      <td>Total</td>\n",
              "      <td>All</td>\n",
              "      <td>2019-2021</td>\n",
              "    </tr>\n",
              "  </tbody>\n",
              "</table>\n",
              "<p>1422 rows × 7 columns</p>\n",
              "</div>"
            ],
            "text/plain": [
              "                region     country   emissions         type  \\\n",
              "0               Africa     Algeria  257.611206  Agriculture   \n",
              "1               Africa     Algeria    0.052000       Energy   \n",
              "2               Africa     Algeria  130.798996       Energy   \n",
              "3               Africa     Algeria   69.741898       Energy   \n",
              "4               Africa     Algeria  213.987000       Energy   \n",
              "...                ...         ...         ...          ...   \n",
              "1417  Russia & Caspian  Uzbekistan    5.676000       Energy   \n",
              "1418  Russia & Caspian  Uzbekistan   16.973917       Energy   \n",
              "1419  Russia & Caspian  Uzbekistan   18.299999       Energy   \n",
              "1420  Russia & Caspian  Uzbekistan  780.916138       Energy   \n",
              "1421  Russia & Caspian  Uzbekistan  280.418243        Waste   \n",
              "\n",
              "                                             segment    reason   baseYear  \n",
              "0                                              Total       All  2019-2021  \n",
              "1                                          Bioenergy       All       2022  \n",
              "2                   Gas pipelines and LNG facilities  Fugitive       2022  \n",
              "3                   Gas pipelines and LNG facilities    Vented       2022  \n",
              "4                                        Onshore gas  Fugitive       2022  \n",
              "...                                              ...       ...        ...  \n",
              "1417                                 Other from coal       All       2022  \n",
              "1418                          Other from oil and gas       All       2022  \n",
              "1419  Satellite-detected large oil and gas emissions       All       2022  \n",
              "1420                                           Total       All       2022  \n",
              "1421                                           Total       All  2019-2021  \n",
              "\n",
              "[1422 rows x 7 columns]"
            ]
          },
          "execution_count": 4,
          "metadata": {},
          "output_type": "execute_result"
        }
      ],
      "source": [
        "import pandas as pd\n",
        "\n",
        "df = pd.read_csv('Dataset/cleaned/Methane_final_cleaned.csv')\n",
        "df"
      ]
    },
    {
      "cell_type": "code",
      "execution_count": 5,
      "metadata": {},
      "outputs": [],
      "source": [
        "import numpy as np\n",
        "import pandas as pd\n",
        "import seaborn as sns\n",
        "import plotly.express as px"
      ]
    },
    {
      "cell_type": "markdown",
      "metadata": {
        "id": "ZY3l0-AxO93d"
      },
      "source": [
        "---"
      ]
    },
    {
      "cell_type": "markdown",
      "metadata": {},
      "source": [
        "Section 2 content"
      ]
    },
    {
      "cell_type": "code",
      "execution_count": null,
      "metadata": {},
      "outputs": [],
      "source": [
        "df_top_emissions_country=df.sort_values(by='emissions', ascending=False)[['country','region', 'emissions','type','baseYear']]\n",
        "#top countries sorted by emissions, but including duplicate data with total"
      ]
    },
    {
      "cell_type": "code",
      "execution_count": 17,
      "metadata": {},
      "outputs": [
        {
          "data": {
            "text/html": [
              "<div>\n",
              "<style scoped>\n",
              "    .dataframe tbody tr th:only-of-type {\n",
              "        vertical-align: middle;\n",
              "    }\n",
              "\n",
              "    .dataframe tbody tr th {\n",
              "        vertical-align: top;\n",
              "    }\n",
              "\n",
              "    .dataframe thead th {\n",
              "        text-align: right;\n",
              "    }\n",
              "</style>\n",
              "<table border=\"1\" class=\"dataframe\">\n",
              "  <thead>\n",
              "    <tr style=\"text-align: right;\">\n",
              "      <th></th>\n",
              "      <th>country</th>\n",
              "      <th>region</th>\n",
              "      <th>emissions</th>\n",
              "      <th>type</th>\n",
              "      <th>baseYear</th>\n",
              "    </tr>\n",
              "  </thead>\n",
              "  <tbody>\n",
              "    <tr>\n",
              "      <th>438</th>\n",
              "      <td>China</td>\n",
              "      <td>Asia Pacific</td>\n",
              "      <td>25372.222656</td>\n",
              "      <td>Energy</td>\n",
              "      <td>2022</td>\n",
              "    </tr>\n",
              "    <tr>\n",
              "      <th>420</th>\n",
              "      <td>China</td>\n",
              "      <td>Asia Pacific</td>\n",
              "      <td>18501.914062</td>\n",
              "      <td>Agriculture</td>\n",
              "      <td>2019-2021</td>\n",
              "    </tr>\n",
              "    <tr>\n",
              "      <th>440</th>\n",
              "      <td>India</td>\n",
              "      <td>Asia Pacific</td>\n",
              "      <td>18358.517578</td>\n",
              "      <td>Agriculture</td>\n",
              "      <td>2019-2021</td>\n",
              "    </tr>\n",
              "    <tr>\n",
              "      <th>1388</th>\n",
              "      <td>Russia</td>\n",
              "      <td>Russia &amp; Caspian</td>\n",
              "      <td>18078.083984</td>\n",
              "      <td>Energy</td>\n",
              "      <td>2022</td>\n",
              "    </tr>\n",
              "    <tr>\n",
              "      <th>1309</th>\n",
              "      <td>United States</td>\n",
              "      <td>North America</td>\n",
              "      <td>16769.630859</td>\n",
              "      <td>Energy</td>\n",
              "      <td>2022</td>\n",
              "    </tr>\n",
              "    <tr>\n",
              "      <th>...</th>\n",
              "      <td>...</td>\n",
              "      <td>...</td>\n",
              "      <td>...</td>\n",
              "      <td>...</td>\n",
              "      <td>...</td>\n",
              "    </tr>\n",
              "    <tr>\n",
              "      <th>1319</th>\n",
              "      <td>Other</td>\n",
              "      <td>Other</td>\n",
              "      <td>0.001951</td>\n",
              "      <td>Energy</td>\n",
              "      <td>2022</td>\n",
              "    </tr>\n",
              "    <tr>\n",
              "      <th>224</th>\n",
              "      <td>Morocco</td>\n",
              "      <td>Africa</td>\n",
              "      <td>0.001264</td>\n",
              "      <td>Energy</td>\n",
              "      <td>2022</td>\n",
              "    </tr>\n",
              "    <tr>\n",
              "      <th>901</th>\n",
              "      <td>Netherlands</td>\n",
              "      <td>Europe</td>\n",
              "      <td>0.001164</td>\n",
              "      <td>Energy</td>\n",
              "      <td>2022</td>\n",
              "    </tr>\n",
              "    <tr>\n",
              "      <th>906</th>\n",
              "      <td>Netherlands</td>\n",
              "      <td>Europe</td>\n",
              "      <td>0.001081</td>\n",
              "      <td>Energy</td>\n",
              "      <td>2022</td>\n",
              "    </tr>\n",
              "    <tr>\n",
              "      <th>1318</th>\n",
              "      <td>Other</td>\n",
              "      <td>Other</td>\n",
              "      <td>0.000459</td>\n",
              "      <td>Energy</td>\n",
              "      <td>2022</td>\n",
              "    </tr>\n",
              "  </tbody>\n",
              "</table>\n",
              "<p>1422 rows × 5 columns</p>\n",
              "</div>"
            ],
            "text/plain": [
              "            country            region     emissions         type   baseYear\n",
              "438           China      Asia Pacific  25372.222656       Energy       2022\n",
              "420           China      Asia Pacific  18501.914062  Agriculture  2019-2021\n",
              "440           India      Asia Pacific  18358.517578  Agriculture  2019-2021\n",
              "1388         Russia  Russia & Caspian  18078.083984       Energy       2022\n",
              "1309  United States     North America  16769.630859       Energy       2022\n",
              "...             ...               ...           ...          ...        ...\n",
              "1319          Other             Other      0.001951       Energy       2022\n",
              "224         Morocco            Africa      0.001264       Energy       2022\n",
              "901     Netherlands            Europe      0.001164       Energy       2022\n",
              "906     Netherlands            Europe      0.001081       Energy       2022\n",
              "1318          Other             Other      0.000459       Energy       2022\n",
              "\n",
              "[1422 rows x 5 columns]"
            ]
          },
          "execution_count": 17,
          "metadata": {},
          "output_type": "execute_result"
        }
      ],
      "source": [
        "df_top_emissions_country"
      ]
    },
    {
      "cell_type": "code",
      "execution_count": 67,
      "metadata": {},
      "outputs": [],
      "source": [
        "df_segment_total=df[df['segment']== 'Total'][['country', 'emissions','type','region','baseYear']]#only looking into type=total as I dont want to see the sub items yet "
      ]
    },
    {
      "cell_type": "code",
      "execution_count": 68,
      "metadata": {},
      "outputs": [],
      "source": [
        "df_segment_total20=df_segment_total.sort_values(by='emissions', ascending=False)"
      ]
    },
    {
      "cell_type": "markdown",
      "metadata": {},
      "source": [
        "---"
      ]
    },
    {
      "cell_type": "code",
      "execution_count": 77,
      "metadata": {},
      "outputs": [
        {
          "data": {
            "application/vnd.plotly.v1+json": {
              "config": {
                "plotlyServerURL": "https://plot.ly"
              },
              "data": [
                {
                  "alignmentgroup": "True",
                  "customdata": [
                    [
                      "Asia Pacific",
                      "2022"
                    ],
                    [
                      "Russia & Caspian",
                      "2022"
                    ],
                    [
                      "North America",
                      "2022"
                    ],
                    [
                      "Middle East",
                      "2022"
                    ],
                    [
                      "Asia Pacific",
                      "2022"
                    ],
                    [
                      "Asia Pacific",
                      "2022"
                    ],
                    [
                      "Russia & Caspian",
                      "2022"
                    ],
                    [
                      "Africa",
                      "2022"
                    ],
                    [
                      "Middle East",
                      "2022"
                    ],
                    [
                      "Europe",
                      "2022"
                    ],
                    [
                      "Russia & Caspian",
                      "2022"
                    ],
                    [
                      "Africa",
                      "2022"
                    ],
                    [
                      "Central and South America",
                      "2022"
                    ],
                    [
                      "North America",
                      "2022"
                    ],
                    [
                      "Middle East",
                      "2022"
                    ],
                    [
                      "Other",
                      "2022"
                    ],
                    [
                      "Asia Pacific",
                      "2022"
                    ],
                    [
                      "Central and South America",
                      "2022"
                    ],
                    [
                      "Africa",
                      "2022"
                    ],
                    [
                      "North America",
                      "2022"
                    ],
                    [
                      "Middle East",
                      "2022"
                    ],
                    [
                      "Central and South America",
                      "2022"
                    ],
                    [
                      "Africa",
                      "2022"
                    ],
                    [
                      "Middle East",
                      "2022"
                    ],
                    [
                      "Middle East",
                      "2022"
                    ],
                    [
                      "Africa",
                      "2022"
                    ],
                    [
                      "Asia Pacific",
                      "2022"
                    ],
                    [
                      "Middle East",
                      "2022"
                    ],
                    [
                      "Europe",
                      "2022"
                    ],
                    [
                      "Russia & Caspian",
                      "2022"
                    ],
                    [
                      "Central and South America",
                      "2022"
                    ],
                    [
                      "Europe",
                      "2022"
                    ],
                    [
                      "Africa",
                      "2022"
                    ],
                    [
                      "Europe",
                      "2022"
                    ],
                    [
                      "Asia Pacific",
                      "2022"
                    ],
                    [
                      "Asia Pacific",
                      "2022"
                    ],
                    [
                      "Asia Pacific",
                      "2022"
                    ],
                    [
                      "Africa",
                      "2022"
                    ],
                    [
                      "Europe",
                      "2022"
                    ],
                    [
                      "Europe",
                      "2022"
                    ],
                    [
                      "Asia Pacific",
                      "2022"
                    ],
                    [
                      "Russia & Caspian",
                      "2022"
                    ],
                    [
                      "Europe",
                      "2022"
                    ],
                    [
                      "Europe",
                      "2022"
                    ],
                    [
                      "Asia Pacific",
                      "2022"
                    ],
                    [
                      "Central and South America",
                      "2022"
                    ],
                    [
                      "Europe",
                      "2022"
                    ],
                    [
                      "Africa",
                      "2022"
                    ],
                    [
                      "Africa",
                      "2022"
                    ],
                    [
                      "Africa",
                      "2022"
                    ],
                    [
                      "Middle East",
                      "2022"
                    ],
                    [
                      "Africa",
                      "2022"
                    ],
                    [
                      "Asia Pacific",
                      "2022"
                    ],
                    [
                      "Africa",
                      "2022"
                    ],
                    [
                      "Central and South America",
                      "2022"
                    ],
                    [
                      "Africa",
                      "2022"
                    ],
                    [
                      "Asia Pacific",
                      "2022"
                    ],
                    [
                      "Europe",
                      "2022"
                    ],
                    [
                      "Middle East",
                      "2022"
                    ],
                    [
                      "Africa",
                      "2022"
                    ],
                    [
                      "Middle East",
                      "2022"
                    ],
                    [
                      "Africa",
                      "2022"
                    ],
                    [
                      "Africa",
                      "2022"
                    ],
                    [
                      "Central and South America",
                      "2022"
                    ],
                    [
                      "Central and South America",
                      "2022"
                    ],
                    [
                      "Africa",
                      "2022"
                    ],
                    [
                      "Asia Pacific",
                      "2022"
                    ],
                    [
                      "Africa",
                      "2022"
                    ],
                    [
                      "Africa",
                      "2022"
                    ],
                    [
                      "Africa",
                      "2022"
                    ],
                    [
                      "Asia Pacific",
                      "2022"
                    ],
                    [
                      "Europe",
                      "2022"
                    ],
                    [
                      "Africa",
                      "2022"
                    ],
                    [
                      "Central and South America",
                      "2022"
                    ],
                    [
                      "Middle East",
                      "2022"
                    ],
                    [
                      "Asia Pacific",
                      "2022"
                    ],
                    [
                      "Europe",
                      "2022"
                    ],
                    [
                      "Europe",
                      "2022"
                    ],
                    [
                      "Europe",
                      "2022"
                    ],
                    [
                      "Africa",
                      "2022"
                    ],
                    [
                      "Asia Pacific",
                      "2022"
                    ],
                    [
                      "Europe",
                      "2022"
                    ],
                    [
                      "Africa",
                      "2022"
                    ],
                    [
                      "Europe",
                      "2022"
                    ],
                    [
                      "Africa",
                      "2022"
                    ],
                    [
                      "Africa",
                      "2022"
                    ],
                    [
                      "Central and South America",
                      "2022"
                    ],
                    [
                      "Africa",
                      "2022"
                    ],
                    [
                      "Central and South America",
                      "2022"
                    ],
                    [
                      "Africa",
                      "2022"
                    ],
                    [
                      "Europe",
                      "2022"
                    ],
                    [
                      "Europe",
                      "2022"
                    ],
                    [
                      "Central and South America",
                      "2022"
                    ],
                    [
                      "Africa",
                      "2022"
                    ],
                    [
                      "Africa",
                      "2022"
                    ],
                    [
                      "Middle East",
                      "2022"
                    ],
                    [
                      "Africa",
                      "2022"
                    ],
                    [
                      "Africa",
                      "2022"
                    ]
                  ],
                  "hovertemplate": "type=Energy<br>emissions=%{x}<br>country=%{y}<br>region=%{customdata[0]}<br>baseYear=%{customdata[1]}<extra></extra>",
                  "legendgroup": "Energy",
                  "marker": {
                    "color": "#636efa",
                    "pattern": {
                      "shape": ""
                    }
                  },
                  "name": "Energy",
                  "offsetgroup": "Energy",
                  "orientation": "h",
                  "showlegend": true,
                  "textposition": "auto",
                  "type": "bar",
                  "x": [
                    25372.22265625,
                    18078.083984375,
                    16769.630859375,
                    5629.822265625,
                    5185.236328125,
                    5080.369140625,
                    4740.041015625,
                    3306.0712890625,
                    3051.0966796875,
                    2760.969970703125,
                    2740.561279296875,
                    2669.194580078125,
                    2642.70361328125,
                    2548.3984375,
                    2515.052734375,
                    2420.8798828125,
                    2232.23876953125,
                    1756.495361328125,
                    1599.4412841796875,
                    1581.3292236328125,
                    1439.1328125,
                    1307.0936279296875,
                    1239.0296630859375,
                    1138.517822265625,
                    1002.0822143554688,
                    958.0424194335938,
                    920.3993530273438,
                    869.2565307617188,
                    865.2888793945312,
                    780.9161376953125,
                    778.1613159179688,
                    600.064453125,
                    568.7333374023438,
                    553.4212036132812,
                    535.2486572265625,
                    527.3272094726562,
                    474.0210876464844,
                    464.2127685546875,
                    448.1883544921875,
                    353.0937194824219,
                    334.3358459472656,
                    323.2549743652344,
                    285.7864685058594,
                    285.4109191894531,
                    283.3003234863281,
                    277.0992736816406,
                    274.63140869140625,
                    264.7666931152344,
                    260.6929016113281,
                    248.5525665283203,
                    237.66441345214844,
                    227.3558959960937,
                    216.8521881103516,
                    216.560775756836,
                    209.22000122070312,
                    203.3902282714844,
                    200.3266448974609,
                    193.59646606445312,
                    190.6852569580078,
                    169.01870727539062,
                    145.18161010742188,
                    143.8259735107422,
                    143.06582641601562,
                    131.71063232421875,
                    128.09658813476562,
                    120.73609161376952,
                    116.43431091308594,
                    93.39645385742188,
                    77.23422241210938,
                    76.9888916015625,
                    60.93199920654297,
                    55.59594345092773,
                    51.41695022583008,
                    47.569732666015625,
                    47.20696640014648,
                    43.50729370117188,
                    43.2089958190918,
                    41.51583480834961,
                    41.1037712097168,
                    40.86768341064453,
                    37.33414077758789,
                    31.990554809570312,
                    29.507999420166016,
                    29.25938034057617,
                    26.6285400390625,
                    22.181472778320312,
                    21.06509017944336,
                    19.2255916595459,
                    16.34809112548828,
                    13.024876594543455,
                    11.624244689941406,
                    7.726953983306885,
                    7.599424362182617,
                    6.199222564697266,
                    5.936958312988281,
                    4.712915897369385,
                    2.631089210510254,
                    0.0080000003799796
                  ],
                  "xaxis": "x",
                  "y": [
                    "China",
                    "Russia",
                    "United States",
                    "Iran",
                    "India",
                    "Indonesia",
                    "Turkmenistan",
                    "Nigeria",
                    "Saudi Arabia",
                    "European Union",
                    "Kazakhstan",
                    "Algeria",
                    "Venezuela",
                    "Canada",
                    "Iraq",
                    "Other",
                    "Australia",
                    "Brazil",
                    "Libya",
                    "Mexico",
                    "United Arab Emirates",
                    "Argentina",
                    "South Africa",
                    "Qatar",
                    "Kuwait",
                    "Egypt",
                    "Pakistan",
                    "Oman",
                    "Poland",
                    "Uzbekistan",
                    "Colombia",
                    "Other EU17 countries",
                    "Angola",
                    "Ukraine",
                    "Thailand",
                    "Other countries in Southeast Asia",
                    "Malaysia",
                    "Ethiopia",
                    "Other countries in Europe",
                    "Germany",
                    "Bangladesh",
                    "Azerbaijan",
                    "Italy",
                    "Romania",
                    "Japan",
                    "Ecuador",
                    "United Kingdom",
                    "Congo",
                    "Democratic Republic of Congo",
                    "Gabon",
                    "Syria",
                    "Mozambique",
                    "Mongolia",
                    "Cameroon",
                    "Trinidad and Tobago",
                    "Tanzania",
                    "Korea",
                    "France",
                    "Bahrain",
                    "Equatorial Guinea",
                    "Yemen",
                    "Kenya",
                    "Sudan",
                    "Peru",
                    "Bolivia",
                    "Ghana",
                    "Philippines",
                    "Cote d'Ivoire",
                    "Tunisia",
                    "South Sudan",
                    "Vietnam",
                    "Other EU7 countries",
                    "Chad",
                    "Guyana",
                    "Jordan",
                    "Brunei",
                    "Israel",
                    "Denmark",
                    "Norway",
                    "Niger",
                    "New Zealand",
                    "Sweden",
                    "Somalia",
                    "Netherlands",
                    "Benin",
                    "Morocco",
                    "Cuba",
                    "Togo",
                    "Paraguay",
                    "Senegal",
                    "Estonia",
                    "Slovenia",
                    "Uruguay",
                    "Botswana",
                    "Eritrea",
                    "Lebanon",
                    "Namibia",
                    "Guinea"
                  ],
                  "yaxis": "y"
                },
                {
                  "alignmentgroup": "True",
                  "customdata": [
                    [
                      "Asia Pacific",
                      "2019-2021"
                    ],
                    [
                      "Asia Pacific",
                      "2019-2021"
                    ],
                    [
                      "Central and South America",
                      "2019-2021"
                    ],
                    [
                      "North America",
                      "2019-2021"
                    ],
                    [
                      "Europe",
                      "2019-2021"
                    ],
                    [
                      "Other",
                      "2019-2021"
                    ],
                    [
                      "Asia Pacific",
                      "2019-2021"
                    ],
                    [
                      "Asia Pacific",
                      "2019-2021"
                    ],
                    [
                      "Asia Pacific",
                      "2019-2021"
                    ],
                    [
                      "Central and South America",
                      "2019-2021"
                    ],
                    [
                      "Europe",
                      "2019-2021"
                    ],
                    [
                      "Asia Pacific",
                      "2019-2021"
                    ],
                    [
                      "North America",
                      "2019-2021"
                    ],
                    [
                      "Asia Pacific",
                      "2019-2021"
                    ],
                    [
                      "Europe",
                      "2019-2021"
                    ],
                    [
                      "Asia Pacific",
                      "2019-2021"
                    ],
                    [
                      "Africa",
                      "2019-2021"
                    ],
                    [
                      "Asia Pacific",
                      "2019-2021"
                    ],
                    [
                      "Russia & Caspian",
                      "2019-2021"
                    ],
                    [
                      "Africa",
                      "2019-2021"
                    ],
                    [
                      "Central and South America",
                      "2019-2021"
                    ],
                    [
                      "Asia Pacific",
                      "2019-2021"
                    ],
                    [
                      "Europe",
                      "2019-2021"
                    ],
                    [
                      "Africa",
                      "2019-2021"
                    ],
                    [
                      "Europe",
                      "2019-2021"
                    ],
                    [
                      "Africa",
                      "2019-2021"
                    ],
                    [
                      "Africa",
                      "2019-2021"
                    ],
                    [
                      "Africa",
                      "2019-2021"
                    ],
                    [
                      "Asia Pacific",
                      "2019-2021"
                    ],
                    [
                      "North America",
                      "2019-2021"
                    ],
                    [
                      "Europe",
                      "2019-2021"
                    ],
                    [
                      "Central and South America",
                      "2019-2021"
                    ],
                    [
                      "Asia Pacific",
                      "2019-2021"
                    ],
                    [
                      "Russia & Caspian",
                      "2019-2021"
                    ],
                    [
                      "Central and South America",
                      "2019-2021"
                    ],
                    [
                      "Middle East",
                      "2019-2021"
                    ],
                    [
                      "Europe",
                      "2019-2021"
                    ],
                    [
                      "Russia & Caspian",
                      "2019-2021"
                    ],
                    [
                      "Africa",
                      "2019-2021"
                    ],
                    [
                      "Central and South America",
                      "2019-2021"
                    ],
                    [
                      "Africa",
                      "2019-2021"
                    ],
                    [
                      "Africa",
                      "2019-2021"
                    ],
                    [
                      "Africa",
                      "2019-2021"
                    ],
                    [
                      "Central and South America",
                      "2019-2021"
                    ],
                    [
                      "Central and South America",
                      "2019-2021"
                    ],
                    [
                      "Africa",
                      "2019-2021"
                    ],
                    [
                      "Europe",
                      "2019-2021"
                    ],
                    [
                      "Africa",
                      "2019-2021"
                    ],
                    [
                      "Asia Pacific",
                      "2019-2021"
                    ],
                    [
                      "Asia Pacific",
                      "2019-2021"
                    ],
                    [
                      "Europe",
                      "2019-2021"
                    ],
                    [
                      "Africa",
                      "2019-2021"
                    ],
                    [
                      "Africa",
                      "2019-2021"
                    ],
                    [
                      "Europe",
                      "2019-2021"
                    ],
                    [
                      "Europe",
                      "2019-2021"
                    ],
                    [
                      "Central and South America",
                      "2019-2021"
                    ],
                    [
                      "Russia & Caspian",
                      "2019-2021"
                    ],
                    [
                      "Africa",
                      "2019-2021"
                    ],
                    [
                      "Africa",
                      "2019-2021"
                    ],
                    [
                      "Central and South America",
                      "2019-2021"
                    ],
                    [
                      "Africa",
                      "2019-2021"
                    ],
                    [
                      "Africa",
                      "2019-2021"
                    ],
                    [
                      "Africa",
                      "2019-2021"
                    ],
                    [
                      "Europe",
                      "2019-2021"
                    ],
                    [
                      "Africa",
                      "2019-2021"
                    ],
                    [
                      "Russia & Caspian",
                      "2019-2021"
                    ],
                    [
                      "Asia Pacific",
                      "2019-2021"
                    ],
                    [
                      "Africa",
                      "2019-2021"
                    ],
                    [
                      "Africa",
                      "2019-2021"
                    ],
                    [
                      "Middle East",
                      "2019-2021"
                    ],
                    [
                      "Africa",
                      "2019-2021"
                    ],
                    [
                      "Middle East",
                      "2019-2021"
                    ],
                    [
                      "Europe",
                      "2019-2021"
                    ],
                    [
                      "Middle East",
                      "2019-2021"
                    ],
                    [
                      "Europe",
                      "2019-2021"
                    ],
                    [
                      "Middle East",
                      "2019-2021"
                    ],
                    [
                      "Africa",
                      "2019-2021"
                    ],
                    [
                      "Africa",
                      "2019-2021"
                    ],
                    [
                      "Europe",
                      "2019-2021"
                    ],
                    [
                      "Africa",
                      "2019-2021"
                    ],
                    [
                      "Africa",
                      "2019-2021"
                    ],
                    [
                      "Africa",
                      "2019-2021"
                    ],
                    [
                      "Africa",
                      "2019-2021"
                    ],
                    [
                      "Central and South America",
                      "2019-2021"
                    ],
                    [
                      "Africa",
                      "2019-2021"
                    ],
                    [
                      "Africa",
                      "2019-2021"
                    ],
                    [
                      "Europe",
                      "2019-2021"
                    ],
                    [
                      "Middle East",
                      "2019-2021"
                    ],
                    [
                      "Europe",
                      "2019-2021"
                    ],
                    [
                      "Middle East",
                      "2019-2021"
                    ],
                    [
                      "Africa",
                      "2019-2021"
                    ],
                    [
                      "Europe",
                      "2019-2021"
                    ],
                    [
                      "Middle East",
                      "2019-2021"
                    ],
                    [
                      "Africa",
                      "2019-2021"
                    ],
                    [
                      "Middle East",
                      "2019-2021"
                    ],
                    [
                      "Middle East",
                      "2019-2021"
                    ],
                    [
                      "Africa",
                      "2019-2021"
                    ],
                    [
                      "Middle East",
                      "2019-2021"
                    ],
                    [
                      "Africa",
                      "2019-2021"
                    ],
                    [
                      "Central and South America",
                      "2019-2021"
                    ],
                    [
                      "Middle East",
                      "2019-2021"
                    ],
                    [
                      "Asia Pacific",
                      "2019-2021"
                    ],
                    [
                      "Africa",
                      "2019-2021"
                    ],
                    [
                      "Africa",
                      "2019-2021"
                    ]
                  ],
                  "hovertemplate": "type=Agriculture<br>emissions=%{x}<br>country=%{y}<br>region=%{customdata[0]}<br>baseYear=%{customdata[1]}<extra></extra>",
                  "legendgroup": "Agriculture",
                  "marker": {
                    "color": "#EF553B",
                    "pattern": {
                      "shape": ""
                    }
                  },
                  "name": "Agriculture",
                  "offsetgroup": "Agriculture",
                  "orientation": "h",
                  "showlegend": true,
                  "textposition": "auto",
                  "type": "bar",
                  "x": [
                    18501.9140625,
                    18358.517578125,
                    14020.0888671875,
                    9409.3251953125,
                    8851.337890625,
                    7259.01416015625,
                    5319.4560546875,
                    3518.344482421875,
                    3300.293701171875,
                    3152.9326171875,
                    2811.933837890625,
                    2450.463134765625,
                    2420.791015625,
                    2410.234375,
                    2284.248779296875,
                    2193.2626953125,
                    2082.188232421875,
                    2078.933837890625,
                    2022.095947265625,
                    1910.0897216796875,
                    1795.9031982421875,
                    1714.848876953125,
                    1564.2218017578125,
                    1549.11083984375,
                    1269.36865234375,
                    1250.951904296875,
                    1223.9329833984375,
                    1180.221923828125,
                    1155.9993896484375,
                    1072.710693359375,
                    1064.6658935546875,
                    1015.0640869140624,
                    991.6493530273438,
                    901.6826171875,
                    835.0689086914062,
                    802.454345703125,
                    800.047119140625,
                    762.0980834960938,
                    760.32275390625,
                    751.9459228515625,
                    696.4396362304688,
                    695.7181396484375,
                    684.5322265625,
                    673.754150390625,
                    639.6949462890625,
                    625.7147827148438,
                    615.5054321289062,
                    555.5286865234375,
                    549.2429809570312,
                    508.4415588378906,
                    466.8436584472656,
                    438.159423828125,
                    400.9695739746094,
                    377.1493225097656,
                    367.9289245605469,
                    359.8713684082031,
                    304.87176513671875,
                    295.3795166015625,
                    279.5312194824219,
                    267.4549255371094,
                    261.5225524902344,
                    257.6112060546875,
                    250.8168029785156,
                    240.09361267089844,
                    210.65399169921875,
                    195.1975250244141,
                    189.0501708984375,
                    185.7007751464844,
                    181.9879150390625,
                    181.29298400878903,
                    169.0322265625,
                    168.22393798828125,
                    139.63568115234375,
                    133.05282592773438,
                    128.65838623046875,
                    121.0209732055664,
                    120.17935180664062,
                    105.69103240966795,
                    103.60773468017578,
                    97.72246551513672,
                    97.25849151611328,
                    86.26763916015625,
                    67.41584777832031,
                    57.39715576171875,
                    52.83677673339844,
                    50.73590850830078,
                    48.42922592163086,
                    47.43784332275391,
                    39.840087890625,
                    37.05989837646485,
                    29.567506790161133,
                    27.72345733642578,
                    25.815542221069336,
                    23.8709659576416,
                    12.067669868469238,
                    11.3685884475708,
                    9.208291053771973,
                    7.323050498962402,
                    5.590458393096924,
                    4.345527648925781,
                    0.9645923376083374,
                    0.8412342667579651,
                    0.438739001750946,
                    0.078720711171627
                  ],
                  "xaxis": "x",
                  "y": [
                    "China",
                    "India",
                    "Brazil",
                    "United States",
                    "European Union",
                    "Other",
                    "Pakistan",
                    "Indonesia",
                    "Other countries in Southeast Asia",
                    "Argentina",
                    "Other EU17 countries",
                    "Australia",
                    "Mexico",
                    "Bangladesh",
                    "Other countries in Europe",
                    "Vietnam",
                    "Nigeria",
                    "Thailand",
                    "Russia",
                    "Ethiopia",
                    "Colombia",
                    "Philippines",
                    "France",
                    "Sudan",
                    "Germany",
                    "Kenya",
                    "Chad",
                    "Tanzania",
                    "New Zealand",
                    "Canada",
                    "United Kingdom",
                    "Venezuela",
                    "Japan",
                    "Uzbekistan",
                    "Paraguay",
                    "Iran",
                    "Italy",
                    "Kazakhstan",
                    "South Africa",
                    "Uruguay",
                    "Niger",
                    "South Sudan",
                    "Egypt",
                    "Bolivia",
                    "Peru",
                    "Somalia",
                    "Poland",
                    "Democratic Republic of Congo",
                    "Mongolia",
                    "Korea",
                    "Netherlands",
                    "Guinea",
                    "Angola",
                    "Ukraine",
                    "Romania",
                    "Ecuador",
                    "Turkmenistan",
                    "Morocco",
                    "Cameroon",
                    "Cuba",
                    "Senegal",
                    "Algeria",
                    "Central African Republic",
                    "Denmark",
                    "Mozambique",
                    "Azerbaijan",
                    "Malaysia",
                    "Cote d'Ivoire",
                    "Namibia",
                    "Yemen",
                    "Ghana",
                    "Iraq",
                    "Other EU7 countries",
                    "Syria",
                    "Sweden",
                    "Saudi Arabia",
                    "Eritrea",
                    "Benin",
                    "Norway",
                    "Tunisia",
                    "Botswana",
                    "Sierra Leone",
                    "Libya",
                    "Guyana",
                    "Guinea-Bissau",
                    "Togo",
                    "Slovenia",
                    "United Arab Emirates",
                    "Israel",
                    "Oman",
                    "Gambia",
                    "Estonia",
                    "Jordan",
                    "Congo",
                    "Lebanon",
                    "Qatar",
                    "Liberia",
                    "Kuwait",
                    "Gabon",
                    "Trinidad and Tobago",
                    "Bahrain",
                    "Brunei",
                    "Equatorial Guinea",
                    "Seychelles"
                  ],
                  "yaxis": "y"
                },
                {
                  "alignmentgroup": "True",
                  "customdata": [
                    [
                      "Asia Pacific",
                      "2019-2021"
                    ],
                    [
                      "Asia Pacific",
                      "2019-2021"
                    ],
                    [
                      "North America",
                      "2019-2021"
                    ],
                    [
                      "Asia Pacific",
                      "2019-2021"
                    ],
                    [
                      "Europe",
                      "2019-2021"
                    ],
                    [
                      "Russia & Caspian",
                      "2019-2021"
                    ],
                    [
                      "Central and South America",
                      "2019-2021"
                    ],
                    [
                      "Other",
                      "2019-2021"
                    ],
                    [
                      "Europe",
                      "2019-2021"
                    ],
                    [
                      "North America",
                      "2019-2021"
                    ],
                    [
                      "Europe",
                      "2019-2021"
                    ],
                    [
                      "Europe",
                      "2019-2021"
                    ],
                    [
                      "Middle East",
                      "2019-2021"
                    ],
                    [
                      "Africa",
                      "2019-2021"
                    ],
                    [
                      "Middle East",
                      "2019-2021"
                    ],
                    [
                      "North America",
                      "2019-2021"
                    ],
                    [
                      "Asia Pacific",
                      "2019-2021"
                    ],
                    [
                      "Africa",
                      "2019-2021"
                    ],
                    [
                      "Asia Pacific",
                      "2019-2021"
                    ],
                    [
                      "Africa",
                      "2019-2021"
                    ],
                    [
                      "Africa",
                      "2019-2021"
                    ],
                    [
                      "Asia Pacific",
                      "2019-2021"
                    ],
                    [
                      "Asia Pacific",
                      "2019-2021"
                    ],
                    [
                      "Central and South America",
                      "2019-2021"
                    ],
                    [
                      "Asia Pacific",
                      "2019-2021"
                    ],
                    [
                      "Asia Pacific",
                      "2019-2021"
                    ],
                    [
                      "Central and South America",
                      "2019-2021"
                    ],
                    [
                      "Europe",
                      "2019-2021"
                    ],
                    [
                      "Asia Pacific",
                      "2019-2021"
                    ],
                    [
                      "Europe",
                      "2019-2021"
                    ],
                    [
                      "Europe",
                      "2019-2021"
                    ],
                    [
                      "Africa",
                      "2019-2021"
                    ],
                    [
                      "Asia Pacific",
                      "2019-2021"
                    ],
                    [
                      "Africa",
                      "2019-2021"
                    ],
                    [
                      "Middle East",
                      "2019-2021"
                    ],
                    [
                      "Asia Pacific",
                      "2019-2021"
                    ],
                    [
                      "Africa",
                      "2019-2021"
                    ],
                    [
                      "Africa",
                      "2019-2021"
                    ],
                    [
                      "Europe",
                      "2019-2021"
                    ],
                    [
                      "Central and South America",
                      "2019-2021"
                    ],
                    [
                      "Middle East",
                      "2019-2021"
                    ],
                    [
                      "Central and South America",
                      "2019-2021"
                    ],
                    [
                      "Europe",
                      "2019-2021"
                    ],
                    [
                      "Europe",
                      "2019-2021"
                    ],
                    [
                      "Russia & Caspian",
                      "2019-2021"
                    ],
                    [
                      "Middle East",
                      "2019-2021"
                    ],
                    [
                      "Europe",
                      "2019-2021"
                    ],
                    [
                      "Europe",
                      "2019-2021"
                    ],
                    [
                      "Asia Pacific",
                      "2019-2021"
                    ],
                    [
                      "Central and South America",
                      "2019-2021"
                    ],
                    [
                      "Africa",
                      "2019-2021"
                    ],
                    [
                      "Africa",
                      "2019-2021"
                    ],
                    [
                      "Africa",
                      "2019-2021"
                    ],
                    [
                      "Middle East",
                      "2019-2021"
                    ],
                    [
                      "Russia & Caspian",
                      "2019-2021"
                    ],
                    [
                      "Africa",
                      "2019-2021"
                    ],
                    [
                      "Africa",
                      "2019-2021"
                    ],
                    [
                      "Middle East",
                      "2019-2021"
                    ],
                    [
                      "Middle East",
                      "2019-2021"
                    ],
                    [
                      "Asia Pacific",
                      "2019-2021"
                    ],
                    [
                      "Middle East",
                      "2019-2021"
                    ],
                    [
                      "Central and South America",
                      "2019-2021"
                    ],
                    [
                      "Europe",
                      "2019-2021"
                    ],
                    [
                      "Africa",
                      "2019-2021"
                    ],
                    [
                      "Africa",
                      "2019-2021"
                    ],
                    [
                      "Africa",
                      "2019-2021"
                    ],
                    [
                      "Africa",
                      "2019-2021"
                    ],
                    [
                      "Central and South America",
                      "2019-2021"
                    ],
                    [
                      "Europe",
                      "2019-2021"
                    ],
                    [
                      "Africa",
                      "2019-2021"
                    ],
                    [
                      "Central and South America",
                      "2019-2021"
                    ],
                    [
                      "Middle East",
                      "2019-2021"
                    ],
                    [
                      "Africa",
                      "2019-2021"
                    ],
                    [
                      "Africa",
                      "2019-2021"
                    ],
                    [
                      "Russia & Caspian",
                      "2019-2021"
                    ],
                    [
                      "Africa",
                      "2019-2021"
                    ],
                    [
                      "Central and South America",
                      "2019-2021"
                    ],
                    [
                      "Africa",
                      "2019-2021"
                    ],
                    [
                      "Africa",
                      "2019-2021"
                    ],
                    [
                      "Africa",
                      "2019-2021"
                    ],
                    [
                      "Middle East",
                      "2019-2021"
                    ],
                    [
                      "Middle East",
                      "2019-2021"
                    ],
                    [
                      "Central and South America",
                      "2019-2021"
                    ],
                    [
                      "Africa",
                      "2019-2021"
                    ],
                    [
                      "Russia & Caspian",
                      "2019-2021"
                    ],
                    [
                      "Europe",
                      "2019-2021"
                    ],
                    [
                      "Africa",
                      "2019-2021"
                    ],
                    [
                      "Europe",
                      "2019-2021"
                    ],
                    [
                      "Africa",
                      "2019-2021"
                    ],
                    [
                      "Europe",
                      "2019-2021"
                    ],
                    [
                      "Africa",
                      "2019-2021"
                    ],
                    [
                      "Africa",
                      "2019-2021"
                    ],
                    [
                      "Africa",
                      "2019-2021"
                    ],
                    [
                      "Africa",
                      "2019-2021"
                    ],
                    [
                      "Africa",
                      "2019-2021"
                    ],
                    [
                      "Europe",
                      "2019-2021"
                    ],
                    [
                      "Asia Pacific",
                      "2019-2021"
                    ],
                    [
                      "Africa",
                      "2019-2021"
                    ],
                    [
                      "Africa",
                      "2019-2021"
                    ],
                    [
                      "Africa",
                      "2019-2021"
                    ],
                    [
                      "Asia Pacific",
                      "2019-2021"
                    ],
                    [
                      "Africa",
                      "2019-2021"
                    ],
                    [
                      "Central and South America",
                      "2019-2021"
                    ],
                    [
                      "Africa",
                      "2019-2021"
                    ]
                  ],
                  "hovertemplate": "type=Waste<br>emissions=%{x}<br>country=%{y}<br>region=%{customdata[0]}<br>baseYear=%{customdata[1]}<extra></extra>",
                  "legendgroup": "Waste",
                  "marker": {
                    "color": "#00cc96",
                    "pattern": {
                      "shape": ""
                    }
                  },
                  "name": "Waste",
                  "offsetgroup": "Waste",
                  "orientation": "h",
                  "showlegend": true,
                  "textposition": "auto",
                  "type": "bar",
                  "x": [
                    10424.1416015625,
                    5551.7607421875,
                    5117.92822265625,
                    4568.9384765625,
                    4320.9970703125,
                    3931.244384765625,
                    3800.05712890625,
                    3214.4951171875,
                    2321.68505859375,
                    1994.62744140625,
                    1850.4228515625,
                    1113.1412353515625,
                    955.779541015625,
                    947.93408203125,
                    931.3856201171876,
                    897.9652709960938,
                    893.9114379882812,
                    862.4360961914062,
                    854.3361206054688,
                    843.4016723632812,
                    834.2140502929688,
                    825.30224609375,
                    783.7750244140625,
                    705.7312622070312,
                    703.9661254882812,
                    649.79248046875,
                    643.7293090820312,
                    630.8741455078125,
                    619.0491333007812,
                    605.1366577148438,
                    579.596923828125,
                    566.8305053710938,
                    527.2578125,
                    510.9656066894531,
                    462.6634826660156,
                    436.8053588867188,
                    414.8589172363281,
                    405.1220397949219,
                    401.859619140625,
                    379.9532775878906,
                    362.1964721679688,
                    355.07745361328125,
                    347.61395263671875,
                    282.4595642089844,
                    280.4182434082031,
                    257.99493408203125,
                    249.8030548095703,
                    244.40768432617188,
                    243.30145263671875,
                    235.403060913086,
                    233.21359252929688,
                    227.552978515625,
                    220.2355194091797,
                    200.5210418701172,
                    198.9350128173828,
                    194.51437377929688,
                    180.646713256836,
                    172.3936004638672,
                    169.2044219970703,
                    165.2618865966797,
                    161.4936981201172,
                    160.3751678466797,
                    159.8013458251953,
                    159.3824005126953,
                    155.7392578125,
                    152.30502319335938,
                    151.49404907226562,
                    138.26727294921875,
                    137.8373260498047,
                    121.76155090332033,
                    115.26103973388672,
                    112.2239990234375,
                    108.4111557006836,
                    108.2469711303711,
                    104.27503204345705,
                    101.4332275390625,
                    87.08856201171875,
                    83.35655975341797,
                    70.19759368896484,
                    68.93671417236328,
                    64.55561828613281,
                    64.40309143066406,
                    62.29243469238281,
                    49.99830627441406,
                    48.02981185913086,
                    46.46012496948242,
                    42.10737228393555,
                    40.26875686645508,
                    37.90462112426758,
                    37.32962417602539,
                    30.08274269104004,
                    24.038236618041992,
                    22.85633850097656,
                    21.208723068237305,
                    19.37256050109864,
                    17.910375595092773,
                    16.66093635559082,
                    15.859238624572754,
                    14.088419914245604,
                    11.922514915466309,
                    9.676277160644531,
                    8.758500099182129,
                    8.31496524810791,
                    2.491305351257324
                  ],
                  "xaxis": "x",
                  "y": [
                    "China",
                    "India",
                    "United States",
                    "Indonesia",
                    "European Union",
                    "Russia",
                    "Brazil",
                    "Other",
                    "Other countries in Europe",
                    "Mexico",
                    "Other EU17 countries",
                    "United Kingdom",
                    "Saudi Arabia",
                    "Egypt",
                    "Iran",
                    "Canada",
                    "Malaysia",
                    "Nigeria",
                    "Pakistan",
                    "Botswana",
                    "South Africa",
                    "Bangladesh",
                    "Vietnam",
                    "Argentina",
                    "Thailand",
                    "Philippines",
                    "Colombia",
                    "France",
                    "Australia",
                    "Germany",
                    "Italy",
                    "Democratic Republic of Congo",
                    "Korea",
                    "Algeria",
                    "United Arab Emirates",
                    "Other countries in Southeast Asia",
                    "Ethiopia",
                    "Morocco",
                    "Ukraine",
                    "Venezuela",
                    "Iraq",
                    "Peru",
                    "Poland",
                    "Israel",
                    "Uzbekistan",
                    "Kuwait",
                    "Other EU7 countries",
                    "Romania",
                    "Japan",
                    "Ecuador",
                    "Sudan",
                    "Tanzania",
                    "Cote d'Ivoire",
                    "Jordan",
                    "Kazakhstan",
                    "Cameroon",
                    "Kenya",
                    "Bahrain",
                    "Syria",
                    "New Zealand",
                    "Yemen",
                    "Cuba",
                    "Sweden",
                    "Ghana",
                    "Mozambique",
                    "Niger",
                    "Angola",
                    "Uruguay",
                    "Netherlands",
                    "South Sudan",
                    "Paraguay",
                    "Lebanon",
                    "Somalia",
                    "Tunisia",
                    "Azerbaijan",
                    "Senegal",
                    "Bolivia",
                    "Libya",
                    "Chad",
                    "Guinea",
                    "Oman",
                    "Qatar",
                    "Trinidad and Tobago",
                    "Sierra Leone",
                    "Turkmenistan",
                    "Norway",
                    "Benin",
                    "Denmark",
                    "Togo",
                    "Estonia",
                    "Congo",
                    "Eritrea",
                    "Central African Republic",
                    "Gabon",
                    "Liberia",
                    "Slovenia",
                    "Mongolia",
                    "Namibia",
                    "Gambia",
                    "Equatorial Guinea",
                    "Brunei",
                    "Guinea-Bissau",
                    "Guyana",
                    "Seychelles"
                  ],
                  "yaxis": "y"
                }
              ],
              "layout": {
                "barmode": "stack",
                "legend": {
                  "title": {
                    "text": "type"
                  },
                  "tracegroupgap": 0
                },
                "template": {
                  "data": {
                    "bar": [
                      {
                        "error_x": {
                          "color": "#2a3f5f"
                        },
                        "error_y": {
                          "color": "#2a3f5f"
                        },
                        "marker": {
                          "line": {
                            "color": "#E5ECF6",
                            "width": 0.5
                          },
                          "pattern": {
                            "fillmode": "overlay",
                            "size": 10,
                            "solidity": 0.2
                          }
                        },
                        "type": "bar"
                      }
                    ],
                    "barpolar": [
                      {
                        "marker": {
                          "line": {
                            "color": "#E5ECF6",
                            "width": 0.5
                          },
                          "pattern": {
                            "fillmode": "overlay",
                            "size": 10,
                            "solidity": 0.2
                          }
                        },
                        "type": "barpolar"
                      }
                    ],
                    "carpet": [
                      {
                        "aaxis": {
                          "endlinecolor": "#2a3f5f",
                          "gridcolor": "white",
                          "linecolor": "white",
                          "minorgridcolor": "white",
                          "startlinecolor": "#2a3f5f"
                        },
                        "baxis": {
                          "endlinecolor": "#2a3f5f",
                          "gridcolor": "white",
                          "linecolor": "white",
                          "minorgridcolor": "white",
                          "startlinecolor": "#2a3f5f"
                        },
                        "type": "carpet"
                      }
                    ],
                    "choropleth": [
                      {
                        "colorbar": {
                          "outlinewidth": 0,
                          "ticks": ""
                        },
                        "type": "choropleth"
                      }
                    ],
                    "contour": [
                      {
                        "colorbar": {
                          "outlinewidth": 0,
                          "ticks": ""
                        },
                        "colorscale": [
                          [
                            0,
                            "#0d0887"
                          ],
                          [
                            0.1111111111111111,
                            "#46039f"
                          ],
                          [
                            0.2222222222222222,
                            "#7201a8"
                          ],
                          [
                            0.3333333333333333,
                            "#9c179e"
                          ],
                          [
                            0.4444444444444444,
                            "#bd3786"
                          ],
                          [
                            0.5555555555555556,
                            "#d8576b"
                          ],
                          [
                            0.6666666666666666,
                            "#ed7953"
                          ],
                          [
                            0.7777777777777778,
                            "#fb9f3a"
                          ],
                          [
                            0.8888888888888888,
                            "#fdca26"
                          ],
                          [
                            1,
                            "#f0f921"
                          ]
                        ],
                        "type": "contour"
                      }
                    ],
                    "contourcarpet": [
                      {
                        "colorbar": {
                          "outlinewidth": 0,
                          "ticks": ""
                        },
                        "type": "contourcarpet"
                      }
                    ],
                    "heatmap": [
                      {
                        "colorbar": {
                          "outlinewidth": 0,
                          "ticks": ""
                        },
                        "colorscale": [
                          [
                            0,
                            "#0d0887"
                          ],
                          [
                            0.1111111111111111,
                            "#46039f"
                          ],
                          [
                            0.2222222222222222,
                            "#7201a8"
                          ],
                          [
                            0.3333333333333333,
                            "#9c179e"
                          ],
                          [
                            0.4444444444444444,
                            "#bd3786"
                          ],
                          [
                            0.5555555555555556,
                            "#d8576b"
                          ],
                          [
                            0.6666666666666666,
                            "#ed7953"
                          ],
                          [
                            0.7777777777777778,
                            "#fb9f3a"
                          ],
                          [
                            0.8888888888888888,
                            "#fdca26"
                          ],
                          [
                            1,
                            "#f0f921"
                          ]
                        ],
                        "type": "heatmap"
                      }
                    ],
                    "heatmapgl": [
                      {
                        "colorbar": {
                          "outlinewidth": 0,
                          "ticks": ""
                        },
                        "colorscale": [
                          [
                            0,
                            "#0d0887"
                          ],
                          [
                            0.1111111111111111,
                            "#46039f"
                          ],
                          [
                            0.2222222222222222,
                            "#7201a8"
                          ],
                          [
                            0.3333333333333333,
                            "#9c179e"
                          ],
                          [
                            0.4444444444444444,
                            "#bd3786"
                          ],
                          [
                            0.5555555555555556,
                            "#d8576b"
                          ],
                          [
                            0.6666666666666666,
                            "#ed7953"
                          ],
                          [
                            0.7777777777777778,
                            "#fb9f3a"
                          ],
                          [
                            0.8888888888888888,
                            "#fdca26"
                          ],
                          [
                            1,
                            "#f0f921"
                          ]
                        ],
                        "type": "heatmapgl"
                      }
                    ],
                    "histogram": [
                      {
                        "marker": {
                          "pattern": {
                            "fillmode": "overlay",
                            "size": 10,
                            "solidity": 0.2
                          }
                        },
                        "type": "histogram"
                      }
                    ],
                    "histogram2d": [
                      {
                        "colorbar": {
                          "outlinewidth": 0,
                          "ticks": ""
                        },
                        "colorscale": [
                          [
                            0,
                            "#0d0887"
                          ],
                          [
                            0.1111111111111111,
                            "#46039f"
                          ],
                          [
                            0.2222222222222222,
                            "#7201a8"
                          ],
                          [
                            0.3333333333333333,
                            "#9c179e"
                          ],
                          [
                            0.4444444444444444,
                            "#bd3786"
                          ],
                          [
                            0.5555555555555556,
                            "#d8576b"
                          ],
                          [
                            0.6666666666666666,
                            "#ed7953"
                          ],
                          [
                            0.7777777777777778,
                            "#fb9f3a"
                          ],
                          [
                            0.8888888888888888,
                            "#fdca26"
                          ],
                          [
                            1,
                            "#f0f921"
                          ]
                        ],
                        "type": "histogram2d"
                      }
                    ],
                    "histogram2dcontour": [
                      {
                        "colorbar": {
                          "outlinewidth": 0,
                          "ticks": ""
                        },
                        "colorscale": [
                          [
                            0,
                            "#0d0887"
                          ],
                          [
                            0.1111111111111111,
                            "#46039f"
                          ],
                          [
                            0.2222222222222222,
                            "#7201a8"
                          ],
                          [
                            0.3333333333333333,
                            "#9c179e"
                          ],
                          [
                            0.4444444444444444,
                            "#bd3786"
                          ],
                          [
                            0.5555555555555556,
                            "#d8576b"
                          ],
                          [
                            0.6666666666666666,
                            "#ed7953"
                          ],
                          [
                            0.7777777777777778,
                            "#fb9f3a"
                          ],
                          [
                            0.8888888888888888,
                            "#fdca26"
                          ],
                          [
                            1,
                            "#f0f921"
                          ]
                        ],
                        "type": "histogram2dcontour"
                      }
                    ],
                    "mesh3d": [
                      {
                        "colorbar": {
                          "outlinewidth": 0,
                          "ticks": ""
                        },
                        "type": "mesh3d"
                      }
                    ],
                    "parcoords": [
                      {
                        "line": {
                          "colorbar": {
                            "outlinewidth": 0,
                            "ticks": ""
                          }
                        },
                        "type": "parcoords"
                      }
                    ],
                    "pie": [
                      {
                        "automargin": true,
                        "type": "pie"
                      }
                    ],
                    "scatter": [
                      {
                        "fillpattern": {
                          "fillmode": "overlay",
                          "size": 10,
                          "solidity": 0.2
                        },
                        "type": "scatter"
                      }
                    ],
                    "scatter3d": [
                      {
                        "line": {
                          "colorbar": {
                            "outlinewidth": 0,
                            "ticks": ""
                          }
                        },
                        "marker": {
                          "colorbar": {
                            "outlinewidth": 0,
                            "ticks": ""
                          }
                        },
                        "type": "scatter3d"
                      }
                    ],
                    "scattercarpet": [
                      {
                        "marker": {
                          "colorbar": {
                            "outlinewidth": 0,
                            "ticks": ""
                          }
                        },
                        "type": "scattercarpet"
                      }
                    ],
                    "scattergeo": [
                      {
                        "marker": {
                          "colorbar": {
                            "outlinewidth": 0,
                            "ticks": ""
                          }
                        },
                        "type": "scattergeo"
                      }
                    ],
                    "scattergl": [
                      {
                        "marker": {
                          "colorbar": {
                            "outlinewidth": 0,
                            "ticks": ""
                          }
                        },
                        "type": "scattergl"
                      }
                    ],
                    "scattermapbox": [
                      {
                        "marker": {
                          "colorbar": {
                            "outlinewidth": 0,
                            "ticks": ""
                          }
                        },
                        "type": "scattermapbox"
                      }
                    ],
                    "scatterpolar": [
                      {
                        "marker": {
                          "colorbar": {
                            "outlinewidth": 0,
                            "ticks": ""
                          }
                        },
                        "type": "scatterpolar"
                      }
                    ],
                    "scatterpolargl": [
                      {
                        "marker": {
                          "colorbar": {
                            "outlinewidth": 0,
                            "ticks": ""
                          }
                        },
                        "type": "scatterpolargl"
                      }
                    ],
                    "scatterternary": [
                      {
                        "marker": {
                          "colorbar": {
                            "outlinewidth": 0,
                            "ticks": ""
                          }
                        },
                        "type": "scatterternary"
                      }
                    ],
                    "surface": [
                      {
                        "colorbar": {
                          "outlinewidth": 0,
                          "ticks": ""
                        },
                        "colorscale": [
                          [
                            0,
                            "#0d0887"
                          ],
                          [
                            0.1111111111111111,
                            "#46039f"
                          ],
                          [
                            0.2222222222222222,
                            "#7201a8"
                          ],
                          [
                            0.3333333333333333,
                            "#9c179e"
                          ],
                          [
                            0.4444444444444444,
                            "#bd3786"
                          ],
                          [
                            0.5555555555555556,
                            "#d8576b"
                          ],
                          [
                            0.6666666666666666,
                            "#ed7953"
                          ],
                          [
                            0.7777777777777778,
                            "#fb9f3a"
                          ],
                          [
                            0.8888888888888888,
                            "#fdca26"
                          ],
                          [
                            1,
                            "#f0f921"
                          ]
                        ],
                        "type": "surface"
                      }
                    ],
                    "table": [
                      {
                        "cells": {
                          "fill": {
                            "color": "#EBF0F8"
                          },
                          "line": {
                            "color": "white"
                          }
                        },
                        "header": {
                          "fill": {
                            "color": "#C8D4E3"
                          },
                          "line": {
                            "color": "white"
                          }
                        },
                        "type": "table"
                      }
                    ]
                  },
                  "layout": {
                    "annotationdefaults": {
                      "arrowcolor": "#2a3f5f",
                      "arrowhead": 0,
                      "arrowwidth": 1
                    },
                    "autotypenumbers": "strict",
                    "coloraxis": {
                      "colorbar": {
                        "outlinewidth": 0,
                        "ticks": ""
                      }
                    },
                    "colorscale": {
                      "diverging": [
                        [
                          0,
                          "#8e0152"
                        ],
                        [
                          0.1,
                          "#c51b7d"
                        ],
                        [
                          0.2,
                          "#de77ae"
                        ],
                        [
                          0.3,
                          "#f1b6da"
                        ],
                        [
                          0.4,
                          "#fde0ef"
                        ],
                        [
                          0.5,
                          "#f7f7f7"
                        ],
                        [
                          0.6,
                          "#e6f5d0"
                        ],
                        [
                          0.7,
                          "#b8e186"
                        ],
                        [
                          0.8,
                          "#7fbc41"
                        ],
                        [
                          0.9,
                          "#4d9221"
                        ],
                        [
                          1,
                          "#276419"
                        ]
                      ],
                      "sequential": [
                        [
                          0,
                          "#0d0887"
                        ],
                        [
                          0.1111111111111111,
                          "#46039f"
                        ],
                        [
                          0.2222222222222222,
                          "#7201a8"
                        ],
                        [
                          0.3333333333333333,
                          "#9c179e"
                        ],
                        [
                          0.4444444444444444,
                          "#bd3786"
                        ],
                        [
                          0.5555555555555556,
                          "#d8576b"
                        ],
                        [
                          0.6666666666666666,
                          "#ed7953"
                        ],
                        [
                          0.7777777777777778,
                          "#fb9f3a"
                        ],
                        [
                          0.8888888888888888,
                          "#fdca26"
                        ],
                        [
                          1,
                          "#f0f921"
                        ]
                      ],
                      "sequentialminus": [
                        [
                          0,
                          "#0d0887"
                        ],
                        [
                          0.1111111111111111,
                          "#46039f"
                        ],
                        [
                          0.2222222222222222,
                          "#7201a8"
                        ],
                        [
                          0.3333333333333333,
                          "#9c179e"
                        ],
                        [
                          0.4444444444444444,
                          "#bd3786"
                        ],
                        [
                          0.5555555555555556,
                          "#d8576b"
                        ],
                        [
                          0.6666666666666666,
                          "#ed7953"
                        ],
                        [
                          0.7777777777777778,
                          "#fb9f3a"
                        ],
                        [
                          0.8888888888888888,
                          "#fdca26"
                        ],
                        [
                          1,
                          "#f0f921"
                        ]
                      ]
                    },
                    "colorway": [
                      "#636efa",
                      "#EF553B",
                      "#00cc96",
                      "#ab63fa",
                      "#FFA15A",
                      "#19d3f3",
                      "#FF6692",
                      "#B6E880",
                      "#FF97FF",
                      "#FECB52"
                    ],
                    "font": {
                      "color": "#2a3f5f"
                    },
                    "geo": {
                      "bgcolor": "white",
                      "lakecolor": "white",
                      "landcolor": "#E5ECF6",
                      "showlakes": true,
                      "showland": true,
                      "subunitcolor": "white"
                    },
                    "hoverlabel": {
                      "align": "left"
                    },
                    "hovermode": "closest",
                    "mapbox": {
                      "style": "light"
                    },
                    "paper_bgcolor": "white",
                    "plot_bgcolor": "#E5ECF6",
                    "polar": {
                      "angularaxis": {
                        "gridcolor": "white",
                        "linecolor": "white",
                        "ticks": ""
                      },
                      "bgcolor": "#E5ECF6",
                      "radialaxis": {
                        "gridcolor": "white",
                        "linecolor": "white",
                        "ticks": ""
                      }
                    },
                    "scene": {
                      "xaxis": {
                        "backgroundcolor": "#E5ECF6",
                        "gridcolor": "white",
                        "gridwidth": 2,
                        "linecolor": "white",
                        "showbackground": true,
                        "ticks": "",
                        "zerolinecolor": "white"
                      },
                      "yaxis": {
                        "backgroundcolor": "#E5ECF6",
                        "gridcolor": "white",
                        "gridwidth": 2,
                        "linecolor": "white",
                        "showbackground": true,
                        "ticks": "",
                        "zerolinecolor": "white"
                      },
                      "zaxis": {
                        "backgroundcolor": "#E5ECF6",
                        "gridcolor": "white",
                        "gridwidth": 2,
                        "linecolor": "white",
                        "showbackground": true,
                        "ticks": "",
                        "zerolinecolor": "white"
                      }
                    },
                    "shapedefaults": {
                      "line": {
                        "color": "#2a3f5f"
                      }
                    },
                    "ternary": {
                      "aaxis": {
                        "gridcolor": "white",
                        "linecolor": "white",
                        "ticks": ""
                      },
                      "baxis": {
                        "gridcolor": "white",
                        "linecolor": "white",
                        "ticks": ""
                      },
                      "bgcolor": "#E5ECF6",
                      "caxis": {
                        "gridcolor": "white",
                        "linecolor": "white",
                        "ticks": ""
                      }
                    },
                    "title": {
                      "x": 0.05
                    },
                    "xaxis": {
                      "automargin": true,
                      "gridcolor": "white",
                      "linecolor": "white",
                      "ticks": "",
                      "title": {
                        "standoff": 15
                      },
                      "zerolinecolor": "white",
                      "zerolinewidth": 2
                    },
                    "yaxis": {
                      "automargin": true,
                      "gridcolor": "white",
                      "linecolor": "white",
                      "ticks": "",
                      "title": {
                        "standoff": 15
                      },
                      "zerolinecolor": "white",
                      "zerolinewidth": 2
                    }
                  }
                },
                "title": {
                  "text": "Bar Chart of Global Methane Emissions"
                },
                "xaxis": {
                  "anchor": "y",
                  "domain": [
                    0,
                    1
                  ],
                  "title": {
                    "text": "emissions"
                  }
                },
                "yaxis": {
                  "anchor": "x",
                  "domain": [
                    0,
                    1
                  ],
                  "title": {
                    "text": "country"
                  }
                }
              }
            }
          },
          "metadata": {},
          "output_type": "display_data"
        }
      ],
      "source": [
        "fig = px.bar(df_segment_total20, x='emissions', y='country',color=\"type\",barmode=\"stack\", title='Bar Chart of Global Methane Emissions',hover_data=['region','baseYear'])\n",
        "\n",
        "fig.show()"
      ]
    },
    {
      "cell_type": "code",
      "execution_count": 73,
      "metadata": {},
      "outputs": [],
      "source": [
        "df_segment_total_int5=df_segment_total[\n",
        "    df_segment_total['country'].isin(['China', 'Russia', 'United States', 'Brazil', 'India'])\n",
        "].sort_values(by='emissions', ascending=False)\n"
      ]
    },
    {
      "cell_type": "code",
      "execution_count": 91,
      "metadata": {},
      "outputs": [
        {
          "data": {
            "application/vnd.plotly.v1+json": {
              "config": {
                "plotlyServerURL": "https://plot.ly"
              },
              "data": [
                {
                  "alignmentgroup": "True",
                  "customdata": [
                    [
                      "Asia Pacific",
                      "2022"
                    ],
                    [
                      "Russia & Caspian",
                      "2022"
                    ],
                    [
                      "North America",
                      "2022"
                    ],
                    [
                      "Asia Pacific",
                      "2022"
                    ],
                    [
                      "Central and South America",
                      "2022"
                    ]
                  ],
                  "hovertemplate": "type=Energy<br>country=%{x}<br>emissions=%{text}<br>region=%{customdata[0]}<br>baseYear=%{customdata[1]}<extra></extra>",
                  "legendgroup": "Energy",
                  "marker": {
                    "color": "#636efa",
                    "pattern": {
                      "shape": ""
                    }
                  },
                  "name": "Energy",
                  "offsetgroup": "Energy",
                  "orientation": "v",
                  "showlegend": true,
                  "text": [
                    25372.22265625,
                    18078.083984375,
                    16769.630859375,
                    5185.236328125,
                    1756.495361328125
                  ],
                  "textposition": "outside",
                  "texttemplate": "%{text:.2s}",
                  "type": "bar",
                  "x": [
                    "China",
                    "Russia",
                    "United States",
                    "India",
                    "Brazil"
                  ],
                  "xaxis": "x",
                  "y": [
                    25372.22265625,
                    18078.083984375,
                    16769.630859375,
                    5185.236328125,
                    1756.495361328125
                  ],
                  "yaxis": "y"
                },
                {
                  "alignmentgroup": "True",
                  "customdata": [
                    [
                      "Asia Pacific",
                      "2019-2021"
                    ],
                    [
                      "Asia Pacific",
                      "2019-2021"
                    ],
                    [
                      "Central and South America",
                      "2019-2021"
                    ],
                    [
                      "North America",
                      "2019-2021"
                    ],
                    [
                      "Russia & Caspian",
                      "2019-2021"
                    ]
                  ],
                  "hovertemplate": "type=Agriculture<br>country=%{x}<br>emissions=%{text}<br>region=%{customdata[0]}<br>baseYear=%{customdata[1]}<extra></extra>",
                  "legendgroup": "Agriculture",
                  "marker": {
                    "color": "#EF553B",
                    "pattern": {
                      "shape": ""
                    }
                  },
                  "name": "Agriculture",
                  "offsetgroup": "Agriculture",
                  "orientation": "v",
                  "showlegend": true,
                  "text": [
                    18501.9140625,
                    18358.517578125,
                    14020.0888671875,
                    9409.3251953125,
                    2022.095947265625
                  ],
                  "textposition": "outside",
                  "texttemplate": "%{text:.2s}",
                  "type": "bar",
                  "x": [
                    "China",
                    "India",
                    "Brazil",
                    "United States",
                    "Russia"
                  ],
                  "xaxis": "x",
                  "y": [
                    18501.9140625,
                    18358.517578125,
                    14020.0888671875,
                    9409.3251953125,
                    2022.095947265625
                  ],
                  "yaxis": "y"
                },
                {
                  "alignmentgroup": "True",
                  "customdata": [
                    [
                      "Asia Pacific",
                      "2019-2021"
                    ],
                    [
                      "Asia Pacific",
                      "2019-2021"
                    ],
                    [
                      "North America",
                      "2019-2021"
                    ],
                    [
                      "Russia & Caspian",
                      "2019-2021"
                    ],
                    [
                      "Central and South America",
                      "2019-2021"
                    ]
                  ],
                  "hovertemplate": "type=Waste<br>country=%{x}<br>emissions=%{text}<br>region=%{customdata[0]}<br>baseYear=%{customdata[1]}<extra></extra>",
                  "legendgroup": "Waste",
                  "marker": {
                    "color": "#00cc96",
                    "pattern": {
                      "shape": ""
                    }
                  },
                  "name": "Waste",
                  "offsetgroup": "Waste",
                  "orientation": "v",
                  "showlegend": true,
                  "text": [
                    10424.1416015625,
                    5551.7607421875,
                    5117.92822265625,
                    3931.244384765625,
                    3800.05712890625
                  ],
                  "textposition": "outside",
                  "texttemplate": "%{text:.2s}",
                  "type": "bar",
                  "x": [
                    "China",
                    "India",
                    "United States",
                    "Russia",
                    "Brazil"
                  ],
                  "xaxis": "x",
                  "y": [
                    10424.1416015625,
                    5551.7607421875,
                    5117.92822265625,
                    3931.244384765625,
                    3800.05712890625
                  ],
                  "yaxis": "y"
                }
              ],
              "layout": {
                "barmode": "stack",
                "legend": {
                  "title": {
                    "text": "type"
                  },
                  "tracegroupgap": 0
                },
                "template": {
                  "data": {
                    "bar": [
                      {
                        "error_x": {
                          "color": "#2a3f5f"
                        },
                        "error_y": {
                          "color": "#2a3f5f"
                        },
                        "marker": {
                          "line": {
                            "color": "#E5ECF6",
                            "width": 0.5
                          },
                          "pattern": {
                            "fillmode": "overlay",
                            "size": 10,
                            "solidity": 0.2
                          }
                        },
                        "type": "bar"
                      }
                    ],
                    "barpolar": [
                      {
                        "marker": {
                          "line": {
                            "color": "#E5ECF6",
                            "width": 0.5
                          },
                          "pattern": {
                            "fillmode": "overlay",
                            "size": 10,
                            "solidity": 0.2
                          }
                        },
                        "type": "barpolar"
                      }
                    ],
                    "carpet": [
                      {
                        "aaxis": {
                          "endlinecolor": "#2a3f5f",
                          "gridcolor": "white",
                          "linecolor": "white",
                          "minorgridcolor": "white",
                          "startlinecolor": "#2a3f5f"
                        },
                        "baxis": {
                          "endlinecolor": "#2a3f5f",
                          "gridcolor": "white",
                          "linecolor": "white",
                          "minorgridcolor": "white",
                          "startlinecolor": "#2a3f5f"
                        },
                        "type": "carpet"
                      }
                    ],
                    "choropleth": [
                      {
                        "colorbar": {
                          "outlinewidth": 0,
                          "ticks": ""
                        },
                        "type": "choropleth"
                      }
                    ],
                    "contour": [
                      {
                        "colorbar": {
                          "outlinewidth": 0,
                          "ticks": ""
                        },
                        "colorscale": [
                          [
                            0,
                            "#0d0887"
                          ],
                          [
                            0.1111111111111111,
                            "#46039f"
                          ],
                          [
                            0.2222222222222222,
                            "#7201a8"
                          ],
                          [
                            0.3333333333333333,
                            "#9c179e"
                          ],
                          [
                            0.4444444444444444,
                            "#bd3786"
                          ],
                          [
                            0.5555555555555556,
                            "#d8576b"
                          ],
                          [
                            0.6666666666666666,
                            "#ed7953"
                          ],
                          [
                            0.7777777777777778,
                            "#fb9f3a"
                          ],
                          [
                            0.8888888888888888,
                            "#fdca26"
                          ],
                          [
                            1,
                            "#f0f921"
                          ]
                        ],
                        "type": "contour"
                      }
                    ],
                    "contourcarpet": [
                      {
                        "colorbar": {
                          "outlinewidth": 0,
                          "ticks": ""
                        },
                        "type": "contourcarpet"
                      }
                    ],
                    "heatmap": [
                      {
                        "colorbar": {
                          "outlinewidth": 0,
                          "ticks": ""
                        },
                        "colorscale": [
                          [
                            0,
                            "#0d0887"
                          ],
                          [
                            0.1111111111111111,
                            "#46039f"
                          ],
                          [
                            0.2222222222222222,
                            "#7201a8"
                          ],
                          [
                            0.3333333333333333,
                            "#9c179e"
                          ],
                          [
                            0.4444444444444444,
                            "#bd3786"
                          ],
                          [
                            0.5555555555555556,
                            "#d8576b"
                          ],
                          [
                            0.6666666666666666,
                            "#ed7953"
                          ],
                          [
                            0.7777777777777778,
                            "#fb9f3a"
                          ],
                          [
                            0.8888888888888888,
                            "#fdca26"
                          ],
                          [
                            1,
                            "#f0f921"
                          ]
                        ],
                        "type": "heatmap"
                      }
                    ],
                    "heatmapgl": [
                      {
                        "colorbar": {
                          "outlinewidth": 0,
                          "ticks": ""
                        },
                        "colorscale": [
                          [
                            0,
                            "#0d0887"
                          ],
                          [
                            0.1111111111111111,
                            "#46039f"
                          ],
                          [
                            0.2222222222222222,
                            "#7201a8"
                          ],
                          [
                            0.3333333333333333,
                            "#9c179e"
                          ],
                          [
                            0.4444444444444444,
                            "#bd3786"
                          ],
                          [
                            0.5555555555555556,
                            "#d8576b"
                          ],
                          [
                            0.6666666666666666,
                            "#ed7953"
                          ],
                          [
                            0.7777777777777778,
                            "#fb9f3a"
                          ],
                          [
                            0.8888888888888888,
                            "#fdca26"
                          ],
                          [
                            1,
                            "#f0f921"
                          ]
                        ],
                        "type": "heatmapgl"
                      }
                    ],
                    "histogram": [
                      {
                        "marker": {
                          "pattern": {
                            "fillmode": "overlay",
                            "size": 10,
                            "solidity": 0.2
                          }
                        },
                        "type": "histogram"
                      }
                    ],
                    "histogram2d": [
                      {
                        "colorbar": {
                          "outlinewidth": 0,
                          "ticks": ""
                        },
                        "colorscale": [
                          [
                            0,
                            "#0d0887"
                          ],
                          [
                            0.1111111111111111,
                            "#46039f"
                          ],
                          [
                            0.2222222222222222,
                            "#7201a8"
                          ],
                          [
                            0.3333333333333333,
                            "#9c179e"
                          ],
                          [
                            0.4444444444444444,
                            "#bd3786"
                          ],
                          [
                            0.5555555555555556,
                            "#d8576b"
                          ],
                          [
                            0.6666666666666666,
                            "#ed7953"
                          ],
                          [
                            0.7777777777777778,
                            "#fb9f3a"
                          ],
                          [
                            0.8888888888888888,
                            "#fdca26"
                          ],
                          [
                            1,
                            "#f0f921"
                          ]
                        ],
                        "type": "histogram2d"
                      }
                    ],
                    "histogram2dcontour": [
                      {
                        "colorbar": {
                          "outlinewidth": 0,
                          "ticks": ""
                        },
                        "colorscale": [
                          [
                            0,
                            "#0d0887"
                          ],
                          [
                            0.1111111111111111,
                            "#46039f"
                          ],
                          [
                            0.2222222222222222,
                            "#7201a8"
                          ],
                          [
                            0.3333333333333333,
                            "#9c179e"
                          ],
                          [
                            0.4444444444444444,
                            "#bd3786"
                          ],
                          [
                            0.5555555555555556,
                            "#d8576b"
                          ],
                          [
                            0.6666666666666666,
                            "#ed7953"
                          ],
                          [
                            0.7777777777777778,
                            "#fb9f3a"
                          ],
                          [
                            0.8888888888888888,
                            "#fdca26"
                          ],
                          [
                            1,
                            "#f0f921"
                          ]
                        ],
                        "type": "histogram2dcontour"
                      }
                    ],
                    "mesh3d": [
                      {
                        "colorbar": {
                          "outlinewidth": 0,
                          "ticks": ""
                        },
                        "type": "mesh3d"
                      }
                    ],
                    "parcoords": [
                      {
                        "line": {
                          "colorbar": {
                            "outlinewidth": 0,
                            "ticks": ""
                          }
                        },
                        "type": "parcoords"
                      }
                    ],
                    "pie": [
                      {
                        "automargin": true,
                        "type": "pie"
                      }
                    ],
                    "scatter": [
                      {
                        "fillpattern": {
                          "fillmode": "overlay",
                          "size": 10,
                          "solidity": 0.2
                        },
                        "type": "scatter"
                      }
                    ],
                    "scatter3d": [
                      {
                        "line": {
                          "colorbar": {
                            "outlinewidth": 0,
                            "ticks": ""
                          }
                        },
                        "marker": {
                          "colorbar": {
                            "outlinewidth": 0,
                            "ticks": ""
                          }
                        },
                        "type": "scatter3d"
                      }
                    ],
                    "scattercarpet": [
                      {
                        "marker": {
                          "colorbar": {
                            "outlinewidth": 0,
                            "ticks": ""
                          }
                        },
                        "type": "scattercarpet"
                      }
                    ],
                    "scattergeo": [
                      {
                        "marker": {
                          "colorbar": {
                            "outlinewidth": 0,
                            "ticks": ""
                          }
                        },
                        "type": "scattergeo"
                      }
                    ],
                    "scattergl": [
                      {
                        "marker": {
                          "colorbar": {
                            "outlinewidth": 0,
                            "ticks": ""
                          }
                        },
                        "type": "scattergl"
                      }
                    ],
                    "scattermapbox": [
                      {
                        "marker": {
                          "colorbar": {
                            "outlinewidth": 0,
                            "ticks": ""
                          }
                        },
                        "type": "scattermapbox"
                      }
                    ],
                    "scatterpolar": [
                      {
                        "marker": {
                          "colorbar": {
                            "outlinewidth": 0,
                            "ticks": ""
                          }
                        },
                        "type": "scatterpolar"
                      }
                    ],
                    "scatterpolargl": [
                      {
                        "marker": {
                          "colorbar": {
                            "outlinewidth": 0,
                            "ticks": ""
                          }
                        },
                        "type": "scatterpolargl"
                      }
                    ],
                    "scatterternary": [
                      {
                        "marker": {
                          "colorbar": {
                            "outlinewidth": 0,
                            "ticks": ""
                          }
                        },
                        "type": "scatterternary"
                      }
                    ],
                    "surface": [
                      {
                        "colorbar": {
                          "outlinewidth": 0,
                          "ticks": ""
                        },
                        "colorscale": [
                          [
                            0,
                            "#0d0887"
                          ],
                          [
                            0.1111111111111111,
                            "#46039f"
                          ],
                          [
                            0.2222222222222222,
                            "#7201a8"
                          ],
                          [
                            0.3333333333333333,
                            "#9c179e"
                          ],
                          [
                            0.4444444444444444,
                            "#bd3786"
                          ],
                          [
                            0.5555555555555556,
                            "#d8576b"
                          ],
                          [
                            0.6666666666666666,
                            "#ed7953"
                          ],
                          [
                            0.7777777777777778,
                            "#fb9f3a"
                          ],
                          [
                            0.8888888888888888,
                            "#fdca26"
                          ],
                          [
                            1,
                            "#f0f921"
                          ]
                        ],
                        "type": "surface"
                      }
                    ],
                    "table": [
                      {
                        "cells": {
                          "fill": {
                            "color": "#EBF0F8"
                          },
                          "line": {
                            "color": "white"
                          }
                        },
                        "header": {
                          "fill": {
                            "color": "#C8D4E3"
                          },
                          "line": {
                            "color": "white"
                          }
                        },
                        "type": "table"
                      }
                    ]
                  },
                  "layout": {
                    "annotationdefaults": {
                      "arrowcolor": "#2a3f5f",
                      "arrowhead": 0,
                      "arrowwidth": 1
                    },
                    "autotypenumbers": "strict",
                    "coloraxis": {
                      "colorbar": {
                        "outlinewidth": 0,
                        "ticks": ""
                      }
                    },
                    "colorscale": {
                      "diverging": [
                        [
                          0,
                          "#8e0152"
                        ],
                        [
                          0.1,
                          "#c51b7d"
                        ],
                        [
                          0.2,
                          "#de77ae"
                        ],
                        [
                          0.3,
                          "#f1b6da"
                        ],
                        [
                          0.4,
                          "#fde0ef"
                        ],
                        [
                          0.5,
                          "#f7f7f7"
                        ],
                        [
                          0.6,
                          "#e6f5d0"
                        ],
                        [
                          0.7,
                          "#b8e186"
                        ],
                        [
                          0.8,
                          "#7fbc41"
                        ],
                        [
                          0.9,
                          "#4d9221"
                        ],
                        [
                          1,
                          "#276419"
                        ]
                      ],
                      "sequential": [
                        [
                          0,
                          "#0d0887"
                        ],
                        [
                          0.1111111111111111,
                          "#46039f"
                        ],
                        [
                          0.2222222222222222,
                          "#7201a8"
                        ],
                        [
                          0.3333333333333333,
                          "#9c179e"
                        ],
                        [
                          0.4444444444444444,
                          "#bd3786"
                        ],
                        [
                          0.5555555555555556,
                          "#d8576b"
                        ],
                        [
                          0.6666666666666666,
                          "#ed7953"
                        ],
                        [
                          0.7777777777777778,
                          "#fb9f3a"
                        ],
                        [
                          0.8888888888888888,
                          "#fdca26"
                        ],
                        [
                          1,
                          "#f0f921"
                        ]
                      ],
                      "sequentialminus": [
                        [
                          0,
                          "#0d0887"
                        ],
                        [
                          0.1111111111111111,
                          "#46039f"
                        ],
                        [
                          0.2222222222222222,
                          "#7201a8"
                        ],
                        [
                          0.3333333333333333,
                          "#9c179e"
                        ],
                        [
                          0.4444444444444444,
                          "#bd3786"
                        ],
                        [
                          0.5555555555555556,
                          "#d8576b"
                        ],
                        [
                          0.6666666666666666,
                          "#ed7953"
                        ],
                        [
                          0.7777777777777778,
                          "#fb9f3a"
                        ],
                        [
                          0.8888888888888888,
                          "#fdca26"
                        ],
                        [
                          1,
                          "#f0f921"
                        ]
                      ]
                    },
                    "colorway": [
                      "#636efa",
                      "#EF553B",
                      "#00cc96",
                      "#ab63fa",
                      "#FFA15A",
                      "#19d3f3",
                      "#FF6692",
                      "#B6E880",
                      "#FF97FF",
                      "#FECB52"
                    ],
                    "font": {
                      "color": "#2a3f5f"
                    },
                    "geo": {
                      "bgcolor": "white",
                      "lakecolor": "white",
                      "landcolor": "#E5ECF6",
                      "showlakes": true,
                      "showland": true,
                      "subunitcolor": "white"
                    },
                    "hoverlabel": {
                      "align": "left"
                    },
                    "hovermode": "closest",
                    "mapbox": {
                      "style": "light"
                    },
                    "paper_bgcolor": "white",
                    "plot_bgcolor": "#E5ECF6",
                    "polar": {
                      "angularaxis": {
                        "gridcolor": "white",
                        "linecolor": "white",
                        "ticks": ""
                      },
                      "bgcolor": "#E5ECF6",
                      "radialaxis": {
                        "gridcolor": "white",
                        "linecolor": "white",
                        "ticks": ""
                      }
                    },
                    "scene": {
                      "xaxis": {
                        "backgroundcolor": "#E5ECF6",
                        "gridcolor": "white",
                        "gridwidth": 2,
                        "linecolor": "white",
                        "showbackground": true,
                        "ticks": "",
                        "zerolinecolor": "white"
                      },
                      "yaxis": {
                        "backgroundcolor": "#E5ECF6",
                        "gridcolor": "white",
                        "gridwidth": 2,
                        "linecolor": "white",
                        "showbackground": true,
                        "ticks": "",
                        "zerolinecolor": "white"
                      },
                      "zaxis": {
                        "backgroundcolor": "#E5ECF6",
                        "gridcolor": "white",
                        "gridwidth": 2,
                        "linecolor": "white",
                        "showbackground": true,
                        "ticks": "",
                        "zerolinecolor": "white"
                      }
                    },
                    "shapedefaults": {
                      "line": {
                        "color": "#2a3f5f"
                      }
                    },
                    "ternary": {
                      "aaxis": {
                        "gridcolor": "white",
                        "linecolor": "white",
                        "ticks": ""
                      },
                      "baxis": {
                        "gridcolor": "white",
                        "linecolor": "white",
                        "ticks": ""
                      },
                      "bgcolor": "#E5ECF6",
                      "caxis": {
                        "gridcolor": "white",
                        "linecolor": "white",
                        "ticks": ""
                      }
                    },
                    "title": {
                      "x": 0.05
                    },
                    "xaxis": {
                      "automargin": true,
                      "gridcolor": "white",
                      "linecolor": "white",
                      "ticks": "",
                      "title": {
                        "standoff": 15
                      },
                      "zerolinecolor": "white",
                      "zerolinewidth": 2
                    },
                    "yaxis": {
                      "automargin": true,
                      "gridcolor": "white",
                      "linecolor": "white",
                      "ticks": "",
                      "title": {
                        "standoff": 15
                      },
                      "zerolinecolor": "white",
                      "zerolinewidth": 2
                    }
                  }
                },
                "title": {
                  "text": "Bar Chart of Top 5 Global Methane Emissions"
                },
                "uniformtext": {
                  "minsize": 3.5,
                  "mode": "hide"
                },
                "xaxis": {
                  "anchor": "y",
                  "categoryarray": [
                    "China",
                    "United States",
                    "India",
                    "Russia",
                    "Brazil"
                  ],
                  "categoryorder": "array",
                  "domain": [
                    0,
                    1
                  ],
                  "title": {
                    "text": "country"
                  }
                },
                "yaxis": {
                  "anchor": "x",
                  "domain": [
                    0,
                    1
                  ],
                  "title": {
                    "text": "emissions"
                  }
                }
              }
            }
          },
          "metadata": {},
          "output_type": "display_data"
        }
      ],
      "source": [
        "fig = px.bar(df_segment_total_int5, x='country', y='emissions',text='emissions',color=\"type\",barmode=\"stack\", title='Bar Chart of Top 5 Global Methane Emissions',category_orders={\n",
        "        \"country\": ['China', 'United States','India', 'Russia', 'Brazil']},hover_data=['region','baseYear'] \n",
        "    )\n",
        "fig.update_traces(texttemplate='%{text:.2s}', textposition='outside')\n",
        "fig.update_layout(uniformtext_minsize=3.5, uniformtext_mode='hide')\n",
        "fig.show()"
      ]
    },
    {
      "cell_type": "code",
      "execution_count": 100,
      "metadata": {},
      "outputs": [
        {
          "data": {
            "text/plain": [
              "array(['Algeria', 'Angola', 'Benin', 'Botswana', 'Cameroon',\n",
              "       'Central African Republic', 'Chad', 'Congo', \"Cote d'Ivoire\",\n",
              "       'Democratic Republic of Congo', 'Egypt', 'Equatorial Guinea',\n",
              "       'Eritrea', 'Ethiopia', 'Gabon', 'Gambia', 'Ghana', 'Guinea',\n",
              "       'Guinea-Bissau', 'Kenya', 'Liberia', 'Libya', 'Morocco',\n",
              "       'Mozambique', 'Namibia', 'Niger', 'Nigeria', 'Senegal',\n",
              "       'Seychelles', 'Sierra Leone', 'Somalia', 'South Africa',\n",
              "       'South Sudan', 'Sudan', 'Tanzania', 'Togo', 'Tunisia', 'Australia',\n",
              "       'Bangladesh', 'Brunei', 'China', 'India', 'Indonesia', 'Japan',\n",
              "       'Korea', 'Malaysia', 'Mongolia', 'New Zealand',\n",
              "       'Other countries in Southeast Asia', 'Pakistan', 'Philippines',\n",
              "       'Thailand', 'Vietnam', 'Argentina', 'Bolivia', 'Brazil',\n",
              "       'Colombia', 'Cuba', 'Ecuador', 'Guyana', 'Paraguay', 'Peru',\n",
              "       'Trinidad and Tobago', 'Uruguay', 'Venezuela', 'Denmark',\n",
              "       'Estonia', 'European Union', 'France', 'Germany', 'Israel',\n",
              "       'Italy', 'Netherlands', 'Norway', 'Other countries in Europe',\n",
              "       'Other EU17 countries', 'Other EU7 countries', 'Poland', 'Romania',\n",
              "       'Slovenia', 'Sweden', 'Ukraine', 'United Kingdom', 'Bahrain',\n",
              "       'Iran', 'Iraq', 'Jordan', 'Kuwait', 'Lebanon', 'Oman', 'Qatar',\n",
              "       'Saudi Arabia', 'Syria', 'United Arab Emirates', 'Yemen', 'Canada',\n",
              "       'Mexico', 'United States', 'Other', 'Azerbaijan', 'Kazakhstan',\n",
              "       'Russia', 'Turkmenistan', 'Uzbekistan'], dtype=object)"
            ]
          },
          "execution_count": 100,
          "metadata": {},
          "output_type": "execute_result"
        }
      ],
      "source": [
        "df['country'].unique()"
      ]
    },
    {
      "cell_type": "code",
      "execution_count": 98,
      "metadata": {},
      "outputs": [],
      "source": [
        "df_targeted_countries=df['country'].unique()"
      ]
    },
    {
      "cell_type": "code",
      "execution_count": 120,
      "metadata": {},
      "outputs": [],
      "source": [
        "country_coords_int = {\n",
        "    'Algeria': [28.0339, 1.6596],\n",
        "    'Angola': [-11.2027, 17.8739],\n",
        "    'Benin': [9.3077, 2.3158],\n",
        "    'Botswana': [-22.3285, 24.6849],\n",
        "    'Cameroon': [7.3697, 12.3547],\n",
        "    'Central African Republic': [6.6111, 20.9394],\n",
        "    'Chad': [15.4542, 18.7322],\n",
        "    'Congo': [-0.228, 15.8277],\n",
        "    \"Cote d'Ivoire\": [7.54, -5.5471],\n",
        "    'Democratic Republic of Congo': [-4.0383, 21.7587],\n",
        "    'Egypt': [26.8206, 30.8025],\n",
        "    'Equatorial Guinea': [1.6508, 10.2679],\n",
        "    'Eritrea': [15.1794, 39.7823],\n",
        "    'Ethiopia': [9.145, 40.4897],\n",
        "    'Gabon': [-0.8037, 11.6094],\n",
        "    'Gambia': [13.4432, -15.3101],\n",
        "    'Ghana': [7.9465, -1.0232],\n",
        "    'Guinea': [9.9456, -9.6966],\n",
        "    'Guinea-Bissau': [11.8037, -15.1804],\n",
        "    'Kenya': [-0.0236, 37.9062],\n",
        "    'Liberia': [6.4281, -9.4295],\n",
        "    'Libya': [26.3351, 17.2283],\n",
        "    'Morocco': [31.7917, -7.0926],\n",
        "    'Mozambique': [-18.6657, 35.5296],\n",
        "    'Namibia': [-22.9576, 18.4904],\n",
        "    'Niger': [17.6078, 8.0817],\n",
        "    'Nigeria': [9.082, 8.6753],\n",
        "    'Senegal': [14.4974, -14.4524],\n",
        "    'Seychelles': [-4.6796, 55.492],\n",
        "    'Sierra Leone': [8.4606, -11.7799],\n",
        "    'Somalia': [5.1521, 46.1996],\n",
        "    'South Africa': [-30.5595, 22.9375],\n",
        "    'South Sudan': [6.877, 31.307],\n",
        "    'Sudan': [12.8628, 30.2176],\n",
        "    'Tanzania': [-6.369, 34.8888],\n",
        "    'Togo': [8.6195, 0.8248],\n",
        "    'Tunisia': [33.8869, 9.5375],\n",
        "    'Australia': [-25.2744, 133.7751],\n",
        "    'Bangladesh': [23.685, 90.3563],\n",
        "    'Brunei': [4.5353, 114.7277],\n",
        "    'China': [35.8617, 104.1954],\n",
        "    'India': [20.5937, 78.9629],\n",
        "    'Indonesia': [-0.7893, 113.9213],\n",
        "    'Japan': [36.2048, 138.2529],\n",
        "    'Korea': [35.9078, 127.7669],\n",
        "    'Malaysia': [4.2105, 101.9758],\n",
        "    'Mongolia': [46.8625, 103.8467],\n",
        "    'New Zealand': [-40.9006, 174.886],\n",
        "    'Pakistan': [30.3753, 69.3451],\n",
        "    'Philippines': [13.41, 122.56],\n",
        "    'Thailand': [15.87, 100.9925],\n",
        "    'Vietnam': [14.0583, 108.2772],\n",
        "    'Brazil': [-14.235, -51.9253],\n",
        "    'United States': [37.0902, -95.7129],\n",
        "    'Russia': [61.524, 105.3188],\n",
        "    'United Kingdom': [55.3781, -3.4360],\n",
        "    'Germany': [51.1657, 10.4515],\n",
        "    'France': [46.2276, 2.2137],\n",
        "    'European Union': [50.1109, 8.6821],  # near Frankfurt, DE (central EU location)\n",
        "    'Other EU17 countries': [51.0, 10.0],  # roughly central western Europe\n",
        "    'Other EU7 countries': [50.5, 13.0],   # around Czech Republic / Austria area\n",
        "    'Other countries in Southeast Asia': [5.0, 115.0],  # general Borneo/SEA midpoint\n",
        "    'United Arab Emirates': [23.4241, 53.8478],# UAE centroid\n",
        "    'Other': [-6.5, 155.0],  # Near Solomon Islands / Papua New Guinea / Pacific center\n",
        "    'Iran': [32.4279, 53.6880],\n",
        "    'Turkmenistan': [38.9697, 59.5563],\n",
        "    'Argentina': [-38.4161, -63.6167],\n",
        "    'Saudi Arabia': [23.8859, 45.0792],\n",
        "    'Kazakhstan': [48.0196, 66.9237],\n",
        "    'Venezuela': [6.4238, -66.5897],\n",
        "    'Bolivia': [-16.2902, -63.5887],\n",
        "'Colombia': [4.5709, -74.2973],\n",
        "'Cuba': [21.5218, -77.7812],\n",
        "'Ecuador': [-1.8312, -78.1834],\n",
        "'Guyana': [4.8604, -58.9302],\n",
        "'Paraguay': [-23.4425, -58.4438],\n",
        "'Peru': [-9.1900, -75.0152],\n",
        "'Trinidad and Tobago': [10.6918, -61.2225],\n",
        "'Uruguay': [-32.5228, -55.7658],\n",
        "'Denmark': [56.2639, 9.5018],\n",
        "'Estonia': [58.5953, 25.0136],\n",
        "'Israel': [31.0461, 34.8516],\n",
        "'Italy': [41.8719, 12.5674],\n",
        "'Netherlands': [52.1326, 5.2913],\n",
        "'Norway': [60.472, 8.4689],\n",
        "'Other countries in Europe': [54.526, 15.2551],\n",
        "'Poland': [51.9194, 19.1451],\n",
        "'Romania': [45.9432, 24.9668],\n",
        "'Slovenia': [46.1512, 14.9955],\n",
        "'Sweden': [60.1282, 18.6435],\n",
        "'Ukraine': [48.3794, 31.1656],\n",
        "'Bahrain': [26.0667, 50.5577],\n",
        "'Iraq': [33.2232, 43.6793],\n",
        "'Jordan': [30.5852, 36.2384],\n",
        "'Kuwait': [29.3117, 47.4818],\n",
        "'Lebanon': [33.8547, 35.8623],\n",
        "'Oman': [21.5126, 55.9233],\n",
        "'Qatar': [25.276987, 51.520008],\n",
        "'Syria': [34.8021, 38.9968],\n",
        "'Yemen': [15.5527, 48.5164],\n",
        "'Canada': [56.1304, -106.3468],\n",
        "'Mexico': [23.6345, -102.5528],\n",
        "'Azerbaijan': [40.1431, 47.5769],\n",
        "'Uzbekistan': [41.3775, 64.5853]\n",
        "}"
      ]
    },
    {
      "cell_type": "code",
      "execution_count": 122,
      "metadata": {},
      "outputs": [
        {
          "data": {
            "application/vnd.plotly.v1+json": {
              "config": {
                "plotlyServerURL": "https://plot.ly"
              },
              "data": [
                {
                  "customdata": [
                    [
                      25372.22265625,
                      35.8617,
                      104.1954,
                      "Asia Pacific",
                      "2022",
                      "Energy"
                    ],
                    [
                      18501.9140625,
                      35.8617,
                      104.1954,
                      "Asia Pacific",
                      "2019-2021",
                      "Agriculture"
                    ],
                    [
                      10424.1416015625,
                      35.8617,
                      104.1954,
                      "Asia Pacific",
                      "2019-2021",
                      "Waste"
                    ]
                  ],
                  "hovertemplate": "<b>%{hovertext}</b><br><br>country=China<br>emissions=%{customdata[0]}<br>region=%{customdata[3]}<br>baseYear=%{customdata[4]}<br>type=%{customdata[5]}<extra></extra>",
                  "hovertext": [
                    "China",
                    "China",
                    "China"
                  ],
                  "lat": [
                    35.8617,
                    35.8617,
                    35.8617
                  ],
                  "legendgroup": "China",
                  "lon": [
                    104.1954,
                    104.1954,
                    104.1954
                  ],
                  "marker": {
                    "color": "#636efa",
                    "size": [
                      25372.22265625,
                      18501.9140625,
                      10424.1416015625
                    ],
                    "sizemode": "area",
                    "sizeref": 10.1488890625
                  },
                  "mode": "markers",
                  "name": "China",
                  "showlegend": true,
                  "subplot": "mapbox",
                  "type": "scattermapbox"
                },
                {
                  "customdata": [
                    [
                      18358.517578125,
                      20.5937,
                      78.9629,
                      "Asia Pacific",
                      "2019-2021",
                      "Agriculture"
                    ],
                    [
                      5551.7607421875,
                      20.5937,
                      78.9629,
                      "Asia Pacific",
                      "2019-2021",
                      "Waste"
                    ],
                    [
                      5185.236328125,
                      20.5937,
                      78.9629,
                      "Asia Pacific",
                      "2022",
                      "Energy"
                    ]
                  ],
                  "hovertemplate": "<b>%{hovertext}</b><br><br>country=India<br>emissions=%{customdata[0]}<br>region=%{customdata[3]}<br>baseYear=%{customdata[4]}<br>type=%{customdata[5]}<extra></extra>",
                  "hovertext": [
                    "India",
                    "India",
                    "India"
                  ],
                  "lat": [
                    20.5937,
                    20.5937,
                    20.5937
                  ],
                  "legendgroup": "India",
                  "lon": [
                    78.9629,
                    78.9629,
                    78.9629
                  ],
                  "marker": {
                    "color": "#EF553B",
                    "size": [
                      18358.517578125,
                      5551.7607421875,
                      5185.236328125
                    ],
                    "sizemode": "area",
                    "sizeref": 10.1488890625
                  },
                  "mode": "markers",
                  "name": "India",
                  "showlegend": true,
                  "subplot": "mapbox",
                  "type": "scattermapbox"
                },
                {
                  "customdata": [
                    [
                      18078.083984375,
                      61.524,
                      105.3188,
                      "Russia & Caspian",
                      "2022",
                      "Energy"
                    ],
                    [
                      3931.244384765625,
                      61.524,
                      105.3188,
                      "Russia & Caspian",
                      "2019-2021",
                      "Waste"
                    ],
                    [
                      2022.095947265625,
                      61.524,
                      105.3188,
                      "Russia & Caspian",
                      "2019-2021",
                      "Agriculture"
                    ]
                  ],
                  "hovertemplate": "<b>%{hovertext}</b><br><br>country=Russia<br>emissions=%{customdata[0]}<br>region=%{customdata[3]}<br>baseYear=%{customdata[4]}<br>type=%{customdata[5]}<extra></extra>",
                  "hovertext": [
                    "Russia",
                    "Russia",
                    "Russia"
                  ],
                  "lat": [
                    61.524,
                    61.524,
                    61.524
                  ],
                  "legendgroup": "Russia",
                  "lon": [
                    105.3188,
                    105.3188,
                    105.3188
                  ],
                  "marker": {
                    "color": "#00cc96",
                    "size": [
                      18078.083984375,
                      3931.244384765625,
                      2022.095947265625
                    ],
                    "sizemode": "area",
                    "sizeref": 10.1488890625
                  },
                  "mode": "markers",
                  "name": "Russia",
                  "showlegend": true,
                  "subplot": "mapbox",
                  "type": "scattermapbox"
                },
                {
                  "customdata": [
                    [
                      16769.630859375,
                      37.0902,
                      -95.7129,
                      "North America",
                      "2022",
                      "Energy"
                    ],
                    [
                      9409.3251953125,
                      37.0902,
                      -95.7129,
                      "North America",
                      "2019-2021",
                      "Agriculture"
                    ],
                    [
                      5117.92822265625,
                      37.0902,
                      -95.7129,
                      "North America",
                      "2019-2021",
                      "Waste"
                    ]
                  ],
                  "hovertemplate": "<b>%{hovertext}</b><br><br>country=United States<br>emissions=%{customdata[0]}<br>region=%{customdata[3]}<br>baseYear=%{customdata[4]}<br>type=%{customdata[5]}<extra></extra>",
                  "hovertext": [
                    "United States",
                    "United States",
                    "United States"
                  ],
                  "lat": [
                    37.0902,
                    37.0902,
                    37.0902
                  ],
                  "legendgroup": "United States",
                  "lon": [
                    -95.7129,
                    -95.7129,
                    -95.7129
                  ],
                  "marker": {
                    "color": "#ab63fa",
                    "size": [
                      16769.630859375,
                      9409.3251953125,
                      5117.92822265625
                    ],
                    "sizemode": "area",
                    "sizeref": 10.1488890625
                  },
                  "mode": "markers",
                  "name": "United States",
                  "showlegend": true,
                  "subplot": "mapbox",
                  "type": "scattermapbox"
                },
                {
                  "customdata": [
                    [
                      14020.0888671875,
                      -14.235,
                      -51.9253,
                      "Central and South America",
                      "2019-2021",
                      "Agriculture"
                    ],
                    [
                      3800.05712890625,
                      -14.235,
                      -51.9253,
                      "Central and South America",
                      "2019-2021",
                      "Waste"
                    ],
                    [
                      1756.495361328125,
                      -14.235,
                      -51.9253,
                      "Central and South America",
                      "2022",
                      "Energy"
                    ]
                  ],
                  "hovertemplate": "<b>%{hovertext}</b><br><br>country=Brazil<br>emissions=%{customdata[0]}<br>region=%{customdata[3]}<br>baseYear=%{customdata[4]}<br>type=%{customdata[5]}<extra></extra>",
                  "hovertext": [
                    "Brazil",
                    "Brazil",
                    "Brazil"
                  ],
                  "lat": [
                    -14.235,
                    -14.235,
                    -14.235
                  ],
                  "legendgroup": "Brazil",
                  "lon": [
                    -51.9253,
                    -51.9253,
                    -51.9253
                  ],
                  "marker": {
                    "color": "#FFA15A",
                    "size": [
                      14020.0888671875,
                      3800.05712890625,
                      1756.495361328125
                    ],
                    "sizemode": "area",
                    "sizeref": 10.1488890625
                  },
                  "mode": "markers",
                  "name": "Brazil",
                  "showlegend": true,
                  "subplot": "mapbox",
                  "type": "scattermapbox"
                },
                {
                  "customdata": [
                    [
                      8851.337890625,
                      50.1109,
                      8.6821,
                      "Europe",
                      "2019-2021",
                      "Agriculture"
                    ],
                    [
                      4320.9970703125,
                      50.1109,
                      8.6821,
                      "Europe",
                      "2019-2021",
                      "Waste"
                    ],
                    [
                      2760.969970703125,
                      50.1109,
                      8.6821,
                      "Europe",
                      "2022",
                      "Energy"
                    ]
                  ],
                  "hovertemplate": "<b>%{hovertext}</b><br><br>country=European Union<br>emissions=%{customdata[0]}<br>region=%{customdata[3]}<br>baseYear=%{customdata[4]}<br>type=%{customdata[5]}<extra></extra>",
                  "hovertext": [
                    "European Union",
                    "European Union",
                    "European Union"
                  ],
                  "lat": [
                    50.1109,
                    50.1109,
                    50.1109
                  ],
                  "legendgroup": "European Union",
                  "lon": [
                    8.6821,
                    8.6821,
                    8.6821
                  ],
                  "marker": {
                    "color": "#19d3f3",
                    "size": [
                      8851.337890625,
                      4320.9970703125,
                      2760.969970703125
                    ],
                    "sizemode": "area",
                    "sizeref": 10.1488890625
                  },
                  "mode": "markers",
                  "name": "European Union",
                  "showlegend": true,
                  "subplot": "mapbox",
                  "type": "scattermapbox"
                },
                {
                  "customdata": [
                    [
                      7259.01416015625,
                      -6.5,
                      155,
                      "Other",
                      "2019-2021",
                      "Agriculture"
                    ],
                    [
                      3214.4951171875,
                      -6.5,
                      155,
                      "Other",
                      "2019-2021",
                      "Waste"
                    ],
                    [
                      2420.8798828125,
                      -6.5,
                      155,
                      "Other",
                      "2022",
                      "Energy"
                    ]
                  ],
                  "hovertemplate": "<b>%{hovertext}</b><br><br>country=Other<br>emissions=%{customdata[0]}<br>region=%{customdata[3]}<br>baseYear=%{customdata[4]}<br>type=%{customdata[5]}<extra></extra>",
                  "hovertext": [
                    "Other",
                    "Other",
                    "Other"
                  ],
                  "lat": [
                    -6.5,
                    -6.5,
                    -6.5
                  ],
                  "legendgroup": "Other",
                  "lon": [
                    155,
                    155,
                    155
                  ],
                  "marker": {
                    "color": "#FF6692",
                    "size": [
                      7259.01416015625,
                      3214.4951171875,
                      2420.8798828125
                    ],
                    "sizemode": "area",
                    "sizeref": 10.1488890625
                  },
                  "mode": "markers",
                  "name": "Other",
                  "showlegend": true,
                  "subplot": "mapbox",
                  "type": "scattermapbox"
                },
                {
                  "customdata": [
                    [
                      5629.822265625,
                      32.4279,
                      53.688,
                      "Middle East",
                      "2022",
                      "Energy"
                    ],
                    [
                      931.3856201171876,
                      32.4279,
                      53.688,
                      "Middle East",
                      "2019-2021",
                      "Waste"
                    ],
                    [
                      802.454345703125,
                      32.4279,
                      53.688,
                      "Middle East",
                      "2019-2021",
                      "Agriculture"
                    ]
                  ],
                  "hovertemplate": "<b>%{hovertext}</b><br><br>country=Iran<br>emissions=%{customdata[0]}<br>region=%{customdata[3]}<br>baseYear=%{customdata[4]}<br>type=%{customdata[5]}<extra></extra>",
                  "hovertext": [
                    "Iran",
                    "Iran",
                    "Iran"
                  ],
                  "lat": [
                    32.4279,
                    32.4279,
                    32.4279
                  ],
                  "legendgroup": "Iran",
                  "lon": [
                    53.688,
                    53.688,
                    53.688
                  ],
                  "marker": {
                    "color": "#B6E880",
                    "size": [
                      5629.822265625,
                      931.3856201171876,
                      802.454345703125
                    ],
                    "sizemode": "area",
                    "sizeref": 10.1488890625
                  },
                  "mode": "markers",
                  "name": "Iran",
                  "showlegend": true,
                  "subplot": "mapbox",
                  "type": "scattermapbox"
                },
                {
                  "customdata": [
                    [
                      5319.4560546875,
                      30.3753,
                      69.3451,
                      "Asia Pacific",
                      "2019-2021",
                      "Agriculture"
                    ],
                    [
                      920.3993530273438,
                      30.3753,
                      69.3451,
                      "Asia Pacific",
                      "2022",
                      "Energy"
                    ],
                    [
                      854.3361206054688,
                      30.3753,
                      69.3451,
                      "Asia Pacific",
                      "2019-2021",
                      "Waste"
                    ]
                  ],
                  "hovertemplate": "<b>%{hovertext}</b><br><br>country=Pakistan<br>emissions=%{customdata[0]}<br>region=%{customdata[3]}<br>baseYear=%{customdata[4]}<br>type=%{customdata[5]}<extra></extra>",
                  "hovertext": [
                    "Pakistan",
                    "Pakistan",
                    "Pakistan"
                  ],
                  "lat": [
                    30.3753,
                    30.3753,
                    30.3753
                  ],
                  "legendgroup": "Pakistan",
                  "lon": [
                    69.3451,
                    69.3451,
                    69.3451
                  ],
                  "marker": {
                    "color": "#FF97FF",
                    "size": [
                      5319.4560546875,
                      920.3993530273438,
                      854.3361206054688
                    ],
                    "sizemode": "area",
                    "sizeref": 10.1488890625
                  },
                  "mode": "markers",
                  "name": "Pakistan",
                  "showlegend": true,
                  "subplot": "mapbox",
                  "type": "scattermapbox"
                },
                {
                  "customdata": [
                    [
                      5080.369140625,
                      -0.7893,
                      113.9213,
                      "Asia Pacific",
                      "2022",
                      "Energy"
                    ],
                    [
                      4568.9384765625,
                      -0.7893,
                      113.9213,
                      "Asia Pacific",
                      "2019-2021",
                      "Waste"
                    ],
                    [
                      3518.344482421875,
                      -0.7893,
                      113.9213,
                      "Asia Pacific",
                      "2019-2021",
                      "Agriculture"
                    ]
                  ],
                  "hovertemplate": "<b>%{hovertext}</b><br><br>country=Indonesia<br>emissions=%{customdata[0]}<br>region=%{customdata[3]}<br>baseYear=%{customdata[4]}<br>type=%{customdata[5]}<extra></extra>",
                  "hovertext": [
                    "Indonesia",
                    "Indonesia",
                    "Indonesia"
                  ],
                  "lat": [
                    -0.7893,
                    -0.7893,
                    -0.7893
                  ],
                  "legendgroup": "Indonesia",
                  "lon": [
                    113.9213,
                    113.9213,
                    113.9213
                  ],
                  "marker": {
                    "color": "#FECB52",
                    "size": [
                      5080.369140625,
                      4568.9384765625,
                      3518.344482421875
                    ],
                    "sizemode": "area",
                    "sizeref": 10.1488890625
                  },
                  "mode": "markers",
                  "name": "Indonesia",
                  "showlegend": true,
                  "subplot": "mapbox",
                  "type": "scattermapbox"
                },
                {
                  "customdata": [
                    [
                      4740.041015625,
                      38.9697,
                      59.5563,
                      "Russia & Caspian",
                      "2022",
                      "Energy"
                    ],
                    [
                      304.87176513671875,
                      38.9697,
                      59.5563,
                      "Russia & Caspian",
                      "2019-2021",
                      "Agriculture"
                    ],
                    [
                      48.02981185913086,
                      38.9697,
                      59.5563,
                      "Russia & Caspian",
                      "2019-2021",
                      "Waste"
                    ]
                  ],
                  "hovertemplate": "<b>%{hovertext}</b><br><br>country=Turkmenistan<br>emissions=%{customdata[0]}<br>region=%{customdata[3]}<br>baseYear=%{customdata[4]}<br>type=%{customdata[5]}<extra></extra>",
                  "hovertext": [
                    "Turkmenistan",
                    "Turkmenistan",
                    "Turkmenistan"
                  ],
                  "lat": [
                    38.9697,
                    38.9697,
                    38.9697
                  ],
                  "legendgroup": "Turkmenistan",
                  "lon": [
                    59.5563,
                    59.5563,
                    59.5563
                  ],
                  "marker": {
                    "color": "#636efa",
                    "size": [
                      4740.041015625,
                      304.87176513671875,
                      48.02981185913086
                    ],
                    "sizemode": "area",
                    "sizeref": 10.1488890625
                  },
                  "mode": "markers",
                  "name": "Turkmenistan",
                  "showlegend": true,
                  "subplot": "mapbox",
                  "type": "scattermapbox"
                },
                {
                  "customdata": [
                    [
                      3306.0712890625,
                      9.082,
                      8.6753,
                      "Africa",
                      "2022",
                      "Energy"
                    ],
                    [
                      2082.188232421875,
                      9.082,
                      8.6753,
                      "Africa",
                      "2019-2021",
                      "Agriculture"
                    ],
                    [
                      862.4360961914062,
                      9.082,
                      8.6753,
                      "Africa",
                      "2019-2021",
                      "Waste"
                    ]
                  ],
                  "hovertemplate": "<b>%{hovertext}</b><br><br>country=Nigeria<br>emissions=%{customdata[0]}<br>region=%{customdata[3]}<br>baseYear=%{customdata[4]}<br>type=%{customdata[5]}<extra></extra>",
                  "hovertext": [
                    "Nigeria",
                    "Nigeria",
                    "Nigeria"
                  ],
                  "lat": [
                    9.082,
                    9.082,
                    9.082
                  ],
                  "legendgroup": "Nigeria",
                  "lon": [
                    8.6753,
                    8.6753,
                    8.6753
                  ],
                  "marker": {
                    "color": "#EF553B",
                    "size": [
                      3306.0712890625,
                      2082.188232421875,
                      862.4360961914062
                    ],
                    "sizemode": "area",
                    "sizeref": 10.1488890625
                  },
                  "mode": "markers",
                  "name": "Nigeria",
                  "showlegend": true,
                  "subplot": "mapbox",
                  "type": "scattermapbox"
                },
                {
                  "customdata": [
                    [
                      3300.293701171875,
                      5,
                      115,
                      "Asia Pacific",
                      "2019-2021",
                      "Agriculture"
                    ],
                    [
                      527.3272094726562,
                      5,
                      115,
                      "Asia Pacific",
                      "2022",
                      "Energy"
                    ],
                    [
                      436.8053588867188,
                      5,
                      115,
                      "Asia Pacific",
                      "2019-2021",
                      "Waste"
                    ]
                  ],
                  "hovertemplate": "<b>%{hovertext}</b><br><br>country=Other countries in Southeast Asia<br>emissions=%{customdata[0]}<br>region=%{customdata[3]}<br>baseYear=%{customdata[4]}<br>type=%{customdata[5]}<extra></extra>",
                  "hovertext": [
                    "Other countries in Southeast Asia",
                    "Other countries in Southeast Asia",
                    "Other countries in Southeast Asia"
                  ],
                  "lat": [
                    5,
                    5,
                    5
                  ],
                  "legendgroup": "Other countries in Southeast Asia",
                  "lon": [
                    115,
                    115,
                    115
                  ],
                  "marker": {
                    "color": "#00cc96",
                    "size": [
                      3300.293701171875,
                      527.3272094726562,
                      436.8053588867188
                    ],
                    "sizemode": "area",
                    "sizeref": 10.1488890625
                  },
                  "mode": "markers",
                  "name": "Other countries in Southeast Asia",
                  "showlegend": true,
                  "subplot": "mapbox",
                  "type": "scattermapbox"
                },
                {
                  "customdata": [
                    [
                      3152.9326171875,
                      -38.4161,
                      -63.6167,
                      "Central and South America",
                      "2019-2021",
                      "Agriculture"
                    ],
                    [
                      1307.0936279296875,
                      -38.4161,
                      -63.6167,
                      "Central and South America",
                      "2022",
                      "Energy"
                    ],
                    [
                      705.7312622070312,
                      -38.4161,
                      -63.6167,
                      "Central and South America",
                      "2019-2021",
                      "Waste"
                    ]
                  ],
                  "hovertemplate": "<b>%{hovertext}</b><br><br>country=Argentina<br>emissions=%{customdata[0]}<br>region=%{customdata[3]}<br>baseYear=%{customdata[4]}<br>type=%{customdata[5]}<extra></extra>",
                  "hovertext": [
                    "Argentina",
                    "Argentina",
                    "Argentina"
                  ],
                  "lat": [
                    -38.4161,
                    -38.4161,
                    -38.4161
                  ],
                  "legendgroup": "Argentina",
                  "lon": [
                    -63.6167,
                    -63.6167,
                    -63.6167
                  ],
                  "marker": {
                    "color": "#ab63fa",
                    "size": [
                      3152.9326171875,
                      1307.0936279296875,
                      705.7312622070312
                    ],
                    "sizemode": "area",
                    "sizeref": 10.1488890625
                  },
                  "mode": "markers",
                  "name": "Argentina",
                  "showlegend": true,
                  "subplot": "mapbox",
                  "type": "scattermapbox"
                },
                {
                  "customdata": [
                    [
                      3051.0966796875,
                      23.8859,
                      45.0792,
                      "Middle East",
                      "2022",
                      "Energy"
                    ],
                    [
                      955.779541015625,
                      23.8859,
                      45.0792,
                      "Middle East",
                      "2019-2021",
                      "Waste"
                    ],
                    [
                      121.0209732055664,
                      23.8859,
                      45.0792,
                      "Middle East",
                      "2019-2021",
                      "Agriculture"
                    ]
                  ],
                  "hovertemplate": "<b>%{hovertext}</b><br><br>country=Saudi Arabia<br>emissions=%{customdata[0]}<br>region=%{customdata[3]}<br>baseYear=%{customdata[4]}<br>type=%{customdata[5]}<extra></extra>",
                  "hovertext": [
                    "Saudi Arabia",
                    "Saudi Arabia",
                    "Saudi Arabia"
                  ],
                  "lat": [
                    23.8859,
                    23.8859,
                    23.8859
                  ],
                  "legendgroup": "Saudi Arabia",
                  "lon": [
                    45.0792,
                    45.0792,
                    45.0792
                  ],
                  "marker": {
                    "color": "#FFA15A",
                    "size": [
                      3051.0966796875,
                      955.779541015625,
                      121.0209732055664
                    ],
                    "sizemode": "area",
                    "sizeref": 10.1488890625
                  },
                  "mode": "markers",
                  "name": "Saudi Arabia",
                  "showlegend": true,
                  "subplot": "mapbox",
                  "type": "scattermapbox"
                },
                {
                  "customdata": [
                    [
                      2811.933837890625,
                      51,
                      10,
                      "Europe",
                      "2019-2021",
                      "Agriculture"
                    ],
                    [
                      1850.4228515625,
                      51,
                      10,
                      "Europe",
                      "2019-2021",
                      "Waste"
                    ],
                    [
                      600.064453125,
                      51,
                      10,
                      "Europe",
                      "2022",
                      "Energy"
                    ]
                  ],
                  "hovertemplate": "<b>%{hovertext}</b><br><br>country=Other EU17 countries<br>emissions=%{customdata[0]}<br>region=%{customdata[3]}<br>baseYear=%{customdata[4]}<br>type=%{customdata[5]}<extra></extra>",
                  "hovertext": [
                    "Other EU17 countries",
                    "Other EU17 countries",
                    "Other EU17 countries"
                  ],
                  "lat": [
                    51,
                    51,
                    51
                  ],
                  "legendgroup": "Other EU17 countries",
                  "lon": [
                    10,
                    10,
                    10
                  ],
                  "marker": {
                    "color": "#19d3f3",
                    "size": [
                      2811.933837890625,
                      1850.4228515625,
                      600.064453125
                    ],
                    "sizemode": "area",
                    "sizeref": 10.1488890625
                  },
                  "mode": "markers",
                  "name": "Other EU17 countries",
                  "showlegend": true,
                  "subplot": "mapbox",
                  "type": "scattermapbox"
                },
                {
                  "customdata": [
                    [
                      2740.561279296875,
                      48.0196,
                      66.9237,
                      "Russia & Caspian",
                      "2022",
                      "Energy"
                    ],
                    [
                      762.0980834960938,
                      48.0196,
                      66.9237,
                      "Russia & Caspian",
                      "2019-2021",
                      "Agriculture"
                    ],
                    [
                      198.9350128173828,
                      48.0196,
                      66.9237,
                      "Russia & Caspian",
                      "2019-2021",
                      "Waste"
                    ]
                  ],
                  "hovertemplate": "<b>%{hovertext}</b><br><br>country=Kazakhstan<br>emissions=%{customdata[0]}<br>region=%{customdata[3]}<br>baseYear=%{customdata[4]}<br>type=%{customdata[5]}<extra></extra>",
                  "hovertext": [
                    "Kazakhstan",
                    "Kazakhstan",
                    "Kazakhstan"
                  ],
                  "lat": [
                    48.0196,
                    48.0196,
                    48.0196
                  ],
                  "legendgroup": "Kazakhstan",
                  "lon": [
                    66.9237,
                    66.9237,
                    66.9237
                  ],
                  "marker": {
                    "color": "#FF6692",
                    "size": [
                      2740.561279296875,
                      762.0980834960938,
                      198.9350128173828
                    ],
                    "sizemode": "area",
                    "sizeref": 10.1488890625
                  },
                  "mode": "markers",
                  "name": "Kazakhstan",
                  "showlegend": true,
                  "subplot": "mapbox",
                  "type": "scattermapbox"
                },
                {
                  "customdata": [
                    [
                      2669.194580078125,
                      28.0339,
                      1.6596,
                      "Africa",
                      "2022",
                      "Energy"
                    ],
                    [
                      510.9656066894531,
                      28.0339,
                      1.6596,
                      "Africa",
                      "2019-2021",
                      "Waste"
                    ],
                    [
                      257.6112060546875,
                      28.0339,
                      1.6596,
                      "Africa",
                      "2019-2021",
                      "Agriculture"
                    ]
                  ],
                  "hovertemplate": "<b>%{hovertext}</b><br><br>country=Algeria<br>emissions=%{customdata[0]}<br>region=%{customdata[3]}<br>baseYear=%{customdata[4]}<br>type=%{customdata[5]}<extra></extra>",
                  "hovertext": [
                    "Algeria",
                    "Algeria",
                    "Algeria"
                  ],
                  "lat": [
                    28.0339,
                    28.0339,
                    28.0339
                  ],
                  "legendgroup": "Algeria",
                  "lon": [
                    1.6596,
                    1.6596,
                    1.6596
                  ],
                  "marker": {
                    "color": "#B6E880",
                    "size": [
                      2669.194580078125,
                      510.9656066894531,
                      257.6112060546875
                    ],
                    "sizemode": "area",
                    "sizeref": 10.1488890625
                  },
                  "mode": "markers",
                  "name": "Algeria",
                  "showlegend": true,
                  "subplot": "mapbox",
                  "type": "scattermapbox"
                },
                {
                  "customdata": [
                    [
                      2642.70361328125,
                      6.4238,
                      -66.5897,
                      "Central and South America",
                      "2022",
                      "Energy"
                    ],
                    [
                      1015.0640869140624,
                      6.4238,
                      -66.5897,
                      "Central and South America",
                      "2019-2021",
                      "Agriculture"
                    ],
                    [
                      379.9532775878906,
                      6.4238,
                      -66.5897,
                      "Central and South America",
                      "2019-2021",
                      "Waste"
                    ]
                  ],
                  "hovertemplate": "<b>%{hovertext}</b><br><br>country=Venezuela<br>emissions=%{customdata[0]}<br>region=%{customdata[3]}<br>baseYear=%{customdata[4]}<br>type=%{customdata[5]}<extra></extra>",
                  "hovertext": [
                    "Venezuela",
                    "Venezuela",
                    "Venezuela"
                  ],
                  "lat": [
                    6.4238,
                    6.4238,
                    6.4238
                  ],
                  "legendgroup": "Venezuela",
                  "lon": [
                    -66.5897,
                    -66.5897,
                    -66.5897
                  ],
                  "marker": {
                    "color": "#FF97FF",
                    "size": [
                      2642.70361328125,
                      1015.0640869140624,
                      379.9532775878906
                    ],
                    "sizemode": "area",
                    "sizeref": 10.1488890625
                  },
                  "mode": "markers",
                  "name": "Venezuela",
                  "showlegend": true,
                  "subplot": "mapbox",
                  "type": "scattermapbox"
                },
                {
                  "customdata": [
                    [
                      2548.3984375,
                      56.1304,
                      -106.3468,
                      "North America",
                      "2022",
                      "Energy"
                    ],
                    [
                      1072.710693359375,
                      56.1304,
                      -106.3468,
                      "North America",
                      "2019-2021",
                      "Agriculture"
                    ],
                    [
                      897.9652709960938,
                      56.1304,
                      -106.3468,
                      "North America",
                      "2019-2021",
                      "Waste"
                    ]
                  ],
                  "hovertemplate": "<b>%{hovertext}</b><br><br>country=Canada<br>emissions=%{customdata[0]}<br>region=%{customdata[3]}<br>baseYear=%{customdata[4]}<br>type=%{customdata[5]}<extra></extra>",
                  "hovertext": [
                    "Canada",
                    "Canada",
                    "Canada"
                  ],
                  "lat": [
                    56.1304,
                    56.1304,
                    56.1304
                  ],
                  "legendgroup": "Canada",
                  "lon": [
                    -106.3468,
                    -106.3468,
                    -106.3468
                  ],
                  "marker": {
                    "color": "#FECB52",
                    "size": [
                      2548.3984375,
                      1072.710693359375,
                      897.9652709960938
                    ],
                    "sizemode": "area",
                    "sizeref": 10.1488890625
                  },
                  "mode": "markers",
                  "name": "Canada",
                  "showlegend": true,
                  "subplot": "mapbox",
                  "type": "scattermapbox"
                },
                {
                  "customdata": [
                    [
                      2515.052734375,
                      33.2232,
                      43.6793,
                      "Middle East",
                      "2022",
                      "Energy"
                    ],
                    [
                      362.1964721679688,
                      33.2232,
                      43.6793,
                      "Middle East",
                      "2019-2021",
                      "Waste"
                    ],
                    [
                      168.22393798828125,
                      33.2232,
                      43.6793,
                      "Middle East",
                      "2019-2021",
                      "Agriculture"
                    ]
                  ],
                  "hovertemplate": "<b>%{hovertext}</b><br><br>country=Iraq<br>emissions=%{customdata[0]}<br>region=%{customdata[3]}<br>baseYear=%{customdata[4]}<br>type=%{customdata[5]}<extra></extra>",
                  "hovertext": [
                    "Iraq",
                    "Iraq",
                    "Iraq"
                  ],
                  "lat": [
                    33.2232,
                    33.2232,
                    33.2232
                  ],
                  "legendgroup": "Iraq",
                  "lon": [
                    43.6793,
                    43.6793,
                    43.6793
                  ],
                  "marker": {
                    "color": "#636efa",
                    "size": [
                      2515.052734375,
                      362.1964721679688,
                      168.22393798828125
                    ],
                    "sizemode": "area",
                    "sizeref": 10.1488890625
                  },
                  "mode": "markers",
                  "name": "Iraq",
                  "showlegend": true,
                  "subplot": "mapbox",
                  "type": "scattermapbox"
                },
                {
                  "customdata": [
                    [
                      2450.463134765625,
                      -25.2744,
                      133.7751,
                      "Asia Pacific",
                      "2019-2021",
                      "Agriculture"
                    ],
                    [
                      2232.23876953125,
                      -25.2744,
                      133.7751,
                      "Asia Pacific",
                      "2022",
                      "Energy"
                    ],
                    [
                      619.0491333007812,
                      -25.2744,
                      133.7751,
                      "Asia Pacific",
                      "2019-2021",
                      "Waste"
                    ]
                  ],
                  "hovertemplate": "<b>%{hovertext}</b><br><br>country=Australia<br>emissions=%{customdata[0]}<br>region=%{customdata[3]}<br>baseYear=%{customdata[4]}<br>type=%{customdata[5]}<extra></extra>",
                  "hovertext": [
                    "Australia",
                    "Australia",
                    "Australia"
                  ],
                  "lat": [
                    -25.2744,
                    -25.2744,
                    -25.2744
                  ],
                  "legendgroup": "Australia",
                  "lon": [
                    133.7751,
                    133.7751,
                    133.7751
                  ],
                  "marker": {
                    "color": "#EF553B",
                    "size": [
                      2450.463134765625,
                      2232.23876953125,
                      619.0491333007812
                    ],
                    "sizemode": "area",
                    "sizeref": 10.1488890625
                  },
                  "mode": "markers",
                  "name": "Australia",
                  "showlegend": true,
                  "subplot": "mapbox",
                  "type": "scattermapbox"
                },
                {
                  "customdata": [
                    [
                      2420.791015625,
                      23.6345,
                      -102.5528,
                      "North America",
                      "2019-2021",
                      "Agriculture"
                    ],
                    [
                      1994.62744140625,
                      23.6345,
                      -102.5528,
                      "North America",
                      "2019-2021",
                      "Waste"
                    ],
                    [
                      1581.3292236328125,
                      23.6345,
                      -102.5528,
                      "North America",
                      "2022",
                      "Energy"
                    ]
                  ],
                  "hovertemplate": "<b>%{hovertext}</b><br><br>country=Mexico<br>emissions=%{customdata[0]}<br>region=%{customdata[3]}<br>baseYear=%{customdata[4]}<br>type=%{customdata[5]}<extra></extra>",
                  "hovertext": [
                    "Mexico",
                    "Mexico",
                    "Mexico"
                  ],
                  "lat": [
                    23.6345,
                    23.6345,
                    23.6345
                  ],
                  "legendgroup": "Mexico",
                  "lon": [
                    -102.5528,
                    -102.5528,
                    -102.5528
                  ],
                  "marker": {
                    "color": "#00cc96",
                    "size": [
                      2420.791015625,
                      1994.62744140625,
                      1581.3292236328125
                    ],
                    "sizemode": "area",
                    "sizeref": 10.1488890625
                  },
                  "mode": "markers",
                  "name": "Mexico",
                  "showlegend": true,
                  "subplot": "mapbox",
                  "type": "scattermapbox"
                },
                {
                  "customdata": [
                    [
                      2410.234375,
                      23.685,
                      90.3563,
                      "Asia Pacific",
                      "2019-2021",
                      "Agriculture"
                    ],
                    [
                      825.30224609375,
                      23.685,
                      90.3563,
                      "Asia Pacific",
                      "2019-2021",
                      "Waste"
                    ],
                    [
                      334.3358459472656,
                      23.685,
                      90.3563,
                      "Asia Pacific",
                      "2022",
                      "Energy"
                    ]
                  ],
                  "hovertemplate": "<b>%{hovertext}</b><br><br>country=Bangladesh<br>emissions=%{customdata[0]}<br>region=%{customdata[3]}<br>baseYear=%{customdata[4]}<br>type=%{customdata[5]}<extra></extra>",
                  "hovertext": [
                    "Bangladesh",
                    "Bangladesh",
                    "Bangladesh"
                  ],
                  "lat": [
                    23.685,
                    23.685,
                    23.685
                  ],
                  "legendgroup": "Bangladesh",
                  "lon": [
                    90.3563,
                    90.3563,
                    90.3563
                  ],
                  "marker": {
                    "color": "#ab63fa",
                    "size": [
                      2410.234375,
                      825.30224609375,
                      334.3358459472656
                    ],
                    "sizemode": "area",
                    "sizeref": 10.1488890625
                  },
                  "mode": "markers",
                  "name": "Bangladesh",
                  "showlegend": true,
                  "subplot": "mapbox",
                  "type": "scattermapbox"
                },
                {
                  "customdata": [
                    [
                      2321.68505859375,
                      54.526,
                      15.2551,
                      "Europe",
                      "2019-2021",
                      "Waste"
                    ],
                    [
                      2284.248779296875,
                      54.526,
                      15.2551,
                      "Europe",
                      "2019-2021",
                      "Agriculture"
                    ],
                    [
                      448.1883544921875,
                      54.526,
                      15.2551,
                      "Europe",
                      "2022",
                      "Energy"
                    ]
                  ],
                  "hovertemplate": "<b>%{hovertext}</b><br><br>country=Other countries in Europe<br>emissions=%{customdata[0]}<br>region=%{customdata[3]}<br>baseYear=%{customdata[4]}<br>type=%{customdata[5]}<extra></extra>",
                  "hovertext": [
                    "Other countries in Europe",
                    "Other countries in Europe",
                    "Other countries in Europe"
                  ],
                  "lat": [
                    54.526,
                    54.526,
                    54.526
                  ],
                  "legendgroup": "Other countries in Europe",
                  "lon": [
                    15.2551,
                    15.2551,
                    15.2551
                  ],
                  "marker": {
                    "color": "#FFA15A",
                    "size": [
                      2321.68505859375,
                      2284.248779296875,
                      448.1883544921875
                    ],
                    "sizemode": "area",
                    "sizeref": 10.1488890625
                  },
                  "mode": "markers",
                  "name": "Other countries in Europe",
                  "showlegend": true,
                  "subplot": "mapbox",
                  "type": "scattermapbox"
                },
                {
                  "customdata": [
                    [
                      2193.2626953125,
                      14.0583,
                      108.2772,
                      "Asia Pacific",
                      "2019-2021",
                      "Agriculture"
                    ],
                    [
                      783.7750244140625,
                      14.0583,
                      108.2772,
                      "Asia Pacific",
                      "2019-2021",
                      "Waste"
                    ],
                    [
                      60.93199920654297,
                      14.0583,
                      108.2772,
                      "Asia Pacific",
                      "2022",
                      "Energy"
                    ]
                  ],
                  "hovertemplate": "<b>%{hovertext}</b><br><br>country=Vietnam<br>emissions=%{customdata[0]}<br>region=%{customdata[3]}<br>baseYear=%{customdata[4]}<br>type=%{customdata[5]}<extra></extra>",
                  "hovertext": [
                    "Vietnam",
                    "Vietnam",
                    "Vietnam"
                  ],
                  "lat": [
                    14.0583,
                    14.0583,
                    14.0583
                  ],
                  "legendgroup": "Vietnam",
                  "lon": [
                    108.2772,
                    108.2772,
                    108.2772
                  ],
                  "marker": {
                    "color": "#19d3f3",
                    "size": [
                      2193.2626953125,
                      783.7750244140625,
                      60.93199920654297
                    ],
                    "sizemode": "area",
                    "sizeref": 10.1488890625
                  },
                  "mode": "markers",
                  "name": "Vietnam",
                  "showlegend": true,
                  "subplot": "mapbox",
                  "type": "scattermapbox"
                },
                {
                  "customdata": [
                    [
                      2078.933837890625,
                      15.87,
                      100.9925,
                      "Asia Pacific",
                      "2019-2021",
                      "Agriculture"
                    ],
                    [
                      703.9661254882812,
                      15.87,
                      100.9925,
                      "Asia Pacific",
                      "2019-2021",
                      "Waste"
                    ],
                    [
                      535.2486572265625,
                      15.87,
                      100.9925,
                      "Asia Pacific",
                      "2022",
                      "Energy"
                    ]
                  ],
                  "hovertemplate": "<b>%{hovertext}</b><br><br>country=Thailand<br>emissions=%{customdata[0]}<br>region=%{customdata[3]}<br>baseYear=%{customdata[4]}<br>type=%{customdata[5]}<extra></extra>",
                  "hovertext": [
                    "Thailand",
                    "Thailand",
                    "Thailand"
                  ],
                  "lat": [
                    15.87,
                    15.87,
                    15.87
                  ],
                  "legendgroup": "Thailand",
                  "lon": [
                    100.9925,
                    100.9925,
                    100.9925
                  ],
                  "marker": {
                    "color": "#FF6692",
                    "size": [
                      2078.933837890625,
                      703.9661254882812,
                      535.2486572265625
                    ],
                    "sizemode": "area",
                    "sizeref": 10.1488890625
                  },
                  "mode": "markers",
                  "name": "Thailand",
                  "showlegend": true,
                  "subplot": "mapbox",
                  "type": "scattermapbox"
                },
                {
                  "customdata": [
                    [
                      1910.0897216796875,
                      9.145,
                      40.4897,
                      "Africa",
                      "2019-2021",
                      "Agriculture"
                    ],
                    [
                      464.2127685546875,
                      9.145,
                      40.4897,
                      "Africa",
                      "2022",
                      "Energy"
                    ],
                    [
                      414.8589172363281,
                      9.145,
                      40.4897,
                      "Africa",
                      "2019-2021",
                      "Waste"
                    ]
                  ],
                  "hovertemplate": "<b>%{hovertext}</b><br><br>country=Ethiopia<br>emissions=%{customdata[0]}<br>region=%{customdata[3]}<br>baseYear=%{customdata[4]}<br>type=%{customdata[5]}<extra></extra>",
                  "hovertext": [
                    "Ethiopia",
                    "Ethiopia",
                    "Ethiopia"
                  ],
                  "lat": [
                    9.145,
                    9.145,
                    9.145
                  ],
                  "legendgroup": "Ethiopia",
                  "lon": [
                    40.4897,
                    40.4897,
                    40.4897
                  ],
                  "marker": {
                    "color": "#B6E880",
                    "size": [
                      1910.0897216796875,
                      464.2127685546875,
                      414.8589172363281
                    ],
                    "sizemode": "area",
                    "sizeref": 10.1488890625
                  },
                  "mode": "markers",
                  "name": "Ethiopia",
                  "showlegend": true,
                  "subplot": "mapbox",
                  "type": "scattermapbox"
                },
                {
                  "customdata": [
                    [
                      1795.9031982421875,
                      4.5709,
                      -74.2973,
                      "Central and South America",
                      "2019-2021",
                      "Agriculture"
                    ],
                    [
                      778.1613159179688,
                      4.5709,
                      -74.2973,
                      "Central and South America",
                      "2022",
                      "Energy"
                    ],
                    [
                      643.7293090820312,
                      4.5709,
                      -74.2973,
                      "Central and South America",
                      "2019-2021",
                      "Waste"
                    ]
                  ],
                  "hovertemplate": "<b>%{hovertext}</b><br><br>country=Colombia<br>emissions=%{customdata[0]}<br>region=%{customdata[3]}<br>baseYear=%{customdata[4]}<br>type=%{customdata[5]}<extra></extra>",
                  "hovertext": [
                    "Colombia",
                    "Colombia",
                    "Colombia"
                  ],
                  "lat": [
                    4.5709,
                    4.5709,
                    4.5709
                  ],
                  "legendgroup": "Colombia",
                  "lon": [
                    -74.2973,
                    -74.2973,
                    -74.2973
                  ],
                  "marker": {
                    "color": "#FF97FF",
                    "size": [
                      1795.9031982421875,
                      778.1613159179688,
                      643.7293090820312
                    ],
                    "sizemode": "area",
                    "sizeref": 10.1488890625
                  },
                  "mode": "markers",
                  "name": "Colombia",
                  "showlegend": true,
                  "subplot": "mapbox",
                  "type": "scattermapbox"
                },
                {
                  "customdata": [
                    [
                      1714.848876953125,
                      13.41,
                      122.56,
                      "Asia Pacific",
                      "2019-2021",
                      "Agriculture"
                    ],
                    [
                      649.79248046875,
                      13.41,
                      122.56,
                      "Asia Pacific",
                      "2019-2021",
                      "Waste"
                    ],
                    [
                      116.43431091308594,
                      13.41,
                      122.56,
                      "Asia Pacific",
                      "2022",
                      "Energy"
                    ]
                  ],
                  "hovertemplate": "<b>%{hovertext}</b><br><br>country=Philippines<br>emissions=%{customdata[0]}<br>region=%{customdata[3]}<br>baseYear=%{customdata[4]}<br>type=%{customdata[5]}<extra></extra>",
                  "hovertext": [
                    "Philippines",
                    "Philippines",
                    "Philippines"
                  ],
                  "lat": [
                    13.41,
                    13.41,
                    13.41
                  ],
                  "legendgroup": "Philippines",
                  "lon": [
                    122.56,
                    122.56,
                    122.56
                  ],
                  "marker": {
                    "color": "#FECB52",
                    "size": [
                      1714.848876953125,
                      649.79248046875,
                      116.43431091308594
                    ],
                    "sizemode": "area",
                    "sizeref": 10.1488890625
                  },
                  "mode": "markers",
                  "name": "Philippines",
                  "showlegend": true,
                  "subplot": "mapbox",
                  "type": "scattermapbox"
                },
                {
                  "customdata": [
                    [
                      1599.4412841796875,
                      26.3351,
                      17.2283,
                      "Africa",
                      "2022",
                      "Energy"
                    ],
                    [
                      83.35655975341797,
                      26.3351,
                      17.2283,
                      "Africa",
                      "2019-2021",
                      "Waste"
                    ],
                    [
                      67.41584777832031,
                      26.3351,
                      17.2283,
                      "Africa",
                      "2019-2021",
                      "Agriculture"
                    ]
                  ],
                  "hovertemplate": "<b>%{hovertext}</b><br><br>country=Libya<br>emissions=%{customdata[0]}<br>region=%{customdata[3]}<br>baseYear=%{customdata[4]}<br>type=%{customdata[5]}<extra></extra>",
                  "hovertext": [
                    "Libya",
                    "Libya",
                    "Libya"
                  ],
                  "lat": [
                    26.3351,
                    26.3351,
                    26.3351
                  ],
                  "legendgroup": "Libya",
                  "lon": [
                    17.2283,
                    17.2283,
                    17.2283
                  ],
                  "marker": {
                    "color": "#636efa",
                    "size": [
                      1599.4412841796875,
                      83.35655975341797,
                      67.41584777832031
                    ],
                    "sizemode": "area",
                    "sizeref": 10.1488890625
                  },
                  "mode": "markers",
                  "name": "Libya",
                  "showlegend": true,
                  "subplot": "mapbox",
                  "type": "scattermapbox"
                },
                {
                  "customdata": [
                    [
                      1564.2218017578125,
                      46.2276,
                      2.2137,
                      "Europe",
                      "2019-2021",
                      "Agriculture"
                    ],
                    [
                      630.8741455078125,
                      46.2276,
                      2.2137,
                      "Europe",
                      "2019-2021",
                      "Waste"
                    ],
                    [
                      193.59646606445312,
                      46.2276,
                      2.2137,
                      "Europe",
                      "2022",
                      "Energy"
                    ]
                  ],
                  "hovertemplate": "<b>%{hovertext}</b><br><br>country=France<br>emissions=%{customdata[0]}<br>region=%{customdata[3]}<br>baseYear=%{customdata[4]}<br>type=%{customdata[5]}<extra></extra>",
                  "hovertext": [
                    "France",
                    "France",
                    "France"
                  ],
                  "lat": [
                    46.2276,
                    46.2276,
                    46.2276
                  ],
                  "legendgroup": "France",
                  "lon": [
                    2.2137,
                    2.2137,
                    2.2137
                  ],
                  "marker": {
                    "color": "#EF553B",
                    "size": [
                      1564.2218017578125,
                      630.8741455078125,
                      193.59646606445312
                    ],
                    "sizemode": "area",
                    "sizeref": 10.1488890625
                  },
                  "mode": "markers",
                  "name": "France",
                  "showlegend": true,
                  "subplot": "mapbox",
                  "type": "scattermapbox"
                },
                {
                  "customdata": [
                    [
                      1549.11083984375,
                      12.8628,
                      30.2176,
                      "Africa",
                      "2019-2021",
                      "Agriculture"
                    ],
                    [
                      233.21359252929688,
                      12.8628,
                      30.2176,
                      "Africa",
                      "2019-2021",
                      "Waste"
                    ],
                    [
                      143.06582641601562,
                      12.8628,
                      30.2176,
                      "Africa",
                      "2022",
                      "Energy"
                    ]
                  ],
                  "hovertemplate": "<b>%{hovertext}</b><br><br>country=Sudan<br>emissions=%{customdata[0]}<br>region=%{customdata[3]}<br>baseYear=%{customdata[4]}<br>type=%{customdata[5]}<extra></extra>",
                  "hovertext": [
                    "Sudan",
                    "Sudan",
                    "Sudan"
                  ],
                  "lat": [
                    12.8628,
                    12.8628,
                    12.8628
                  ],
                  "legendgroup": "Sudan",
                  "lon": [
                    30.2176,
                    30.2176,
                    30.2176
                  ],
                  "marker": {
                    "color": "#00cc96",
                    "size": [
                      1549.11083984375,
                      233.21359252929688,
                      143.06582641601562
                    ],
                    "sizemode": "area",
                    "sizeref": 10.1488890625
                  },
                  "mode": "markers",
                  "name": "Sudan",
                  "showlegend": true,
                  "subplot": "mapbox",
                  "type": "scattermapbox"
                },
                {
                  "customdata": [
                    [
                      1439.1328125,
                      23.4241,
                      53.8478,
                      "Middle East",
                      "2022",
                      "Energy"
                    ],
                    [
                      462.6634826660156,
                      23.4241,
                      53.8478,
                      "Middle East",
                      "2019-2021",
                      "Waste"
                    ],
                    [
                      47.43784332275391,
                      23.4241,
                      53.8478,
                      "Middle East",
                      "2019-2021",
                      "Agriculture"
                    ]
                  ],
                  "hovertemplate": "<b>%{hovertext}</b><br><br>country=United Arab Emirates<br>emissions=%{customdata[0]}<br>region=%{customdata[3]}<br>baseYear=%{customdata[4]}<br>type=%{customdata[5]}<extra></extra>",
                  "hovertext": [
                    "United Arab Emirates",
                    "United Arab Emirates",
                    "United Arab Emirates"
                  ],
                  "lat": [
                    23.4241,
                    23.4241,
                    23.4241
                  ],
                  "legendgroup": "United Arab Emirates",
                  "lon": [
                    53.8478,
                    53.8478,
                    53.8478
                  ],
                  "marker": {
                    "color": "#ab63fa",
                    "size": [
                      1439.1328125,
                      462.6634826660156,
                      47.43784332275391
                    ],
                    "sizemode": "area",
                    "sizeref": 10.1488890625
                  },
                  "mode": "markers",
                  "name": "United Arab Emirates",
                  "showlegend": true,
                  "subplot": "mapbox",
                  "type": "scattermapbox"
                },
                {
                  "customdata": [
                    [
                      1269.36865234375,
                      51.1657,
                      10.4515,
                      "Europe",
                      "2019-2021",
                      "Agriculture"
                    ],
                    [
                      605.1366577148438,
                      51.1657,
                      10.4515,
                      "Europe",
                      "2019-2021",
                      "Waste"
                    ],
                    [
                      353.0937194824219,
                      51.1657,
                      10.4515,
                      "Europe",
                      "2022",
                      "Energy"
                    ]
                  ],
                  "hovertemplate": "<b>%{hovertext}</b><br><br>country=Germany<br>emissions=%{customdata[0]}<br>region=%{customdata[3]}<br>baseYear=%{customdata[4]}<br>type=%{customdata[5]}<extra></extra>",
                  "hovertext": [
                    "Germany",
                    "Germany",
                    "Germany"
                  ],
                  "lat": [
                    51.1657,
                    51.1657,
                    51.1657
                  ],
                  "legendgroup": "Germany",
                  "lon": [
                    10.4515,
                    10.4515,
                    10.4515
                  ],
                  "marker": {
                    "color": "#FFA15A",
                    "size": [
                      1269.36865234375,
                      605.1366577148438,
                      353.0937194824219
                    ],
                    "sizemode": "area",
                    "sizeref": 10.1488890625
                  },
                  "mode": "markers",
                  "name": "Germany",
                  "showlegend": true,
                  "subplot": "mapbox",
                  "type": "scattermapbox"
                },
                {
                  "customdata": [
                    [
                      1250.951904296875,
                      -0.0236,
                      37.9062,
                      "Africa",
                      "2019-2021",
                      "Agriculture"
                    ],
                    [
                      180.646713256836,
                      -0.0236,
                      37.9062,
                      "Africa",
                      "2019-2021",
                      "Waste"
                    ],
                    [
                      143.8259735107422,
                      -0.0236,
                      37.9062,
                      "Africa",
                      "2022",
                      "Energy"
                    ]
                  ],
                  "hovertemplate": "<b>%{hovertext}</b><br><br>country=Kenya<br>emissions=%{customdata[0]}<br>region=%{customdata[3]}<br>baseYear=%{customdata[4]}<br>type=%{customdata[5]}<extra></extra>",
                  "hovertext": [
                    "Kenya",
                    "Kenya",
                    "Kenya"
                  ],
                  "lat": [
                    -0.0236,
                    -0.0236,
                    -0.0236
                  ],
                  "legendgroup": "Kenya",
                  "lon": [
                    37.9062,
                    37.9062,
                    37.9062
                  ],
                  "marker": {
                    "color": "#19d3f3",
                    "size": [
                      1250.951904296875,
                      180.646713256836,
                      143.8259735107422
                    ],
                    "sizemode": "area",
                    "sizeref": 10.1488890625
                  },
                  "mode": "markers",
                  "name": "Kenya",
                  "showlegend": true,
                  "subplot": "mapbox",
                  "type": "scattermapbox"
                },
                {
                  "customdata": [
                    [
                      1239.0296630859375,
                      -30.5595,
                      22.9375,
                      "Africa",
                      "2022",
                      "Energy"
                    ],
                    [
                      834.2140502929688,
                      -30.5595,
                      22.9375,
                      "Africa",
                      "2019-2021",
                      "Waste"
                    ],
                    [
                      760.32275390625,
                      -30.5595,
                      22.9375,
                      "Africa",
                      "2019-2021",
                      "Agriculture"
                    ]
                  ],
                  "hovertemplate": "<b>%{hovertext}</b><br><br>country=South Africa<br>emissions=%{customdata[0]}<br>region=%{customdata[3]}<br>baseYear=%{customdata[4]}<br>type=%{customdata[5]}<extra></extra>",
                  "hovertext": [
                    "South Africa",
                    "South Africa",
                    "South Africa"
                  ],
                  "lat": [
                    -30.5595,
                    -30.5595,
                    -30.5595
                  ],
                  "legendgroup": "South Africa",
                  "lon": [
                    22.9375,
                    22.9375,
                    22.9375
                  ],
                  "marker": {
                    "color": "#FF6692",
                    "size": [
                      1239.0296630859375,
                      834.2140502929688,
                      760.32275390625
                    ],
                    "sizemode": "area",
                    "sizeref": 10.1488890625
                  },
                  "mode": "markers",
                  "name": "South Africa",
                  "showlegend": true,
                  "subplot": "mapbox",
                  "type": "scattermapbox"
                },
                {
                  "customdata": [
                    [
                      1223.9329833984375,
                      15.4542,
                      18.7322,
                      "Africa",
                      "2019-2021",
                      "Agriculture"
                    ],
                    [
                      70.19759368896484,
                      15.4542,
                      18.7322,
                      "Africa",
                      "2019-2021",
                      "Waste"
                    ],
                    [
                      51.41695022583008,
                      15.4542,
                      18.7322,
                      "Africa",
                      "2022",
                      "Energy"
                    ]
                  ],
                  "hovertemplate": "<b>%{hovertext}</b><br><br>country=Chad<br>emissions=%{customdata[0]}<br>region=%{customdata[3]}<br>baseYear=%{customdata[4]}<br>type=%{customdata[5]}<extra></extra>",
                  "hovertext": [
                    "Chad",
                    "Chad",
                    "Chad"
                  ],
                  "lat": [
                    15.4542,
                    15.4542,
                    15.4542
                  ],
                  "legendgroup": "Chad",
                  "lon": [
                    18.7322,
                    18.7322,
                    18.7322
                  ],
                  "marker": {
                    "color": "#B6E880",
                    "size": [
                      1223.9329833984375,
                      70.19759368896484,
                      51.41695022583008
                    ],
                    "sizemode": "area",
                    "sizeref": 10.1488890625
                  },
                  "mode": "markers",
                  "name": "Chad",
                  "showlegend": true,
                  "subplot": "mapbox",
                  "type": "scattermapbox"
                },
                {
                  "customdata": [
                    [
                      1180.221923828125,
                      -6.369,
                      34.8888,
                      "Africa",
                      "2019-2021",
                      "Agriculture"
                    ],
                    [
                      227.552978515625,
                      -6.369,
                      34.8888,
                      "Africa",
                      "2019-2021",
                      "Waste"
                    ],
                    [
                      203.3902282714844,
                      -6.369,
                      34.8888,
                      "Africa",
                      "2022",
                      "Energy"
                    ]
                  ],
                  "hovertemplate": "<b>%{hovertext}</b><br><br>country=Tanzania<br>emissions=%{customdata[0]}<br>region=%{customdata[3]}<br>baseYear=%{customdata[4]}<br>type=%{customdata[5]}<extra></extra>",
                  "hovertext": [
                    "Tanzania",
                    "Tanzania",
                    "Tanzania"
                  ],
                  "lat": [
                    -6.369,
                    -6.369,
                    -6.369
                  ],
                  "legendgroup": "Tanzania",
                  "lon": [
                    34.8888,
                    34.8888,
                    34.8888
                  ],
                  "marker": {
                    "color": "#FF97FF",
                    "size": [
                      1180.221923828125,
                      227.552978515625,
                      203.3902282714844
                    ],
                    "sizemode": "area",
                    "sizeref": 10.1488890625
                  },
                  "mode": "markers",
                  "name": "Tanzania",
                  "showlegend": true,
                  "subplot": "mapbox",
                  "type": "scattermapbox"
                },
                {
                  "customdata": [
                    [
                      1155.9993896484375,
                      -40.9006,
                      174.886,
                      "Asia Pacific",
                      "2019-2021",
                      "Agriculture"
                    ],
                    [
                      165.2618865966797,
                      -40.9006,
                      174.886,
                      "Asia Pacific",
                      "2019-2021",
                      "Waste"
                    ],
                    [
                      37.33414077758789,
                      -40.9006,
                      174.886,
                      "Asia Pacific",
                      "2022",
                      "Energy"
                    ]
                  ],
                  "hovertemplate": "<b>%{hovertext}</b><br><br>country=New Zealand<br>emissions=%{customdata[0]}<br>region=%{customdata[3]}<br>baseYear=%{customdata[4]}<br>type=%{customdata[5]}<extra></extra>",
                  "hovertext": [
                    "New Zealand",
                    "New Zealand",
                    "New Zealand"
                  ],
                  "lat": [
                    -40.9006,
                    -40.9006,
                    -40.9006
                  ],
                  "legendgroup": "New Zealand",
                  "lon": [
                    174.886,
                    174.886,
                    174.886
                  ],
                  "marker": {
                    "color": "#FECB52",
                    "size": [
                      1155.9993896484375,
                      165.2618865966797,
                      37.33414077758789
                    ],
                    "sizemode": "area",
                    "sizeref": 10.1488890625
                  },
                  "mode": "markers",
                  "name": "New Zealand",
                  "showlegend": true,
                  "subplot": "mapbox",
                  "type": "scattermapbox"
                },
                {
                  "customdata": [
                    [
                      1138.517822265625,
                      25.276987,
                      51.520008,
                      "Middle East",
                      "2022",
                      "Energy"
                    ],
                    [
                      64.40309143066406,
                      25.276987,
                      51.520008,
                      "Middle East",
                      "2019-2021",
                      "Waste"
                    ],
                    [
                      11.3685884475708,
                      25.276987,
                      51.520008,
                      "Middle East",
                      "2019-2021",
                      "Agriculture"
                    ]
                  ],
                  "hovertemplate": "<b>%{hovertext}</b><br><br>country=Qatar<br>emissions=%{customdata[0]}<br>region=%{customdata[3]}<br>baseYear=%{customdata[4]}<br>type=%{customdata[5]}<extra></extra>",
                  "hovertext": [
                    "Qatar",
                    "Qatar",
                    "Qatar"
                  ],
                  "lat": [
                    25.276987,
                    25.276987,
                    25.276987
                  ],
                  "legendgroup": "Qatar",
                  "lon": [
                    51.520008,
                    51.520008,
                    51.520008
                  ],
                  "marker": {
                    "color": "#636efa",
                    "size": [
                      1138.517822265625,
                      64.40309143066406,
                      11.3685884475708
                    ],
                    "sizemode": "area",
                    "sizeref": 10.1488890625
                  },
                  "mode": "markers",
                  "name": "Qatar",
                  "showlegend": true,
                  "subplot": "mapbox",
                  "type": "scattermapbox"
                },
                {
                  "customdata": [
                    [
                      1113.1412353515625,
                      55.3781,
                      -3.436,
                      "Europe",
                      "2019-2021",
                      "Waste"
                    ],
                    [
                      1064.6658935546875,
                      55.3781,
                      -3.436,
                      "Europe",
                      "2019-2021",
                      "Agriculture"
                    ],
                    [
                      274.63140869140625,
                      55.3781,
                      -3.436,
                      "Europe",
                      "2022",
                      "Energy"
                    ]
                  ],
                  "hovertemplate": "<b>%{hovertext}</b><br><br>country=United Kingdom<br>emissions=%{customdata[0]}<br>region=%{customdata[3]}<br>baseYear=%{customdata[4]}<br>type=%{customdata[5]}<extra></extra>",
                  "hovertext": [
                    "United Kingdom",
                    "United Kingdom",
                    "United Kingdom"
                  ],
                  "lat": [
                    55.3781,
                    55.3781,
                    55.3781
                  ],
                  "legendgroup": "United Kingdom",
                  "lon": [
                    -3.436,
                    -3.436,
                    -3.436
                  ],
                  "marker": {
                    "color": "#EF553B",
                    "size": [
                      1113.1412353515625,
                      1064.6658935546875,
                      274.63140869140625
                    ],
                    "sizemode": "area",
                    "sizeref": 10.1488890625
                  },
                  "mode": "markers",
                  "name": "United Kingdom",
                  "showlegend": true,
                  "subplot": "mapbox",
                  "type": "scattermapbox"
                },
                {
                  "customdata": [
                    [
                      1002.0822143554688,
                      29.3117,
                      47.4818,
                      "Middle East",
                      "2022",
                      "Energy"
                    ],
                    [
                      257.99493408203125,
                      29.3117,
                      47.4818,
                      "Middle East",
                      "2019-2021",
                      "Waste"
                    ],
                    [
                      7.323050498962402,
                      29.3117,
                      47.4818,
                      "Middle East",
                      "2019-2021",
                      "Agriculture"
                    ]
                  ],
                  "hovertemplate": "<b>%{hovertext}</b><br><br>country=Kuwait<br>emissions=%{customdata[0]}<br>region=%{customdata[3]}<br>baseYear=%{customdata[4]}<br>type=%{customdata[5]}<extra></extra>",
                  "hovertext": [
                    "Kuwait",
                    "Kuwait",
                    "Kuwait"
                  ],
                  "lat": [
                    29.3117,
                    29.3117,
                    29.3117
                  ],
                  "legendgroup": "Kuwait",
                  "lon": [
                    47.4818,
                    47.4818,
                    47.4818
                  ],
                  "marker": {
                    "color": "#00cc96",
                    "size": [
                      1002.0822143554688,
                      257.99493408203125,
                      7.323050498962402
                    ],
                    "sizemode": "area",
                    "sizeref": 10.1488890625
                  },
                  "mode": "markers",
                  "name": "Kuwait",
                  "showlegend": true,
                  "subplot": "mapbox",
                  "type": "scattermapbox"
                },
                {
                  "customdata": [
                    [
                      991.6493530273438,
                      36.2048,
                      138.2529,
                      "Asia Pacific",
                      "2019-2021",
                      "Agriculture"
                    ],
                    [
                      283.3003234863281,
                      36.2048,
                      138.2529,
                      "Asia Pacific",
                      "2022",
                      "Energy"
                    ],
                    [
                      243.30145263671875,
                      36.2048,
                      138.2529,
                      "Asia Pacific",
                      "2019-2021",
                      "Waste"
                    ]
                  ],
                  "hovertemplate": "<b>%{hovertext}</b><br><br>country=Japan<br>emissions=%{customdata[0]}<br>region=%{customdata[3]}<br>baseYear=%{customdata[4]}<br>type=%{customdata[5]}<extra></extra>",
                  "hovertext": [
                    "Japan",
                    "Japan",
                    "Japan"
                  ],
                  "lat": [
                    36.2048,
                    36.2048,
                    36.2048
                  ],
                  "legendgroup": "Japan",
                  "lon": [
                    138.2529,
                    138.2529,
                    138.2529
                  ],
                  "marker": {
                    "color": "#ab63fa",
                    "size": [
                      991.6493530273438,
                      283.3003234863281,
                      243.30145263671875
                    ],
                    "sizemode": "area",
                    "sizeref": 10.1488890625
                  },
                  "mode": "markers",
                  "name": "Japan",
                  "showlegend": true,
                  "subplot": "mapbox",
                  "type": "scattermapbox"
                },
                {
                  "customdata": [
                    [
                      958.0424194335938,
                      26.8206,
                      30.8025,
                      "Africa",
                      "2022",
                      "Energy"
                    ],
                    [
                      947.93408203125,
                      26.8206,
                      30.8025,
                      "Africa",
                      "2019-2021",
                      "Waste"
                    ],
                    [
                      684.5322265625,
                      26.8206,
                      30.8025,
                      "Africa",
                      "2019-2021",
                      "Agriculture"
                    ]
                  ],
                  "hovertemplate": "<b>%{hovertext}</b><br><br>country=Egypt<br>emissions=%{customdata[0]}<br>region=%{customdata[3]}<br>baseYear=%{customdata[4]}<br>type=%{customdata[5]}<extra></extra>",
                  "hovertext": [
                    "Egypt",
                    "Egypt",
                    "Egypt"
                  ],
                  "lat": [
                    26.8206,
                    26.8206,
                    26.8206
                  ],
                  "legendgroup": "Egypt",
                  "lon": [
                    30.8025,
                    30.8025,
                    30.8025
                  ],
                  "marker": {
                    "color": "#FFA15A",
                    "size": [
                      958.0424194335938,
                      947.93408203125,
                      684.5322265625
                    ],
                    "sizemode": "area",
                    "sizeref": 10.1488890625
                  },
                  "mode": "markers",
                  "name": "Egypt",
                  "showlegend": true,
                  "subplot": "mapbox",
                  "type": "scattermapbox"
                },
                {
                  "customdata": [
                    [
                      901.6826171875,
                      41.3775,
                      64.5853,
                      "Russia & Caspian",
                      "2019-2021",
                      "Agriculture"
                    ],
                    [
                      780.9161376953125,
                      41.3775,
                      64.5853,
                      "Russia & Caspian",
                      "2022",
                      "Energy"
                    ],
                    [
                      280.4182434082031,
                      41.3775,
                      64.5853,
                      "Russia & Caspian",
                      "2019-2021",
                      "Waste"
                    ]
                  ],
                  "hovertemplate": "<b>%{hovertext}</b><br><br>country=Uzbekistan<br>emissions=%{customdata[0]}<br>region=%{customdata[3]}<br>baseYear=%{customdata[4]}<br>type=%{customdata[5]}<extra></extra>",
                  "hovertext": [
                    "Uzbekistan",
                    "Uzbekistan",
                    "Uzbekistan"
                  ],
                  "lat": [
                    41.3775,
                    41.3775,
                    41.3775
                  ],
                  "legendgroup": "Uzbekistan",
                  "lon": [
                    64.5853,
                    64.5853,
                    64.5853
                  ],
                  "marker": {
                    "color": "#19d3f3",
                    "size": [
                      901.6826171875,
                      780.9161376953125,
                      280.4182434082031
                    ],
                    "sizemode": "area",
                    "sizeref": 10.1488890625
                  },
                  "mode": "markers",
                  "name": "Uzbekistan",
                  "showlegend": true,
                  "subplot": "mapbox",
                  "type": "scattermapbox"
                },
                {
                  "customdata": [
                    [
                      893.9114379882812,
                      4.2105,
                      101.9758,
                      "Asia Pacific",
                      "2019-2021",
                      "Waste"
                    ],
                    [
                      474.0210876464844,
                      4.2105,
                      101.9758,
                      "Asia Pacific",
                      "2022",
                      "Energy"
                    ],
                    [
                      189.0501708984375,
                      4.2105,
                      101.9758,
                      "Asia Pacific",
                      "2019-2021",
                      "Agriculture"
                    ]
                  ],
                  "hovertemplate": "<b>%{hovertext}</b><br><br>country=Malaysia<br>emissions=%{customdata[0]}<br>region=%{customdata[3]}<br>baseYear=%{customdata[4]}<br>type=%{customdata[5]}<extra></extra>",
                  "hovertext": [
                    "Malaysia",
                    "Malaysia",
                    "Malaysia"
                  ],
                  "lat": [
                    4.2105,
                    4.2105,
                    4.2105
                  ],
                  "legendgroup": "Malaysia",
                  "lon": [
                    101.9758,
                    101.9758,
                    101.9758
                  ],
                  "marker": {
                    "color": "#FF6692",
                    "size": [
                      893.9114379882812,
                      474.0210876464844,
                      189.0501708984375
                    ],
                    "sizemode": "area",
                    "sizeref": 10.1488890625
                  },
                  "mode": "markers",
                  "name": "Malaysia",
                  "showlegend": true,
                  "subplot": "mapbox",
                  "type": "scattermapbox"
                },
                {
                  "customdata": [
                    [
                      869.2565307617188,
                      21.5126,
                      55.9233,
                      "Middle East",
                      "2022",
                      "Energy"
                    ],
                    [
                      64.55561828613281,
                      21.5126,
                      55.9233,
                      "Middle East",
                      "2019-2021",
                      "Waste"
                    ],
                    [
                      37.05989837646485,
                      21.5126,
                      55.9233,
                      "Middle East",
                      "2019-2021",
                      "Agriculture"
                    ]
                  ],
                  "hovertemplate": "<b>%{hovertext}</b><br><br>country=Oman<br>emissions=%{customdata[0]}<br>region=%{customdata[3]}<br>baseYear=%{customdata[4]}<br>type=%{customdata[5]}<extra></extra>",
                  "hovertext": [
                    "Oman",
                    "Oman",
                    "Oman"
                  ],
                  "lat": [
                    21.5126,
                    21.5126,
                    21.5126
                  ],
                  "legendgroup": "Oman",
                  "lon": [
                    55.9233,
                    55.9233,
                    55.9233
                  ],
                  "marker": {
                    "color": "#B6E880",
                    "size": [
                      869.2565307617188,
                      64.55561828613281,
                      37.05989837646485
                    ],
                    "sizemode": "area",
                    "sizeref": 10.1488890625
                  },
                  "mode": "markers",
                  "name": "Oman",
                  "showlegend": true,
                  "subplot": "mapbox",
                  "type": "scattermapbox"
                },
                {
                  "customdata": [
                    [
                      865.2888793945312,
                      51.9194,
                      19.1451,
                      "Europe",
                      "2022",
                      "Energy"
                    ],
                    [
                      615.5054321289062,
                      51.9194,
                      19.1451,
                      "Europe",
                      "2019-2021",
                      "Agriculture"
                    ],
                    [
                      347.61395263671875,
                      51.9194,
                      19.1451,
                      "Europe",
                      "2019-2021",
                      "Waste"
                    ]
                  ],
                  "hovertemplate": "<b>%{hovertext}</b><br><br>country=Poland<br>emissions=%{customdata[0]}<br>region=%{customdata[3]}<br>baseYear=%{customdata[4]}<br>type=%{customdata[5]}<extra></extra>",
                  "hovertext": [
                    "Poland",
                    "Poland",
                    "Poland"
                  ],
                  "lat": [
                    51.9194,
                    51.9194,
                    51.9194
                  ],
                  "legendgroup": "Poland",
                  "lon": [
                    19.1451,
                    19.1451,
                    19.1451
                  ],
                  "marker": {
                    "color": "#FF97FF",
                    "size": [
                      865.2888793945312,
                      615.5054321289062,
                      347.61395263671875
                    ],
                    "sizemode": "area",
                    "sizeref": 10.1488890625
                  },
                  "mode": "markers",
                  "name": "Poland",
                  "showlegend": true,
                  "subplot": "mapbox",
                  "type": "scattermapbox"
                },
                {
                  "customdata": [
                    [
                      843.4016723632812,
                      -22.3285,
                      24.6849,
                      "Africa",
                      "2019-2021",
                      "Waste"
                    ],
                    [
                      97.25849151611328,
                      -22.3285,
                      24.6849,
                      "Africa",
                      "2019-2021",
                      "Agriculture"
                    ],
                    [
                      6.199222564697266,
                      -22.3285,
                      24.6849,
                      "Africa",
                      "2022",
                      "Energy"
                    ]
                  ],
                  "hovertemplate": "<b>%{hovertext}</b><br><br>country=Botswana<br>emissions=%{customdata[0]}<br>region=%{customdata[3]}<br>baseYear=%{customdata[4]}<br>type=%{customdata[5]}<extra></extra>",
                  "hovertext": [
                    "Botswana",
                    "Botswana",
                    "Botswana"
                  ],
                  "lat": [
                    -22.3285,
                    -22.3285,
                    -22.3285
                  ],
                  "legendgroup": "Botswana",
                  "lon": [
                    24.6849,
                    24.6849,
                    24.6849
                  ],
                  "marker": {
                    "color": "#FECB52",
                    "size": [
                      843.4016723632812,
                      97.25849151611328,
                      6.199222564697266
                    ],
                    "sizemode": "area",
                    "sizeref": 10.1488890625
                  },
                  "mode": "markers",
                  "name": "Botswana",
                  "showlegend": true,
                  "subplot": "mapbox",
                  "type": "scattermapbox"
                },
                {
                  "customdata": [
                    [
                      835.0689086914062,
                      -23.4425,
                      -58.4438,
                      "Central and South America",
                      "2019-2021",
                      "Agriculture"
                    ],
                    [
                      115.26103973388672,
                      -23.4425,
                      -58.4438,
                      "Central and South America",
                      "2019-2021",
                      "Waste"
                    ],
                    [
                      16.34809112548828,
                      -23.4425,
                      -58.4438,
                      "Central and South America",
                      "2022",
                      "Energy"
                    ]
                  ],
                  "hovertemplate": "<b>%{hovertext}</b><br><br>country=Paraguay<br>emissions=%{customdata[0]}<br>region=%{customdata[3]}<br>baseYear=%{customdata[4]}<br>type=%{customdata[5]}<extra></extra>",
                  "hovertext": [
                    "Paraguay",
                    "Paraguay",
                    "Paraguay"
                  ],
                  "lat": [
                    -23.4425,
                    -23.4425,
                    -23.4425
                  ],
                  "legendgroup": "Paraguay",
                  "lon": [
                    -58.4438,
                    -58.4438,
                    -58.4438
                  ],
                  "marker": {
                    "color": "#636efa",
                    "size": [
                      835.0689086914062,
                      115.26103973388672,
                      16.34809112548828
                    ],
                    "sizemode": "area",
                    "sizeref": 10.1488890625
                  },
                  "mode": "markers",
                  "name": "Paraguay",
                  "showlegend": true,
                  "subplot": "mapbox",
                  "type": "scattermapbox"
                },
                {
                  "customdata": [
                    [
                      800.047119140625,
                      41.8719,
                      12.5674,
                      "Europe",
                      "2019-2021",
                      "Agriculture"
                    ],
                    [
                      579.596923828125,
                      41.8719,
                      12.5674,
                      "Europe",
                      "2019-2021",
                      "Waste"
                    ],
                    [
                      285.7864685058594,
                      41.8719,
                      12.5674,
                      "Europe",
                      "2022",
                      "Energy"
                    ]
                  ],
                  "hovertemplate": "<b>%{hovertext}</b><br><br>country=Italy<br>emissions=%{customdata[0]}<br>region=%{customdata[3]}<br>baseYear=%{customdata[4]}<br>type=%{customdata[5]}<extra></extra>",
                  "hovertext": [
                    "Italy",
                    "Italy",
                    "Italy"
                  ],
                  "lat": [
                    41.8719,
                    41.8719,
                    41.8719
                  ],
                  "legendgroup": "Italy",
                  "lon": [
                    12.5674,
                    12.5674,
                    12.5674
                  ],
                  "marker": {
                    "color": "#EF553B",
                    "size": [
                      800.047119140625,
                      579.596923828125,
                      285.7864685058594
                    ],
                    "sizemode": "area",
                    "sizeref": 10.1488890625
                  },
                  "mode": "markers",
                  "name": "Italy",
                  "showlegend": true,
                  "subplot": "mapbox",
                  "type": "scattermapbox"
                },
                {
                  "customdata": [
                    [
                      751.9459228515625,
                      -32.5228,
                      -55.7658,
                      "Central and South America",
                      "2019-2021",
                      "Agriculture"
                    ],
                    [
                      138.26727294921875,
                      -32.5228,
                      -55.7658,
                      "Central and South America",
                      "2019-2021",
                      "Waste"
                    ],
                    [
                      7.599424362182617,
                      -32.5228,
                      -55.7658,
                      "Central and South America",
                      "2022",
                      "Energy"
                    ]
                  ],
                  "hovertemplate": "<b>%{hovertext}</b><br><br>country=Uruguay<br>emissions=%{customdata[0]}<br>region=%{customdata[3]}<br>baseYear=%{customdata[4]}<br>type=%{customdata[5]}<extra></extra>",
                  "hovertext": [
                    "Uruguay",
                    "Uruguay",
                    "Uruguay"
                  ],
                  "lat": [
                    -32.5228,
                    -32.5228,
                    -32.5228
                  ],
                  "legendgroup": "Uruguay",
                  "lon": [
                    -55.7658,
                    -55.7658,
                    -55.7658
                  ],
                  "marker": {
                    "color": "#00cc96",
                    "size": [
                      751.9459228515625,
                      138.26727294921875,
                      7.599424362182617
                    ],
                    "sizemode": "area",
                    "sizeref": 10.1488890625
                  },
                  "mode": "markers",
                  "name": "Uruguay",
                  "showlegend": true,
                  "subplot": "mapbox",
                  "type": "scattermapbox"
                },
                {
                  "customdata": [
                    [
                      696.4396362304688,
                      17.6078,
                      8.0817,
                      "Africa",
                      "2019-2021",
                      "Agriculture"
                    ],
                    [
                      152.30502319335938,
                      17.6078,
                      8.0817,
                      "Africa",
                      "2019-2021",
                      "Waste"
                    ],
                    [
                      40.86768341064453,
                      17.6078,
                      8.0817,
                      "Africa",
                      "2022",
                      "Energy"
                    ]
                  ],
                  "hovertemplate": "<b>%{hovertext}</b><br><br>country=Niger<br>emissions=%{customdata[0]}<br>region=%{customdata[3]}<br>baseYear=%{customdata[4]}<br>type=%{customdata[5]}<extra></extra>",
                  "hovertext": [
                    "Niger",
                    "Niger",
                    "Niger"
                  ],
                  "lat": [
                    17.6078,
                    17.6078,
                    17.6078
                  ],
                  "legendgroup": "Niger",
                  "lon": [
                    8.0817,
                    8.0817,
                    8.0817
                  ],
                  "marker": {
                    "color": "#ab63fa",
                    "size": [
                      696.4396362304688,
                      152.30502319335938,
                      40.86768341064453
                    ],
                    "sizemode": "area",
                    "sizeref": 10.1488890625
                  },
                  "mode": "markers",
                  "name": "Niger",
                  "showlegend": true,
                  "subplot": "mapbox",
                  "type": "scattermapbox"
                },
                {
                  "customdata": [
                    [
                      695.7181396484375,
                      6.877,
                      31.307,
                      "Africa",
                      "2019-2021",
                      "Agriculture"
                    ],
                    [
                      121.76155090332033,
                      6.877,
                      31.307,
                      "Africa",
                      "2019-2021",
                      "Waste"
                    ],
                    [
                      76.9888916015625,
                      6.877,
                      31.307,
                      "Africa",
                      "2022",
                      "Energy"
                    ]
                  ],
                  "hovertemplate": "<b>%{hovertext}</b><br><br>country=South Sudan<br>emissions=%{customdata[0]}<br>region=%{customdata[3]}<br>baseYear=%{customdata[4]}<br>type=%{customdata[5]}<extra></extra>",
                  "hovertext": [
                    "South Sudan",
                    "South Sudan",
                    "South Sudan"
                  ],
                  "lat": [
                    6.877,
                    6.877,
                    6.877
                  ],
                  "legendgroup": "South Sudan",
                  "lon": [
                    31.307,
                    31.307,
                    31.307
                  ],
                  "marker": {
                    "color": "#FFA15A",
                    "size": [
                      695.7181396484375,
                      121.76155090332033,
                      76.9888916015625
                    ],
                    "sizemode": "area",
                    "sizeref": 10.1488890625
                  },
                  "mode": "markers",
                  "name": "South Sudan",
                  "showlegend": true,
                  "subplot": "mapbox",
                  "type": "scattermapbox"
                },
                {
                  "customdata": [
                    [
                      673.754150390625,
                      -16.2902,
                      -63.5887,
                      "Central and South America",
                      "2019-2021",
                      "Agriculture"
                    ],
                    [
                      128.09658813476562,
                      -16.2902,
                      -63.5887,
                      "Central and South America",
                      "2022",
                      "Energy"
                    ],
                    [
                      87.08856201171875,
                      -16.2902,
                      -63.5887,
                      "Central and South America",
                      "2019-2021",
                      "Waste"
                    ]
                  ],
                  "hovertemplate": "<b>%{hovertext}</b><br><br>country=Bolivia<br>emissions=%{customdata[0]}<br>region=%{customdata[3]}<br>baseYear=%{customdata[4]}<br>type=%{customdata[5]}<extra></extra>",
                  "hovertext": [
                    "Bolivia",
                    "Bolivia",
                    "Bolivia"
                  ],
                  "lat": [
                    -16.2902,
                    -16.2902,
                    -16.2902
                  ],
                  "legendgroup": "Bolivia",
                  "lon": [
                    -63.5887,
                    -63.5887,
                    -63.5887
                  ],
                  "marker": {
                    "color": "#19d3f3",
                    "size": [
                      673.754150390625,
                      128.09658813476562,
                      87.08856201171875
                    ],
                    "sizemode": "area",
                    "sizeref": 10.1488890625
                  },
                  "mode": "markers",
                  "name": "Bolivia",
                  "showlegend": true,
                  "subplot": "mapbox",
                  "type": "scattermapbox"
                },
                {
                  "customdata": [
                    [
                      639.6949462890625,
                      -9.19,
                      -75.0152,
                      "Central and South America",
                      "2019-2021",
                      "Agriculture"
                    ],
                    [
                      355.07745361328125,
                      -9.19,
                      -75.0152,
                      "Central and South America",
                      "2019-2021",
                      "Waste"
                    ],
                    [
                      131.71063232421875,
                      -9.19,
                      -75.0152,
                      "Central and South America",
                      "2022",
                      "Energy"
                    ]
                  ],
                  "hovertemplate": "<b>%{hovertext}</b><br><br>country=Peru<br>emissions=%{customdata[0]}<br>region=%{customdata[3]}<br>baseYear=%{customdata[4]}<br>type=%{customdata[5]}<extra></extra>",
                  "hovertext": [
                    "Peru",
                    "Peru",
                    "Peru"
                  ],
                  "lat": [
                    -9.19,
                    -9.19,
                    -9.19
                  ],
                  "legendgroup": "Peru",
                  "lon": [
                    -75.0152,
                    -75.0152,
                    -75.0152
                  ],
                  "marker": {
                    "color": "#FF6692",
                    "size": [
                      639.6949462890625,
                      355.07745361328125,
                      131.71063232421875
                    ],
                    "sizemode": "area",
                    "sizeref": 10.1488890625
                  },
                  "mode": "markers",
                  "name": "Peru",
                  "showlegend": true,
                  "subplot": "mapbox",
                  "type": "scattermapbox"
                },
                {
                  "customdata": [
                    [
                      625.7147827148438,
                      5.1521,
                      46.1996,
                      "Africa",
                      "2019-2021",
                      "Agriculture"
                    ],
                    [
                      108.4111557006836,
                      5.1521,
                      46.1996,
                      "Africa",
                      "2019-2021",
                      "Waste"
                    ],
                    [
                      29.507999420166016,
                      5.1521,
                      46.1996,
                      "Africa",
                      "2022",
                      "Energy"
                    ]
                  ],
                  "hovertemplate": "<b>%{hovertext}</b><br><br>country=Somalia<br>emissions=%{customdata[0]}<br>region=%{customdata[3]}<br>baseYear=%{customdata[4]}<br>type=%{customdata[5]}<extra></extra>",
                  "hovertext": [
                    "Somalia",
                    "Somalia",
                    "Somalia"
                  ],
                  "lat": [
                    5.1521,
                    5.1521,
                    5.1521
                  ],
                  "legendgroup": "Somalia",
                  "lon": [
                    46.1996,
                    46.1996,
                    46.1996
                  ],
                  "marker": {
                    "color": "#B6E880",
                    "size": [
                      625.7147827148438,
                      108.4111557006836,
                      29.507999420166016
                    ],
                    "sizemode": "area",
                    "sizeref": 10.1488890625
                  },
                  "mode": "markers",
                  "name": "Somalia",
                  "showlegend": true,
                  "subplot": "mapbox",
                  "type": "scattermapbox"
                },
                {
                  "customdata": [
                    [
                      568.7333374023438,
                      -11.2027,
                      17.8739,
                      "Africa",
                      "2022",
                      "Energy"
                    ],
                    [
                      400.9695739746094,
                      -11.2027,
                      17.8739,
                      "Africa",
                      "2019-2021",
                      "Agriculture"
                    ],
                    [
                      151.49404907226562,
                      -11.2027,
                      17.8739,
                      "Africa",
                      "2019-2021",
                      "Waste"
                    ]
                  ],
                  "hovertemplate": "<b>%{hovertext}</b><br><br>country=Angola<br>emissions=%{customdata[0]}<br>region=%{customdata[3]}<br>baseYear=%{customdata[4]}<br>type=%{customdata[5]}<extra></extra>",
                  "hovertext": [
                    "Angola",
                    "Angola",
                    "Angola"
                  ],
                  "lat": [
                    -11.2027,
                    -11.2027,
                    -11.2027
                  ],
                  "legendgroup": "Angola",
                  "lon": [
                    17.8739,
                    17.8739,
                    17.8739
                  ],
                  "marker": {
                    "color": "#FF97FF",
                    "size": [
                      568.7333374023438,
                      400.9695739746094,
                      151.49404907226562
                    ],
                    "sizemode": "area",
                    "sizeref": 10.1488890625
                  },
                  "mode": "markers",
                  "name": "Angola",
                  "showlegend": true,
                  "subplot": "mapbox",
                  "type": "scattermapbox"
                },
                {
                  "customdata": [
                    [
                      566.8305053710938,
                      -4.0383,
                      21.7587,
                      "Africa",
                      "2019-2021",
                      "Waste"
                    ],
                    [
                      555.5286865234375,
                      -4.0383,
                      21.7587,
                      "Africa",
                      "2019-2021",
                      "Agriculture"
                    ],
                    [
                      260.6929016113281,
                      -4.0383,
                      21.7587,
                      "Africa",
                      "2022",
                      "Energy"
                    ]
                  ],
                  "hovertemplate": "<b>%{hovertext}</b><br><br>country=Democratic Republic of Congo<br>emissions=%{customdata[0]}<br>region=%{customdata[3]}<br>baseYear=%{customdata[4]}<br>type=%{customdata[5]}<extra></extra>",
                  "hovertext": [
                    "Democratic Republic of Congo",
                    "Democratic Republic of Congo",
                    "Democratic Republic of Congo"
                  ],
                  "lat": [
                    -4.0383,
                    -4.0383,
                    -4.0383
                  ],
                  "legendgroup": "Democratic Republic of Congo",
                  "lon": [
                    21.7587,
                    21.7587,
                    21.7587
                  ],
                  "marker": {
                    "color": "#FECB52",
                    "size": [
                      566.8305053710938,
                      555.5286865234375,
                      260.6929016113281
                    ],
                    "sizemode": "area",
                    "sizeref": 10.1488890625
                  },
                  "mode": "markers",
                  "name": "Democratic Republic of Congo",
                  "showlegend": true,
                  "subplot": "mapbox",
                  "type": "scattermapbox"
                },
                {
                  "customdata": [
                    [
                      553.4212036132812,
                      48.3794,
                      31.1656,
                      "Europe",
                      "2022",
                      "Energy"
                    ],
                    [
                      401.859619140625,
                      48.3794,
                      31.1656,
                      "Europe",
                      "2019-2021",
                      "Waste"
                    ],
                    [
                      377.1493225097656,
                      48.3794,
                      31.1656,
                      "Europe",
                      "2019-2021",
                      "Agriculture"
                    ]
                  ],
                  "hovertemplate": "<b>%{hovertext}</b><br><br>country=Ukraine<br>emissions=%{customdata[0]}<br>region=%{customdata[3]}<br>baseYear=%{customdata[4]}<br>type=%{customdata[5]}<extra></extra>",
                  "hovertext": [
                    "Ukraine",
                    "Ukraine",
                    "Ukraine"
                  ],
                  "lat": [
                    48.3794,
                    48.3794,
                    48.3794
                  ],
                  "legendgroup": "Ukraine",
                  "lon": [
                    31.1656,
                    31.1656,
                    31.1656
                  ],
                  "marker": {
                    "color": "#636efa",
                    "size": [
                      553.4212036132812,
                      401.859619140625,
                      377.1493225097656
                    ],
                    "sizemode": "area",
                    "sizeref": 10.1488890625
                  },
                  "mode": "markers",
                  "name": "Ukraine",
                  "showlegend": true,
                  "subplot": "mapbox",
                  "type": "scattermapbox"
                },
                {
                  "customdata": [
                    [
                      549.2429809570312,
                      46.8625,
                      103.8467,
                      "Asia Pacific",
                      "2019-2021",
                      "Agriculture"
                    ],
                    [
                      216.8521881103516,
                      46.8625,
                      103.8467,
                      "Asia Pacific",
                      "2022",
                      "Energy"
                    ],
                    [
                      16.66093635559082,
                      46.8625,
                      103.8467,
                      "Asia Pacific",
                      "2019-2021",
                      "Waste"
                    ]
                  ],
                  "hovertemplate": "<b>%{hovertext}</b><br><br>country=Mongolia<br>emissions=%{customdata[0]}<br>region=%{customdata[3]}<br>baseYear=%{customdata[4]}<br>type=%{customdata[5]}<extra></extra>",
                  "hovertext": [
                    "Mongolia",
                    "Mongolia",
                    "Mongolia"
                  ],
                  "lat": [
                    46.8625,
                    46.8625,
                    46.8625
                  ],
                  "legendgroup": "Mongolia",
                  "lon": [
                    103.8467,
                    103.8467,
                    103.8467
                  ],
                  "marker": {
                    "color": "#EF553B",
                    "size": [
                      549.2429809570312,
                      216.8521881103516,
                      16.66093635559082
                    ],
                    "sizemode": "area",
                    "sizeref": 10.1488890625
                  },
                  "mode": "markers",
                  "name": "Mongolia",
                  "showlegend": true,
                  "subplot": "mapbox",
                  "type": "scattermapbox"
                },
                {
                  "customdata": [
                    [
                      527.2578125,
                      35.9078,
                      127.7669,
                      "Asia Pacific",
                      "2019-2021",
                      "Waste"
                    ],
                    [
                      508.4415588378906,
                      35.9078,
                      127.7669,
                      "Asia Pacific",
                      "2019-2021",
                      "Agriculture"
                    ],
                    [
                      200.3266448974609,
                      35.9078,
                      127.7669,
                      "Asia Pacific",
                      "2022",
                      "Energy"
                    ]
                  ],
                  "hovertemplate": "<b>%{hovertext}</b><br><br>country=Korea<br>emissions=%{customdata[0]}<br>region=%{customdata[3]}<br>baseYear=%{customdata[4]}<br>type=%{customdata[5]}<extra></extra>",
                  "hovertext": [
                    "Korea",
                    "Korea",
                    "Korea"
                  ],
                  "lat": [
                    35.9078,
                    35.9078,
                    35.9078
                  ],
                  "legendgroup": "Korea",
                  "lon": [
                    127.7669,
                    127.7669,
                    127.7669
                  ],
                  "marker": {
                    "color": "#00cc96",
                    "size": [
                      527.2578125,
                      508.4415588378906,
                      200.3266448974609
                    ],
                    "sizemode": "area",
                    "sizeref": 10.1488890625
                  },
                  "mode": "markers",
                  "name": "Korea",
                  "showlegend": true,
                  "subplot": "mapbox",
                  "type": "scattermapbox"
                },
                {
                  "customdata": [
                    [
                      466.8436584472656,
                      52.1326,
                      5.2913,
                      "Europe",
                      "2019-2021",
                      "Agriculture"
                    ],
                    [
                      137.8373260498047,
                      52.1326,
                      5.2913,
                      "Europe",
                      "2019-2021",
                      "Waste"
                    ],
                    [
                      29.25938034057617,
                      52.1326,
                      5.2913,
                      "Europe",
                      "2022",
                      "Energy"
                    ]
                  ],
                  "hovertemplate": "<b>%{hovertext}</b><br><br>country=Netherlands<br>emissions=%{customdata[0]}<br>region=%{customdata[3]}<br>baseYear=%{customdata[4]}<br>type=%{customdata[5]}<extra></extra>",
                  "hovertext": [
                    "Netherlands",
                    "Netherlands",
                    "Netherlands"
                  ],
                  "lat": [
                    52.1326,
                    52.1326,
                    52.1326
                  ],
                  "legendgroup": "Netherlands",
                  "lon": [
                    5.2913,
                    5.2913,
                    5.2913
                  ],
                  "marker": {
                    "color": "#ab63fa",
                    "size": [
                      466.8436584472656,
                      137.8373260498047,
                      29.25938034057617
                    ],
                    "sizemode": "area",
                    "sizeref": 10.1488890625
                  },
                  "mode": "markers",
                  "name": "Netherlands",
                  "showlegend": true,
                  "subplot": "mapbox",
                  "type": "scattermapbox"
                },
                {
                  "customdata": [
                    [
                      438.159423828125,
                      9.9456,
                      -9.6966,
                      "Africa",
                      "2019-2021",
                      "Agriculture"
                    ],
                    [
                      68.93671417236328,
                      9.9456,
                      -9.6966,
                      "Africa",
                      "2019-2021",
                      "Waste"
                    ],
                    [
                      0.0080000003799796,
                      9.9456,
                      -9.6966,
                      "Africa",
                      "2022",
                      "Energy"
                    ]
                  ],
                  "hovertemplate": "<b>%{hovertext}</b><br><br>country=Guinea<br>emissions=%{customdata[0]}<br>region=%{customdata[3]}<br>baseYear=%{customdata[4]}<br>type=%{customdata[5]}<extra></extra>",
                  "hovertext": [
                    "Guinea",
                    "Guinea",
                    "Guinea"
                  ],
                  "lat": [
                    9.9456,
                    9.9456,
                    9.9456
                  ],
                  "legendgroup": "Guinea",
                  "lon": [
                    -9.6966,
                    -9.6966,
                    -9.6966
                  ],
                  "marker": {
                    "color": "#FFA15A",
                    "size": [
                      438.159423828125,
                      68.93671417236328,
                      0.0080000003799796
                    ],
                    "sizemode": "area",
                    "sizeref": 10.1488890625
                  },
                  "mode": "markers",
                  "name": "Guinea",
                  "showlegend": true,
                  "subplot": "mapbox",
                  "type": "scattermapbox"
                },
                {
                  "customdata": [
                    [
                      405.1220397949219,
                      31.7917,
                      -7.0926,
                      "Africa",
                      "2019-2021",
                      "Waste"
                    ],
                    [
                      295.3795166015625,
                      31.7917,
                      -7.0926,
                      "Africa",
                      "2019-2021",
                      "Agriculture"
                    ],
                    [
                      22.181472778320312,
                      31.7917,
                      -7.0926,
                      "Africa",
                      "2022",
                      "Energy"
                    ]
                  ],
                  "hovertemplate": "<b>%{hovertext}</b><br><br>country=Morocco<br>emissions=%{customdata[0]}<br>region=%{customdata[3]}<br>baseYear=%{customdata[4]}<br>type=%{customdata[5]}<extra></extra>",
                  "hovertext": [
                    "Morocco",
                    "Morocco",
                    "Morocco"
                  ],
                  "lat": [
                    31.7917,
                    31.7917,
                    31.7917
                  ],
                  "legendgroup": "Morocco",
                  "lon": [
                    -7.0926,
                    -7.0926,
                    -7.0926
                  ],
                  "marker": {
                    "color": "#19d3f3",
                    "size": [
                      405.1220397949219,
                      295.3795166015625,
                      22.181472778320312
                    ],
                    "sizemode": "area",
                    "sizeref": 10.1488890625
                  },
                  "mode": "markers",
                  "name": "Morocco",
                  "showlegend": true,
                  "subplot": "mapbox",
                  "type": "scattermapbox"
                },
                {
                  "customdata": [
                    [
                      367.9289245605469,
                      45.9432,
                      24.9668,
                      "Europe",
                      "2019-2021",
                      "Agriculture"
                    ],
                    [
                      285.4109191894531,
                      45.9432,
                      24.9668,
                      "Europe",
                      "2022",
                      "Energy"
                    ],
                    [
                      244.40768432617188,
                      45.9432,
                      24.9668,
                      "Europe",
                      "2019-2021",
                      "Waste"
                    ]
                  ],
                  "hovertemplate": "<b>%{hovertext}</b><br><br>country=Romania<br>emissions=%{customdata[0]}<br>region=%{customdata[3]}<br>baseYear=%{customdata[4]}<br>type=%{customdata[5]}<extra></extra>",
                  "hovertext": [
                    "Romania",
                    "Romania",
                    "Romania"
                  ],
                  "lat": [
                    45.9432,
                    45.9432,
                    45.9432
                  ],
                  "legendgroup": "Romania",
                  "lon": [
                    24.9668,
                    24.9668,
                    24.9668
                  ],
                  "marker": {
                    "color": "#FF6692",
                    "size": [
                      367.9289245605469,
                      285.4109191894531,
                      244.40768432617188
                    ],
                    "sizemode": "area",
                    "sizeref": 10.1488890625
                  },
                  "mode": "markers",
                  "name": "Romania",
                  "showlegend": true,
                  "subplot": "mapbox",
                  "type": "scattermapbox"
                },
                {
                  "customdata": [
                    [
                      359.8713684082031,
                      -1.8312,
                      -78.1834,
                      "Central and South America",
                      "2019-2021",
                      "Agriculture"
                    ],
                    [
                      277.0992736816406,
                      -1.8312,
                      -78.1834,
                      "Central and South America",
                      "2022",
                      "Energy"
                    ],
                    [
                      235.403060913086,
                      -1.8312,
                      -78.1834,
                      "Central and South America",
                      "2019-2021",
                      "Waste"
                    ]
                  ],
                  "hovertemplate": "<b>%{hovertext}</b><br><br>country=Ecuador<br>emissions=%{customdata[0]}<br>region=%{customdata[3]}<br>baseYear=%{customdata[4]}<br>type=%{customdata[5]}<extra></extra>",
                  "hovertext": [
                    "Ecuador",
                    "Ecuador",
                    "Ecuador"
                  ],
                  "lat": [
                    -1.8312,
                    -1.8312,
                    -1.8312
                  ],
                  "legendgroup": "Ecuador",
                  "lon": [
                    -78.1834,
                    -78.1834,
                    -78.1834
                  ],
                  "marker": {
                    "color": "#B6E880",
                    "size": [
                      359.8713684082031,
                      277.0992736816406,
                      235.403060913086
                    ],
                    "sizemode": "area",
                    "sizeref": 10.1488890625
                  },
                  "mode": "markers",
                  "name": "Ecuador",
                  "showlegend": true,
                  "subplot": "mapbox",
                  "type": "scattermapbox"
                },
                {
                  "customdata": [
                    [
                      323.2549743652344,
                      40.1431,
                      47.5769,
                      "Russia & Caspian",
                      "2022",
                      "Energy"
                    ],
                    [
                      195.1975250244141,
                      40.1431,
                      47.5769,
                      "Russia & Caspian",
                      "2019-2021",
                      "Agriculture"
                    ],
                    [
                      104.27503204345705,
                      40.1431,
                      47.5769,
                      "Russia & Caspian",
                      "2019-2021",
                      "Waste"
                    ]
                  ],
                  "hovertemplate": "<b>%{hovertext}</b><br><br>country=Azerbaijan<br>emissions=%{customdata[0]}<br>region=%{customdata[3]}<br>baseYear=%{customdata[4]}<br>type=%{customdata[5]}<extra></extra>",
                  "hovertext": [
                    "Azerbaijan",
                    "Azerbaijan",
                    "Azerbaijan"
                  ],
                  "lat": [
                    40.1431,
                    40.1431,
                    40.1431
                  ],
                  "legendgroup": "Azerbaijan",
                  "lon": [
                    47.5769,
                    47.5769,
                    47.5769
                  ],
                  "marker": {
                    "color": "#FF97FF",
                    "size": [
                      323.2549743652344,
                      195.1975250244141,
                      104.27503204345705
                    ],
                    "sizemode": "area",
                    "sizeref": 10.1488890625
                  },
                  "mode": "markers",
                  "name": "Azerbaijan",
                  "showlegend": true,
                  "subplot": "mapbox",
                  "type": "scattermapbox"
                },
                {
                  "customdata": [
                    [
                      282.4595642089844,
                      31.0461,
                      34.8516,
                      "Europe",
                      "2019-2021",
                      "Waste"
                    ],
                    [
                      43.2089958190918,
                      31.0461,
                      34.8516,
                      "Europe",
                      "2022",
                      "Energy"
                    ],
                    [
                      39.840087890625,
                      31.0461,
                      34.8516,
                      "Europe",
                      "2019-2021",
                      "Agriculture"
                    ]
                  ],
                  "hovertemplate": "<b>%{hovertext}</b><br><br>country=Israel<br>emissions=%{customdata[0]}<br>region=%{customdata[3]}<br>baseYear=%{customdata[4]}<br>type=%{customdata[5]}<extra></extra>",
                  "hovertext": [
                    "Israel",
                    "Israel",
                    "Israel"
                  ],
                  "lat": [
                    31.0461,
                    31.0461,
                    31.0461
                  ],
                  "legendgroup": "Israel",
                  "lon": [
                    34.8516,
                    34.8516,
                    34.8516
                  ],
                  "marker": {
                    "color": "#FECB52",
                    "size": [
                      282.4595642089844,
                      43.2089958190918,
                      39.840087890625
                    ],
                    "sizemode": "area",
                    "sizeref": 10.1488890625
                  },
                  "mode": "markers",
                  "name": "Israel",
                  "showlegend": true,
                  "subplot": "mapbox",
                  "type": "scattermapbox"
                },
                {
                  "customdata": [
                    [
                      279.5312194824219,
                      7.3697,
                      12.3547,
                      "Africa",
                      "2019-2021",
                      "Agriculture"
                    ],
                    [
                      216.560775756836,
                      7.3697,
                      12.3547,
                      "Africa",
                      "2022",
                      "Energy"
                    ],
                    [
                      194.51437377929688,
                      7.3697,
                      12.3547,
                      "Africa",
                      "2019-2021",
                      "Waste"
                    ]
                  ],
                  "hovertemplate": "<b>%{hovertext}</b><br><br>country=Cameroon<br>emissions=%{customdata[0]}<br>region=%{customdata[3]}<br>baseYear=%{customdata[4]}<br>type=%{customdata[5]}<extra></extra>",
                  "hovertext": [
                    "Cameroon",
                    "Cameroon",
                    "Cameroon"
                  ],
                  "lat": [
                    7.3697,
                    7.3697,
                    7.3697
                  ],
                  "legendgroup": "Cameroon",
                  "lon": [
                    12.3547,
                    12.3547,
                    12.3547
                  ],
                  "marker": {
                    "color": "#636efa",
                    "size": [
                      279.5312194824219,
                      216.560775756836,
                      194.51437377929688
                    ],
                    "sizemode": "area",
                    "sizeref": 10.1488890625
                  },
                  "mode": "markers",
                  "name": "Cameroon",
                  "showlegend": true,
                  "subplot": "mapbox",
                  "type": "scattermapbox"
                },
                {
                  "customdata": [
                    [
                      267.4549255371094,
                      21.5218,
                      -77.7812,
                      "Central and South America",
                      "2019-2021",
                      "Agriculture"
                    ],
                    [
                      160.3751678466797,
                      21.5218,
                      -77.7812,
                      "Central and South America",
                      "2019-2021",
                      "Waste"
                    ],
                    [
                      21.06509017944336,
                      21.5218,
                      -77.7812,
                      "Central and South America",
                      "2022",
                      "Energy"
                    ]
                  ],
                  "hovertemplate": "<b>%{hovertext}</b><br><br>country=Cuba<br>emissions=%{customdata[0]}<br>region=%{customdata[3]}<br>baseYear=%{customdata[4]}<br>type=%{customdata[5]}<extra></extra>",
                  "hovertext": [
                    "Cuba",
                    "Cuba",
                    "Cuba"
                  ],
                  "lat": [
                    21.5218,
                    21.5218,
                    21.5218
                  ],
                  "legendgroup": "Cuba",
                  "lon": [
                    -77.7812,
                    -77.7812,
                    -77.7812
                  ],
                  "marker": {
                    "color": "#EF553B",
                    "size": [
                      267.4549255371094,
                      160.3751678466797,
                      21.06509017944336
                    ],
                    "sizemode": "area",
                    "sizeref": 10.1488890625
                  },
                  "mode": "markers",
                  "name": "Cuba",
                  "showlegend": true,
                  "subplot": "mapbox",
                  "type": "scattermapbox"
                },
                {
                  "customdata": [
                    [
                      264.7666931152344,
                      -0.228,
                      15.8277,
                      "Africa",
                      "2022",
                      "Energy"
                    ],
                    [
                      30.08274269104004,
                      -0.228,
                      15.8277,
                      "Africa",
                      "2019-2021",
                      "Waste"
                    ],
                    [
                      23.8709659576416,
                      -0.228,
                      15.8277,
                      "Africa",
                      "2019-2021",
                      "Agriculture"
                    ]
                  ],
                  "hovertemplate": "<b>%{hovertext}</b><br><br>country=Congo<br>emissions=%{customdata[0]}<br>region=%{customdata[3]}<br>baseYear=%{customdata[4]}<br>type=%{customdata[5]}<extra></extra>",
                  "hovertext": [
                    "Congo",
                    "Congo",
                    "Congo"
                  ],
                  "lat": [
                    -0.228,
                    -0.228,
                    -0.228
                  ],
                  "legendgroup": "Congo",
                  "lon": [
                    15.8277,
                    15.8277,
                    15.8277
                  ],
                  "marker": {
                    "color": "#00cc96",
                    "size": [
                      264.7666931152344,
                      30.08274269104004,
                      23.8709659576416
                    ],
                    "sizemode": "area",
                    "sizeref": 10.1488890625
                  },
                  "mode": "markers",
                  "name": "Congo",
                  "showlegend": true,
                  "subplot": "mapbox",
                  "type": "scattermapbox"
                },
                {
                  "customdata": [
                    [
                      261.5225524902344,
                      14.4974,
                      -14.4524,
                      "Africa",
                      "2019-2021",
                      "Agriculture"
                    ],
                    [
                      101.4332275390625,
                      14.4974,
                      -14.4524,
                      "Africa",
                      "2019-2021",
                      "Waste"
                    ],
                    [
                      13.024876594543455,
                      14.4974,
                      -14.4524,
                      "Africa",
                      "2022",
                      "Energy"
                    ]
                  ],
                  "hovertemplate": "<b>%{hovertext}</b><br><br>country=Senegal<br>emissions=%{customdata[0]}<br>region=%{customdata[3]}<br>baseYear=%{customdata[4]}<br>type=%{customdata[5]}<extra></extra>",
                  "hovertext": [
                    "Senegal",
                    "Senegal",
                    "Senegal"
                  ],
                  "lat": [
                    14.4974,
                    14.4974,
                    14.4974
                  ],
                  "legendgroup": "Senegal",
                  "lon": [
                    -14.4524,
                    -14.4524,
                    -14.4524
                  ],
                  "marker": {
                    "color": "#ab63fa",
                    "size": [
                      261.5225524902344,
                      101.4332275390625,
                      13.024876594543455
                    ],
                    "sizemode": "area",
                    "sizeref": 10.1488890625
                  },
                  "mode": "markers",
                  "name": "Senegal",
                  "showlegend": true,
                  "subplot": "mapbox",
                  "type": "scattermapbox"
                },
                {
                  "customdata": [
                    [
                      250.8168029785156,
                      6.6111,
                      20.9394,
                      "Africa",
                      "2019-2021",
                      "Agriculture"
                    ],
                    [
                      22.85633850097656,
                      6.6111,
                      20.9394,
                      "Africa",
                      "2019-2021",
                      "Waste"
                    ]
                  ],
                  "hovertemplate": "<b>%{hovertext}</b><br><br>country=Central African Republic<br>emissions=%{customdata[0]}<br>region=%{customdata[3]}<br>baseYear=%{customdata[4]}<br>type=%{customdata[5]}<extra></extra>",
                  "hovertext": [
                    "Central African Republic",
                    "Central African Republic"
                  ],
                  "lat": [
                    6.6111,
                    6.6111
                  ],
                  "legendgroup": "Central African Republic",
                  "lon": [
                    20.9394,
                    20.9394
                  ],
                  "marker": {
                    "color": "#FFA15A",
                    "size": [
                      250.8168029785156,
                      22.85633850097656
                    ],
                    "sizemode": "area",
                    "sizeref": 10.1488890625
                  },
                  "mode": "markers",
                  "name": "Central African Republic",
                  "showlegend": true,
                  "subplot": "mapbox",
                  "type": "scattermapbox"
                },
                {
                  "customdata": [
                    [
                      249.8030548095703,
                      50.5,
                      13,
                      "Europe",
                      "2019-2021",
                      "Waste"
                    ],
                    [
                      139.63568115234375,
                      50.5,
                      13,
                      "Europe",
                      "2019-2021",
                      "Agriculture"
                    ],
                    [
                      55.59594345092773,
                      50.5,
                      13,
                      "Europe",
                      "2022",
                      "Energy"
                    ]
                  ],
                  "hovertemplate": "<b>%{hovertext}</b><br><br>country=Other EU7 countries<br>emissions=%{customdata[0]}<br>region=%{customdata[3]}<br>baseYear=%{customdata[4]}<br>type=%{customdata[5]}<extra></extra>",
                  "hovertext": [
                    "Other EU7 countries",
                    "Other EU7 countries",
                    "Other EU7 countries"
                  ],
                  "lat": [
                    50.5,
                    50.5,
                    50.5
                  ],
                  "legendgroup": "Other EU7 countries",
                  "lon": [
                    13,
                    13,
                    13
                  ],
                  "marker": {
                    "color": "#19d3f3",
                    "size": [
                      249.8030548095703,
                      139.63568115234375,
                      55.59594345092773
                    ],
                    "sizemode": "area",
                    "sizeref": 10.1488890625
                  },
                  "mode": "markers",
                  "name": "Other EU7 countries",
                  "showlegend": true,
                  "subplot": "mapbox",
                  "type": "scattermapbox"
                },
                {
                  "customdata": [
                    [
                      248.5525665283203,
                      -0.8037,
                      11.6094,
                      "Africa",
                      "2022",
                      "Energy"
                    ],
                    [
                      21.208723068237305,
                      -0.8037,
                      11.6094,
                      "Africa",
                      "2019-2021",
                      "Waste"
                    ],
                    [
                      5.590458393096924,
                      -0.8037,
                      11.6094,
                      "Africa",
                      "2019-2021",
                      "Agriculture"
                    ]
                  ],
                  "hovertemplate": "<b>%{hovertext}</b><br><br>country=Gabon<br>emissions=%{customdata[0]}<br>region=%{customdata[3]}<br>baseYear=%{customdata[4]}<br>type=%{customdata[5]}<extra></extra>",
                  "hovertext": [
                    "Gabon",
                    "Gabon",
                    "Gabon"
                  ],
                  "lat": [
                    -0.8037,
                    -0.8037,
                    -0.8037
                  ],
                  "legendgroup": "Gabon",
                  "lon": [
                    11.6094,
                    11.6094,
                    11.6094
                  ],
                  "marker": {
                    "color": "#FF6692",
                    "size": [
                      248.5525665283203,
                      21.208723068237305,
                      5.590458393096924
                    ],
                    "sizemode": "area",
                    "sizeref": 10.1488890625
                  },
                  "mode": "markers",
                  "name": "Gabon",
                  "showlegend": true,
                  "subplot": "mapbox",
                  "type": "scattermapbox"
                },
                {
                  "customdata": [
                    [
                      240.09361267089844,
                      56.2639,
                      9.5018,
                      "Europe",
                      "2019-2021",
                      "Agriculture"
                    ],
                    [
                      41.51583480834961,
                      56.2639,
                      9.5018,
                      "Europe",
                      "2022",
                      "Energy"
                    ],
                    [
                      40.26875686645508,
                      56.2639,
                      9.5018,
                      "Europe",
                      "2019-2021",
                      "Waste"
                    ]
                  ],
                  "hovertemplate": "<b>%{hovertext}</b><br><br>country=Denmark<br>emissions=%{customdata[0]}<br>region=%{customdata[3]}<br>baseYear=%{customdata[4]}<br>type=%{customdata[5]}<extra></extra>",
                  "hovertext": [
                    "Denmark",
                    "Denmark",
                    "Denmark"
                  ],
                  "lat": [
                    56.2639,
                    56.2639,
                    56.2639
                  ],
                  "legendgroup": "Denmark",
                  "lon": [
                    9.5018,
                    9.5018,
                    9.5018
                  ],
                  "marker": {
                    "color": "#B6E880",
                    "size": [
                      240.09361267089844,
                      41.51583480834961,
                      40.26875686645508
                    ],
                    "sizemode": "area",
                    "sizeref": 10.1488890625
                  },
                  "mode": "markers",
                  "name": "Denmark",
                  "showlegend": true,
                  "subplot": "mapbox",
                  "type": "scattermapbox"
                },
                {
                  "customdata": [
                    [
                      237.66441345214844,
                      34.8021,
                      38.9968,
                      "Middle East",
                      "2022",
                      "Energy"
                    ],
                    [
                      169.2044219970703,
                      34.8021,
                      38.9968,
                      "Middle East",
                      "2019-2021",
                      "Waste"
                    ],
                    [
                      133.05282592773438,
                      34.8021,
                      38.9968,
                      "Middle East",
                      "2019-2021",
                      "Agriculture"
                    ]
                  ],
                  "hovertemplate": "<b>%{hovertext}</b><br><br>country=Syria<br>emissions=%{customdata[0]}<br>region=%{customdata[3]}<br>baseYear=%{customdata[4]}<br>type=%{customdata[5]}<extra></extra>",
                  "hovertext": [
                    "Syria",
                    "Syria",
                    "Syria"
                  ],
                  "lat": [
                    34.8021,
                    34.8021,
                    34.8021
                  ],
                  "legendgroup": "Syria",
                  "lon": [
                    38.9968,
                    38.9968,
                    38.9968
                  ],
                  "marker": {
                    "color": "#FF97FF",
                    "size": [
                      237.66441345214844,
                      169.2044219970703,
                      133.05282592773438
                    ],
                    "sizemode": "area",
                    "sizeref": 10.1488890625
                  },
                  "mode": "markers",
                  "name": "Syria",
                  "showlegend": true,
                  "subplot": "mapbox",
                  "type": "scattermapbox"
                },
                {
                  "customdata": [
                    [
                      227.3558959960937,
                      -18.6657,
                      35.5296,
                      "Africa",
                      "2022",
                      "Energy"
                    ],
                    [
                      210.65399169921875,
                      -18.6657,
                      35.5296,
                      "Africa",
                      "2019-2021",
                      "Agriculture"
                    ],
                    [
                      155.7392578125,
                      -18.6657,
                      35.5296,
                      "Africa",
                      "2019-2021",
                      "Waste"
                    ]
                  ],
                  "hovertemplate": "<b>%{hovertext}</b><br><br>country=Mozambique<br>emissions=%{customdata[0]}<br>region=%{customdata[3]}<br>baseYear=%{customdata[4]}<br>type=%{customdata[5]}<extra></extra>",
                  "hovertext": [
                    "Mozambique",
                    "Mozambique",
                    "Mozambique"
                  ],
                  "lat": [
                    -18.6657,
                    -18.6657,
                    -18.6657
                  ],
                  "legendgroup": "Mozambique",
                  "lon": [
                    35.5296,
                    35.5296,
                    35.5296
                  ],
                  "marker": {
                    "color": "#FECB52",
                    "size": [
                      227.3558959960937,
                      210.65399169921875,
                      155.7392578125
                    ],
                    "sizemode": "area",
                    "sizeref": 10.1488890625
                  },
                  "mode": "markers",
                  "name": "Mozambique",
                  "showlegend": true,
                  "subplot": "mapbox",
                  "type": "scattermapbox"
                },
                {
                  "customdata": [
                    [
                      220.2355194091797,
                      7.54,
                      -5.5471,
                      "Africa",
                      "2019-2021",
                      "Waste"
                    ],
                    [
                      185.7007751464844,
                      7.54,
                      -5.5471,
                      "Africa",
                      "2019-2021",
                      "Agriculture"
                    ],
                    [
                      93.39645385742188,
                      7.54,
                      -5.5471,
                      "Africa",
                      "2022",
                      "Energy"
                    ]
                  ],
                  "hovertemplate": "<b>%{hovertext}</b><br><br>country=Cote d'Ivoire<br>emissions=%{customdata[0]}<br>region=%{customdata[3]}<br>baseYear=%{customdata[4]}<br>type=%{customdata[5]}<extra></extra>",
                  "hovertext": [
                    "Cote d'Ivoire",
                    "Cote d'Ivoire",
                    "Cote d'Ivoire"
                  ],
                  "lat": [
                    7.54,
                    7.54,
                    7.54
                  ],
                  "legendgroup": "Cote d'Ivoire",
                  "lon": [
                    -5.5471,
                    -5.5471,
                    -5.5471
                  ],
                  "marker": {
                    "color": "#636efa",
                    "size": [
                      220.2355194091797,
                      185.7007751464844,
                      93.39645385742188
                    ],
                    "sizemode": "area",
                    "sizeref": 10.1488890625
                  },
                  "mode": "markers",
                  "name": "Cote d'Ivoire",
                  "showlegend": true,
                  "subplot": "mapbox",
                  "type": "scattermapbox"
                },
                {
                  "customdata": [
                    [
                      209.22000122070312,
                      10.6918,
                      -61.2225,
                      "Central and South America",
                      "2022",
                      "Energy"
                    ],
                    [
                      62.29243469238281,
                      10.6918,
                      -61.2225,
                      "Central and South America",
                      "2019-2021",
                      "Waste"
                    ],
                    [
                      4.345527648925781,
                      10.6918,
                      -61.2225,
                      "Central and South America",
                      "2019-2021",
                      "Agriculture"
                    ]
                  ],
                  "hovertemplate": "<b>%{hovertext}</b><br><br>country=Trinidad and Tobago<br>emissions=%{customdata[0]}<br>region=%{customdata[3]}<br>baseYear=%{customdata[4]}<br>type=%{customdata[5]}<extra></extra>",
                  "hovertext": [
                    "Trinidad and Tobago",
                    "Trinidad and Tobago",
                    "Trinidad and Tobago"
                  ],
                  "lat": [
                    10.6918,
                    10.6918,
                    10.6918
                  ],
                  "legendgroup": "Trinidad and Tobago",
                  "lon": [
                    -61.2225,
                    -61.2225,
                    -61.2225
                  ],
                  "marker": {
                    "color": "#EF553B",
                    "size": [
                      209.22000122070312,
                      62.29243469238281,
                      4.345527648925781
                    ],
                    "sizemode": "area",
                    "sizeref": 10.1488890625
                  },
                  "mode": "markers",
                  "name": "Trinidad and Tobago",
                  "showlegend": true,
                  "subplot": "mapbox",
                  "type": "scattermapbox"
                },
                {
                  "customdata": [
                    [
                      200.5210418701172,
                      30.5852,
                      36.2384,
                      "Middle East",
                      "2019-2021",
                      "Waste"
                    ],
                    [
                      47.20696640014648,
                      30.5852,
                      36.2384,
                      "Middle East",
                      "2022",
                      "Energy"
                    ],
                    [
                      25.815542221069336,
                      30.5852,
                      36.2384,
                      "Middle East",
                      "2019-2021",
                      "Agriculture"
                    ]
                  ],
                  "hovertemplate": "<b>%{hovertext}</b><br><br>country=Jordan<br>emissions=%{customdata[0]}<br>region=%{customdata[3]}<br>baseYear=%{customdata[4]}<br>type=%{customdata[5]}<extra></extra>",
                  "hovertext": [
                    "Jordan",
                    "Jordan",
                    "Jordan"
                  ],
                  "lat": [
                    30.5852,
                    30.5852,
                    30.5852
                  ],
                  "legendgroup": "Jordan",
                  "lon": [
                    36.2384,
                    36.2384,
                    36.2384
                  ],
                  "marker": {
                    "color": "#00cc96",
                    "size": [
                      200.5210418701172,
                      47.20696640014648,
                      25.815542221069336
                    ],
                    "sizemode": "area",
                    "sizeref": 10.1488890625
                  },
                  "mode": "markers",
                  "name": "Jordan",
                  "showlegend": true,
                  "subplot": "mapbox",
                  "type": "scattermapbox"
                },
                {
                  "customdata": [
                    [
                      190.6852569580078,
                      26.0667,
                      50.5577,
                      "Middle East",
                      "2022",
                      "Energy"
                    ],
                    [
                      172.3936004638672,
                      26.0667,
                      50.5577,
                      "Middle East",
                      "2019-2021",
                      "Waste"
                    ],
                    [
                      0.9645923376083374,
                      26.0667,
                      50.5577,
                      "Middle East",
                      "2019-2021",
                      "Agriculture"
                    ]
                  ],
                  "hovertemplate": "<b>%{hovertext}</b><br><br>country=Bahrain<br>emissions=%{customdata[0]}<br>region=%{customdata[3]}<br>baseYear=%{customdata[4]}<br>type=%{customdata[5]}<extra></extra>",
                  "hovertext": [
                    "Bahrain",
                    "Bahrain",
                    "Bahrain"
                  ],
                  "lat": [
                    26.0667,
                    26.0667,
                    26.0667
                  ],
                  "legendgroup": "Bahrain",
                  "lon": [
                    50.5577,
                    50.5577,
                    50.5577
                  ],
                  "marker": {
                    "color": "#ab63fa",
                    "size": [
                      190.6852569580078,
                      172.3936004638672,
                      0.9645923376083374
                    ],
                    "sizemode": "area",
                    "sizeref": 10.1488890625
                  },
                  "mode": "markers",
                  "name": "Bahrain",
                  "showlegend": true,
                  "subplot": "mapbox",
                  "type": "scattermapbox"
                },
                {
                  "customdata": [
                    [
                      181.9879150390625,
                      -22.9576,
                      18.4904,
                      "Africa",
                      "2019-2021",
                      "Agriculture"
                    ],
                    [
                      15.859238624572754,
                      -22.9576,
                      18.4904,
                      "Africa",
                      "2019-2021",
                      "Waste"
                    ],
                    [
                      2.631089210510254,
                      -22.9576,
                      18.4904,
                      "Africa",
                      "2022",
                      "Energy"
                    ]
                  ],
                  "hovertemplate": "<b>%{hovertext}</b><br><br>country=Namibia<br>emissions=%{customdata[0]}<br>region=%{customdata[3]}<br>baseYear=%{customdata[4]}<br>type=%{customdata[5]}<extra></extra>",
                  "hovertext": [
                    "Namibia",
                    "Namibia",
                    "Namibia"
                  ],
                  "lat": [
                    -22.9576,
                    -22.9576,
                    -22.9576
                  ],
                  "legendgroup": "Namibia",
                  "lon": [
                    18.4904,
                    18.4904,
                    18.4904
                  ],
                  "marker": {
                    "color": "#FFA15A",
                    "size": [
                      181.9879150390625,
                      15.859238624572754,
                      2.631089210510254
                    ],
                    "sizemode": "area",
                    "sizeref": 10.1488890625
                  },
                  "mode": "markers",
                  "name": "Namibia",
                  "showlegend": true,
                  "subplot": "mapbox",
                  "type": "scattermapbox"
                },
                {
                  "customdata": [
                    [
                      181.29298400878903,
                      15.5527,
                      48.5164,
                      "Middle East",
                      "2019-2021",
                      "Agriculture"
                    ],
                    [
                      161.4936981201172,
                      15.5527,
                      48.5164,
                      "Middle East",
                      "2019-2021",
                      "Waste"
                    ],
                    [
                      145.18161010742188,
                      15.5527,
                      48.5164,
                      "Middle East",
                      "2022",
                      "Energy"
                    ]
                  ],
                  "hovertemplate": "<b>%{hovertext}</b><br><br>country=Yemen<br>emissions=%{customdata[0]}<br>region=%{customdata[3]}<br>baseYear=%{customdata[4]}<br>type=%{customdata[5]}<extra></extra>",
                  "hovertext": [
                    "Yemen",
                    "Yemen",
                    "Yemen"
                  ],
                  "lat": [
                    15.5527,
                    15.5527,
                    15.5527
                  ],
                  "legendgroup": "Yemen",
                  "lon": [
                    48.5164,
                    48.5164,
                    48.5164
                  ],
                  "marker": {
                    "color": "#19d3f3",
                    "size": [
                      181.29298400878903,
                      161.4936981201172,
                      145.18161010742188
                    ],
                    "sizemode": "area",
                    "sizeref": 10.1488890625
                  },
                  "mode": "markers",
                  "name": "Yemen",
                  "showlegend": true,
                  "subplot": "mapbox",
                  "type": "scattermapbox"
                },
                {
                  "customdata": [
                    [
                      169.0322265625,
                      7.9465,
                      -1.0232,
                      "Africa",
                      "2019-2021",
                      "Agriculture"
                    ],
                    [
                      159.3824005126953,
                      7.9465,
                      -1.0232,
                      "Africa",
                      "2019-2021",
                      "Waste"
                    ],
                    [
                      120.73609161376952,
                      7.9465,
                      -1.0232,
                      "Africa",
                      "2022",
                      "Energy"
                    ]
                  ],
                  "hovertemplate": "<b>%{hovertext}</b><br><br>country=Ghana<br>emissions=%{customdata[0]}<br>region=%{customdata[3]}<br>baseYear=%{customdata[4]}<br>type=%{customdata[5]}<extra></extra>",
                  "hovertext": [
                    "Ghana",
                    "Ghana",
                    "Ghana"
                  ],
                  "lat": [
                    7.9465,
                    7.9465,
                    7.9465
                  ],
                  "legendgroup": "Ghana",
                  "lon": [
                    -1.0232,
                    -1.0232,
                    -1.0232
                  ],
                  "marker": {
                    "color": "#FF6692",
                    "size": [
                      169.0322265625,
                      159.3824005126953,
                      120.73609161376952
                    ],
                    "sizemode": "area",
                    "sizeref": 10.1488890625
                  },
                  "mode": "markers",
                  "name": "Ghana",
                  "showlegend": true,
                  "subplot": "mapbox",
                  "type": "scattermapbox"
                },
                {
                  "customdata": [
                    [
                      169.01870727539062,
                      1.6508,
                      10.2679,
                      "Africa",
                      "2022",
                      "Energy"
                    ],
                    [
                      11.922514915466309,
                      1.6508,
                      10.2679,
                      "Africa",
                      "2019-2021",
                      "Waste"
                    ],
                    [
                      0.438739001750946,
                      1.6508,
                      10.2679,
                      "Africa",
                      "2019-2021",
                      "Agriculture"
                    ]
                  ],
                  "hovertemplate": "<b>%{hovertext}</b><br><br>country=Equatorial Guinea<br>emissions=%{customdata[0]}<br>region=%{customdata[3]}<br>baseYear=%{customdata[4]}<br>type=%{customdata[5]}<extra></extra>",
                  "hovertext": [
                    "Equatorial Guinea",
                    "Equatorial Guinea",
                    "Equatorial Guinea"
                  ],
                  "lat": [
                    1.6508,
                    1.6508,
                    1.6508
                  ],
                  "legendgroup": "Equatorial Guinea",
                  "lon": [
                    10.2679,
                    10.2679,
                    10.2679
                  ],
                  "marker": {
                    "color": "#B6E880",
                    "size": [
                      169.01870727539062,
                      11.922514915466309,
                      0.438739001750946
                    ],
                    "sizemode": "area",
                    "sizeref": 10.1488890625
                  },
                  "mode": "markers",
                  "name": "Equatorial Guinea",
                  "showlegend": true,
                  "subplot": "mapbox",
                  "type": "scattermapbox"
                },
                {
                  "customdata": [
                    [
                      159.8013458251953,
                      60.1282,
                      18.6435,
                      "Europe",
                      "2019-2021",
                      "Waste"
                    ],
                    [
                      128.65838623046875,
                      60.1282,
                      18.6435,
                      "Europe",
                      "2019-2021",
                      "Agriculture"
                    ],
                    [
                      31.990554809570312,
                      60.1282,
                      18.6435,
                      "Europe",
                      "2022",
                      "Energy"
                    ]
                  ],
                  "hovertemplate": "<b>%{hovertext}</b><br><br>country=Sweden<br>emissions=%{customdata[0]}<br>region=%{customdata[3]}<br>baseYear=%{customdata[4]}<br>type=%{customdata[5]}<extra></extra>",
                  "hovertext": [
                    "Sweden",
                    "Sweden",
                    "Sweden"
                  ],
                  "lat": [
                    60.1282,
                    60.1282,
                    60.1282
                  ],
                  "legendgroup": "Sweden",
                  "lon": [
                    18.6435,
                    18.6435,
                    18.6435
                  ],
                  "marker": {
                    "color": "#FF97FF",
                    "size": [
                      159.8013458251953,
                      128.65838623046875,
                      31.990554809570312
                    ],
                    "sizemode": "area",
                    "sizeref": 10.1488890625
                  },
                  "mode": "markers",
                  "name": "Sweden",
                  "showlegend": true,
                  "subplot": "mapbox",
                  "type": "scattermapbox"
                },
                {
                  "customdata": [
                    [
                      120.17935180664062,
                      15.1794,
                      39.7823,
                      "Africa",
                      "2019-2021",
                      "Agriculture"
                    ],
                    [
                      24.038236618041992,
                      15.1794,
                      39.7823,
                      "Africa",
                      "2019-2021",
                      "Waste"
                    ],
                    [
                      5.936958312988281,
                      15.1794,
                      39.7823,
                      "Africa",
                      "2022",
                      "Energy"
                    ]
                  ],
                  "hovertemplate": "<b>%{hovertext}</b><br><br>country=Eritrea<br>emissions=%{customdata[0]}<br>region=%{customdata[3]}<br>baseYear=%{customdata[4]}<br>type=%{customdata[5]}<extra></extra>",
                  "hovertext": [
                    "Eritrea",
                    "Eritrea",
                    "Eritrea"
                  ],
                  "lat": [
                    15.1794,
                    15.1794,
                    15.1794
                  ],
                  "legendgroup": "Eritrea",
                  "lon": [
                    39.7823,
                    39.7823,
                    39.7823
                  ],
                  "marker": {
                    "color": "#FECB52",
                    "size": [
                      120.17935180664062,
                      24.038236618041992,
                      5.936958312988281
                    ],
                    "sizemode": "area",
                    "sizeref": 10.1488890625
                  },
                  "mode": "markers",
                  "name": "Eritrea",
                  "showlegend": true,
                  "subplot": "mapbox",
                  "type": "scattermapbox"
                },
                {
                  "customdata": [
                    [
                      112.2239990234375,
                      33.8547,
                      35.8623,
                      "Middle East",
                      "2019-2021",
                      "Waste"
                    ],
                    [
                      12.067669868469238,
                      33.8547,
                      35.8623,
                      "Middle East",
                      "2019-2021",
                      "Agriculture"
                    ],
                    [
                      4.712915897369385,
                      33.8547,
                      35.8623,
                      "Middle East",
                      "2022",
                      "Energy"
                    ]
                  ],
                  "hovertemplate": "<b>%{hovertext}</b><br><br>country=Lebanon<br>emissions=%{customdata[0]}<br>region=%{customdata[3]}<br>baseYear=%{customdata[4]}<br>type=%{customdata[5]}<extra></extra>",
                  "hovertext": [
                    "Lebanon",
                    "Lebanon",
                    "Lebanon"
                  ],
                  "lat": [
                    33.8547,
                    33.8547,
                    33.8547
                  ],
                  "legendgroup": "Lebanon",
                  "lon": [
                    35.8623,
                    35.8623,
                    35.8623
                  ],
                  "marker": {
                    "color": "#636efa",
                    "size": [
                      112.2239990234375,
                      12.067669868469238,
                      4.712915897369385
                    ],
                    "sizemode": "area",
                    "sizeref": 10.1488890625
                  },
                  "mode": "markers",
                  "name": "Lebanon",
                  "showlegend": true,
                  "subplot": "mapbox",
                  "type": "scattermapbox"
                },
                {
                  "customdata": [
                    [
                      108.2469711303711,
                      33.8869,
                      9.5375,
                      "Africa",
                      "2019-2021",
                      "Waste"
                    ],
                    [
                      97.72246551513672,
                      33.8869,
                      9.5375,
                      "Africa",
                      "2019-2021",
                      "Agriculture"
                    ],
                    [
                      77.23422241210938,
                      33.8869,
                      9.5375,
                      "Africa",
                      "2022",
                      "Energy"
                    ]
                  ],
                  "hovertemplate": "<b>%{hovertext}</b><br><br>country=Tunisia<br>emissions=%{customdata[0]}<br>region=%{customdata[3]}<br>baseYear=%{customdata[4]}<br>type=%{customdata[5]}<extra></extra>",
                  "hovertext": [
                    "Tunisia",
                    "Tunisia",
                    "Tunisia"
                  ],
                  "lat": [
                    33.8869,
                    33.8869,
                    33.8869
                  ],
                  "legendgroup": "Tunisia",
                  "lon": [
                    9.5375,
                    9.5375,
                    9.5375
                  ],
                  "marker": {
                    "color": "#EF553B",
                    "size": [
                      108.2469711303711,
                      97.72246551513672,
                      77.23422241210938
                    ],
                    "sizemode": "area",
                    "sizeref": 10.1488890625
                  },
                  "mode": "markers",
                  "name": "Tunisia",
                  "showlegend": true,
                  "subplot": "mapbox",
                  "type": "scattermapbox"
                },
                {
                  "customdata": [
                    [
                      105.69103240966795,
                      9.3077,
                      2.3158,
                      "Africa",
                      "2019-2021",
                      "Agriculture"
                    ],
                    [
                      42.10737228393555,
                      9.3077,
                      2.3158,
                      "Africa",
                      "2019-2021",
                      "Waste"
                    ],
                    [
                      26.6285400390625,
                      9.3077,
                      2.3158,
                      "Africa",
                      "2022",
                      "Energy"
                    ]
                  ],
                  "hovertemplate": "<b>%{hovertext}</b><br><br>country=Benin<br>emissions=%{customdata[0]}<br>region=%{customdata[3]}<br>baseYear=%{customdata[4]}<br>type=%{customdata[5]}<extra></extra>",
                  "hovertext": [
                    "Benin",
                    "Benin",
                    "Benin"
                  ],
                  "lat": [
                    9.3077,
                    9.3077,
                    9.3077
                  ],
                  "legendgroup": "Benin",
                  "lon": [
                    2.3158,
                    2.3158,
                    2.3158
                  ],
                  "marker": {
                    "color": "#00cc96",
                    "size": [
                      105.69103240966795,
                      42.10737228393555,
                      26.6285400390625
                    ],
                    "sizemode": "area",
                    "sizeref": 10.1488890625
                  },
                  "mode": "markers",
                  "name": "Benin",
                  "showlegend": true,
                  "subplot": "mapbox",
                  "type": "scattermapbox"
                },
                {
                  "customdata": [
                    [
                      103.60773468017578,
                      60.472,
                      8.4689,
                      "Europe",
                      "2019-2021",
                      "Agriculture"
                    ],
                    [
                      46.46012496948242,
                      60.472,
                      8.4689,
                      "Europe",
                      "2019-2021",
                      "Waste"
                    ],
                    [
                      41.1037712097168,
                      60.472,
                      8.4689,
                      "Europe",
                      "2022",
                      "Energy"
                    ]
                  ],
                  "hovertemplate": "<b>%{hovertext}</b><br><br>country=Norway<br>emissions=%{customdata[0]}<br>region=%{customdata[3]}<br>baseYear=%{customdata[4]}<br>type=%{customdata[5]}<extra></extra>",
                  "hovertext": [
                    "Norway",
                    "Norway",
                    "Norway"
                  ],
                  "lat": [
                    60.472,
                    60.472,
                    60.472
                  ],
                  "legendgroup": "Norway",
                  "lon": [
                    8.4689,
                    8.4689,
                    8.4689
                  ],
                  "marker": {
                    "color": "#ab63fa",
                    "size": [
                      103.60773468017578,
                      46.46012496948242,
                      41.1037712097168
                    ],
                    "sizemode": "area",
                    "sizeref": 10.1488890625
                  },
                  "mode": "markers",
                  "name": "Norway",
                  "showlegend": true,
                  "subplot": "mapbox",
                  "type": "scattermapbox"
                },
                {
                  "customdata": [
                    [
                      86.26763916015625,
                      8.4606,
                      -11.7799,
                      "Africa",
                      "2019-2021",
                      "Agriculture"
                    ],
                    [
                      49.99830627441406,
                      8.4606,
                      -11.7799,
                      "Africa",
                      "2019-2021",
                      "Waste"
                    ]
                  ],
                  "hovertemplate": "<b>%{hovertext}</b><br><br>country=Sierra Leone<br>emissions=%{customdata[0]}<br>region=%{customdata[3]}<br>baseYear=%{customdata[4]}<br>type=%{customdata[5]}<extra></extra>",
                  "hovertext": [
                    "Sierra Leone",
                    "Sierra Leone"
                  ],
                  "lat": [
                    8.4606,
                    8.4606
                  ],
                  "legendgroup": "Sierra Leone",
                  "lon": [
                    -11.7799,
                    -11.7799
                  ],
                  "marker": {
                    "color": "#FFA15A",
                    "size": [
                      86.26763916015625,
                      49.99830627441406
                    ],
                    "sizemode": "area",
                    "sizeref": 10.1488890625
                  },
                  "mode": "markers",
                  "name": "Sierra Leone",
                  "showlegend": true,
                  "subplot": "mapbox",
                  "type": "scattermapbox"
                },
                {
                  "customdata": [
                    [
                      57.39715576171875,
                      4.8604,
                      -58.9302,
                      "Central and South America",
                      "2019-2021",
                      "Agriculture"
                    ],
                    [
                      47.569732666015625,
                      4.8604,
                      -58.9302,
                      "Central and South America",
                      "2022",
                      "Energy"
                    ],
                    [
                      8.31496524810791,
                      4.8604,
                      -58.9302,
                      "Central and South America",
                      "2019-2021",
                      "Waste"
                    ]
                  ],
                  "hovertemplate": "<b>%{hovertext}</b><br><br>country=Guyana<br>emissions=%{customdata[0]}<br>region=%{customdata[3]}<br>baseYear=%{customdata[4]}<br>type=%{customdata[5]}<extra></extra>",
                  "hovertext": [
                    "Guyana",
                    "Guyana",
                    "Guyana"
                  ],
                  "lat": [
                    4.8604,
                    4.8604,
                    4.8604
                  ],
                  "legendgroup": "Guyana",
                  "lon": [
                    -58.9302,
                    -58.9302,
                    -58.9302
                  ],
                  "marker": {
                    "color": "#19d3f3",
                    "size": [
                      57.39715576171875,
                      47.569732666015625,
                      8.31496524810791
                    ],
                    "sizemode": "area",
                    "sizeref": 10.1488890625
                  },
                  "mode": "markers",
                  "name": "Guyana",
                  "showlegend": true,
                  "subplot": "mapbox",
                  "type": "scattermapbox"
                },
                {
                  "customdata": [
                    [
                      52.83677673339844,
                      11.8037,
                      -15.1804,
                      "Africa",
                      "2019-2021",
                      "Agriculture"
                    ],
                    [
                      8.758500099182129,
                      11.8037,
                      -15.1804,
                      "Africa",
                      "2019-2021",
                      "Waste"
                    ]
                  ],
                  "hovertemplate": "<b>%{hovertext}</b><br><br>country=Guinea-Bissau<br>emissions=%{customdata[0]}<br>region=%{customdata[3]}<br>baseYear=%{customdata[4]}<br>type=%{customdata[5]}<extra></extra>",
                  "hovertext": [
                    "Guinea-Bissau",
                    "Guinea-Bissau"
                  ],
                  "lat": [
                    11.8037,
                    11.8037
                  ],
                  "legendgroup": "Guinea-Bissau",
                  "lon": [
                    -15.1804,
                    -15.1804
                  ],
                  "marker": {
                    "color": "#FF6692",
                    "size": [
                      52.83677673339844,
                      8.758500099182129
                    ],
                    "sizemode": "area",
                    "sizeref": 10.1488890625
                  },
                  "mode": "markers",
                  "name": "Guinea-Bissau",
                  "showlegend": true,
                  "subplot": "mapbox",
                  "type": "scattermapbox"
                },
                {
                  "customdata": [
                    [
                      50.73590850830078,
                      8.6195,
                      0.8248,
                      "Africa",
                      "2019-2021",
                      "Agriculture"
                    ],
                    [
                      37.90462112426758,
                      8.6195,
                      0.8248,
                      "Africa",
                      "2019-2021",
                      "Waste"
                    ],
                    [
                      19.2255916595459,
                      8.6195,
                      0.8248,
                      "Africa",
                      "2022",
                      "Energy"
                    ]
                  ],
                  "hovertemplate": "<b>%{hovertext}</b><br><br>country=Togo<br>emissions=%{customdata[0]}<br>region=%{customdata[3]}<br>baseYear=%{customdata[4]}<br>type=%{customdata[5]}<extra></extra>",
                  "hovertext": [
                    "Togo",
                    "Togo",
                    "Togo"
                  ],
                  "lat": [
                    8.6195,
                    8.6195,
                    8.6195
                  ],
                  "legendgroup": "Togo",
                  "lon": [
                    0.8248,
                    0.8248,
                    0.8248
                  ],
                  "marker": {
                    "color": "#B6E880",
                    "size": [
                      50.73590850830078,
                      37.90462112426758,
                      19.2255916595459
                    ],
                    "sizemode": "area",
                    "sizeref": 10.1488890625
                  },
                  "mode": "markers",
                  "name": "Togo",
                  "showlegend": true,
                  "subplot": "mapbox",
                  "type": "scattermapbox"
                },
                {
                  "customdata": [
                    [
                      48.42922592163086,
                      46.1512,
                      14.9955,
                      "Europe",
                      "2019-2021",
                      "Agriculture"
                    ],
                    [
                      17.910375595092773,
                      46.1512,
                      14.9955,
                      "Europe",
                      "2019-2021",
                      "Waste"
                    ],
                    [
                      7.726953983306885,
                      46.1512,
                      14.9955,
                      "Europe",
                      "2022",
                      "Energy"
                    ]
                  ],
                  "hovertemplate": "<b>%{hovertext}</b><br><br>country=Slovenia<br>emissions=%{customdata[0]}<br>region=%{customdata[3]}<br>baseYear=%{customdata[4]}<br>type=%{customdata[5]}<extra></extra>",
                  "hovertext": [
                    "Slovenia",
                    "Slovenia",
                    "Slovenia"
                  ],
                  "lat": [
                    46.1512,
                    46.1512,
                    46.1512
                  ],
                  "legendgroup": "Slovenia",
                  "lon": [
                    14.9955,
                    14.9955,
                    14.9955
                  ],
                  "marker": {
                    "color": "#FF97FF",
                    "size": [
                      48.42922592163086,
                      17.910375595092773,
                      7.726953983306885
                    ],
                    "sizemode": "area",
                    "sizeref": 10.1488890625
                  },
                  "mode": "markers",
                  "name": "Slovenia",
                  "showlegend": true,
                  "subplot": "mapbox",
                  "type": "scattermapbox"
                },
                {
                  "customdata": [
                    [
                      43.50729370117188,
                      4.5353,
                      114.7277,
                      "Asia Pacific",
                      "2022",
                      "Energy"
                    ],
                    [
                      9.676277160644531,
                      4.5353,
                      114.7277,
                      "Asia Pacific",
                      "2019-2021",
                      "Waste"
                    ],
                    [
                      0.8412342667579651,
                      4.5353,
                      114.7277,
                      "Asia Pacific",
                      "2019-2021",
                      "Agriculture"
                    ]
                  ],
                  "hovertemplate": "<b>%{hovertext}</b><br><br>country=Brunei<br>emissions=%{customdata[0]}<br>region=%{customdata[3]}<br>baseYear=%{customdata[4]}<br>type=%{customdata[5]}<extra></extra>",
                  "hovertext": [
                    "Brunei",
                    "Brunei",
                    "Brunei"
                  ],
                  "lat": [
                    4.5353,
                    4.5353,
                    4.5353
                  ],
                  "legendgroup": "Brunei",
                  "lon": [
                    114.7277,
                    114.7277,
                    114.7277
                  ],
                  "marker": {
                    "color": "#FECB52",
                    "size": [
                      43.50729370117188,
                      9.676277160644531,
                      0.8412342667579651
                    ],
                    "sizemode": "area",
                    "sizeref": 10.1488890625
                  },
                  "mode": "markers",
                  "name": "Brunei",
                  "showlegend": true,
                  "subplot": "mapbox",
                  "type": "scattermapbox"
                },
                {
                  "customdata": [
                    [
                      37.32962417602539,
                      58.5953,
                      25.0136,
                      "Europe",
                      "2019-2021",
                      "Waste"
                    ],
                    [
                      27.72345733642578,
                      58.5953,
                      25.0136,
                      "Europe",
                      "2019-2021",
                      "Agriculture"
                    ],
                    [
                      11.624244689941406,
                      58.5953,
                      25.0136,
                      "Europe",
                      "2022",
                      "Energy"
                    ]
                  ],
                  "hovertemplate": "<b>%{hovertext}</b><br><br>country=Estonia<br>emissions=%{customdata[0]}<br>region=%{customdata[3]}<br>baseYear=%{customdata[4]}<br>type=%{customdata[5]}<extra></extra>",
                  "hovertext": [
                    "Estonia",
                    "Estonia",
                    "Estonia"
                  ],
                  "lat": [
                    58.5953,
                    58.5953,
                    58.5953
                  ],
                  "legendgroup": "Estonia",
                  "lon": [
                    25.0136,
                    25.0136,
                    25.0136
                  ],
                  "marker": {
                    "color": "#636efa",
                    "size": [
                      37.32962417602539,
                      27.72345733642578,
                      11.624244689941406
                    ],
                    "sizemode": "area",
                    "sizeref": 10.1488890625
                  },
                  "mode": "markers",
                  "name": "Estonia",
                  "showlegend": true,
                  "subplot": "mapbox",
                  "type": "scattermapbox"
                },
                {
                  "customdata": [
                    [
                      29.567506790161133,
                      13.4432,
                      -15.3101,
                      "Africa",
                      "2019-2021",
                      "Agriculture"
                    ],
                    [
                      14.088419914245604,
                      13.4432,
                      -15.3101,
                      "Africa",
                      "2019-2021",
                      "Waste"
                    ]
                  ],
                  "hovertemplate": "<b>%{hovertext}</b><br><br>country=Gambia<br>emissions=%{customdata[0]}<br>region=%{customdata[3]}<br>baseYear=%{customdata[4]}<br>type=%{customdata[5]}<extra></extra>",
                  "hovertext": [
                    "Gambia",
                    "Gambia"
                  ],
                  "lat": [
                    13.4432,
                    13.4432
                  ],
                  "legendgroup": "Gambia",
                  "lon": [
                    -15.3101,
                    -15.3101
                  ],
                  "marker": {
                    "color": "#EF553B",
                    "size": [
                      29.567506790161133,
                      14.088419914245604
                    ],
                    "sizemode": "area",
                    "sizeref": 10.1488890625
                  },
                  "mode": "markers",
                  "name": "Gambia",
                  "showlegend": true,
                  "subplot": "mapbox",
                  "type": "scattermapbox"
                },
                {
                  "customdata": [
                    [
                      19.37256050109864,
                      6.4281,
                      -9.4295,
                      "Africa",
                      "2019-2021",
                      "Waste"
                    ],
                    [
                      9.208291053771973,
                      6.4281,
                      -9.4295,
                      "Africa",
                      "2019-2021",
                      "Agriculture"
                    ]
                  ],
                  "hovertemplate": "<b>%{hovertext}</b><br><br>country=Liberia<br>emissions=%{customdata[0]}<br>region=%{customdata[3]}<br>baseYear=%{customdata[4]}<br>type=%{customdata[5]}<extra></extra>",
                  "hovertext": [
                    "Liberia",
                    "Liberia"
                  ],
                  "lat": [
                    6.4281,
                    6.4281
                  ],
                  "legendgroup": "Liberia",
                  "lon": [
                    -9.4295,
                    -9.4295
                  ],
                  "marker": {
                    "color": "#00cc96",
                    "size": [
                      19.37256050109864,
                      9.208291053771973
                    ],
                    "sizemode": "area",
                    "sizeref": 10.1488890625
                  },
                  "mode": "markers",
                  "name": "Liberia",
                  "showlegend": true,
                  "subplot": "mapbox",
                  "type": "scattermapbox"
                },
                {
                  "customdata": [
                    [
                      2.491305351257324,
                      -4.6796,
                      55.492,
                      "Africa",
                      "2019-2021",
                      "Waste"
                    ],
                    [
                      0.078720711171627,
                      -4.6796,
                      55.492,
                      "Africa",
                      "2019-2021",
                      "Agriculture"
                    ]
                  ],
                  "hovertemplate": "<b>%{hovertext}</b><br><br>country=Seychelles<br>emissions=%{customdata[0]}<br>region=%{customdata[3]}<br>baseYear=%{customdata[4]}<br>type=%{customdata[5]}<extra></extra>",
                  "hovertext": [
                    "Seychelles",
                    "Seychelles"
                  ],
                  "lat": [
                    -4.6796,
                    -4.6796
                  ],
                  "legendgroup": "Seychelles",
                  "lon": [
                    55.492,
                    55.492
                  ],
                  "marker": {
                    "color": "#ab63fa",
                    "size": [
                      2.491305351257324,
                      0.078720711171627
                    ],
                    "sizemode": "area",
                    "sizeref": 10.1488890625
                  },
                  "mode": "markers",
                  "name": "Seychelles",
                  "showlegend": true,
                  "subplot": "mapbox",
                  "type": "scattermapbox"
                }
              ],
              "layout": {
                "legend": {
                  "itemsizing": "constant",
                  "title": {
                    "text": "country"
                  },
                  "tracegroupgap": 0
                },
                "mapbox": {
                  "center": {
                    "lat": 18.920094316993463,
                    "lon": 25.084886026143792
                  },
                  "domain": {
                    "x": [
                      0,
                      1
                    ],
                    "y": [
                      0,
                      1
                    ]
                  },
                  "style": "carto-positron",
                  "zoom": 1
                },
                "template": {
                  "data": {
                    "bar": [
                      {
                        "error_x": {
                          "color": "#2a3f5f"
                        },
                        "error_y": {
                          "color": "#2a3f5f"
                        },
                        "marker": {
                          "line": {
                            "color": "#E5ECF6",
                            "width": 0.5
                          },
                          "pattern": {
                            "fillmode": "overlay",
                            "size": 10,
                            "solidity": 0.2
                          }
                        },
                        "type": "bar"
                      }
                    ],
                    "barpolar": [
                      {
                        "marker": {
                          "line": {
                            "color": "#E5ECF6",
                            "width": 0.5
                          },
                          "pattern": {
                            "fillmode": "overlay",
                            "size": 10,
                            "solidity": 0.2
                          }
                        },
                        "type": "barpolar"
                      }
                    ],
                    "carpet": [
                      {
                        "aaxis": {
                          "endlinecolor": "#2a3f5f",
                          "gridcolor": "white",
                          "linecolor": "white",
                          "minorgridcolor": "white",
                          "startlinecolor": "#2a3f5f"
                        },
                        "baxis": {
                          "endlinecolor": "#2a3f5f",
                          "gridcolor": "white",
                          "linecolor": "white",
                          "minorgridcolor": "white",
                          "startlinecolor": "#2a3f5f"
                        },
                        "type": "carpet"
                      }
                    ],
                    "choropleth": [
                      {
                        "colorbar": {
                          "outlinewidth": 0,
                          "ticks": ""
                        },
                        "type": "choropleth"
                      }
                    ],
                    "contour": [
                      {
                        "colorbar": {
                          "outlinewidth": 0,
                          "ticks": ""
                        },
                        "colorscale": [
                          [
                            0,
                            "#0d0887"
                          ],
                          [
                            0.1111111111111111,
                            "#46039f"
                          ],
                          [
                            0.2222222222222222,
                            "#7201a8"
                          ],
                          [
                            0.3333333333333333,
                            "#9c179e"
                          ],
                          [
                            0.4444444444444444,
                            "#bd3786"
                          ],
                          [
                            0.5555555555555556,
                            "#d8576b"
                          ],
                          [
                            0.6666666666666666,
                            "#ed7953"
                          ],
                          [
                            0.7777777777777778,
                            "#fb9f3a"
                          ],
                          [
                            0.8888888888888888,
                            "#fdca26"
                          ],
                          [
                            1,
                            "#f0f921"
                          ]
                        ],
                        "type": "contour"
                      }
                    ],
                    "contourcarpet": [
                      {
                        "colorbar": {
                          "outlinewidth": 0,
                          "ticks": ""
                        },
                        "type": "contourcarpet"
                      }
                    ],
                    "heatmap": [
                      {
                        "colorbar": {
                          "outlinewidth": 0,
                          "ticks": ""
                        },
                        "colorscale": [
                          [
                            0,
                            "#0d0887"
                          ],
                          [
                            0.1111111111111111,
                            "#46039f"
                          ],
                          [
                            0.2222222222222222,
                            "#7201a8"
                          ],
                          [
                            0.3333333333333333,
                            "#9c179e"
                          ],
                          [
                            0.4444444444444444,
                            "#bd3786"
                          ],
                          [
                            0.5555555555555556,
                            "#d8576b"
                          ],
                          [
                            0.6666666666666666,
                            "#ed7953"
                          ],
                          [
                            0.7777777777777778,
                            "#fb9f3a"
                          ],
                          [
                            0.8888888888888888,
                            "#fdca26"
                          ],
                          [
                            1,
                            "#f0f921"
                          ]
                        ],
                        "type": "heatmap"
                      }
                    ],
                    "heatmapgl": [
                      {
                        "colorbar": {
                          "outlinewidth": 0,
                          "ticks": ""
                        },
                        "colorscale": [
                          [
                            0,
                            "#0d0887"
                          ],
                          [
                            0.1111111111111111,
                            "#46039f"
                          ],
                          [
                            0.2222222222222222,
                            "#7201a8"
                          ],
                          [
                            0.3333333333333333,
                            "#9c179e"
                          ],
                          [
                            0.4444444444444444,
                            "#bd3786"
                          ],
                          [
                            0.5555555555555556,
                            "#d8576b"
                          ],
                          [
                            0.6666666666666666,
                            "#ed7953"
                          ],
                          [
                            0.7777777777777778,
                            "#fb9f3a"
                          ],
                          [
                            0.8888888888888888,
                            "#fdca26"
                          ],
                          [
                            1,
                            "#f0f921"
                          ]
                        ],
                        "type": "heatmapgl"
                      }
                    ],
                    "histogram": [
                      {
                        "marker": {
                          "pattern": {
                            "fillmode": "overlay",
                            "size": 10,
                            "solidity": 0.2
                          }
                        },
                        "type": "histogram"
                      }
                    ],
                    "histogram2d": [
                      {
                        "colorbar": {
                          "outlinewidth": 0,
                          "ticks": ""
                        },
                        "colorscale": [
                          [
                            0,
                            "#0d0887"
                          ],
                          [
                            0.1111111111111111,
                            "#46039f"
                          ],
                          [
                            0.2222222222222222,
                            "#7201a8"
                          ],
                          [
                            0.3333333333333333,
                            "#9c179e"
                          ],
                          [
                            0.4444444444444444,
                            "#bd3786"
                          ],
                          [
                            0.5555555555555556,
                            "#d8576b"
                          ],
                          [
                            0.6666666666666666,
                            "#ed7953"
                          ],
                          [
                            0.7777777777777778,
                            "#fb9f3a"
                          ],
                          [
                            0.8888888888888888,
                            "#fdca26"
                          ],
                          [
                            1,
                            "#f0f921"
                          ]
                        ],
                        "type": "histogram2d"
                      }
                    ],
                    "histogram2dcontour": [
                      {
                        "colorbar": {
                          "outlinewidth": 0,
                          "ticks": ""
                        },
                        "colorscale": [
                          [
                            0,
                            "#0d0887"
                          ],
                          [
                            0.1111111111111111,
                            "#46039f"
                          ],
                          [
                            0.2222222222222222,
                            "#7201a8"
                          ],
                          [
                            0.3333333333333333,
                            "#9c179e"
                          ],
                          [
                            0.4444444444444444,
                            "#bd3786"
                          ],
                          [
                            0.5555555555555556,
                            "#d8576b"
                          ],
                          [
                            0.6666666666666666,
                            "#ed7953"
                          ],
                          [
                            0.7777777777777778,
                            "#fb9f3a"
                          ],
                          [
                            0.8888888888888888,
                            "#fdca26"
                          ],
                          [
                            1,
                            "#f0f921"
                          ]
                        ],
                        "type": "histogram2dcontour"
                      }
                    ],
                    "mesh3d": [
                      {
                        "colorbar": {
                          "outlinewidth": 0,
                          "ticks": ""
                        },
                        "type": "mesh3d"
                      }
                    ],
                    "parcoords": [
                      {
                        "line": {
                          "colorbar": {
                            "outlinewidth": 0,
                            "ticks": ""
                          }
                        },
                        "type": "parcoords"
                      }
                    ],
                    "pie": [
                      {
                        "automargin": true,
                        "type": "pie"
                      }
                    ],
                    "scatter": [
                      {
                        "fillpattern": {
                          "fillmode": "overlay",
                          "size": 10,
                          "solidity": 0.2
                        },
                        "type": "scatter"
                      }
                    ],
                    "scatter3d": [
                      {
                        "line": {
                          "colorbar": {
                            "outlinewidth": 0,
                            "ticks": ""
                          }
                        },
                        "marker": {
                          "colorbar": {
                            "outlinewidth": 0,
                            "ticks": ""
                          }
                        },
                        "type": "scatter3d"
                      }
                    ],
                    "scattercarpet": [
                      {
                        "marker": {
                          "colorbar": {
                            "outlinewidth": 0,
                            "ticks": ""
                          }
                        },
                        "type": "scattercarpet"
                      }
                    ],
                    "scattergeo": [
                      {
                        "marker": {
                          "colorbar": {
                            "outlinewidth": 0,
                            "ticks": ""
                          }
                        },
                        "type": "scattergeo"
                      }
                    ],
                    "scattergl": [
                      {
                        "marker": {
                          "colorbar": {
                            "outlinewidth": 0,
                            "ticks": ""
                          }
                        },
                        "type": "scattergl"
                      }
                    ],
                    "scattermapbox": [
                      {
                        "marker": {
                          "colorbar": {
                            "outlinewidth": 0,
                            "ticks": ""
                          }
                        },
                        "type": "scattermapbox"
                      }
                    ],
                    "scatterpolar": [
                      {
                        "marker": {
                          "colorbar": {
                            "outlinewidth": 0,
                            "ticks": ""
                          }
                        },
                        "type": "scatterpolar"
                      }
                    ],
                    "scatterpolargl": [
                      {
                        "marker": {
                          "colorbar": {
                            "outlinewidth": 0,
                            "ticks": ""
                          }
                        },
                        "type": "scatterpolargl"
                      }
                    ],
                    "scatterternary": [
                      {
                        "marker": {
                          "colorbar": {
                            "outlinewidth": 0,
                            "ticks": ""
                          }
                        },
                        "type": "scatterternary"
                      }
                    ],
                    "surface": [
                      {
                        "colorbar": {
                          "outlinewidth": 0,
                          "ticks": ""
                        },
                        "colorscale": [
                          [
                            0,
                            "#0d0887"
                          ],
                          [
                            0.1111111111111111,
                            "#46039f"
                          ],
                          [
                            0.2222222222222222,
                            "#7201a8"
                          ],
                          [
                            0.3333333333333333,
                            "#9c179e"
                          ],
                          [
                            0.4444444444444444,
                            "#bd3786"
                          ],
                          [
                            0.5555555555555556,
                            "#d8576b"
                          ],
                          [
                            0.6666666666666666,
                            "#ed7953"
                          ],
                          [
                            0.7777777777777778,
                            "#fb9f3a"
                          ],
                          [
                            0.8888888888888888,
                            "#fdca26"
                          ],
                          [
                            1,
                            "#f0f921"
                          ]
                        ],
                        "type": "surface"
                      }
                    ],
                    "table": [
                      {
                        "cells": {
                          "fill": {
                            "color": "#EBF0F8"
                          },
                          "line": {
                            "color": "white"
                          }
                        },
                        "header": {
                          "fill": {
                            "color": "#C8D4E3"
                          },
                          "line": {
                            "color": "white"
                          }
                        },
                        "type": "table"
                      }
                    ]
                  },
                  "layout": {
                    "annotationdefaults": {
                      "arrowcolor": "#2a3f5f",
                      "arrowhead": 0,
                      "arrowwidth": 1
                    },
                    "autotypenumbers": "strict",
                    "coloraxis": {
                      "colorbar": {
                        "outlinewidth": 0,
                        "ticks": ""
                      }
                    },
                    "colorscale": {
                      "diverging": [
                        [
                          0,
                          "#8e0152"
                        ],
                        [
                          0.1,
                          "#c51b7d"
                        ],
                        [
                          0.2,
                          "#de77ae"
                        ],
                        [
                          0.3,
                          "#f1b6da"
                        ],
                        [
                          0.4,
                          "#fde0ef"
                        ],
                        [
                          0.5,
                          "#f7f7f7"
                        ],
                        [
                          0.6,
                          "#e6f5d0"
                        ],
                        [
                          0.7,
                          "#b8e186"
                        ],
                        [
                          0.8,
                          "#7fbc41"
                        ],
                        [
                          0.9,
                          "#4d9221"
                        ],
                        [
                          1,
                          "#276419"
                        ]
                      ],
                      "sequential": [
                        [
                          0,
                          "#0d0887"
                        ],
                        [
                          0.1111111111111111,
                          "#46039f"
                        ],
                        [
                          0.2222222222222222,
                          "#7201a8"
                        ],
                        [
                          0.3333333333333333,
                          "#9c179e"
                        ],
                        [
                          0.4444444444444444,
                          "#bd3786"
                        ],
                        [
                          0.5555555555555556,
                          "#d8576b"
                        ],
                        [
                          0.6666666666666666,
                          "#ed7953"
                        ],
                        [
                          0.7777777777777778,
                          "#fb9f3a"
                        ],
                        [
                          0.8888888888888888,
                          "#fdca26"
                        ],
                        [
                          1,
                          "#f0f921"
                        ]
                      ],
                      "sequentialminus": [
                        [
                          0,
                          "#0d0887"
                        ],
                        [
                          0.1111111111111111,
                          "#46039f"
                        ],
                        [
                          0.2222222222222222,
                          "#7201a8"
                        ],
                        [
                          0.3333333333333333,
                          "#9c179e"
                        ],
                        [
                          0.4444444444444444,
                          "#bd3786"
                        ],
                        [
                          0.5555555555555556,
                          "#d8576b"
                        ],
                        [
                          0.6666666666666666,
                          "#ed7953"
                        ],
                        [
                          0.7777777777777778,
                          "#fb9f3a"
                        ],
                        [
                          0.8888888888888888,
                          "#fdca26"
                        ],
                        [
                          1,
                          "#f0f921"
                        ]
                      ]
                    },
                    "colorway": [
                      "#636efa",
                      "#EF553B",
                      "#00cc96",
                      "#ab63fa",
                      "#FFA15A",
                      "#19d3f3",
                      "#FF6692",
                      "#B6E880",
                      "#FF97FF",
                      "#FECB52"
                    ],
                    "font": {
                      "color": "#2a3f5f"
                    },
                    "geo": {
                      "bgcolor": "white",
                      "lakecolor": "white",
                      "landcolor": "#E5ECF6",
                      "showlakes": true,
                      "showland": true,
                      "subunitcolor": "white"
                    },
                    "hoverlabel": {
                      "align": "left"
                    },
                    "hovermode": "closest",
                    "mapbox": {
                      "style": "light"
                    },
                    "paper_bgcolor": "white",
                    "plot_bgcolor": "#E5ECF6",
                    "polar": {
                      "angularaxis": {
                        "gridcolor": "white",
                        "linecolor": "white",
                        "ticks": ""
                      },
                      "bgcolor": "#E5ECF6",
                      "radialaxis": {
                        "gridcolor": "white",
                        "linecolor": "white",
                        "ticks": ""
                      }
                    },
                    "scene": {
                      "xaxis": {
                        "backgroundcolor": "#E5ECF6",
                        "gridcolor": "white",
                        "gridwidth": 2,
                        "linecolor": "white",
                        "showbackground": true,
                        "ticks": "",
                        "zerolinecolor": "white"
                      },
                      "yaxis": {
                        "backgroundcolor": "#E5ECF6",
                        "gridcolor": "white",
                        "gridwidth": 2,
                        "linecolor": "white",
                        "showbackground": true,
                        "ticks": "",
                        "zerolinecolor": "white"
                      },
                      "zaxis": {
                        "backgroundcolor": "#E5ECF6",
                        "gridcolor": "white",
                        "gridwidth": 2,
                        "linecolor": "white",
                        "showbackground": true,
                        "ticks": "",
                        "zerolinecolor": "white"
                      }
                    },
                    "shapedefaults": {
                      "line": {
                        "color": "#2a3f5f"
                      }
                    },
                    "ternary": {
                      "aaxis": {
                        "gridcolor": "white",
                        "linecolor": "white",
                        "ticks": ""
                      },
                      "baxis": {
                        "gridcolor": "white",
                        "linecolor": "white",
                        "ticks": ""
                      },
                      "bgcolor": "#E5ECF6",
                      "caxis": {
                        "gridcolor": "white",
                        "linecolor": "white",
                        "ticks": ""
                      }
                    },
                    "title": {
                      "x": 0.05
                    },
                    "xaxis": {
                      "automargin": true,
                      "gridcolor": "white",
                      "linecolor": "white",
                      "ticks": "",
                      "title": {
                        "standoff": 15
                      },
                      "zerolinecolor": "white",
                      "zerolinewidth": 2
                    },
                    "yaxis": {
                      "automargin": true,
                      "gridcolor": "white",
                      "linecolor": "white",
                      "ticks": "",
                      "title": {
                        "standoff": 15
                      },
                      "zerolinecolor": "white",
                      "zerolinewidth": 2
                    }
                  }
                },
                "title": {
                  "text": "Global Emissions Map"
                }
              }
            }
          },
          "metadata": {},
          "output_type": "display_data"
        }
      ],
      "source": [
        "#mapbox for top 5 countries and then expanded to global\n",
        "\n",
        "# Define the target countries\n",
        "target_countries = ['China', 'United States', 'India', 'Russia', 'Brazil']\n",
        "\n",
        "# Create a lookup for lat/lon\n",
        "country_coords = {\n",
        "    'China': [35.8617, 104.1954],\n",
        "    'United States': [37.0902, -95.7129],\n",
        "    'India': [20.5937, 78.9629],\n",
        "    'Russia': [61.5240, 105.3188],\n",
        "    'Brazil': [-14.2350, -51.9253]\n",
        "}\n",
        "\n",
        "# Filter the DataFrame for selected countries\n",
        "df_filtered = df_segment_total20[df_segment_total20['country'].isin(df_targeted_countries)].copy()\n",
        "\n",
        "# Add lat/lon columns\n",
        "df_filtered['lat'] = df_filtered['country'].map(lambda c: country_coords_int[c][0])\n",
        "df_filtered['lon'] = df_filtered['country'].map(lambda c: country_coords_int[c][1])\n",
        "\n",
        "# Plot with Mapbox\n",
        "fig = px.scatter_mapbox(\n",
        "    df_filtered,\n",
        "    lat='lat',\n",
        "    lon='lon',\n",
        "    size='emissions',\n",
        "    color='country',\n",
        "    hover_name='country',\n",
        "    hover_data={'emissions': True, 'lat': False, 'lon': False,'region': True,'baseYear': True,'type': True},\n",
        "    zoom=1,\n",
        "    size_max=50,\n",
        "    title='Global Emissions Map',\n",
        "    mapbox_style='carto-positron'\n",
        ")\n",
        "\n",
        "fig.show()"
      ]
    },
    {
      "cell_type": "code",
      "execution_count": 137,
      "metadata": {},
      "outputs": [
        {
          "data": {
            "text/html": [
              "<div>\n",
              "<style scoped>\n",
              "    .dataframe tbody tr th:only-of-type {\n",
              "        vertical-align: middle;\n",
              "    }\n",
              "\n",
              "    .dataframe tbody tr th {\n",
              "        vertical-align: top;\n",
              "    }\n",
              "\n",
              "    .dataframe thead th {\n",
              "        text-align: right;\n",
              "    }\n",
              "</style>\n",
              "<table border=\"1\" class=\"dataframe\">\n",
              "  <thead>\n",
              "    <tr style=\"text-align: right;\">\n",
              "      <th></th>\n",
              "      <th>country</th>\n",
              "      <th>emissions</th>\n",
              "    </tr>\n",
              "  </thead>\n",
              "  <tbody>\n",
              "    <tr>\n",
              "      <th>80</th>\n",
              "      <td>Seychelles</td>\n",
              "      <td>2.570026</td>\n",
              "    </tr>\n",
              "    <tr>\n",
              "      <th>51</th>\n",
              "      <td>Liberia</td>\n",
              "      <td>28.580852</td>\n",
              "    </tr>\n",
              "    <tr>\n",
              "      <th>32</th>\n",
              "      <td>Gambia</td>\n",
              "      <td>43.655927</td>\n",
              "    </tr>\n",
              "    <tr>\n",
              "      <th>11</th>\n",
              "      <td>Brunei</td>\n",
              "      <td>54.024805</td>\n",
              "    </tr>\n",
              "    <tr>\n",
              "      <th>36</th>\n",
              "      <td>Guinea-Bissau</td>\n",
              "      <td>61.595277</td>\n",
              "    </tr>\n",
              "    <tr>\n",
              "      <th>82</th>\n",
              "      <td>Slovenia</td>\n",
              "      <td>74.066556</td>\n",
              "    </tr>\n",
              "    <tr>\n",
              "      <th>27</th>\n",
              "      <td>Estonia</td>\n",
              "      <td>76.677326</td>\n",
              "    </tr>\n",
              "    <tr>\n",
              "      <th>91</th>\n",
              "      <td>Togo</td>\n",
              "      <td>107.866121</td>\n",
              "    </tr>\n",
              "    <tr>\n",
              "      <th>37</th>\n",
              "      <td>Guyana</td>\n",
              "      <td>113.281854</td>\n",
              "    </tr>\n",
              "    <tr>\n",
              "      <th>50</th>\n",
              "      <td>Lebanon</td>\n",
              "      <td>129.004585</td>\n",
              "    </tr>\n",
              "  </tbody>\n",
              "</table>\n",
              "</div>"
            ],
            "text/plain": [
              "          country   emissions\n",
              "80     Seychelles    2.570026\n",
              "51        Liberia   28.580852\n",
              "32         Gambia   43.655927\n",
              "11         Brunei   54.024805\n",
              "36  Guinea-Bissau   61.595277\n",
              "82       Slovenia   74.066556\n",
              "27        Estonia   76.677326\n",
              "91           Togo  107.866121\n",
              "37         Guyana  113.281854\n",
              "50        Lebanon  129.004585"
            ]
          },
          "execution_count": 137,
          "metadata": {},
          "output_type": "execute_result"
        }
      ],
      "source": [
        "df_segment_total.groupby('country', as_index=False).sum(numeric_only=True).query('emissions < 130').sort_values(by='emissions') # bottom emission countries global\n",
        "    "
      ]
    },
    {
      "cell_type": "code",
      "execution_count": null,
      "metadata": {},
      "outputs": [
        {
          "data": {
            "text/html": [
              "<div>\n",
              "<style scoped>\n",
              "    .dataframe tbody tr th:only-of-type {\n",
              "        vertical-align: middle;\n",
              "    }\n",
              "\n",
              "    .dataframe tbody tr th {\n",
              "        vertical-align: top;\n",
              "    }\n",
              "\n",
              "    .dataframe thead th {\n",
              "        text-align: right;\n",
              "    }\n",
              "</style>\n",
              "<table border=\"1\" class=\"dataframe\">\n",
              "  <thead>\n",
              "    <tr style=\"text-align: right;\">\n",
              "      <th></th>\n",
              "      <th>country</th>\n",
              "      <th>region</th>\n",
              "      <th>emissions</th>\n",
              "    </tr>\n",
              "  </thead>\n",
              "  <tbody>\n",
              "    <tr>\n",
              "      <th>0</th>\n",
              "      <td>Seychelles</td>\n",
              "      <td>Africa</td>\n",
              "      <td>2.570026</td>\n",
              "    </tr>\n",
              "    <tr>\n",
              "      <th>1</th>\n",
              "      <td>Liberia</td>\n",
              "      <td>Africa</td>\n",
              "      <td>28.580852</td>\n",
              "    </tr>\n",
              "    <tr>\n",
              "      <th>2</th>\n",
              "      <td>Gambia</td>\n",
              "      <td>Africa</td>\n",
              "      <td>43.655927</td>\n",
              "    </tr>\n",
              "    <tr>\n",
              "      <th>3</th>\n",
              "      <td>Brunei</td>\n",
              "      <td>Asia Pacific</td>\n",
              "      <td>54.024805</td>\n",
              "    </tr>\n",
              "    <tr>\n",
              "      <th>4</th>\n",
              "      <td>Guinea-Bissau</td>\n",
              "      <td>Africa</td>\n",
              "      <td>61.595277</td>\n",
              "    </tr>\n",
              "    <tr>\n",
              "      <th>5</th>\n",
              "      <td>Slovenia</td>\n",
              "      <td>Europe</td>\n",
              "      <td>74.066556</td>\n",
              "    </tr>\n",
              "    <tr>\n",
              "      <th>6</th>\n",
              "      <td>Estonia</td>\n",
              "      <td>Europe</td>\n",
              "      <td>76.677326</td>\n",
              "    </tr>\n",
              "    <tr>\n",
              "      <th>7</th>\n",
              "      <td>Togo</td>\n",
              "      <td>Africa</td>\n",
              "      <td>107.866121</td>\n",
              "    </tr>\n",
              "    <tr>\n",
              "      <th>8</th>\n",
              "      <td>Guyana</td>\n",
              "      <td>Central and South America</td>\n",
              "      <td>113.281854</td>\n",
              "    </tr>\n",
              "    <tr>\n",
              "      <th>9</th>\n",
              "      <td>Lebanon</td>\n",
              "      <td>Middle East</td>\n",
              "      <td>129.004585</td>\n",
              "    </tr>\n",
              "  </tbody>\n",
              "</table>\n",
              "</div>"
            ],
            "text/plain": [
              "         country                     region   emissions\n",
              "0     Seychelles                     Africa    2.570026\n",
              "1        Liberia                     Africa   28.580852\n",
              "2         Gambia                     Africa   43.655927\n",
              "3         Brunei               Asia Pacific   54.024805\n",
              "4  Guinea-Bissau                     Africa   61.595277\n",
              "5       Slovenia                     Europe   74.066556\n",
              "6        Estonia                     Europe   76.677326\n",
              "7           Togo                     Africa  107.866121\n",
              "8         Guyana  Central and South America  113.281854\n",
              "9        Lebanon                Middle East  129.004585"
            ]
          },
          "execution_count": 139,
          "metadata": {},
          "output_type": "execute_result"
        }
      ],
      "source": [
        "df_segment_total.groupby('country', as_index=False).sum(numeric_only=True).query('emissions < 130').sort_values(by='emissions').merge(df_segment_total[['country', 'region']].drop_duplicates(), on='country', how='left')[['country', 'region', 'emissions']]\n",
        "#regions added"
      ]
    },
    {
      "cell_type": "code",
      "execution_count": 149,
      "metadata": {},
      "outputs": [],
      "source": [
        "df_continents_total=df_segment_total.groupby('region', as_index=False).sum(numeric_only=True)"
      ]
    },
    {
      "cell_type": "code",
      "execution_count": 150,
      "metadata": {},
      "outputs": [
        {
          "data": {
            "text/html": [
              "<div>\n",
              "<style scoped>\n",
              "    .dataframe tbody tr th:only-of-type {\n",
              "        vertical-align: middle;\n",
              "    }\n",
              "\n",
              "    .dataframe tbody tr th {\n",
              "        vertical-align: top;\n",
              "    }\n",
              "\n",
              "    .dataframe thead th {\n",
              "        text-align: right;\n",
              "    }\n",
              "</style>\n",
              "<table border=\"1\" class=\"dataframe\">\n",
              "  <thead>\n",
              "    <tr style=\"text-align: right;\">\n",
              "      <th></th>\n",
              "      <th>region</th>\n",
              "      <th>emissions</th>\n",
              "    </tr>\n",
              "  </thead>\n",
              "  <tbody>\n",
              "    <tr>\n",
              "      <th>0</th>\n",
              "      <td>Africa</td>\n",
              "      <td>38184.797715</td>\n",
              "    </tr>\n",
              "    <tr>\n",
              "      <th>1</th>\n",
              "      <td>Asia Pacific</td>\n",
              "      <td>132135.516548</td>\n",
              "    </tr>\n",
              "    <tr>\n",
              "      <th>2</th>\n",
              "      <td>Central and South America</td>\n",
              "      <td>37588.235362</td>\n",
              "    </tr>\n",
              "    <tr>\n",
              "      <th>3</th>\n",
              "      <td>Europe</td>\n",
              "      <td>41471.322392</td>\n",
              "    </tr>\n",
              "    <tr>\n",
              "      <th>4</th>\n",
              "      <td>Middle East</td>\n",
              "      <td>21733.309996</td>\n",
              "    </tr>\n",
              "    <tr>\n",
              "      <th>5</th>\n",
              "      <td>North America</td>\n",
              "      <td>41812.706360</td>\n",
              "    </tr>\n",
              "    <tr>\n",
              "      <th>6</th>\n",
              "      <td>Other</td>\n",
              "      <td>12894.389160</td>\n",
              "    </tr>\n",
              "    <tr>\n",
              "      <th>7</th>\n",
              "      <td>Russia &amp; Caspian</td>\n",
              "      <td>35411.705814</td>\n",
              "    </tr>\n",
              "  </tbody>\n",
              "</table>\n",
              "</div>"
            ],
            "text/plain": [
              "                      region      emissions\n",
              "0                     Africa   38184.797715\n",
              "1               Asia Pacific  132135.516548\n",
              "2  Central and South America   37588.235362\n",
              "3                     Europe   41471.322392\n",
              "4                Middle East   21733.309996\n",
              "5              North America   41812.706360\n",
              "6                      Other   12894.389160\n",
              "7           Russia & Caspian   35411.705814"
            ]
          },
          "execution_count": 150,
          "metadata": {},
          "output_type": "execute_result"
        }
      ],
      "source": [
        "df_continents_total\n"
      ]
    },
    {
      "cell_type": "code",
      "execution_count": 151,
      "metadata": {},
      "outputs": [
        {
          "data": {
            "image/png": "[encoded data removed]",
            "text/plain": [
              "<Figure size 800x800 with 1 Axes>"
            ]
          },
          "metadata": {},
          "output_type": "display_data"
        }
      ],
      "source": [
        "\n",
        "import matplotlib.pyplot as plt\n",
        "\n",
        "plt.figure(figsize=(8, 8))\n",
        "plt.pie(\n",
        "    df_continents_total['emissions'],\n",
        "    labels=df_continents_total['region'],\n",
        "    autopct='%1.1f%%',\n",
        "    startangle=140\n",
        ")\n",
        "plt.title('Emissions by Region')\n",
        "plt.axis('equal')  # Ensures the pie chart is circular\n",
        "plt.show()"
      ]
    },
    {
      "cell_type": "code",
      "execution_count": 132,
      "metadata": {},
      "outputs": [],
      "source": [
        "df_segment_total_bottom10=df_segment_total[\n",
        "    df_segment_total['country'].isin(['Seychelles', 'Liberia', 'Gambia', 'Brunei', 'Guinea-Bissau','Slovenia','Estonia','Togo','Guyana','Lebanon'])\n",
        "].sort_values(by='emissions', ascending=True)"
      ]
    },
    {
      "cell_type": "code",
      "execution_count": 141,
      "metadata": {},
      "outputs": [
        {
          "data": {
            "application/vnd.plotly.v1+json": {
              "config": {
                "plotlyServerURL": "https://plot.ly"
              },
              "data": [
                {
                  "alignmentgroup": "True",
                  "customdata": [
                    [
                      "Africa",
                      "2019-2021"
                    ],
                    [
                      "Asia Pacific",
                      "2019-2021"
                    ],
                    [
                      "Africa",
                      "2019-2021"
                    ],
                    [
                      "Middle East",
                      "2019-2021"
                    ],
                    [
                      "Europe",
                      "2019-2021"
                    ],
                    [
                      "Africa",
                      "2019-2021"
                    ],
                    [
                      "Europe",
                      "2019-2021"
                    ],
                    [
                      "Africa",
                      "2019-2021"
                    ],
                    [
                      "Africa",
                      "2019-2021"
                    ],
                    [
                      "Central and South America",
                      "2019-2021"
                    ]
                  ],
                  "hovertemplate": "type=Agriculture<br>country=%{x}<br>emissions=%{text}<br>region=%{customdata[0]}<br>baseYear=%{customdata[1]}<extra></extra>",
                  "legendgroup": "Agriculture",
                  "marker": {
                    "color": "#636efa",
                    "pattern": {
                      "shape": ""
                    }
                  },
                  "name": "Agriculture",
                  "offsetgroup": "Agriculture",
                  "orientation": "v",
                  "showlegend": true,
                  "text": [
                    0.078720711171627,
                    0.8412342667579651,
                    9.208291053771973,
                    12.067669868469238,
                    27.72345733642578,
                    29.567506790161133,
                    48.42922592163086,
                    50.73590850830078,
                    52.83677673339844,
                    57.39715576171875
                  ],
                  "textposition": "outside",
                  "texttemplate": "%{text:.2s}",
                  "type": "bar",
                  "x": [
                    "Seychelles",
                    "Brunei",
                    "Liberia",
                    "Lebanon",
                    "Estonia",
                    "Gambia",
                    "Slovenia",
                    "Togo",
                    "Guinea-Bissau",
                    "Guyana"
                  ],
                  "xaxis": "x",
                  "y": [
                    0.078720711171627,
                    0.8412342667579651,
                    9.208291053771973,
                    12.067669868469238,
                    27.72345733642578,
                    29.567506790161133,
                    48.42922592163086,
                    50.73590850830078,
                    52.83677673339844,
                    57.39715576171875
                  ],
                  "yaxis": "y"
                },
                {
                  "alignmentgroup": "True",
                  "customdata": [
                    [
                      "Africa",
                      "2019-2021"
                    ],
                    [
                      "Central and South America",
                      "2019-2021"
                    ],
                    [
                      "Africa",
                      "2019-2021"
                    ],
                    [
                      "Asia Pacific",
                      "2019-2021"
                    ],
                    [
                      "Africa",
                      "2019-2021"
                    ],
                    [
                      "Europe",
                      "2019-2021"
                    ],
                    [
                      "Africa",
                      "2019-2021"
                    ],
                    [
                      "Europe",
                      "2019-2021"
                    ],
                    [
                      "Africa",
                      "2019-2021"
                    ],
                    [
                      "Middle East",
                      "2019-2021"
                    ]
                  ],
                  "hovertemplate": "type=Waste<br>country=%{x}<br>emissions=%{text}<br>region=%{customdata[0]}<br>baseYear=%{customdata[1]}<extra></extra>",
                  "legendgroup": "Waste",
                  "marker": {
                    "color": "#EF553B",
                    "pattern": {
                      "shape": ""
                    }
                  },
                  "name": "Waste",
                  "offsetgroup": "Waste",
                  "orientation": "v",
                  "showlegend": true,
                  "text": [
                    2.491305351257324,
                    8.31496524810791,
                    8.758500099182129,
                    9.676277160644531,
                    14.088419914245604,
                    17.910375595092773,
                    19.37256050109864,
                    37.32962417602539,
                    37.90462112426758,
                    112.2239990234375
                  ],
                  "textposition": "outside",
                  "texttemplate": "%{text:.2s}",
                  "type": "bar",
                  "x": [
                    "Seychelles",
                    "Guyana",
                    "Guinea-Bissau",
                    "Brunei",
                    "Gambia",
                    "Slovenia",
                    "Liberia",
                    "Estonia",
                    "Togo",
                    "Lebanon"
                  ],
                  "xaxis": "x",
                  "y": [
                    2.491305351257324,
                    8.31496524810791,
                    8.758500099182129,
                    9.676277160644531,
                    14.088419914245604,
                    17.910375595092773,
                    19.37256050109864,
                    37.32962417602539,
                    37.90462112426758,
                    112.2239990234375
                  ],
                  "yaxis": "y"
                },
                {
                  "alignmentgroup": "True",
                  "customdata": [
                    [
                      "Middle East",
                      "2022"
                    ],
                    [
                      "Europe",
                      "2022"
                    ],
                    [
                      "Europe",
                      "2022"
                    ],
                    [
                      "Africa",
                      "2022"
                    ],
                    [
                      "Asia Pacific",
                      "2022"
                    ],
                    [
                      "Central and South America",
                      "2022"
                    ]
                  ],
                  "hovertemplate": "type=Energy<br>country=%{x}<br>emissions=%{text}<br>region=%{customdata[0]}<br>baseYear=%{customdata[1]}<extra></extra>",
                  "legendgroup": "Energy",
                  "marker": {
                    "color": "#00cc96",
                    "pattern": {
                      "shape": ""
                    }
                  },
                  "name": "Energy",
                  "offsetgroup": "Energy",
                  "orientation": "v",
                  "showlegend": true,
                  "text": [
                    4.712915897369385,
                    7.726953983306885,
                    11.624244689941406,
                    19.2255916595459,
                    43.50729370117188,
                    47.569732666015625
                  ],
                  "textposition": "outside",
                  "texttemplate": "%{text:.2s}",
                  "type": "bar",
                  "x": [
                    "Lebanon",
                    "Slovenia",
                    "Estonia",
                    "Togo",
                    "Brunei",
                    "Guyana"
                  ],
                  "xaxis": "x",
                  "y": [
                    4.712915897369385,
                    7.726953983306885,
                    11.624244689941406,
                    19.2255916595459,
                    43.50729370117188,
                    47.569732666015625
                  ],
                  "yaxis": "y"
                }
              ],
              "layout": {
                "barmode": "stack",
                "legend": {
                  "title": {
                    "text": "type"
                  },
                  "tracegroupgap": 0
                },
                "template": {
                  "data": {
                    "bar": [
                      {
                        "error_x": {
                          "color": "#2a3f5f"
                        },
                        "error_y": {
                          "color": "#2a3f5f"
                        },
                        "marker": {
                          "line": {
                            "color": "#E5ECF6",
                            "width": 0.5
                          },
                          "pattern": {
                            "fillmode": "overlay",
                            "size": 10,
                            "solidity": 0.2
                          }
                        },
                        "type": "bar"
                      }
                    ],
                    "barpolar": [
                      {
                        "marker": {
                          "line": {
                            "color": "#E5ECF6",
                            "width": 0.5
                          },
                          "pattern": {
                            "fillmode": "overlay",
                            "size": 10,
                            "solidity": 0.2
                          }
                        },
                        "type": "barpolar"
                      }
                    ],
                    "carpet": [
                      {
                        "aaxis": {
                          "endlinecolor": "#2a3f5f",
                          "gridcolor": "white",
                          "linecolor": "white",
                          "minorgridcolor": "white",
                          "startlinecolor": "#2a3f5f"
                        },
                        "baxis": {
                          "endlinecolor": "#2a3f5f",
                          "gridcolor": "white",
                          "linecolor": "white",
                          "minorgridcolor": "white",
                          "startlinecolor": "#2a3f5f"
                        },
                        "type": "carpet"
                      }
                    ],
                    "choropleth": [
                      {
                        "colorbar": {
                          "outlinewidth": 0,
                          "ticks": ""
                        },
                        "type": "choropleth"
                      }
                    ],
                    "contour": [
                      {
                        "colorbar": {
                          "outlinewidth": 0,
                          "ticks": ""
                        },
                        "colorscale": [
                          [
                            0,
                            "#0d0887"
                          ],
                          [
                            0.1111111111111111,
                            "#46039f"
                          ],
                          [
                            0.2222222222222222,
                            "#7201a8"
                          ],
                          [
                            0.3333333333333333,
                            "#9c179e"
                          ],
                          [
                            0.4444444444444444,
                            "#bd3786"
                          ],
                          [
                            0.5555555555555556,
                            "#d8576b"
                          ],
                          [
                            0.6666666666666666,
                            "#ed7953"
                          ],
                          [
                            0.7777777777777778,
                            "#fb9f3a"
                          ],
                          [
                            0.8888888888888888,
                            "#fdca26"
                          ],
                          [
                            1,
                            "#f0f921"
                          ]
                        ],
                        "type": "contour"
                      }
                    ],
                    "contourcarpet": [
                      {
                        "colorbar": {
                          "outlinewidth": 0,
                          "ticks": ""
                        },
                        "type": "contourcarpet"
                      }
                    ],
                    "heatmap": [
                      {
                        "colorbar": {
                          "outlinewidth": 0,
                          "ticks": ""
                        },
                        "colorscale": [
                          [
                            0,
                            "#0d0887"
                          ],
                          [
                            0.1111111111111111,
                            "#46039f"
                          ],
                          [
                            0.2222222222222222,
                            "#7201a8"
                          ],
                          [
                            0.3333333333333333,
                            "#9c179e"
                          ],
                          [
                            0.4444444444444444,
                            "#bd3786"
                          ],
                          [
                            0.5555555555555556,
                            "#d8576b"
                          ],
                          [
                            0.6666666666666666,
                            "#ed7953"
                          ],
                          [
                            0.7777777777777778,
                            "#fb9f3a"
                          ],
                          [
                            0.8888888888888888,
                            "#fdca26"
                          ],
                          [
                            1,
                            "#f0f921"
                          ]
                        ],
                        "type": "heatmap"
                      }
                    ],
                    "heatmapgl": [
                      {
                        "colorbar": {
                          "outlinewidth": 0,
                          "ticks": ""
                        },
                        "colorscale": [
                          [
                            0,
                            "#0d0887"
                          ],
                          [
                            0.1111111111111111,
                            "#46039f"
                          ],
                          [
                            0.2222222222222222,
                            "#7201a8"
                          ],
                          [
                            0.3333333333333333,
                            "#9c179e"
                          ],
                          [
                            0.4444444444444444,
                            "#bd3786"
                          ],
                          [
                            0.5555555555555556,
                            "#d8576b"
                          ],
                          [
                            0.6666666666666666,
                            "#ed7953"
                          ],
                          [
                            0.7777777777777778,
                            "#fb9f3a"
                          ],
                          [
                            0.8888888888888888,
                            "#fdca26"
                          ],
                          [
                            1,
                            "#f0f921"
                          ]
                        ],
                        "type": "heatmapgl"
                      }
                    ],
                    "histogram": [
                      {
                        "marker": {
                          "pattern": {
                            "fillmode": "overlay",
                            "size": 10,
                            "solidity": 0.2
                          }
                        },
                        "type": "histogram"
                      }
                    ],
                    "histogram2d": [
                      {
                        "colorbar": {
                          "outlinewidth": 0,
                          "ticks": ""
                        },
                        "colorscale": [
                          [
                            0,
                            "#0d0887"
                          ],
                          [
                            0.1111111111111111,
                            "#46039f"
                          ],
                          [
                            0.2222222222222222,
                            "#7201a8"
                          ],
                          [
                            0.3333333333333333,
                            "#9c179e"
                          ],
                          [
                            0.4444444444444444,
                            "#bd3786"
                          ],
                          [
                            0.5555555555555556,
                            "#d8576b"
                          ],
                          [
                            0.6666666666666666,
                            "#ed7953"
                          ],
                          [
                            0.7777777777777778,
                            "#fb9f3a"
                          ],
                          [
                            0.8888888888888888,
                            "#fdca26"
                          ],
                          [
                            1,
                            "#f0f921"
                          ]
                        ],
                        "type": "histogram2d"
                      }
                    ],
                    "histogram2dcontour": [
                      {
                        "colorbar": {
                          "outlinewidth": 0,
                          "ticks": ""
                        },
                        "colorscale": [
                          [
                            0,
                            "#0d0887"
                          ],
                          [
                            0.1111111111111111,
                            "#46039f"
                          ],
                          [
                            0.2222222222222222,
                            "#7201a8"
                          ],
                          [
                            0.3333333333333333,
                            "#9c179e"
                          ],
                          [
                            0.4444444444444444,
                            "#bd3786"
                          ],
                          [
                            0.5555555555555556,
                            "#d8576b"
                          ],
                          [
                            0.6666666666666666,
                            "#ed7953"
                          ],
                          [
                            0.7777777777777778,
                            "#fb9f3a"
                          ],
                          [
                            0.8888888888888888,
                            "#fdca26"
                          ],
                          [
                            1,
                            "#f0f921"
                          ]
                        ],
                        "type": "histogram2dcontour"
                      }
                    ],
                    "mesh3d": [
                      {
                        "colorbar": {
                          "outlinewidth": 0,
                          "ticks": ""
                        },
                        "type": "mesh3d"
                      }
                    ],
                    "parcoords": [
                      {
                        "line": {
                          "colorbar": {
                            "outlinewidth": 0,
                            "ticks": ""
                          }
                        },
                        "type": "parcoords"
                      }
                    ],
                    "pie": [
                      {
                        "automargin": true,
                        "type": "pie"
                      }
                    ],
                    "scatter": [
                      {
                        "fillpattern": {
                          "fillmode": "overlay",
                          "size": 10,
                          "solidity": 0.2
                        },
                        "type": "scatter"
                      }
                    ],
                    "scatter3d": [
                      {
                        "line": {
                          "colorbar": {
                            "outlinewidth": 0,
                            "ticks": ""
                          }
                        },
                        "marker": {
                          "colorbar": {
                            "outlinewidth": 0,
                            "ticks": ""
                          }
                        },
                        "type": "scatter3d"
                      }
                    ],
                    "scattercarpet": [
                      {
                        "marker": {
                          "colorbar": {
                            "outlinewidth": 0,
                            "ticks": ""
                          }
                        },
                        "type": "scattercarpet"
                      }
                    ],
                    "scattergeo": [
                      {
                        "marker": {
                          "colorbar": {
                            "outlinewidth": 0,
                            "ticks": ""
                          }
                        },
                        "type": "scattergeo"
                      }
                    ],
                    "scattergl": [
                      {
                        "marker": {
                          "colorbar": {
                            "outlinewidth": 0,
                            "ticks": ""
                          }
                        },
                        "type": "scattergl"
                      }
                    ],
                    "scattermapbox": [
                      {
                        "marker": {
                          "colorbar": {
                            "outlinewidth": 0,
                            "ticks": ""
                          }
                        },
                        "type": "scattermapbox"
                      }
                    ],
                    "scatterpolar": [
                      {
                        "marker": {
                          "colorbar": {
                            "outlinewidth": 0,
                            "ticks": ""
                          }
                        },
                        "type": "scatterpolar"
                      }
                    ],
                    "scatterpolargl": [
                      {
                        "marker": {
                          "colorbar": {
                            "outlinewidth": 0,
                            "ticks": ""
                          }
                        },
                        "type": "scatterpolargl"
                      }
                    ],
                    "scatterternary": [
                      {
                        "marker": {
                          "colorbar": {
                            "outlinewidth": 0,
                            "ticks": ""
                          }
                        },
                        "type": "scatterternary"
                      }
                    ],
                    "surface": [
                      {
                        "colorbar": {
                          "outlinewidth": 0,
                          "ticks": ""
                        },
                        "colorscale": [
                          [
                            0,
                            "#0d0887"
                          ],
                          [
                            0.1111111111111111,
                            "#46039f"
                          ],
                          [
                            0.2222222222222222,
                            "#7201a8"
                          ],
                          [
                            0.3333333333333333,
                            "#9c179e"
                          ],
                          [
                            0.4444444444444444,
                            "#bd3786"
                          ],
                          [
                            0.5555555555555556,
                            "#d8576b"
                          ],
                          [
                            0.6666666666666666,
                            "#ed7953"
                          ],
                          [
                            0.7777777777777778,
                            "#fb9f3a"
                          ],
                          [
                            0.8888888888888888,
                            "#fdca26"
                          ],
                          [
                            1,
                            "#f0f921"
                          ]
                        ],
                        "type": "surface"
                      }
                    ],
                    "table": [
                      {
                        "cells": {
                          "fill": {
                            "color": "#EBF0F8"
                          },
                          "line": {
                            "color": "white"
                          }
                        },
                        "header": {
                          "fill": {
                            "color": "#C8D4E3"
                          },
                          "line": {
                            "color": "white"
                          }
                        },
                        "type": "table"
                      }
                    ]
                  },
                  "layout": {
                    "annotationdefaults": {
                      "arrowcolor": "#2a3f5f",
                      "arrowhead": 0,
                      "arrowwidth": 1
                    },
                    "autotypenumbers": "strict",
                    "coloraxis": {
                      "colorbar": {
                        "outlinewidth": 0,
                        "ticks": ""
                      }
                    },
                    "colorscale": {
                      "diverging": [
                        [
                          0,
                          "#8e0152"
                        ],
                        [
                          0.1,
                          "#c51b7d"
                        ],
                        [
                          0.2,
                          "#de77ae"
                        ],
                        [
                          0.3,
                          "#f1b6da"
                        ],
                        [
                          0.4,
                          "#fde0ef"
                        ],
                        [
                          0.5,
                          "#f7f7f7"
                        ],
                        [
                          0.6,
                          "#e6f5d0"
                        ],
                        [
                          0.7,
                          "#b8e186"
                        ],
                        [
                          0.8,
                          "#7fbc41"
                        ],
                        [
                          0.9,
                          "#4d9221"
                        ],
                        [
                          1,
                          "#276419"
                        ]
                      ],
                      "sequential": [
                        [
                          0,
                          "#0d0887"
                        ],
                        [
                          0.1111111111111111,
                          "#46039f"
                        ],
                        [
                          0.2222222222222222,
                          "#7201a8"
                        ],
                        [
                          0.3333333333333333,
                          "#9c179e"
                        ],
                        [
                          0.4444444444444444,
                          "#bd3786"
                        ],
                        [
                          0.5555555555555556,
                          "#d8576b"
                        ],
                        [
                          0.6666666666666666,
                          "#ed7953"
                        ],
                        [
                          0.7777777777777778,
                          "#fb9f3a"
                        ],
                        [
                          0.8888888888888888,
                          "#fdca26"
                        ],
                        [
                          1,
                          "#f0f921"
                        ]
                      ],
                      "sequentialminus": [
                        [
                          0,
                          "#0d0887"
                        ],
                        [
                          0.1111111111111111,
                          "#46039f"
                        ],
                        [
                          0.2222222222222222,
                          "#7201a8"
                        ],
                        [
                          0.3333333333333333,
                          "#9c179e"
                        ],
                        [
                          0.4444444444444444,
                          "#bd3786"
                        ],
                        [
                          0.5555555555555556,
                          "#d8576b"
                        ],
                        [
                          0.6666666666666666,
                          "#ed7953"
                        ],
                        [
                          0.7777777777777778,
                          "#fb9f3a"
                        ],
                        [
                          0.8888888888888888,
                          "#fdca26"
                        ],
                        [
                          1,
                          "#f0f921"
                        ]
                      ]
                    },
                    "colorway": [
                      "#636efa",
                      "#EF553B",
                      "#00cc96",
                      "#ab63fa",
                      "#FFA15A",
                      "#19d3f3",
                      "#FF6692",
                      "#B6E880",
                      "#FF97FF",
                      "#FECB52"
                    ],
                    "font": {
                      "color": "#2a3f5f"
                    },
                    "geo": {
                      "bgcolor": "white",
                      "lakecolor": "white",
                      "landcolor": "#E5ECF6",
                      "showlakes": true,
                      "showland": true,
                      "subunitcolor": "white"
                    },
                    "hoverlabel": {
                      "align": "left"
                    },
                    "hovermode": "closest",
                    "mapbox": {
                      "style": "light"
                    },
                    "paper_bgcolor": "white",
                    "plot_bgcolor": "#E5ECF6",
                    "polar": {
                      "angularaxis": {
                        "gridcolor": "white",
                        "linecolor": "white",
                        "ticks": ""
                      },
                      "bgcolor": "#E5ECF6",
                      "radialaxis": {
                        "gridcolor": "white",
                        "linecolor": "white",
                        "ticks": ""
                      }
                    },
                    "scene": {
                      "xaxis": {
                        "backgroundcolor": "#E5ECF6",
                        "gridcolor": "white",
                        "gridwidth": 2,
                        "linecolor": "white",
                        "showbackground": true,
                        "ticks": "",
                        "zerolinecolor": "white"
                      },
                      "yaxis": {
                        "backgroundcolor": "#E5ECF6",
                        "gridcolor": "white",
                        "gridwidth": 2,
                        "linecolor": "white",
                        "showbackground": true,
                        "ticks": "",
                        "zerolinecolor": "white"
                      },
                      "zaxis": {
                        "backgroundcolor": "#E5ECF6",
                        "gridcolor": "white",
                        "gridwidth": 2,
                        "linecolor": "white",
                        "showbackground": true,
                        "ticks": "",
                        "zerolinecolor": "white"
                      }
                    },
                    "shapedefaults": {
                      "line": {
                        "color": "#2a3f5f"
                      }
                    },
                    "ternary": {
                      "aaxis": {
                        "gridcolor": "white",
                        "linecolor": "white",
                        "ticks": ""
                      },
                      "baxis": {
                        "gridcolor": "white",
                        "linecolor": "white",
                        "ticks": ""
                      },
                      "bgcolor": "#E5ECF6",
                      "caxis": {
                        "gridcolor": "white",
                        "linecolor": "white",
                        "ticks": ""
                      }
                    },
                    "title": {
                      "x": 0.05
                    },
                    "xaxis": {
                      "automargin": true,
                      "gridcolor": "white",
                      "linecolor": "white",
                      "ticks": "",
                      "title": {
                        "standoff": 15
                      },
                      "zerolinecolor": "white",
                      "zerolinewidth": 2
                    },
                    "yaxis": {
                      "automargin": true,
                      "gridcolor": "white",
                      "linecolor": "white",
                      "ticks": "",
                      "title": {
                        "standoff": 15
                      },
                      "zerolinecolor": "white",
                      "zerolinewidth": 2
                    }
                  }
                },
                "title": {
                  "text": "Bottom 10 Global Methane Emissions Countries"
                },
                "uniformtext": {
                  "minsize": 3.5,
                  "mode": "hide"
                },
                "xaxis": {
                  "anchor": "y",
                  "categoryarray": [
                    "Seychelles",
                    "Liberia",
                    "Gambia",
                    "Brunei",
                    "Guinea-Bissau",
                    "Slovenia",
                    "Estonia",
                    "Togo",
                    "Guyana",
                    "Lebanon"
                  ],
                  "categoryorder": "array",
                  "domain": [
                    0,
                    1
                  ],
                  "title": {
                    "text": "country"
                  }
                },
                "yaxis": {
                  "anchor": "x",
                  "domain": [
                    0,
                    1
                  ],
                  "title": {
                    "text": "emissions"
                  }
                }
              }
            }
          },
          "metadata": {},
          "output_type": "display_data"
        }
      ],
      "source": [
        "fig = px.bar(df_segment_total_bottom10, x='country', y='emissions',text='emissions',color=\"type\",barmode=\"stack\", title='Bottom 10 Global Methane Emissions Countries',category_orders={\n",
        "        \"country\": ['Seychelles', 'Liberia', 'Gambia', 'Brunei', 'Guinea-Bissau','Slovenia','Estonia','Togo','Guyana','Lebanon']},hover_data=['region','baseYear'] \n",
        "    )\n",
        "fig.update_traces(texttemplate='%{text:.2s}', textposition='outside')\n",
        "fig.update_layout(uniformtext_minsize=3.5, uniformtext_mode='hide')\n",
        "fig.show()"
      ]
    },
    {
      "cell_type": "code",
      "execution_count": null,
      "metadata": {},
      "outputs": [
        {
          "data": {
            "text/html": [
              "<div>\n",
              "<style scoped>\n",
              "    .dataframe tbody tr th:only-of-type {\n",
              "        vertical-align: middle;\n",
              "    }\n",
              "\n",
              "    .dataframe tbody tr th {\n",
              "        vertical-align: top;\n",
              "    }\n",
              "\n",
              "    .dataframe thead th {\n",
              "        text-align: right;\n",
              "    }\n",
              "</style>\n",
              "<table border=\"1\" class=\"dataframe\">\n",
              "  <thead>\n",
              "    <tr style=\"text-align: right;\">\n",
              "      <th></th>\n",
              "      <th>region</th>\n",
              "      <th>country</th>\n",
              "      <th>emissions</th>\n",
              "      <th>type</th>\n",
              "      <th>segment</th>\n",
              "      <th>reason</th>\n",
              "      <th>baseYear</th>\n",
              "    </tr>\n",
              "  </thead>\n",
              "  <tbody>\n",
              "    <tr>\n",
              "      <th>420</th>\n",
              "      <td>Asia Pacific</td>\n",
              "      <td>China</td>\n",
              "      <td>18501.914062</td>\n",
              "      <td>Agriculture</td>\n",
              "      <td>Total</td>\n",
              "      <td>All</td>\n",
              "      <td>2019-2021</td>\n",
              "    </tr>\n",
              "    <tr>\n",
              "      <th>421</th>\n",
              "      <td>Asia Pacific</td>\n",
              "      <td>China</td>\n",
              "      <td>984.200012</td>\n",
              "      <td>Energy</td>\n",
              "      <td>Bioenergy</td>\n",
              "      <td>All</td>\n",
              "      <td>2022</td>\n",
              "    </tr>\n",
              "    <tr>\n",
              "      <th>422</th>\n",
              "      <td>Asia Pacific</td>\n",
              "      <td>China</td>\n",
              "      <td>5418.770020</td>\n",
              "      <td>Energy</td>\n",
              "      <td>Coking coal</td>\n",
              "      <td>All</td>\n",
              "      <td>2022</td>\n",
              "    </tr>\n",
              "    <tr>\n",
              "      <th>423</th>\n",
              "      <td>Asia Pacific</td>\n",
              "      <td>China</td>\n",
              "      <td>552.119995</td>\n",
              "      <td>Energy</td>\n",
              "      <td>Gas pipelines and LNG facilities</td>\n",
              "      <td>Fugitive</td>\n",
              "      <td>2022</td>\n",
              "    </tr>\n",
              "    <tr>\n",
              "      <th>424</th>\n",
              "      <td>Asia Pacific</td>\n",
              "      <td>China</td>\n",
              "      <td>294.390991</td>\n",
              "      <td>Energy</td>\n",
              "      <td>Gas pipelines and LNG facilities</td>\n",
              "      <td>Vented</td>\n",
              "      <td>2022</td>\n",
              "    </tr>\n",
              "    <tr>\n",
              "      <th>425</th>\n",
              "      <td>Asia Pacific</td>\n",
              "      <td>China</td>\n",
              "      <td>16.911100</td>\n",
              "      <td>Energy</td>\n",
              "      <td>Offshore gas</td>\n",
              "      <td>Fugitive</td>\n",
              "      <td>2022</td>\n",
              "    </tr>\n",
              "    <tr>\n",
              "      <th>426</th>\n",
              "      <td>Asia Pacific</td>\n",
              "      <td>China</td>\n",
              "      <td>36.693699</td>\n",
              "      <td>Energy</td>\n",
              "      <td>Offshore gas</td>\n",
              "      <td>Vented</td>\n",
              "      <td>2022</td>\n",
              "    </tr>\n",
              "    <tr>\n",
              "      <th>427</th>\n",
              "      <td>Asia Pacific</td>\n",
              "      <td>China</td>\n",
              "      <td>15.842800</td>\n",
              "      <td>Energy</td>\n",
              "      <td>Offshore oil</td>\n",
              "      <td>Flared</td>\n",
              "      <td>2022</td>\n",
              "    </tr>\n",
              "    <tr>\n",
              "      <th>428</th>\n",
              "      <td>Asia Pacific</td>\n",
              "      <td>China</td>\n",
              "      <td>18.197001</td>\n",
              "      <td>Energy</td>\n",
              "      <td>Offshore oil</td>\n",
              "      <td>Fugitive</td>\n",
              "      <td>2022</td>\n",
              "    </tr>\n",
              "    <tr>\n",
              "      <th>429</th>\n",
              "      <td>Asia Pacific</td>\n",
              "      <td>China</td>\n",
              "      <td>246.535004</td>\n",
              "      <td>Energy</td>\n",
              "      <td>Offshore oil</td>\n",
              "      <td>Vented</td>\n",
              "      <td>2022</td>\n",
              "    </tr>\n",
              "    <tr>\n",
              "      <th>430</th>\n",
              "      <td>Asia Pacific</td>\n",
              "      <td>China</td>\n",
              "      <td>254.276001</td>\n",
              "      <td>Energy</td>\n",
              "      <td>Onshore gas</td>\n",
              "      <td>Fugitive</td>\n",
              "      <td>2022</td>\n",
              "    </tr>\n",
              "    <tr>\n",
              "      <th>431</th>\n",
              "      <td>Asia Pacific</td>\n",
              "      <td>China</td>\n",
              "      <td>551.726013</td>\n",
              "      <td>Energy</td>\n",
              "      <td>Onshore gas</td>\n",
              "      <td>Vented</td>\n",
              "      <td>2022</td>\n",
              "    </tr>\n",
              "    <tr>\n",
              "      <th>432</th>\n",
              "      <td>Asia Pacific</td>\n",
              "      <td>China</td>\n",
              "      <td>52.604000</td>\n",
              "      <td>Energy</td>\n",
              "      <td>Onshore oil</td>\n",
              "      <td>Flared</td>\n",
              "      <td>2022</td>\n",
              "    </tr>\n",
              "    <tr>\n",
              "      <th>433</th>\n",
              "      <td>Asia Pacific</td>\n",
              "      <td>China</td>\n",
              "      <td>64.795197</td>\n",
              "      <td>Energy</td>\n",
              "      <td>Onshore oil</td>\n",
              "      <td>Fugitive</td>\n",
              "      <td>2022</td>\n",
              "    </tr>\n",
              "    <tr>\n",
              "      <th>434</th>\n",
              "      <td>Asia Pacific</td>\n",
              "      <td>China</td>\n",
              "      <td>877.851013</td>\n",
              "      <td>Energy</td>\n",
              "      <td>Onshore oil</td>\n",
              "      <td>Vented</td>\n",
              "      <td>2022</td>\n",
              "    </tr>\n",
              "    <tr>\n",
              "      <th>435</th>\n",
              "      <td>Asia Pacific</td>\n",
              "      <td>China</td>\n",
              "      <td>801.608765</td>\n",
              "      <td>Energy</td>\n",
              "      <td>Other from coal</td>\n",
              "      <td>All</td>\n",
              "      <td>2022</td>\n",
              "    </tr>\n",
              "    <tr>\n",
              "      <th>436</th>\n",
              "      <td>Asia Pacific</td>\n",
              "      <td>China</td>\n",
              "      <td>376.700684</td>\n",
              "      <td>Energy</td>\n",
              "      <td>Other from oil and gas</td>\n",
              "      <td>All</td>\n",
              "      <td>2022</td>\n",
              "    </tr>\n",
              "    <tr>\n",
              "      <th>437</th>\n",
              "      <td>Asia Pacific</td>\n",
              "      <td>China</td>\n",
              "      <td>14809.000000</td>\n",
              "      <td>Energy</td>\n",
              "      <td>Steam coal</td>\n",
              "      <td>All</td>\n",
              "      <td>2022</td>\n",
              "    </tr>\n",
              "    <tr>\n",
              "      <th>438</th>\n",
              "      <td>Asia Pacific</td>\n",
              "      <td>China</td>\n",
              "      <td>25372.222656</td>\n",
              "      <td>Energy</td>\n",
              "      <td>Total</td>\n",
              "      <td>All</td>\n",
              "      <td>2022</td>\n",
              "    </tr>\n",
              "    <tr>\n",
              "      <th>439</th>\n",
              "      <td>Asia Pacific</td>\n",
              "      <td>China</td>\n",
              "      <td>10424.141602</td>\n",
              "      <td>Waste</td>\n",
              "      <td>Total</td>\n",
              "      <td>All</td>\n",
              "      <td>2019-2021</td>\n",
              "    </tr>\n",
              "  </tbody>\n",
              "</table>\n",
              "</div>"
            ],
            "text/plain": [
              "           region country     emissions         type  \\\n",
              "420  Asia Pacific   China  18501.914062  Agriculture   \n",
              "421  Asia Pacific   China    984.200012       Energy   \n",
              "422  Asia Pacific   China   5418.770020       Energy   \n",
              "423  Asia Pacific   China    552.119995       Energy   \n",
              "424  Asia Pacific   China    294.390991       Energy   \n",
              "425  Asia Pacific   China     16.911100       Energy   \n",
              "426  Asia Pacific   China     36.693699       Energy   \n",
              "427  Asia Pacific   China     15.842800       Energy   \n",
              "428  Asia Pacific   China     18.197001       Energy   \n",
              "429  Asia Pacific   China    246.535004       Energy   \n",
              "430  Asia Pacific   China    254.276001       Energy   \n",
              "431  Asia Pacific   China    551.726013       Energy   \n",
              "432  Asia Pacific   China     52.604000       Energy   \n",
              "433  Asia Pacific   China     64.795197       Energy   \n",
              "434  Asia Pacific   China    877.851013       Energy   \n",
              "435  Asia Pacific   China    801.608765       Energy   \n",
              "436  Asia Pacific   China    376.700684       Energy   \n",
              "437  Asia Pacific   China  14809.000000       Energy   \n",
              "438  Asia Pacific   China  25372.222656       Energy   \n",
              "439  Asia Pacific   China  10424.141602        Waste   \n",
              "\n",
              "                              segment    reason   baseYear  \n",
              "420                             Total       All  2019-2021  \n",
              "421                         Bioenergy       All       2022  \n",
              "422                       Coking coal       All       2022  \n",
              "423  Gas pipelines and LNG facilities  Fugitive       2022  \n",
              "424  Gas pipelines and LNG facilities    Vented       2022  \n",
              "425                      Offshore gas  Fugitive       2022  \n",
              "426                      Offshore gas    Vented       2022  \n",
              "427                      Offshore oil    Flared       2022  \n",
              "428                      Offshore oil  Fugitive       2022  \n",
              "429                      Offshore oil    Vented       2022  \n",
              "430                       Onshore gas  Fugitive       2022  \n",
              "431                       Onshore gas    Vented       2022  \n",
              "432                       Onshore oil    Flared       2022  \n",
              "433                       Onshore oil  Fugitive       2022  \n",
              "434                       Onshore oil    Vented       2022  \n",
              "435                   Other from coal       All       2022  \n",
              "436            Other from oil and gas       All       2022  \n",
              "437                        Steam coal       All       2022  \n",
              "438                             Total       All       2022  \n",
              "439                             Total       All  2019-2021  "
            ]
          },
          "execution_count": 155,
          "metadata": {},
          "output_type": "execute_result"
        }
      ],
      "source": [
        "df[df['country'] == 'China'] #with total"
      ]
    },
    {
      "cell_type": "code",
      "execution_count": 163,
      "metadata": {},
      "outputs": [],
      "source": [
        "#visual to display types\n",
        "\n",
        "df_china_no_total_energy=df[(df['country'] == 'China') & (df['type'] == 'Energy') & (df['segment'] != 'Energy')] #without total"
      ]
    },
    {
      "cell_type": "code",
      "execution_count": 164,
      "metadata": {},
      "outputs": [
        {
          "data": {
            "text/html": [
              "<div>\n",
              "<style scoped>\n",
              "    .dataframe tbody tr th:only-of-type {\n",
              "        vertical-align: middle;\n",
              "    }\n",
              "\n",
              "    .dataframe tbody tr th {\n",
              "        vertical-align: top;\n",
              "    }\n",
              "\n",
              "    .dataframe thead th {\n",
              "        text-align: right;\n",
              "    }\n",
              "</style>\n",
              "<table border=\"1\" class=\"dataframe\">\n",
              "  <thead>\n",
              "    <tr style=\"text-align: right;\">\n",
              "      <th></th>\n",
              "      <th>region</th>\n",
              "      <th>country</th>\n",
              "      <th>emissions</th>\n",
              "      <th>type</th>\n",
              "      <th>segment</th>\n",
              "      <th>reason</th>\n",
              "      <th>baseYear</th>\n",
              "    </tr>\n",
              "  </thead>\n",
              "  <tbody>\n",
              "    <tr>\n",
              "      <th>421</th>\n",
              "      <td>Asia Pacific</td>\n",
              "      <td>China</td>\n",
              "      <td>984.200012</td>\n",
              "      <td>Energy</td>\n",
              "      <td>Bioenergy</td>\n",
              "      <td>All</td>\n",
              "      <td>2022</td>\n",
              "    </tr>\n",
              "    <tr>\n",
              "      <th>422</th>\n",
              "      <td>Asia Pacific</td>\n",
              "      <td>China</td>\n",
              "      <td>5418.770020</td>\n",
              "      <td>Energy</td>\n",
              "      <td>Coking coal</td>\n",
              "      <td>All</td>\n",
              "      <td>2022</td>\n",
              "    </tr>\n",
              "    <tr>\n",
              "      <th>423</th>\n",
              "      <td>Asia Pacific</td>\n",
              "      <td>China</td>\n",
              "      <td>552.119995</td>\n",
              "      <td>Energy</td>\n",
              "      <td>Gas pipelines and LNG facilities</td>\n",
              "      <td>Fugitive</td>\n",
              "      <td>2022</td>\n",
              "    </tr>\n",
              "    <tr>\n",
              "      <th>424</th>\n",
              "      <td>Asia Pacific</td>\n",
              "      <td>China</td>\n",
              "      <td>294.390991</td>\n",
              "      <td>Energy</td>\n",
              "      <td>Gas pipelines and LNG facilities</td>\n",
              "      <td>Vented</td>\n",
              "      <td>2022</td>\n",
              "    </tr>\n",
              "    <tr>\n",
              "      <th>425</th>\n",
              "      <td>Asia Pacific</td>\n",
              "      <td>China</td>\n",
              "      <td>16.911100</td>\n",
              "      <td>Energy</td>\n",
              "      <td>Offshore gas</td>\n",
              "      <td>Fugitive</td>\n",
              "      <td>2022</td>\n",
              "    </tr>\n",
              "    <tr>\n",
              "      <th>426</th>\n",
              "      <td>Asia Pacific</td>\n",
              "      <td>China</td>\n",
              "      <td>36.693699</td>\n",
              "      <td>Energy</td>\n",
              "      <td>Offshore gas</td>\n",
              "      <td>Vented</td>\n",
              "      <td>2022</td>\n",
              "    </tr>\n",
              "    <tr>\n",
              "      <th>427</th>\n",
              "      <td>Asia Pacific</td>\n",
              "      <td>China</td>\n",
              "      <td>15.842800</td>\n",
              "      <td>Energy</td>\n",
              "      <td>Offshore oil</td>\n",
              "      <td>Flared</td>\n",
              "      <td>2022</td>\n",
              "    </tr>\n",
              "    <tr>\n",
              "      <th>428</th>\n",
              "      <td>Asia Pacific</td>\n",
              "      <td>China</td>\n",
              "      <td>18.197001</td>\n",
              "      <td>Energy</td>\n",
              "      <td>Offshore oil</td>\n",
              "      <td>Fugitive</td>\n",
              "      <td>2022</td>\n",
              "    </tr>\n",
              "    <tr>\n",
              "      <th>429</th>\n",
              "      <td>Asia Pacific</td>\n",
              "      <td>China</td>\n",
              "      <td>246.535004</td>\n",
              "      <td>Energy</td>\n",
              "      <td>Offshore oil</td>\n",
              "      <td>Vented</td>\n",
              "      <td>2022</td>\n",
              "    </tr>\n",
              "    <tr>\n",
              "      <th>430</th>\n",
              "      <td>Asia Pacific</td>\n",
              "      <td>China</td>\n",
              "      <td>254.276001</td>\n",
              "      <td>Energy</td>\n",
              "      <td>Onshore gas</td>\n",
              "      <td>Fugitive</td>\n",
              "      <td>2022</td>\n",
              "    </tr>\n",
              "    <tr>\n",
              "      <th>431</th>\n",
              "      <td>Asia Pacific</td>\n",
              "      <td>China</td>\n",
              "      <td>551.726013</td>\n",
              "      <td>Energy</td>\n",
              "      <td>Onshore gas</td>\n",
              "      <td>Vented</td>\n",
              "      <td>2022</td>\n",
              "    </tr>\n",
              "    <tr>\n",
              "      <th>432</th>\n",
              "      <td>Asia Pacific</td>\n",
              "      <td>China</td>\n",
              "      <td>52.604000</td>\n",
              "      <td>Energy</td>\n",
              "      <td>Onshore oil</td>\n",
              "      <td>Flared</td>\n",
              "      <td>2022</td>\n",
              "    </tr>\n",
              "    <tr>\n",
              "      <th>433</th>\n",
              "      <td>Asia Pacific</td>\n",
              "      <td>China</td>\n",
              "      <td>64.795197</td>\n",
              "      <td>Energy</td>\n",
              "      <td>Onshore oil</td>\n",
              "      <td>Fugitive</td>\n",
              "      <td>2022</td>\n",
              "    </tr>\n",
              "    <tr>\n",
              "      <th>434</th>\n",
              "      <td>Asia Pacific</td>\n",
              "      <td>China</td>\n",
              "      <td>877.851013</td>\n",
              "      <td>Energy</td>\n",
              "      <td>Onshore oil</td>\n",
              "      <td>Vented</td>\n",
              "      <td>2022</td>\n",
              "    </tr>\n",
              "    <tr>\n",
              "      <th>435</th>\n",
              "      <td>Asia Pacific</td>\n",
              "      <td>China</td>\n",
              "      <td>801.608765</td>\n",
              "      <td>Energy</td>\n",
              "      <td>Other from coal</td>\n",
              "      <td>All</td>\n",
              "      <td>2022</td>\n",
              "    </tr>\n",
              "    <tr>\n",
              "      <th>436</th>\n",
              "      <td>Asia Pacific</td>\n",
              "      <td>China</td>\n",
              "      <td>376.700684</td>\n",
              "      <td>Energy</td>\n",
              "      <td>Other from oil and gas</td>\n",
              "      <td>All</td>\n",
              "      <td>2022</td>\n",
              "    </tr>\n",
              "    <tr>\n",
              "      <th>437</th>\n",
              "      <td>Asia Pacific</td>\n",
              "      <td>China</td>\n",
              "      <td>14809.000000</td>\n",
              "      <td>Energy</td>\n",
              "      <td>Steam coal</td>\n",
              "      <td>All</td>\n",
              "      <td>2022</td>\n",
              "    </tr>\n",
              "    <tr>\n",
              "      <th>438</th>\n",
              "      <td>Asia Pacific</td>\n",
              "      <td>China</td>\n",
              "      <td>25372.222656</td>\n",
              "      <td>Energy</td>\n",
              "      <td>Total</td>\n",
              "      <td>All</td>\n",
              "      <td>2022</td>\n",
              "    </tr>\n",
              "  </tbody>\n",
              "</table>\n",
              "</div>"
            ],
            "text/plain": [
              "           region country     emissions    type  \\\n",
              "421  Asia Pacific   China    984.200012  Energy   \n",
              "422  Asia Pacific   China   5418.770020  Energy   \n",
              "423  Asia Pacific   China    552.119995  Energy   \n",
              "424  Asia Pacific   China    294.390991  Energy   \n",
              "425  Asia Pacific   China     16.911100  Energy   \n",
              "426  Asia Pacific   China     36.693699  Energy   \n",
              "427  Asia Pacific   China     15.842800  Energy   \n",
              "428  Asia Pacific   China     18.197001  Energy   \n",
              "429  Asia Pacific   China    246.535004  Energy   \n",
              "430  Asia Pacific   China    254.276001  Energy   \n",
              "431  Asia Pacific   China    551.726013  Energy   \n",
              "432  Asia Pacific   China     52.604000  Energy   \n",
              "433  Asia Pacific   China     64.795197  Energy   \n",
              "434  Asia Pacific   China    877.851013  Energy   \n",
              "435  Asia Pacific   China    801.608765  Energy   \n",
              "436  Asia Pacific   China    376.700684  Energy   \n",
              "437  Asia Pacific   China  14809.000000  Energy   \n",
              "438  Asia Pacific   China  25372.222656  Energy   \n",
              "\n",
              "                              segment    reason baseYear  \n",
              "421                         Bioenergy       All     2022  \n",
              "422                       Coking coal       All     2022  \n",
              "423  Gas pipelines and LNG facilities  Fugitive     2022  \n",
              "424  Gas pipelines and LNG facilities    Vented     2022  \n",
              "425                      Offshore gas  Fugitive     2022  \n",
              "426                      Offshore gas    Vented     2022  \n",
              "427                      Offshore oil    Flared     2022  \n",
              "428                      Offshore oil  Fugitive     2022  \n",
              "429                      Offshore oil    Vented     2022  \n",
              "430                       Onshore gas  Fugitive     2022  \n",
              "431                       Onshore gas    Vented     2022  \n",
              "432                       Onshore oil    Flared     2022  \n",
              "433                       Onshore oil  Fugitive     2022  \n",
              "434                       Onshore oil    Vented     2022  \n",
              "435                   Other from coal       All     2022  \n",
              "436            Other from oil and gas       All     2022  \n",
              "437                        Steam coal       All     2022  \n",
              "438                             Total       All     2022  "
            ]
          },
          "execution_count": 164,
          "metadata": {},
          "output_type": "execute_result"
        }
      ],
      "source": [
        "df[(df['country'] == 'China') & (df['type'] == 'Energy') & (df['segment'] != 'Energy')]"
      ]
    },
    {
      "cell_type": "code",
      "execution_count": 169,
      "metadata": {},
      "outputs": [
        {
          "data": {
            "image/png": "[encoded data removed]",
            "text/plain": [
              "<Figure size 1200x800 with 1 Axes>"
            ]
          },
          "metadata": {},
          "output_type": "display_data"
        }
      ],
      "source": [
        "# Group and reshape data for stacked bar\n",
        "df_ch_grouped = df_china_no_total_energy.groupby(['segment', 'reason'])['emissions'].sum().unstack(fill_value=0)\n",
        "\n",
        "# Plot horizontal stacked bar chart\n",
        "df_ch_grouped.plot(kind='barh', stacked=True, figsize=(12, 8))\n",
        "\n",
        "# Labels and styling\n",
        "plt.title('China Energy Emissions by Extraction and Reason')\n",
        "plt.xlabel('Emissions (Kiloton)')\n",
        "plt.ylabel('Energy Segment')\n",
        "plt.legend(title='Reason', bbox_to_anchor=(1.05, 1), loc='upper left')\n",
        "plt.tight_layout()\n",
        "plt.show()"
      ]
    },
    {
      "cell_type": "code",
      "execution_count": null,
      "metadata": {},
      "outputs": [],
      "source": []
    },
    {
      "cell_type": "markdown",
      "metadata": {},
      "source": [
        "NOTE"
      ]
    },
    {
      "cell_type": "markdown",
      "metadata": {},
      "source": [
        "* You may add as many sections as you want, as long as it supports your project workflow.\n",
        "* All notebook's cells should be run top-down (you can't create a dynamic wherein a given point you need to go back to a previous cell to execute some task, like go back to a previous cell and refresh a variable content)"
      ]
    },
    {
      "cell_type": "markdown",
      "metadata": {},
      "source": [
        "---"
      ]
    },
    {
      "cell_type": "markdown",
      "metadata": {
        "id": "ltNetd085qHf"
      },
      "source": [
        "# Push files to Repo"
      ]
    },
    {
      "cell_type": "markdown",
      "metadata": {},
      "source": [
        "* In cases where you don't need to push files to Repo, you may replace this section with \"Conclusions and Next Steps\" and state your conclusions and next steps."
      ]
    },
    {
      "cell_type": "code",
      "execution_count": 9,
      "metadata": {
        "id": "aKlnIozA4eQO",
        "outputId": "fd09bc1f-adb1-4511-f6ce-492a6af570c0"
      },
      "outputs": [
        {
          "ename": "IndentationError",
          "evalue": "expected an indented block after 'try' statement on line 2 (553063055.py, line 5)",
          "output_type": "error",
          "traceback": [
            "  \u001b[36mCell\u001b[39m\u001b[36m \u001b[39m\u001b[32mIn[9]\u001b[39m\u001b[32m, line 5\u001b[39m\n\u001b[31m    \u001b[39m\u001b[31mexcept Exception as e:\u001b[39m\n    ^\n\u001b[31mIndentationError\u001b[39m\u001b[31m:\u001b[39m expected an indented block after 'try' statement on line 2\n"
          ]
        }
      ],
      "source": [
        "import os\n",
        "try:\n",
        "  # create your folder here\n",
        "  # os.makedirs(name='')\n",
        "except Exception as e:\n",
        "  print(e)\n"
      ]
    }
  ],
  "metadata": {
    "accelerator": "GPU",
    "colab": {
      "name": "Data Practitioner Jupyter Notebook.ipynb",
      "provenance": [],
      "toc_visible": true
    },
    "kernelspec": {
      "display_name": "venv",
      "language": "python",
      "name": "python3"
    },
    "language_info": {
      "codemirror_mode": {
        "name": "ipython",
        "version": 3
      },
      "file_extension": ".py",
      "mimetype": "text/x-python",
      "name": "python",
      "nbconvert_exporter": "python",
      "pygments_lexer": "ipython3",
      "version": "3.12.8"
    },
    "orig_nbformat": 2
  },
  "nbformat": 4,
  "nbformat_minor": 2
}
